{
 "cells": [
  {
   "cell_type": "markdown",
   "metadata": {},
   "source": [
    "# Characteristics and skill sets required as put in the job postings"
   ]
  },
  {
   "cell_type": "code",
   "execution_count": 1,
   "metadata": {
    "collapsed": true
   },
   "outputs": [],
   "source": [
    "import os\n",
    "import json\n",
    "import string\n",
    "import nltk\n",
    "from nltk import word_tokenize, FreqDist\n",
    "from nltk.corpus import stopwords\n",
    "import pandas as pd\n",
    "%matplotlib inline\n"
   ]
  },
  {
   "cell_type": "code",
   "execution_count": 2,
   "metadata": {},
   "outputs": [
    {
     "name": "stdout",
     "output_type": "stream",
     "text": [
      "(19001, 24)\n",
      "(16689, 24)\n",
      "Removed 2312 duplicates (based on RequiredQual)\n"
     ]
    }
   ],
   "source": [
    "df_ori = pd.read_csv('../data/data job posts.csv')\n",
    "df_ori.head()\n",
    "print(df_ori.shape)\n",
    "df = df_ori.drop_duplicates(['RequiredQual'])\n",
    "print(df.shape)\n",
    "print(\"Removed {0} duplicates (based on RequiredQual)\".format(df_ori.shape[0]-df.shape[0]))"
   ]
  },
  {
   "cell_type": "code",
   "execution_count": 3,
   "metadata": {},
   "outputs": [
    {
     "data": {
      "text/plain": [
       "0    To perform this job successfully, an\\nindividu...\n",
       "1    - Bachelor's Degree; Master's is preferred;\\n-...\n",
       "2    - Degree in environmentally related field, or ...\n",
       "3    - Advanced degree in public health, social sci...\n",
       "4    - University degree; economical background is ...\n",
       "Name: RequiredQual, dtype: object"
      ]
     },
     "execution_count": 3,
     "metadata": {},
     "output_type": "execute_result"
    }
   ],
   "source": [
    "df[\"RequiredQual\"].head()"
   ]
  },
  {
   "cell_type": "code",
   "execution_count": 4,
   "metadata": {},
   "outputs": [
    {
     "name": "stderr",
     "output_type": "stream",
     "text": [
      "G:\\anaconda\\lib\\site-packages\\ipykernel_launcher.py:1: SettingWithCopyWarning: \n",
      "A value is trying to be set on a copy of a slice from a DataFrame.\n",
      "Try using .loc[row_indexer,col_indexer] = value instead\n",
      "\n",
      "See the caveats in the documentation: http://pandas.pydata.org/pandas-docs/stable/indexing.html#indexing-view-versus-copy\n",
      "  \"\"\"Entry point for launching an IPython kernel.\n"
     ]
    }
   ],
   "source": [
    "df[\"RequiredQual\"] = df[\"RequiredQual\"].astype(str)"
   ]
  },
  {
   "cell_type": "code",
   "execution_count": 5,
   "metadata": {},
   "outputs": [
    {
     "name": "stderr",
     "output_type": "stream",
     "text": [
      "G:\\anaconda\\lib\\site-packages\\ipykernel_launcher.py:1: SettingWithCopyWarning: \n",
      "A value is trying to be set on a copy of a slice from a DataFrame.\n",
      "Try using .loc[row_indexer,col_indexer] = value instead\n",
      "\n",
      "See the caveats in the documentation: http://pandas.pydata.org/pandas-docs/stable/indexing.html#indexing-view-versus-copy\n",
      "  \"\"\"Entry point for launching an IPython kernel.\n"
     ]
    }
   ],
   "source": [
    "df['RequiredQual_token'] = df['RequiredQual'].map(word_tokenize)"
   ]
  },
  {
   "cell_type": "code",
   "execution_count": 6,
   "metadata": {},
   "outputs": [
    {
     "data": {
      "text/plain": [
       "0    [To, perform, this, job, successfully, ,, an, ...\n",
       "1    [-, Bachelor, 's, Degree, ;, Master, 's, is, p...\n",
       "2    [-, Degree, in, environmentally, related, fiel...\n",
       "3    [-, Advanced, degree, in, public, health, ,, s...\n",
       "4    [-, University, degree, ;, economical, backgro...\n",
       "Name: RequiredQual_token, dtype: object"
      ]
     },
     "execution_count": 6,
     "metadata": {},
     "output_type": "execute_result"
    }
   ],
   "source": [
    "df.RequiredQual_token.head()"
   ]
  },
  {
   "cell_type": "code",
   "execution_count": 7,
   "metadata": {},
   "outputs": [
    {
     "data": {
      "text/plain": [
       "['To',\n",
       " 'perform',\n",
       " 'this',\n",
       " 'job',\n",
       " 'successfully',\n",
       " ',',\n",
       " 'an',\n",
       " 'individual',\n",
       " 'must',\n",
       " 'be']"
      ]
     },
     "execution_count": 7,
     "metadata": {},
     "output_type": "execute_result"
    }
   ],
   "source": [
    "df.RequiredQual_token[0][:10]\n"
   ]
  },
  {
   "cell_type": "code",
   "execution_count": 8,
   "metadata": {},
   "outputs": [
    {
     "name": "stderr",
     "output_type": "stream",
     "text": [
      "G:\\anaconda\\lib\\site-packages\\ipykernel_launcher.py:1: SettingWithCopyWarning: \n",
      "A value is trying to be set on a copy of a slice from a DataFrame.\n",
      "Try using .loc[row_indexer,col_indexer] = value instead\n",
      "\n",
      "See the caveats in the documentation: http://pandas.pydata.org/pandas-docs/stable/indexing.html#indexing-view-versus-copy\n",
      "  \"\"\"Entry point for launching an IPython kernel.\n"
     ]
    }
   ],
   "source": [
    "df['RequiredQual_len'] = df.RequiredQual_token.apply(len)"
   ]
  },
  {
   "cell_type": "code",
   "execution_count": 9,
   "metadata": {},
   "outputs": [
    {
     "data": {
      "text/plain": [
       "0    455\n",
       "1     61\n",
       "2     47\n",
       "3    112\n",
       "4     63\n",
       "Name: RequiredQual_len, dtype: int64"
      ]
     },
     "execution_count": 9,
     "metadata": {},
     "output_type": "execute_result"
    }
   ],
   "source": [
    "df.RequiredQual_len.head()"
   ]
  },
  {
   "cell_type": "markdown",
   "metadata": {},
   "source": [
    "So on average, each word is used 1.5 - 2.5 times in each job posting. "
   ]
  },
  {
   "cell_type": "markdown",
   "metadata": {},
   "source": [
    "## Preprocessing Function for All Rows"
   ]
  },
  {
   "cell_type": "code",
   "execution_count": 10,
   "metadata": {
    "collapsed": true
   },
   "outputs": [],
   "source": [
    "def preprocess(tokens):\n",
    "    tokens_nop = [t for t in tokens if t not in string.punctuation]\n",
    "    tokens_nop = [t.lower() for t in tokens_nop]\n",
    "    wnl = nltk.WordNetLemmatizer()\n",
    "    stop = stopwords.words('english')\n",
    "    tokens_nostop = [t for t in tokens_nop if t not in stop]\n",
    "    tokens_lem = [wnl.lemmatize(t) for t in tokens_nostop]\n",
    "    tokens_clean = [t for t in tokens_lem if len(t) >= 3]  # simple way to remove the offending \" punctuations\n",
    "    return tokens_clean\n",
    "\n",
    "def plotWC(tokens):\n",
    "    text_clean = \" \".join(tokens)\n",
    "    print(text_clean)\n",
    "    wc = WordCloud(background_color=\"white\").generate(text_clean)\n",
    "    plt.imshow(wc, interpolation='bilinear')\n",
    "    plt.axis(\"off\")\n",
    "    plt.show()\n",
    "    plt.figure(figsize=(20, 9))\n",
    "    fd = nltk.FreqDist(tokens)  # case sensitive!\n",
    "    fd.plot(50)"
   ]
  },
  {
   "cell_type": "code",
   "execution_count": 11,
   "metadata": {},
   "outputs": [
    {
     "name": "stderr",
     "output_type": "stream",
     "text": [
      "G:\\anaconda\\lib\\site-packages\\ipykernel_launcher.py:1: SettingWithCopyWarning: \n",
      "A value is trying to be set on a copy of a slice from a DataFrame.\n",
      "Try using .loc[row_indexer,col_indexer] = value instead\n",
      "\n",
      "See the caveats in the documentation: http://pandas.pydata.org/pandas-docs/stable/indexing.html#indexing-view-versus-copy\n",
      "  \"\"\"Entry point for launching an IPython kernel.\n"
     ]
    }
   ],
   "source": [
    "df['RequiredQual_processed'] = df.RequiredQual_token.apply(preprocess)"
   ]
  },
  {
   "cell_type": "code",
   "execution_count": 12,
   "metadata": {},
   "outputs": [
    {
     "data": {
      "text/plain": [
       "0    [perform, job, successfully, individual, must,...\n",
       "1    [bachelor, degree, master, preferred, excellen...\n",
       "2    [degree, environmentally, related, field, year...\n",
       "3    [advanced, degree, public, health, social, sci...\n",
       "4    [university, degree, economical, background, p...\n",
       "Name: RequiredQual_processed, dtype: object"
      ]
     },
     "execution_count": 12,
     "metadata": {},
     "output_type": "execute_result"
    }
   ],
   "source": [
    "df['RequiredQual_processed'].head()"
   ]
  },
  {
   "cell_type": "markdown",
   "metadata": {},
   "source": [
    "## Get Feature Matrix"
   ]
  },
  {
   "cell_type": "code",
   "execution_count": 13,
   "metadata": {},
   "outputs": [
    {
     "name": "stderr",
     "output_type": "stream",
     "text": [
      "G:\\anaconda\\lib\\site-packages\\ipykernel_launcher.py:3: SettingWithCopyWarning: \n",
      "A value is trying to be set on a copy of a slice from a DataFrame.\n",
      "Try using .loc[row_indexer,col_indexer] = value instead\n",
      "\n",
      "See the caveats in the documentation: http://pandas.pydata.org/pandas-docs/stable/indexing.html#indexing-view-versus-copy\n",
      "  This is separate from the ipykernel package so we can avoid doing imports until\n"
     ]
    }
   ],
   "source": [
    "from sklearn.feature_extraction.text import CountVectorizer, TfidfVectorizer\n",
    "    \n",
    "df['RequiredQual_processedtext'] = df.RequiredQual_processed.apply(lambda x: ' '.join(x))"
   ]
  },
  {
   "cell_type": "code",
   "execution_count": 14,
   "metadata": {},
   "outputs": [
    {
     "name": "stdout",
     "output_type": "stream",
     "text": [
      "(16689, 6848)\n"
     ]
    }
   ],
   "source": [
    "vec_tf = CountVectorizer(min_df=2)\n",
    "required_qual_tf = vec_tf.fit_transform(df['RequiredQual_processedtext'])\n",
    "print(required_qual_tf.shape)\n"
   ]
  },
  {
   "cell_type": "code",
   "execution_count": 15,
   "metadata": {},
   "outputs": [
    {
     "name": "stdout",
     "output_type": "stream",
     "text": [
      "[[0 0 0 ... 0 0 0]\n",
      " [0 0 0 ... 0 0 0]\n",
      " [0 0 0 ... 0 0 0]\n",
      " ...\n",
      " [0 0 0 ... 0 0 0]\n",
      " [0 0 0 ... 0 0 0]\n",
      " [0 0 0 ... 0 0 0]]\n"
     ]
    },
    {
     "data": {
      "text/plain": [
       "['00', '000', '04', '10', '100', '1000', '10g', '11', '11g', '12']"
      ]
     },
     "execution_count": 15,
     "metadata": {},
     "output_type": "execute_result"
    }
   ],
   "source": [
    "print(required_qual_tf.toarray())\n",
    "required_qual_feature_names = (vec_tf.get_feature_names())\n",
    "required_qual_feature_names[:10]"
   ]
  },
  {
   "cell_type": "code",
   "execution_count": 16,
   "metadata": {},
   "outputs": [
    {
     "name": "stdout",
     "output_type": "stream",
     "text": [
      "(16689, 5591)\n"
     ]
    }
   ],
   "source": [
    "vec_tfidf = TfidfVectorizer(max_df=0.7, min_df=3, use_idf=True)\n",
    "required_qual_tfidf = vec_tfidf.fit_transform(df['RequiredQual_processedtext'])\n",
    "print(required_qual_tfidf.shape)"
   ]
  },
  {
   "cell_type": "code",
   "execution_count": 17,
   "metadata": {
    "collapsed": true
   },
   "outputs": [],
   "source": [
    " # To save the vectorized results for future use\n",
    "import pickle\n",
    "\n",
    "pickle.dump(required_qual_tfidf, open(\"outputs/required_qual_tfidf.pkl\", \"wb\"))\n",
    "pickle.dump(vec_tfidf.vocabulary_, open(\"outputs/required_qual_tfidf_features.pkl\", \"wb\"))\n"
   ]
  },
  {
   "cell_type": "code",
   "execution_count": 18,
   "metadata": {
    "collapsed": true
   },
   "outputs": [],
   "source": [
    "# load the content\n",
    "# loaded_vec = TfidfVectorizer(decode_error=\"replace\", vocabulary=pickle.load(open(\"feature.pkl\", \"rb\")))\n",
    "# tfidf = pickle.load(open(\"./tfidf.pkl\", \"rb\"))\n",
    "# print(tfidf)"
   ]
  },
  {
   "cell_type": "markdown",
   "metadata": {},
   "source": [
    "## Clustering Try "
   ]
  },
  {
   "cell_type": "code",
   "execution_count": 19,
   "metadata": {
    "collapsed": true
   },
   "outputs": [],
   "source": [
    "from sklearn.feature_extraction.text import TfidfVectorizer\n",
    "from sklearn.preprocessing import Normalizer\n",
    "from sklearn.decomposition import TruncatedSVD\n",
    "from sklearn.pipeline import make_pipeline\n",
    "\n",
    "# Use SVD to reduce dimensions\n",
    "svd = TruncatedSVD(1500)\n",
    "normalizer = Normalizer(copy=False)\n",
    "lsa = make_pipeline(svd, normalizer)\n",
    "X_lsa = lsa.fit_transform(required_qual_tfidf)"
   ]
  },
  {
   "cell_type": "code",
   "execution_count": 20,
   "metadata": {},
   "outputs": [
    {
     "name": "stdout",
     "output_type": "stream",
     "text": [
      "Explained variance of the SVD step: 89%\n"
     ]
    }
   ],
   "source": [
    "explained_variance = svd.explained_variance_ratio_.sum()\n",
    "print(\"Explained variance of the SVD step: {}%\".format(int(explained_variance * 100)))"
   ]
  },
  {
   "cell_type": "code",
   "execution_count": 21,
   "metadata": {},
   "outputs": [
    {
     "name": "stdout",
     "output_type": "stream",
     "text": [
      "Wall time: 6.29 s\n",
      "Clusters: 7\n",
      "Silhouette Coefficient for clusters: 0.013\n"
     ]
    }
   ],
   "source": [
    "from sklearn.cluster import KMeans\n",
    "from sklearn import metrics\n",
    "num_clusters = 7\n",
    "\n",
    "for num in [num_clusters]:\n",
    "    km3 = KMeans(n_clusters=num, init='k-means++', max_iter=1000, n_init=1, random_state=1)\n",
    "    %time km3.fit(X_lsa)\n",
    "    # The higher the better (-1 to 1)\n",
    "    print(\"Clusters: {0}\".format(num))\n",
    "    print(\"Silhouette Coefficient for clusters: %0.3f\"\n",
    "          % metrics.silhouette_score(X_lsa, km3.labels_))"
   ]
  },
  {
   "cell_type": "code",
   "execution_count": 22,
   "metadata": {},
   "outputs": [
    {
     "name": "stdout",
     "output_type": "stream",
     "text": [
      "Cluster 0: net sql web development good server javascript database html php\n",
      "Cluster 1: ability management work degree year good excellent project field armenian\n",
      "Cluster 2: higher education work russian excellent armenian good computer field ability\n",
      "Cluster 3: accounting finance armenian tax work financial legislation good excellent standard\n",
      "Cluster 4: marketing sale business excellent ability work russian communication strong degree\n",
      "Cluster 5: development testing software design good programming ability plus tool linux\n",
      "Cluster 6: work excellent ability armenian russian good university communication degree strong\n"
     ]
    }
   ],
   "source": [
    "def print_terms(cm, num):\n",
    "    original_space_centroids = svd.inverse_transform(cm.cluster_centers_)\n",
    "    order_centroids = original_space_centroids.argsort()[:, ::-1]\n",
    "    terms = vec_tfidf.get_feature_names()\n",
    "    for i in range(num):\n",
    "        print(\"Cluster %d:\" % i, end='')\n",
    "        for ind in order_centroids[i, :10]:\n",
    "            print(' %s' % terms[ind], end='')\n",
    "        print()\n",
    "\n",
    "print_terms(km3, num_clusters)\n"
   ]
  },
  {
   "cell_type": "markdown",
   "metadata": {},
   "source": [
    "Any pattern here between the clusters? "
   ]
  },
  {
   "cell_type": "code",
   "execution_count": 23,
   "metadata": {},
   "outputs": [
    {
     "data": {
      "text/plain": [
       "0    To perform this job successfully, an\\nindividu...\n",
       "1    - Bachelor's Degree; Master's is preferred;\\n-...\n",
       "2    - Degree in environmentally related field, or ...\n",
       "3    - Advanced degree in public health, social sci...\n",
       "4    - University degree; economical background is ...\n",
       "Name: RequiredQual, dtype: object"
      ]
     },
     "execution_count": 23,
     "metadata": {},
     "output_type": "execute_result"
    }
   ],
   "source": [
    "df[\"RequiredQual\"].head()"
   ]
  },
  {
   "cell_type": "code",
   "execution_count": 24,
   "metadata": {},
   "outputs": [
    {
     "data": {
      "text/plain": [
       "0     Jan 5, 2004\n",
       "1     Jan 7, 2004\n",
       "2     Jan 7, 2004\n",
       "3     Jan 7, 2004\n",
       "4    Jan 10, 2004\n",
       "Name: date, dtype: object"
      ]
     },
     "execution_count": 24,
     "metadata": {},
     "output_type": "execute_result"
    }
   ],
   "source": [
    "df[\"date\"].head()"
   ]
  },
  {
   "cell_type": "code",
   "execution_count": 25,
   "metadata": {},
   "outputs": [
    {
     "name": "stderr",
     "output_type": "stream",
     "text": [
      "G:\\anaconda\\lib\\site-packages\\ipykernel_launcher.py:9: SettingWithCopyWarning: \n",
      "A value is trying to be set on a copy of a slice from a DataFrame.\n",
      "Try using .loc[row_indexer,col_indexer] = value instead\n",
      "\n",
      "See the caveats in the documentation: http://pandas.pydata.org/pandas-docs/stable/indexing.html#indexing-view-versus-copy\n",
      "  if __name__ == '__main__':\n"
     ]
    },
    {
     "data": {
      "text/plain": [
       "0    2004\n",
       "1    2004\n",
       "2    2004\n",
       "3    2004\n",
       "4    2004\n",
       "Name: year, dtype: object"
      ]
     },
     "execution_count": 25,
     "metadata": {},
     "output_type": "execute_result"
    }
   ],
   "source": [
    "def get_year_from_date_if_exists(date_str):\n",
    "    year_str = date_str.strip()[-4:]\n",
    "    for c in year_str:\n",
    "        if c.isalpha():\n",
    "            return \"0\"\n",
    "    \n",
    "    return year_str\n",
    "\n",
    "df[\"year\"] = df[\"date\"].apply(get_year_from_date_if_exists)\n",
    "df[\"year\"].head()"
   ]
  },
  {
   "cell_type": "code",
   "execution_count": 26,
   "metadata": {
    "collapsed": true
   },
   "outputs": [],
   "source": [
    "df = df[df[\"year\"] != \"0\"]"
   ]
  },
  {
   "cell_type": "code",
   "execution_count": 27,
   "metadata": {},
   "outputs": [
    {
     "data": {
      "text/plain": [
       "0    2004\n",
       "1    2004\n",
       "2    2004\n",
       "3    2004\n",
       "4    2004\n",
       "Name: year, dtype: object"
      ]
     },
     "execution_count": 27,
     "metadata": {},
     "output_type": "execute_result"
    }
   ],
   "source": [
    "df[\"year\"].head()"
   ]
  },
  {
   "cell_type": "code",
   "execution_count": 28,
   "metadata": {},
   "outputs": [
    {
     "data": {
      "text/plain": [
       "<matplotlib.axes._subplots.AxesSubplot at 0x21e80a49080>"
      ]
     },
     "execution_count": 28,
     "metadata": {},
     "output_type": "execute_result"
    },
    {
     "data": {
      "image/png": "[encoded data removed]",
      "text/plain": [
       "<matplotlib.figure.Figure at 0x21e8085e860>"
      ]
     },
     "metadata": {},
     "output_type": "display_data"
    }
   ],
   "source": [
    "import seaborn as sns\n",
    "ax = sns.countplot(x=\"year\", data=df)\n",
    "ax"
   ]
  },
  {
   "cell_type": "code",
   "execution_count": 29,
   "metadata": {
    "collapsed": true
   },
   "outputs": [],
   "source": [
    "def set_group_by_year(year):\n",
    "    year = int(year)\n",
    "    if year >= 2004 and year <= 2007:\n",
    "        return 1\n",
    "    elif year >= 2008 and year <= 2011:\n",
    "        return 2\n",
    "    else:\n",
    "        return 3\n",
    "    \n",
    "df[\"year_group\"] = df[\"year\"].apply(set_group_by_year)"
   ]
  },
  {
   "cell_type": "code",
   "execution_count": 30,
   "metadata": {},
   "outputs": [
    {
     "data": {
      "text/plain": [
       "<matplotlib.axes._subplots.AxesSubplot at 0x21e80a6d828>"
      ]
     },
     "execution_count": 30,
     "metadata": {},
     "output_type": "execute_result"
    },
    {
     "data": {
      "image/png": "[encoded data removed]",
      "text/plain": [
       "<matplotlib.figure.Figure at 0x21e809a6438>"
      ]
     },
     "metadata": {},
     "output_type": "display_data"
    }
   ],
   "source": [
    "ax = sns.countplot(x=\"year_group\", data=df)\n",
    "ax"
   ]
  },
  {
   "cell_type": "code",
   "execution_count": 31,
   "metadata": {
    "collapsed": true
   },
   "outputs": [],
   "source": [
    "df1 = df[df[\"year_group\"] == 1]\n",
    "df2 = df[df[\"year_group\"] == 2]\n",
    "df3 = df[df[\"year_group\"] == 3]"
   ]
  },
  {
   "cell_type": "code",
   "execution_count": 44,
   "metadata": {},
   "outputs": [
    {
     "name": "stdout",
     "output_type": "stream",
     "text": [
      "Year group: 0\n",
      "Explained variance of the SVD step: 93%\n",
      "Clusters: 6\n",
      "Silhouette Coefficient for clusters: 0.014\n",
      "Cluster 0: design photoshop adobe draw corel desired ability work web html\n",
      "Cluster 1: accounting finance financial armenian standard software tax work good skill\n",
      "Cluster 2: skill year degree work ability management field university relevant good\n",
      "Cluster 3: development sql programming software net server system web java work\n",
      "Cluster 4: higher education work skill excellent russian armenian good field computer\n",
      "Cluster 5: skill excellent work ability armenian good communication russian computer university\n",
      "Year group: 1\n",
      "Explained variance of the SVD step: 91%\n",
      "Clusters: 6\n",
      "Silhouette Coefficient for clusters: 0.015\n",
      "Cluster 0: net web sql development database javascript server good html php\n",
      "Cluster 1: work ability excellent russian university armenian degree communication strong good\n",
      "Cluster 2: accounting finance good armenian banking work software legislation standard year\n",
      "Cluster 3: management ability work degree excellent project year international good armenian\n",
      "Cluster 4: higher education excellent work russian armenian good ability computer year\n",
      "Cluster 5: good design ability software development system programming engineering linux science\n",
      "Year group: 2\n",
      "Explained variance of the SVD step: 88%\n",
      "Clusters: 6\n",
      "Silhouette Coefficient for clusters: 0.014\n",
      "Cluster 0: net sql asp server web framework technology good development database\n",
      "Cluster 1: ability education good higher russian field least technical plus relevant\n",
      "Cluster 2: ability management project international excellent degree armenian development least communication\n",
      "Cluster 3: excellent russian ability armenian communication marketing strong field good sale\n",
      "Cluster 4: accounting finance banking financial economics legislation armenian excellent ability least\n",
      "Cluster 5: development good testing ability plus design programming software web java\n"
     ]
    }
   ],
   "source": [
    "# For each data frame create the TF_IDF matrix, perform SVD decomposition and then KMeans cluster\n",
    "year_wise_dfs = [df1, df2, df3]\n",
    "CLUSTERS = 6\n",
    "clustered_data = []\n",
    "\n",
    "for idx, year_wise_df in enumerate(year_wise_dfs):\n",
    "    print(\"Year group: {0}\".format(idx))\n",
    "    \n",
    "    # create the TF-IDF matrix\n",
    "    vec_tfidf = TfidfVectorizer(max_df=0.7, min_df=3, use_idf=True)\n",
    "    required_qual_tfidf = vec_tfidf.fit_transform(year_wise_df['RequiredQual_processedtext'])\n",
    "    \n",
    "    # Use SVD to reduce dimensions\n",
    "    svd = TruncatedSVD(1000)\n",
    "    normalizer = Normalizer(copy=False)\n",
    "    lsa = make_pipeline(svd, normalizer)\n",
    "    X_lsa = lsa.fit_transform(required_qual_tfidf)\n",
    "    \n",
    "    explained_variance = svd.explained_variance_ratio_.sum()\n",
    "    print(\"Explained variance of the SVD step: {}%\".format(int(explained_variance * 100)))\n",
    "    \n",
    "    # KMeans clustering\n",
    "    km = KMeans(n_clusters=CLUSTERS, init='k-means++', max_iter=1000, n_init=1, random_state=1)\n",
    "    km.fit(X_lsa)\n",
    "    \n",
    "    # The higher the better (-1 to 1)\n",
    "    print(\"Clusters: {0}\".format(CLUSTERS))\n",
    "    print(\"Silhouette Coefficient for clusters: %0.3f\"\n",
    "          % metrics.silhouette_score(X_lsa, km.labels_))\n",
    "    \n",
    "    clustered_data.append(km)\n",
    "    \n",
    "    print_terms(km, CLUSTERS)"
   ]
  },
  {
   "cell_type": "code",
   "execution_count": 45,
   "metadata": {},
   "outputs": [
    {
     "data": {
      "text/plain": [
       "KMeans(algorithm='auto', copy_x=True, init='k-means++', max_iter=1000,\n",
       "    n_clusters=6, n_init=1, n_jobs=1, precompute_distances='auto',\n",
       "    random_state=1, tol=0.0001, verbose=0)"
      ]
     },
     "execution_count": 45,
     "metadata": {},
     "output_type": "execute_result"
    }
   ],
   "source": [
    "clustered_data[0]"
   ]
  },
  {
   "cell_type": "code",
   "execution_count": 47,
   "metadata": {},
   "outputs": [
    {
     "name": "stdout",
     "output_type": "stream",
     "text": [
      "[ 256  332 1251  499  484  946]\n",
      "3768\n",
      "[0 1 2 3 4 5]\n",
      "[0.06794055 0.0881104  0.33200637 0.132431   0.12845011 0.25106157]\n",
      "[ 361 1220  435 1369  796  679]\n",
      "4860\n",
      "[0 1 2 3 4 5]\n",
      "[0.07427984 0.25102881 0.08950617 0.28168724 0.16378601 0.13971193]\n",
      "[ 283 1569 1127 1385  703  999]\n",
      "6066\n",
      "[0 1 2 3 4 5]\n",
      "[0.04665348 0.2586548  0.18578965 0.22832179 0.11589186 0.16468843]\n"
     ]
    }
   ],
   "source": [
    "import numpy as np\n",
    "for cd in clustered_data:\n",
    "    labels, counts = np.unique(cd.labels_, return_counts=True)\n",
    "    print(counts)\n",
    "    total_count = np.sum(counts)\n",
    "    print(total_count)\n",
    "    \n",
    "    count_ratio = (1/total_count) * counts\n",
    "    print(labels)\n",
    "    print(count_ratio)"
   ]
  },
  {
   "cell_type": "code",
   "execution_count": null,
   "metadata": {
    "collapsed": true
   },
   "outputs": [],
   "source": []
  }
 ],
 "metadata": {
  "kernelspec": {
   "display_name": "Python 3",
   "language": "python",
   "name": "python3"
  },
  "language_info": {
   "codemirror_mode": {
    "name": "ipython",
    "version": 3
   },
   "file_extension": ".py",
   "mimetype": "text/x-python",
   "name": "python",
   "nbconvert_exporter": "python",
   "pygments_lexer": "ipython3",
   "version": "3.6.3"
  }
 },
 "nbformat": 4,
 "nbformat_minor": 2
}
