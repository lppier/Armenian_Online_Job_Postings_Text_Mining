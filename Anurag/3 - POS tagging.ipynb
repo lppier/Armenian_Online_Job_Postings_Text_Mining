{
 "cells": [
  {
   "cell_type": "markdown",
   "metadata": {},
   "source": [
    "# Analyze the co-occurences of the terms in the required qualifications"
   ]
  },
  {
   "cell_type": "code",
   "execution_count": 40,
   "metadata": {},
   "outputs": [],
   "source": [
    "import os\n",
    "import json\n",
    "import string\n",
    "import nltk\n",
    "from nltk import word_tokenize, FreqDist, pos_tag\n",
    "from nltk.corpus import stopwords\n",
    "import pandas as pd\n",
    "import pickle\n",
    "import numpy as np\n",
    "%matplotlib inline"
   ]
  },
  {
   "cell_type": "code",
   "execution_count": 2,
   "metadata": {},
   "outputs": [
    {
     "name": "stdout",
     "output_type": "stream",
     "text": [
      "(19001, 24)\n",
      "(16689, 24)\n",
      "Removed 2312 duplicates (based on RequiredQual)\n"
     ]
    }
   ],
   "source": [
    "df_ori = pd.read_csv('../data/data job posts.csv')\n",
    "df_ori.head()\n",
    "print(df_ori.shape)\n",
    "df = df_ori.drop_duplicates(['RequiredQual'])\n",
    "print(df.shape)\n",
    "print(\"Removed {0} duplicates (based on RequiredQual)\".format(df_ori.shape[0]-df.shape[0]))"
   ]
  },
  {
   "cell_type": "code",
   "execution_count": 3,
   "metadata": {},
   "outputs": [
    {
     "data": {
      "text/plain": [
       "0    To perform this job successfully, an\\r\\nindivi...\n",
       "1    - Bachelor's Degree; Master's is preferred;\\r\\...\n",
       "2    - Degree in environmentally related field, or ...\n",
       "3    - Advanced degree in public health, social sci...\n",
       "4    - University degree; economical background is ...\n",
       "Name: RequiredQual, dtype: object"
      ]
     },
     "execution_count": 3,
     "metadata": {},
     "output_type": "execute_result"
    }
   ],
   "source": [
    "df[\"RequiredQual\"].head()"
   ]
  },
  {
   "cell_type": "code",
   "execution_count": 4,
   "metadata": {},
   "outputs": [
    {
     "name": "stderr",
     "output_type": "stream",
     "text": [
      "/home/anurag/anaconda3/lib/python3.6/site-packages/ipykernel_launcher.py:1: SettingWithCopyWarning: \n",
      "A value is trying to be set on a copy of a slice from a DataFrame.\n",
      "Try using .loc[row_indexer,col_indexer] = value instead\n",
      "\n",
      "See the caveats in the documentation: http://pandas.pydata.org/pandas-docs/stable/indexing.html#indexing-view-versus-copy\n",
      "  \"\"\"Entry point for launching an IPython kernel.\n"
     ]
    }
   ],
   "source": [
    "df[\"RequiredQual\"] = df[\"RequiredQual\"].astype(str)"
   ]
  },
  {
   "cell_type": "code",
   "execution_count": 5,
   "metadata": {},
   "outputs": [
    {
     "name": "stderr",
     "output_type": "stream",
     "text": [
      "/home/anurag/anaconda3/lib/python3.6/site-packages/ipykernel_launcher.py:1: SettingWithCopyWarning: \n",
      "A value is trying to be set on a copy of a slice from a DataFrame.\n",
      "Try using .loc[row_indexer,col_indexer] = value instead\n",
      "\n",
      "See the caveats in the documentation: http://pandas.pydata.org/pandas-docs/stable/indexing.html#indexing-view-versus-copy\n",
      "  \"\"\"Entry point for launching an IPython kernel.\n"
     ]
    },
    {
     "data": {
      "text/plain": [
       "0    To perform this job successfully, an individua...\n",
       "1    - Bachelor's Degree; Master's is preferred; - ...\n",
       "2    - Degree in environmentally related field, or ...\n",
       "3    - Advanced degree in public health, social sci...\n",
       "4    - University degree; economical background is ...\n",
       "Name: RequiredQual, dtype: object"
      ]
     },
     "execution_count": 5,
     "metadata": {},
     "output_type": "execute_result"
    }
   ],
   "source": [
    "df[\"RequiredQual\"] = df[\"RequiredQual\"].apply(lambda x: x.replace(\"\\r\\n\", \" \"))\n",
    "df[\"RequiredQual\"].head()"
   ]
  },
  {
   "cell_type": "markdown",
   "metadata": {},
   "source": [
    "## Try the NLTK POS tagger"
   ]
  },
  {
   "cell_type": "code",
   "execution_count": 7,
   "metadata": {
    "collapsed": true
   },
   "outputs": [],
   "source": [
    "sent = '''Professor Tan Eng Chye, NUS Deputy President and Provost, and Professor \n",
    "Menahem Ben-Sasson, President of HUJ signed the joint degree agreement at NUS, \n",
    "in the presence of Ambassador of Israel to Singapore Her Excellency Amira Arnon \n",
    "and about 30 invited guests, on July 03, 2013.\n",
    "'''\n",
    "pos_tagged = pos_tag(word_tokenize(sent), tagset='universal')\n",
    "#pos_tagged"
   ]
  },
  {
   "cell_type": "code",
   "execution_count": 18,
   "metadata": {},
   "outputs": [
    {
     "name": "stderr",
     "output_type": "stream",
     "text": [
      "/home/anurag/anaconda3/lib/python3.6/site-packages/ipykernel_launcher.py:1: SettingWithCopyWarning: \n",
      "A value is trying to be set on a copy of a slice from a DataFrame.\n",
      "Try using .loc[row_indexer,col_indexer] = value instead\n",
      "\n",
      "See the caveats in the documentation: http://pandas.pydata.org/pandas-docs/stable/indexing.html#indexing-view-versus-copy\n",
      "  \"\"\"Entry point for launching an IPython kernel.\n",
      "/home/anurag/anaconda3/lib/python3.6/site-packages/ipykernel_launcher.py:2: SettingWithCopyWarning: \n",
      "A value is trying to be set on a copy of a slice from a DataFrame.\n",
      "Try using .loc[row_indexer,col_indexer] = value instead\n",
      "\n",
      "See the caveats in the documentation: http://pandas.pydata.org/pandas-docs/stable/indexing.html#indexing-view-versus-copy\n",
      "  \n"
     ]
    }
   ],
   "source": [
    "df['RequiredQual_token'] = df['RequiredQual'].map(word_tokenize)\n",
    "df['Required_Qual_POS'] = df['RequiredQual_token'].map(pos_tag, {\"tagset\": \"universal\"})"
   ]
  },
  {
   "cell_type": "code",
   "execution_count": 19,
   "metadata": {},
   "outputs": [
    {
     "data": {
      "text/plain": [
       "0    [(To, TO), (perform, VB), (this, DT), (job, NN...\n",
       "1    [(-, :), (Bachelor, NN), ('s, POS), (Degree, N...\n",
       "2    [(-, :), (Degree, NN), (in, IN), (environmenta...\n",
       "3    [(-, :), (Advanced, VBD), (degree, JJ), (in, I...\n",
       "4    [(-, :), (University, NNP), (degree, VBP), (;,...\n",
       "Name: Required_Qual_POS, dtype: object"
      ]
     },
     "execution_count": 19,
     "metadata": {},
     "output_type": "execute_result"
    }
   ],
   "source": [
    "df['Required_Qual_POS'].head()"
   ]
  },
  {
   "cell_type": "code",
   "execution_count": 11,
   "metadata": {
    "collapsed": true
   },
   "outputs": [],
   "source": [
    "# df['Required_Qual_POS'].to_csv(\"../outputs/nltk_pos1.csv\", index=False)"
   ]
  },
  {
   "cell_type": "markdown",
   "metadata": {},
   "source": [
    "## Read the POS tagged data for further analysis"
   ]
  },
  {
   "cell_type": "code",
   "execution_count": 6,
   "metadata": {},
   "outputs": [],
   "source": [
    "pos_tag_df = pd.read_csv(\"../outputs/nltk_pos1.csv\", header=None)"
   ]
  },
  {
   "cell_type": "code",
   "execution_count": 7,
   "metadata": {},
   "outputs": [
    {
     "data": {
      "text/plain": [
       "Int64Index([0], dtype='int64')"
      ]
     },
     "execution_count": 7,
     "metadata": {},
     "output_type": "execute_result"
    }
   ],
   "source": [
    "pos_tag_df.columns"
   ]
  },
  {
   "cell_type": "code",
   "execution_count": 8,
   "metadata": {
    "collapsed": true
   },
   "outputs": [],
   "source": [
    "pos_tag_df.columns = [\"Qual_POS_Tagged\"]"
   ]
  },
  {
   "cell_type": "code",
   "execution_count": 9,
   "metadata": {},
   "outputs": [
    {
     "data": {
      "text/html": [
       "<div>\n",
       "<style>\n",
       "    .dataframe thead tr:only-child th {\n",
       "        text-align: right;\n",
       "    }\n",
       "\n",
       "    .dataframe thead th {\n",
       "        text-align: left;\n",
       "    }\n",
       "\n",
       "    .dataframe tbody tr th {\n",
       "        vertical-align: top;\n",
       "    }\n",
       "</style>\n",
       "<table border=\"1\" class=\"dataframe\">\n",
       "  <thead>\n",
       "    <tr style=\"text-align: right;\">\n",
       "      <th></th>\n",
       "      <th>Qual_POS_Tagged</th>\n",
       "    </tr>\n",
       "  </thead>\n",
       "  <tbody>\n",
       "    <tr>\n",
       "      <th>0</th>\n",
       "      <td>[('To', 'TO'), ('perform', 'VB'), ('this', 'DT...</td>\n",
       "    </tr>\n",
       "    <tr>\n",
       "      <th>1</th>\n",
       "      <td>[('-', ':'), ('Bachelor', 'NN'), (\"'s\", 'POS')...</td>\n",
       "    </tr>\n",
       "    <tr>\n",
       "      <th>2</th>\n",
       "      <td>[('-', ':'), ('Degree', 'NN'), ('in', 'IN'), (...</td>\n",
       "    </tr>\n",
       "    <tr>\n",
       "      <th>3</th>\n",
       "      <td>[('-', ':'), ('Advanced', 'VBD'), ('degree', '...</td>\n",
       "    </tr>\n",
       "    <tr>\n",
       "      <th>4</th>\n",
       "      <td>[('-', ':'), ('University', 'NNP'), ('degree',...</td>\n",
       "    </tr>\n",
       "  </tbody>\n",
       "</table>\n",
       "</div>"
      ],
      "text/plain": [
       "                                     Qual_POS_Tagged\n",
       "0  [('To', 'TO'), ('perform', 'VB'), ('this', 'DT...\n",
       "1  [('-', ':'), ('Bachelor', 'NN'), (\"'s\", 'POS')...\n",
       "2  [('-', ':'), ('Degree', 'NN'), ('in', 'IN'), (...\n",
       "3  [('-', ':'), ('Advanced', 'VBD'), ('degree', '...\n",
       "4  [('-', ':'), ('University', 'NNP'), ('degree',..."
      ]
     },
     "execution_count": 9,
     "metadata": {},
     "output_type": "execute_result"
    }
   ],
   "source": [
    "pos_tag_df.head(5)"
   ]
  },
  {
   "cell_type": "code",
   "execution_count": 10,
   "metadata": {
    "collapsed": true
   },
   "outputs": [],
   "source": [
    "import ast\n",
    "noun_family = [\"NN\", \"NNS\", \"NNP\", \"NNPS\"]\n",
    "def extract_noun_family(word_pos_pairs):\n",
    "    \n",
    "    if isinstance(word_pos_pairs, str):\n",
    "        # https://stackoverflow.com/questions/10775894/converting-a-string-representation-of-a-list-into-an-actual-list-object\n",
    "        word_pos_pairs = ast.literal_eval(word_pos_pairs)\n",
    "    \n",
    "    nouns_with_types = []\n",
    "    for word_pos_pair in word_pos_pairs:\n",
    "        #print(\"word_pos_pair: {0}\".format(word_pos_pair))\n",
    "        word = word_pos_pair[0]\n",
    "        pos_type = word_pos_pair[1]\n",
    "        if pos_type in noun_family:\n",
    "            nouns_with_types.append((word, pos_type))\n",
    "            \n",
    "    return nouns_with_types\n",
    "            \n",
    "        "
   ]
  },
  {
   "cell_type": "code",
   "execution_count": 42,
   "metadata": {},
   "outputs": [
    {
     "data": {
      "text/plain": [
       "[('job', 'NN')]"
      ]
     },
     "execution_count": 42,
     "metadata": {},
     "output_type": "execute_result"
    }
   ],
   "source": [
    "res = extract_noun_family([('To', 'TO'), ('perform', 'VB'), ('this', 'DT'), ('job', 'NN'), ('successfully', 'RB')])\n",
    "res"
   ]
  },
  {
   "cell_type": "code",
   "execution_count": 11,
   "metadata": {},
   "outputs": [
    {
     "data": {
      "text/plain": [
       "0    [(job, NN), (duty, NN), (requirements, NNS), (...\n",
       "1    [(Bachelor, NN), (Degree, NNP), (Master, NNP),...\n",
       "2    [(Degree, NN), (field, NN), (years, NNS), (exp...\n",
       "3    [(health, NN), (science, NN), (communication, ...\n",
       "4    [(University, NNP), (background, NN), (plus, N...\n",
       "Name: nouns, dtype: object"
      ]
     },
     "execution_count": 11,
     "metadata": {},
     "output_type": "execute_result"
    }
   ],
   "source": [
    "pos_tag_df[\"nouns\"] = pos_tag_df[\"Qual_POS_Tagged\"].map(extract_noun_family)\n",
    "pos_tag_df[\"nouns\"].head()"
   ]
  },
  {
   "cell_type": "markdown",
   "metadata": {},
   "source": [
    "## NLTK POS tag again with only nouns"
   ]
  },
  {
   "cell_type": "code",
   "execution_count": 51,
   "metadata": {},
   "outputs": [
    {
     "name": "stderr",
     "output_type": "stream",
     "text": [
      "G:\\anaconda\\lib\\site-packages\\ipykernel_launcher.py:1: SettingWithCopyWarning: \n",
      "A value is trying to be set on a copy of a slice from a DataFrame.\n",
      "Try using .loc[row_indexer,col_indexer] = value instead\n",
      "\n",
      "See the caveats in the documentation: http://pandas.pydata.org/pandas-docs/stable/indexing.html#indexing-view-versus-copy\n",
      "  \"\"\"Entry point for launching an IPython kernel.\n",
      "G:\\anaconda\\lib\\site-packages\\ipykernel_launcher.py:2: SettingWithCopyWarning: \n",
      "A value is trying to be set on a copy of a slice from a DataFrame.\n",
      "Try using .loc[row_indexer,col_indexer] = value instead\n",
      "\n",
      "See the caveats in the documentation: http://pandas.pydata.org/pandas-docs/stable/indexing.html#indexing-view-versus-copy\n",
      "  \n"
     ]
    },
    {
     "data": {
      "text/plain": [
       "0    [(To, TO), (perform, VB), (this, DT), (job, NN...\n",
       "1    [(-, :), (Bachelor, NN), ('s, POS), (Degree, N...\n",
       "2    [(-, :), (Degree, NN), (in, IN), (environmenta...\n",
       "3    [(-, :), (Advanced, VBD), (degree, JJ), (in, I...\n",
       "4    [(-, :), (University, NNP), (degree, VBP), (;,...\n",
       "Name: nouns, dtype: object"
      ]
     },
     "execution_count": 51,
     "metadata": {},
     "output_type": "execute_result"
    }
   ],
   "source": [
    "df['RequiredQual_token'] = df['RequiredQual'].map(word_tokenize)\n",
    "df[\"nouns\"] = df[\"RequiredQual_token\"].map(pos_tag, {\"tagset\": \"NOUN\"})\n",
    "df[\"nouns\"].head()"
   ]
  },
  {
   "cell_type": "markdown",
   "metadata": {},
   "source": [
    "## Write the nouns to a file"
   ]
  },
  {
   "cell_type": "code",
   "execution_count": 52,
   "metadata": {
    "collapsed": true
   },
   "outputs": [],
   "source": [
    "pos_tag_df[\"nouns\"].to_csv(\"../outputs/nltk_pos_nouns.csv\", index=False)"
   ]
  },
  {
   "cell_type": "markdown",
   "metadata": {},
   "source": [
    "## Named entity recognition to extract degree requirements from the required qualifications"
   ]
  },
  {
   "cell_type": "code",
   "execution_count": 54,
   "metadata": {},
   "outputs": [
    {
     "data": {
      "text/plain": [
       "0    [('To', 'TO'), ('perform', 'VB'), ('this', 'DT...\n",
       "1    [('-', ':'), ('Bachelor', 'NN'), (\"'s\", 'POS')...\n",
       "2    [('-', ':'), ('Degree', 'NN'), ('in', 'IN'), (...\n",
       "3    [('-', ':'), ('Advanced', 'VBD'), ('degree', '...\n",
       "4    [('-', ':'), ('University', 'NNP'), ('degree',...\n",
       "Name: Qual_POS_Tagged, dtype: object"
      ]
     },
     "execution_count": 54,
     "metadata": {},
     "output_type": "execute_result"
    }
   ],
   "source": [
    "pos_tag_df[\"Qual_POS_Tagged\"].head()"
   ]
  },
  {
   "cell_type": "code",
   "execution_count": 55,
   "metadata": {},
   "outputs": [
    {
     "data": {
      "text/plain": [
       "0    [(To, TO), (perform, VB), (this, DT), (job, NN...\n",
       "1    [(-, :), [(Bachelor, NN)], ('s, POS), [(Degree...\n",
       "2    [(-, :), [(Degree, NN)], (in, IN), (environmen...\n",
       "3    [(-, :), (Advanced, VBD), (degree, JJ), (in, I...\n",
       "4    [(-, :), [(University, NNP)], (degree, VBP), (...\n",
       "Name: Qual_Chuncked, dtype: object"
      ]
     },
     "execution_count": 55,
     "metadata": {},
     "output_type": "execute_result"
    }
   ],
   "source": [
    "from nltk import ne_chunk\n",
    "\n",
    "def perform_NER(word_pos_pairs):\n",
    "    if isinstance(word_pos_pairs, str):\n",
    "        # https://stackoverflow.com/questions/10775894/converting-a-string-representation-of-a-list-into-an-actual-list-object\n",
    "        word_pos_pairs = ast.literal_eval(word_pos_pairs)\n",
    "        \n",
    "    return ne_chunk(word_pos_pairs)\n",
    "\n",
    "pos_tag_df[\"Qual_Chuncked\"] = pos_tag_df[\"Qual_POS_Tagged\"].map(perform_NER)\n",
    "pos_tag_df[\"Qual_Chuncked\"].head()"
   ]
  },
  {
   "cell_type": "code",
   "execution_count": 56,
   "metadata": {
    "collapsed": true
   },
   "outputs": [],
   "source": [
    "pos_tag_df[\"Qual_Chuncked\"].to_csv(\"../outputs/nltk_ner.csv\", index=False, header=\"NER_output\")"
   ]
  },
  {
   "cell_type": "markdown",
   "metadata": {},
   "source": [
    "## Use the extracted nouns and write the expressions to extract the degree requirements"
   ]
  },
  {
   "cell_type": "code",
   "execution_count": 7,
   "metadata": {},
   "outputs": [],
   "source": [
    "def convert_string_to_python_list(str_val):\n",
    "    if isinstance(str_val, str):\n",
    "        # https://stackoverflow.com/questions/10775894/converting-a-string-representation-of-a-list-into-an-actual-list-object\n",
    "        word_pos_pairs = ast.literal_eval(str_val)\n",
    "        \n",
    "    return word_pos_pairs"
   ]
  },
  {
   "cell_type": "code",
   "execution_count": 25,
   "metadata": {},
   "outputs": [],
   "source": [
    "def get_degree_text(tokens):\n",
    "    num_tokens = len(tokens)\n",
    "    position_of_degrees = None\n",
    "    for idx, token_pos in enumerate(tokens):\n",
    "        if token_pos[0].lower() == \"degree\" and tokens[idx + 1][0].lower() == \"in\":\n",
    "            #print(\"degree found\")\n",
    "            position_of_degrees = idx + 2\n",
    "    \n",
    "    degree_names = []\n",
    "    max_degrees = 5\n",
    "    current_degrees = 0\n",
    "    if position_of_degrees is not None:\n",
    "        jdx = position_of_degrees\n",
    "        while jdx < num_tokens and current_degrees < max_degrees:\n",
    "            # if the current token is a noun family\n",
    "            if tokens[jdx][1].lower().startswith(\"nn\"):\n",
    "                current_degrees += 1\n",
    "                degree_names.append(tokens[jdx][0])\n",
    "            # if not the current and the following tokens are noun families\n",
    "            elif (jdx + 1 < num_tokens) and (not tokens[jdx + 1][1].lower().startswith(\"nn\")):\n",
    "                break\n",
    "            jdx += 1\n",
    "    \n",
    "    #print(degree_names)\n",
    "    return \" \".join(degree_names)\n",
    "            "
   ]
  },
  {
   "cell_type": "code",
   "execution_count": 26,
   "metadata": {},
   "outputs": [
    {
     "name": "stderr",
     "output_type": "stream",
     "text": [
      "/home/anurag/anaconda3/lib/python3.6/site-packages/ipykernel_launcher.py:1: SettingWithCopyWarning: \n",
      "A value is trying to be set on a copy of a slice from a DataFrame.\n",
      "Try using .loc[row_indexer,col_indexer] = value instead\n",
      "\n",
      "See the caveats in the documentation: http://pandas.pydata.org/pandas-docs/stable/indexing.html#indexing-view-versus-copy\n",
      "  \"\"\"Entry point for launching an IPython kernel.\n"
     ]
    },
    {
     "data": {
      "text/plain": [
       "0    Business Administration Accounting Finance\n",
       "1                                              \n",
       "2                                              \n",
       "3                                        health\n",
       "4                                              \n",
       "5                                              \n",
       "6                                    accounting\n",
       "7                                              \n",
       "8                                              \n",
       "9                                              \n",
       "Name: RequiredQual_degree_names, dtype: object"
      ]
     },
     "execution_count": 26,
     "metadata": {},
     "output_type": "execute_result"
    }
   ],
   "source": [
    "df[\"RequiredQual_degree_names\"] = df['Required_Qual_POS'].apply(get_degree_text)\n",
    "df[\"RequiredQual_degree_names\"].head(10)"
   ]
  },
  {
   "cell_type": "markdown",
   "metadata": {},
   "source": [
    "## Collapse the words in the degree names column to a list"
   ]
  },
  {
   "cell_type": "code",
   "execution_count": 30,
   "metadata": {},
   "outputs": [
    {
     "data": {
      "text/plain": [
       "(16689,)"
      ]
     },
     "execution_count": 30,
     "metadata": {},
     "output_type": "execute_result"
    }
   ],
   "source": [
    "df[\"RequiredQual_degree_names\"].shape"
   ]
  },
  {
   "cell_type": "code",
   "execution_count": 35,
   "metadata": {},
   "outputs": [
    {
     "data": {
      "text/plain": [
       "5526"
      ]
     },
     "execution_count": 35,
     "metadata": {},
     "output_type": "execute_result"
    }
   ],
   "source": [
    "degree_names = ([x for x in df[\"RequiredQual_degree_names\"] if x != \"\"])\n",
    "len(degree_names)"
   ]
  },
  {
   "cell_type": "code",
   "execution_count": 38,
   "metadata": {},
   "outputs": [],
   "source": [
    "degree_names_lower = [x.lower().replace(\" \", \"_\") for x in degree_names]"
   ]
  },
  {
   "cell_type": "markdown",
   "metadata": {},
   "source": [
    "### Create the word cloud of the degrees"
   ]
  },
  {
   "cell_type": "code",
   "execution_count": 39,
   "metadata": {},
   "outputs": [],
   "source": [
    "from wordcloud import WordCloud\n",
    "\n",
    "text = \" \".join(degree_names_lower)\n",
    "\n",
    "# Generate a word cloud image\n",
    "wordcloud = WordCloud().generate(text)"
   ]
  },
  {
   "cell_type": "code",
   "execution_count": 41,
   "metadata": {},
   "outputs": [
    {
     "data": {
      "text/plain": [
       "(-0.5, 399.5, 199.5, -0.5)"
      ]
     },
     "execution_count": 41,
     "metadata": {},
     "output_type": "execute_result"
    },
    {
     "data": {
      "image/png": "[encoded data removed]",
      "text/plain": [
       "<matplotlib.figure.Figure at 0x7f6f7a63efd0>"
      ]
     },
     "metadata": {},
     "output_type": "display_data"
    }
   ],
   "source": [
    "import matplotlib.pyplot as plt\n",
    "plt.imshow(wordcloud, interpolation='bilinear')\n",
    "plt.axis(\"off\")"
   ]
  },
  {
   "cell_type": "code",
   "execution_count": 44,
   "metadata": {},
   "outputs": [],
   "source": [
    "df[\"RequiredQual_degree_names\"].to_csv(\"../outputs/qual_with_degrees.csv\")"
   ]
  },
  {
   "cell_type": "code",
   "execution_count": null,
   "metadata": {},
   "outputs": [],
   "source": []
  }
 ],
 "metadata": {
  "kernelspec": {
   "display_name": "Python [default]",
   "language": "python",
   "name": "python3"
  },
  "language_info": {
   "codemirror_mode": {
    "name": "ipython",
    "version": 3
   },
   "file_extension": ".py",
   "mimetype": "text/x-python",
   "name": "python",
   "nbconvert_exporter": "python",
   "pygments_lexer": "ipython3",
   "version": "3.6.6"
  }
 },
 "nbformat": 4,
 "nbformat_minor": 2
}
