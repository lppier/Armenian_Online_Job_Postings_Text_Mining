{
 "cells": [
  {
   "cell_type": "markdown",
   "metadata": {},
   "source": [
    "# Analyze the co-occurences of the terms in the required qualifications"
   ]
  },
  {
   "cell_type": "code",
   "execution_count": 46,
   "metadata": {
    "collapsed": true
   },
   "outputs": [],
   "source": [
    "import os\n",
    "import json\n",
    "import string\n",
    "import nltk\n",
    "from nltk import word_tokenize, FreqDist, pos_tag\n",
    "from nltk.corpus import stopwords\n",
    "import pandas as pd\n",
    "import pickle\n"
   ]
  },
  {
   "cell_type": "code",
   "execution_count": 47,
   "metadata": {},
   "outputs": [
    {
     "name": "stdout",
     "output_type": "stream",
     "text": [
      "(19001, 24)\n",
      "(16689, 24)\n",
      "Removed 2312 duplicates (based on RequiredQual)\n"
     ]
    }
   ],
   "source": [
    "df_ori = pd.read_csv('../data/data job posts.csv')\n",
    "df_ori.head()\n",
    "print(df_ori.shape)\n",
    "df = df_ori.drop_duplicates(['RequiredQual'])\n",
    "print(df.shape)\n",
    "print(\"Removed {0} duplicates (based on RequiredQual)\".format(df_ori.shape[0]-df.shape[0]))"
   ]
  },
  {
   "cell_type": "code",
   "execution_count": 48,
   "metadata": {},
   "outputs": [
    {
     "data": {
      "text/plain": [
       "0    To perform this job successfully, an\\r\\nindivi...\n",
       "1    - Bachelor's Degree; Master's is preferred;\\r\\...\n",
       "2    - Degree in environmentally related field, or ...\n",
       "3    - Advanced degree in public health, social sci...\n",
       "4    - University degree; economical background is ...\n",
       "Name: RequiredQual, dtype: object"
      ]
     },
     "execution_count": 48,
     "metadata": {},
     "output_type": "execute_result"
    }
   ],
   "source": [
    "df[\"RequiredQual\"].head()"
   ]
  },
  {
   "cell_type": "code",
   "execution_count": 49,
   "metadata": {},
   "outputs": [
    {
     "name": "stderr",
     "output_type": "stream",
     "text": [
      "G:\\anaconda\\lib\\site-packages\\ipykernel_launcher.py:1: SettingWithCopyWarning: \n",
      "A value is trying to be set on a copy of a slice from a DataFrame.\n",
      "Try using .loc[row_indexer,col_indexer] = value instead\n",
      "\n",
      "See the caveats in the documentation: http://pandas.pydata.org/pandas-docs/stable/indexing.html#indexing-view-versus-copy\n",
      "  \"\"\"Entry point for launching an IPython kernel.\n"
     ]
    }
   ],
   "source": [
    "df[\"RequiredQual\"] = df[\"RequiredQual\"].astype(str)"
   ]
  },
  {
   "cell_type": "markdown",
   "metadata": {},
   "source": [
    "## Try the NLTK POS tagger"
   ]
  },
  {
   "cell_type": "code",
   "execution_count": 7,
   "metadata": {
    "collapsed": true
   },
   "outputs": [],
   "source": [
    "sent = '''Professor Tan Eng Chye, NUS Deputy President and Provost, and Professor \n",
    "Menahem Ben-Sasson, President of HUJ signed the joint degree agreement at NUS, \n",
    "in the presence of Ambassador of Israel to Singapore Her Excellency Amira Arnon \n",
    "and about 30 invited guests, on July 03, 2013.\n",
    "'''\n",
    "pos_tagged = pos_tag(word_tokenize(sent), tagset='universal')\n",
    "#pos_tagged"
   ]
  },
  {
   "cell_type": "code",
   "execution_count": 8,
   "metadata": {},
   "outputs": [
    {
     "name": "stderr",
     "output_type": "stream",
     "text": [
      "G:\\anaconda\\lib\\site-packages\\ipykernel_launcher.py:1: SettingWithCopyWarning: \n",
      "A value is trying to be set on a copy of a slice from a DataFrame.\n",
      "Try using .loc[row_indexer,col_indexer] = value instead\n",
      "\n",
      "See the caveats in the documentation: http://pandas.pydata.org/pandas-docs/stable/indexing.html#indexing-view-versus-copy\n",
      "  \"\"\"Entry point for launching an IPython kernel.\n",
      "G:\\anaconda\\lib\\site-packages\\ipykernel_launcher.py:2: SettingWithCopyWarning: \n",
      "A value is trying to be set on a copy of a slice from a DataFrame.\n",
      "Try using .loc[row_indexer,col_indexer] = value instead\n",
      "\n",
      "See the caveats in the documentation: http://pandas.pydata.org/pandas-docs/stable/indexing.html#indexing-view-versus-copy\n",
      "  \n"
     ]
    }
   ],
   "source": [
    "df['RequiredQual_token'] = df['RequiredQual'].map(word_tokenize)\n",
    "df['Required_Qual_POS'] = df['RequiredQual_token'].map(pos_tag, {\"tagset\": \"universal\"})"
   ]
  },
  {
   "cell_type": "code",
   "execution_count": 9,
   "metadata": {},
   "outputs": [
    {
     "data": {
      "text/plain": [
       "0    [(To, TO), (perform, VB), (this, DT), (job, NN...\n",
       "1    [(-, :), (Bachelor, NN), ('s, POS), (Degree, N...\n",
       "2    [(-, :), (Degree, NN), (in, IN), (environmenta...\n",
       "3    [(-, :), (Advanced, VBD), (degree, JJ), (in, I...\n",
       "4    [(-, :), (University, NNP), (degree, VBP), (;,...\n",
       "Name: Required_Qual_POS, dtype: object"
      ]
     },
     "execution_count": 9,
     "metadata": {},
     "output_type": "execute_result"
    }
   ],
   "source": [
    "df['Required_Qual_POS'].head()"
   ]
  },
  {
   "cell_type": "code",
   "execution_count": 11,
   "metadata": {
    "collapsed": true
   },
   "outputs": [],
   "source": [
    "# df['Required_Qual_POS'].to_csv(\"../outputs/nltk_pos1.csv\", index=False)"
   ]
  },
  {
   "cell_type": "markdown",
   "metadata": {},
   "source": [
    "## Read the POS tagged data for further analysis"
   ]
  },
  {
   "cell_type": "code",
   "execution_count": 14,
   "metadata": {},
   "outputs": [],
   "source": [
    "pos_tag_df = pd.read_csv(\"../outputs/nltk_pos1.csv\", header=None)"
   ]
  },
  {
   "cell_type": "code",
   "execution_count": 15,
   "metadata": {},
   "outputs": [
    {
     "data": {
      "text/plain": [
       "Int64Index([0], dtype='int64')"
      ]
     },
     "execution_count": 15,
     "metadata": {},
     "output_type": "execute_result"
    }
   ],
   "source": [
    "pos_tag_df.columns"
   ]
  },
  {
   "cell_type": "code",
   "execution_count": 17,
   "metadata": {},
   "outputs": [],
   "source": [
    "pos_tag_df.columns = [\"Qual_POS_Tagged\"]"
   ]
  },
  {
   "cell_type": "code",
   "execution_count": 29,
   "metadata": {},
   "outputs": [
    {
     "data": {
      "text/html": [
       "<div>\n",
       "<style>\n",
       "    .dataframe thead tr:only-child th {\n",
       "        text-align: right;\n",
       "    }\n",
       "\n",
       "    .dataframe thead th {\n",
       "        text-align: left;\n",
       "    }\n",
       "\n",
       "    .dataframe tbody tr th {\n",
       "        vertical-align: top;\n",
       "    }\n",
       "</style>\n",
       "<table border=\"1\" class=\"dataframe\">\n",
       "  <thead>\n",
       "    <tr style=\"text-align: right;\">\n",
       "      <th></th>\n",
       "      <th>Qual_POS_Tagged</th>\n",
       "    </tr>\n",
       "  </thead>\n",
       "  <tbody>\n",
       "    <tr>\n",
       "      <th>0</th>\n",
       "      <td>[('To', 'TO'), ('perform', 'VB'), ('this', 'DT...</td>\n",
       "    </tr>\n",
       "    <tr>\n",
       "      <th>1</th>\n",
       "      <td>[('-', ':'), ('Bachelor', 'NN'), (\"'s\", 'POS')...</td>\n",
       "    </tr>\n",
       "    <tr>\n",
       "      <th>2</th>\n",
       "      <td>[('-', ':'), ('Degree', 'NN'), ('in', 'IN'), (...</td>\n",
       "    </tr>\n",
       "    <tr>\n",
       "      <th>3</th>\n",
       "      <td>[('-', ':'), ('Advanced', 'VBD'), ('degree', '...</td>\n",
       "    </tr>\n",
       "    <tr>\n",
       "      <th>4</th>\n",
       "      <td>[('-', ':'), ('University', 'NNP'), ('degree',...</td>\n",
       "    </tr>\n",
       "  </tbody>\n",
       "</table>\n",
       "</div>"
      ],
      "text/plain": [
       "                                     Qual_POS_Tagged\n",
       "0  [('To', 'TO'), ('perform', 'VB'), ('this', 'DT...\n",
       "1  [('-', ':'), ('Bachelor', 'NN'), (\"'s\", 'POS')...\n",
       "2  [('-', ':'), ('Degree', 'NN'), ('in', 'IN'), (...\n",
       "3  [('-', ':'), ('Advanced', 'VBD'), ('degree', '...\n",
       "4  [('-', ':'), ('University', 'NNP'), ('degree',..."
      ]
     },
     "execution_count": 29,
     "metadata": {},
     "output_type": "execute_result"
    }
   ],
   "source": [
    "pos_tag_df.head(5)"
   ]
  },
  {
   "cell_type": "code",
   "execution_count": 41,
   "metadata": {
    "collapsed": true
   },
   "outputs": [],
   "source": [
    "import ast\n",
    "noun_family = [\"NN\", \"NNS\", \"NNP\", \"NNPS\"]\n",
    "def extract_noun_family(word_pos_pairs):\n",
    "    \n",
    "    if isinstance(word_pos_pairs, str):\n",
    "        # https://stackoverflow.com/questions/10775894/converting-a-string-representation-of-a-list-into-an-actual-list-object\n",
    "        word_pos_pairs = ast.literal_eval(word_pos_pairs)\n",
    "    \n",
    "    nouns_with_types = []\n",
    "    for word_pos_pair in word_pos_pairs:\n",
    "        #print(\"word_pos_pair: {0}\".format(word_pos_pair))\n",
    "        word = word_pos_pair[0]\n",
    "        pos_type = word_pos_pair[1]\n",
    "        if pos_type in noun_family:\n",
    "            nouns_with_types.append((word, pos_type))\n",
    "            \n",
    "    return nouns_with_types\n",
    "            \n",
    "        "
   ]
  },
  {
   "cell_type": "code",
   "execution_count": 42,
   "metadata": {},
   "outputs": [
    {
     "data": {
      "text/plain": [
       "[('job', 'NN')]"
      ]
     },
     "execution_count": 42,
     "metadata": {},
     "output_type": "execute_result"
    }
   ],
   "source": [
    "res = extract_noun_family([('To', 'TO'), ('perform', 'VB'), ('this', 'DT'), ('job', 'NN'), ('successfully', 'RB')])\n",
    "res"
   ]
  },
  {
   "cell_type": "code",
   "execution_count": 43,
   "metadata": {},
   "outputs": [
    {
     "data": {
      "text/plain": [
       "0    [(job, NN), (duty, NN), (requirements, NNS), (...\n",
       "1    [(Bachelor, NN), (Degree, NNP), (Master, NNP),...\n",
       "2    [(Degree, NN), (field, NN), (years, NNS), (exp...\n",
       "3    [(health, NN), (science, NN), (communication, ...\n",
       "4    [(University, NNP), (background, NN), (plus, N...\n",
       "Name: nouns, dtype: object"
      ]
     },
     "execution_count": 43,
     "metadata": {},
     "output_type": "execute_result"
    }
   ],
   "source": [
    "pos_tag_df[\"nouns\"] = pos_tag_df[\"Qual_POS_Tagged\"].map(extract_noun_family)\n",
    "pos_tag_df[\"nouns\"].head()"
   ]
  },
  {
   "cell_type": "markdown",
   "metadata": {},
   "source": [
    "## NLTK POS tag again with only nouns"
   ]
  },
  {
   "cell_type": "code",
   "execution_count": 51,
   "metadata": {},
   "outputs": [
    {
     "name": "stderr",
     "output_type": "stream",
     "text": [
      "G:\\anaconda\\lib\\site-packages\\ipykernel_launcher.py:1: SettingWithCopyWarning: \n",
      "A value is trying to be set on a copy of a slice from a DataFrame.\n",
      "Try using .loc[row_indexer,col_indexer] = value instead\n",
      "\n",
      "See the caveats in the documentation: http://pandas.pydata.org/pandas-docs/stable/indexing.html#indexing-view-versus-copy\n",
      "  \"\"\"Entry point for launching an IPython kernel.\n",
      "G:\\anaconda\\lib\\site-packages\\ipykernel_launcher.py:2: SettingWithCopyWarning: \n",
      "A value is trying to be set on a copy of a slice from a DataFrame.\n",
      "Try using .loc[row_indexer,col_indexer] = value instead\n",
      "\n",
      "See the caveats in the documentation: http://pandas.pydata.org/pandas-docs/stable/indexing.html#indexing-view-versus-copy\n",
      "  \n"
     ]
    },
    {
     "data": {
      "text/plain": [
       "0    [(To, TO), (perform, VB), (this, DT), (job, NN...\n",
       "1    [(-, :), (Bachelor, NN), ('s, POS), (Degree, N...\n",
       "2    [(-, :), (Degree, NN), (in, IN), (environmenta...\n",
       "3    [(-, :), (Advanced, VBD), (degree, JJ), (in, I...\n",
       "4    [(-, :), (University, NNP), (degree, VBP), (;,...\n",
       "Name: nouns, dtype: object"
      ]
     },
     "execution_count": 51,
     "metadata": {},
     "output_type": "execute_result"
    }
   ],
   "source": [
    "df['RequiredQual_token'] = df['RequiredQual'].map(word_tokenize)\n",
    "df[\"nouns\"] = df[\"RequiredQual_token\"].map(pos_tag, {\"tagset\": \"NOUN\"})\n",
    "df[\"nouns\"].head()"
   ]
  },
  {
   "cell_type": "markdown",
   "metadata": {},
   "source": [
    "## Write the nouns to a file"
   ]
  },
  {
   "cell_type": "code",
   "execution_count": 52,
   "metadata": {
    "collapsed": true
   },
   "outputs": [],
   "source": [
    "pos_tag_df[\"nouns\"].to_csv(\"../outputs/nltk_pos_nouns.csv\", index=False)"
   ]
  },
  {
   "cell_type": "markdown",
   "metadata": {},
   "source": [
    "## Named entity recognition to extract degree requirements from the required qualifications"
   ]
  },
  {
   "cell_type": "code",
   "execution_count": 54,
   "metadata": {},
   "outputs": [
    {
     "data": {
      "text/plain": [
       "0    [('To', 'TO'), ('perform', 'VB'), ('this', 'DT...\n",
       "1    [('-', ':'), ('Bachelor', 'NN'), (\"'s\", 'POS')...\n",
       "2    [('-', ':'), ('Degree', 'NN'), ('in', 'IN'), (...\n",
       "3    [('-', ':'), ('Advanced', 'VBD'), ('degree', '...\n",
       "4    [('-', ':'), ('University', 'NNP'), ('degree',...\n",
       "Name: Qual_POS_Tagged, dtype: object"
      ]
     },
     "execution_count": 54,
     "metadata": {},
     "output_type": "execute_result"
    }
   ],
   "source": [
    "pos_tag_df[\"Qual_POS_Tagged\"].head()"
   ]
  },
  {
   "cell_type": "code",
   "execution_count": 55,
   "metadata": {},
   "outputs": [
    {
     "data": {
      "text/plain": [
       "0    [(To, TO), (perform, VB), (this, DT), (job, NN...\n",
       "1    [(-, :), [(Bachelor, NN)], ('s, POS), [(Degree...\n",
       "2    [(-, :), [(Degree, NN)], (in, IN), (environmen...\n",
       "3    [(-, :), (Advanced, VBD), (degree, JJ), (in, I...\n",
       "4    [(-, :), [(University, NNP)], (degree, VBP), (...\n",
       "Name: Qual_Chuncked, dtype: object"
      ]
     },
     "execution_count": 55,
     "metadata": {},
     "output_type": "execute_result"
    }
   ],
   "source": [
    "from nltk import ne_chunk\n",
    "\n",
    "def perform_NER(word_pos_pairs):\n",
    "    if isinstance(word_pos_pairs, str):\n",
    "        # https://stackoverflow.com/questions/10775894/converting-a-string-representation-of-a-list-into-an-actual-list-object\n",
    "        word_pos_pairs = ast.literal_eval(word_pos_pairs)\n",
    "        \n",
    "    return ne_chunk(word_pos_pairs)\n",
    "\n",
    "pos_tag_df[\"Qual_Chuncked\"] = pos_tag_df[\"Qual_POS_Tagged\"].map(perform_NER)\n",
    "pos_tag_df[\"Qual_Chuncked\"].head()"
   ]
  },
  {
   "cell_type": "code",
   "execution_count": 56,
   "metadata": {
    "collapsed": true
   },
   "outputs": [],
   "source": [
    "pos_tag_df[\"Qual_Chuncked\"].to_csv(\"../outputs/nltk_ner.csv\", index=False, header=\"NER_output\")"
   ]
  },
  {
   "cell_type": "code",
   "execution_count": null,
   "metadata": {
    "collapsed": true
   },
   "outputs": [],
   "source": []
  }
 ],
 "metadata": {
  "kernelspec": {
   "display_name": "Python 3",
   "language": "python",
   "name": "python3"
  },
  "language_info": {
   "codemirror_mode": {
    "name": "ipython",
    "version": 3
   },
   "file_extension": ".py",
   "mimetype": "text/x-python",
   "name": "python",
   "nbconvert_exporter": "python",
   "pygments_lexer": "ipython3",
   "version": "3.6.3"
  }
 },
 "nbformat": 4,
 "nbformat_minor": 2
}
