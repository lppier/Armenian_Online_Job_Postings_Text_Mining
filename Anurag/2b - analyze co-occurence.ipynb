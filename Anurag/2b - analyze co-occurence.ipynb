{
 "cells": [
  {
   "cell_type": "markdown",
   "metadata": {},
   "source": [
    "# Analyze the co-occurences of the terms in the required qualifications"
   ]
  },
  {
   "cell_type": "code",
   "execution_count": 1,
   "metadata": {},
   "outputs": [],
   "source": [
    "import os\n",
    "import json\n",
    "import string\n",
    "import nltk\n",
    "from nltk import word_tokenize, FreqDist\n",
    "from nltk.corpus import stopwords\n",
    "import pandas as pd\n",
    "import pickle\n"
   ]
  },
  {
   "cell_type": "code",
   "execution_count": 4,
   "metadata": {},
   "outputs": [
    {
     "data": {
      "text/plain": [
       "2501"
      ]
     },
     "execution_count": 4,
     "metadata": {},
     "output_type": "execute_result"
    }
   ],
   "source": [
    "sparse_matrix = pickle.load(open(\"../models/qualifications_co_occurence.pkl\", \"rb\"))\n",
    "sparse_matrix[\"sql\"][\"server\"]"
   ]
  },
  {
   "cell_type": "code",
   "execution_count": 5,
   "metadata": {},
   "outputs": [
    {
     "data": {
      "text/plain": [
       "2501"
      ]
     },
     "execution_count": 5,
     "metadata": {},
     "output_type": "execute_result"
    }
   ],
   "source": [
    "sparse_matrix[\"server\"][\"sql\"]"
   ]
  },
  {
   "cell_type": "code",
   "execution_count": 15,
   "metadata": {},
   "outputs": [
    {
     "data": {
      "text/plain": [
       "[('ability,standard', 2520),\n",
       " ('management,system', 2518),\n",
       " ('knowledge,solving', 2514),\n",
       " ('ability,minimum', 2512),\n",
       " ('work,internet', 2508),\n",
       " ('knowledge,reporting', 2504),\n",
       " ('experience,effectively', 2502),\n",
       " ('knowledge,area', 2500),\n",
       " ('experience,spoken', 2500),\n",
       " ('server,sql', 2500),\n",
       " ('business,armenian', 2498),\n",
       " ('knowledge,concept', 2496),\n",
       " ('application,year', 2492),\n",
       " ('ability,issue', 2490),\n",
       " ('ability,program', 2490),\n",
       " ('word,excellent', 2488),\n",
       " ('experience,bank', 2488),\n",
       " ('requirement,experience', 2486),\n",
       " ('knowledge,customer', 2482),\n",
       " ('ability,learn', 2474),\n",
       " ('language,level', 2472),\n",
       " ('analytical,communication', 2470),\n",
       " ('year,economics', 2468),\n",
       " ('language,preferably', 2468),\n",
       " ('skill,area', 2466),\n",
       " ('ability,highly', 2466),\n",
       " ('english,excel', 2466),\n",
       " ('management,international', 2462),\n",
       " ('management,working', 2460),\n",
       " ('excellent,writing', 2456),\n",
       " ('knowledge,sector', 2452),\n",
       " ('year,advanced', 2452),\n",
       " ('year,environment', 2452),\n",
       " ('strong,interpersonal', 2446),\n",
       " ('ability,meet', 2444),\n",
       " ('ability,principle', 2442),\n",
       " ('ability,law', 2442),\n",
       " ('ability,quality', 2440),\n",
       " ('software,plus', 2440),\n",
       " ('computer,education', 2438),\n",
       " ('finance,language', 2438),\n",
       " ('communication,interpersonal', 2438),\n",
       " ('knowledge,new', 2436),\n",
       " ('system,communication', 2436),\n",
       " ('experience,quality', 2436),\n",
       " ('good,science', 2434),\n",
       " ('computer,office', 2432),\n",
       " ('english,high', 2430),\n",
       " ('knowledge,proven', 2426),\n",
       " ('skill,spoken', 2426)]"
      ]
     },
     "execution_count": 15,
     "metadata": {},
     "output_type": "execute_result"
    }
   ],
   "source": [
    "from collections import Counter\n",
    "counts = Counter()\n",
    "co_occurance_threshold = 2520\n",
    "for word1 in sparse_matrix:\n",
    "    for word2, co_occurence_count in sparse_matrix[word1].items():\n",
    "        current_key_1 = \"{0},{1}\".format(word1, word2)\n",
    "        current_key_2 = \"{0},{1}\".format(word2, word1)\n",
    "        \n",
    "        if word1 != word2 and co_occurence_count <= co_occurance_threshold:\n",
    "            if counts.get(current_key_1):\n",
    "                counts[current_key_1] += co_occurence_count // 2\n",
    "            elif counts.get(current_key_2):\n",
    "                counts[current_key_2] += co_occurence_count // 2\n",
    "            else:\n",
    "                counts[current_key_1] = co_occurence_count // 2\n",
    "        \n",
    "counts.most_common(50)"
   ]
  },
  {
   "cell_type": "code",
   "execution_count": null,
   "metadata": {},
   "outputs": [],
   "source": []
  }
 ],
 "metadata": {
  "kernelspec": {
   "display_name": "Python 3",
   "language": "python",
   "name": "python3"
  },
  "language_info": {
   "codemirror_mode": {
    "name": "ipython",
    "version": 3
   },
   "file_extension": ".py",
   "mimetype": "text/x-python",
   "name": "python",
   "nbconvert_exporter": "python",
   "pygments_lexer": "ipython3",
   "version": "3.6.3"
  }
 },
 "nbformat": 4,
 "nbformat_minor": 2
}
