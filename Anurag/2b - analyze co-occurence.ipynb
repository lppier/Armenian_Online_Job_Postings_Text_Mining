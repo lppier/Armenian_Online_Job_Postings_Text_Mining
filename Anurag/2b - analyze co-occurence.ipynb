{
 "cells": [
  {
   "cell_type": "markdown",
   "metadata": {},
   "source": [
    "# Analyze the co-occurences of the terms in the required qualifications"
   ]
  },
  {
   "cell_type": "code",
   "execution_count": 1,
   "metadata": {},
   "outputs": [],
   "source": [
    "import os\n",
    "import json\n",
    "import string\n",
    "import nltk\n",
    "from nltk import word_tokenize, FreqDist\n",
    "from nltk.corpus import stopwords\n",
    "import pandas as pd\n",
    "import pickle\n"
   ]
  },
  {
   "cell_type": "code",
   "execution_count": 4,
   "metadata": {},
   "outputs": [
    {
     "data": {
      "text/plain": [
       "2501"
      ]
     },
     "execution_count": 4,
     "metadata": {},
     "output_type": "execute_result"
    }
   ],
   "source": [
    "sparse_matrix = pickle.load(open(\"../models/qualifications_co_occurence.pkl\", \"rb\"))\n",
    "sparse_matrix[\"sql\"][\"server\"]"
   ]
  },
  {
   "cell_type": "code",
   "execution_count": 5,
   "metadata": {},
   "outputs": [
    {
     "data": {
      "text/plain": [
       "2501"
      ]
     },
     "execution_count": 5,
     "metadata": {},
     "output_type": "execute_result"
    }
   ],
   "source": [
    "sparse_matrix[\"server\"][\"sql\"]"
   ]
  },
  {
   "cell_type": "code",
   "execution_count": 14,
   "metadata": {},
   "outputs": [
    {
     "data": {
      "text/plain": [
       "[('ability,standard', 5040),\n",
       " ('management,system', 5038),\n",
       " ('knowledge,solving', 5030),\n",
       " ('ability,minimum', 5024),\n",
       " ('work,internet', 5016),\n",
       " ('knowledge,reporting', 5008),\n",
       " ('experience,effectively', 5004),\n",
       " ('server,sql', 5002),\n",
       " ('knowledge,area', 5000),\n",
       " ('experience,spoken', 5000),\n",
       " ('business,armenian', 4998),\n",
       " ('knowledge,concept', 4994),\n",
       " ('application,year', 4984),\n",
       " ('ability,issue', 4982),\n",
       " ('ability,program', 4982),\n",
       " ('word,excellent', 4978),\n",
       " ('experience,bank', 4976),\n",
       " ('requirement,experience', 4974),\n",
       " ('knowledge,customer', 4966),\n",
       " ('ability,learn', 4948),\n",
       " ('language,level', 4944),\n",
       " ('analytical,communication', 4940),\n",
       " ('year,economics', 4938),\n",
       " ('language,preferably', 4938),\n",
       " ('ability,highly', 4934),\n",
       " ('english,excel', 4934),\n",
       " ('skill,area', 4932),\n",
       " ('management,international', 4926),\n",
       " ('management,working', 4920),\n",
       " ('excellent,writing', 4914),\n",
       " ('knowledge,sector', 4906),\n",
       " ('year,environment', 4906),\n",
       " ('year,advanced', 4904),\n",
       " ('strong,interpersonal', 4892),\n",
       " ('ability,meet', 4888),\n",
       " ('ability,principle', 4886),\n",
       " ('ability,law', 4884),\n",
       " ('software,plus', 4882),\n",
       " ('ability,quality', 4880),\n",
       " ('finance,language', 4878),\n",
       " ('communication,interpersonal', 4878),\n",
       " ('computer,education', 4876),\n",
       " ('knowledge,new', 4874),\n",
       " ('experience,quality', 4874),\n",
       " ('system,communication', 4872),\n",
       " ('good,science', 4870),\n",
       " ('computer,office', 4864),\n",
       " ('english,high', 4862),\n",
       " ('knowledge,proven', 4854),\n",
       " ('experience,oriented', 4854)]"
      ]
     },
     "execution_count": 14,
     "metadata": {},
     "output_type": "execute_result"
    }
   ],
   "source": [
    "from collections import Counter\n",
    "counts = Counter()\n",
    "co_occurance_threshold = 2520\n",
    "for word1 in sparse_matrix:\n",
    "    for word2, co_occurence_count in sparse_matrix[word1].items():\n",
    "        current_key_1 = \"{0},{1}\".format(word1, word2)\n",
    "        current_key_2 = \"{0},{1}\".format(word2, word1)\n",
    "        \n",
    "        if word1 != word2 and co_occurence_count <= co_occurance_threshold:\n",
    "            if counts.get(current_key_1):\n",
    "                counts[current_key_1] += co_occurence_count // 2\n",
    "            elif counts.get(current_key_2):\n",
    "                counts[current_key_2] += co_occurence_count // 2\n",
    "            else:\n",
    "                counts[current_key_1] = co_occurence_count // 2\n",
    "        \n",
    "counts.most_common(50)"
   ]
  },
  {
   "cell_type": "code",
   "execution_count": null,
   "metadata": {},
   "outputs": [],
   "source": []
  }
 ],
 "metadata": {
  "kernelspec": {
   "display_name": "Python 3",
   "language": "python",
   "name": "python3"
  },
  "language_info": {
   "codemirror_mode": {
    "name": "ipython",
    "version": 3
   },
   "file_extension": ".py",
   "mimetype": "text/x-python",
   "name": "python",
   "nbconvert_exporter": "python",
   "pygments_lexer": "ipython3",
   "version": "3.6.3"
  }
 },
 "nbformat": 4,
 "nbformat_minor": 2
}
