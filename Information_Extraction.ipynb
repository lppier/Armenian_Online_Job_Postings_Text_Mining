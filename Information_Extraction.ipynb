{
 "cells": [
  {
   "cell_type": "code",
   "execution_count": 1,
   "metadata": {},
   "outputs": [],
   "source": [
    "import nltk\n",
    "from nltk.tokenize import word_tokenize\n",
    "from nltk.tokenize import sent_tokenize\n",
    "from nltk.tag import pos_tag\n",
    "import pandas as pd\n",
    "import spacy"
   ]
  },
  {
   "cell_type": "code",
   "execution_count": 2,
   "metadata": {},
   "outputs": [],
   "source": [
    "df = pd.read_csv(\"./data/data job posts mini.csv\")"
   ]
  },
  {
   "cell_type": "code",
   "execution_count": 10,
   "metadata": {},
   "outputs": [
    {
     "data": {
      "text/plain": [
       "\"- Bachelor's Degree; Master's is preferred;\\n- Excellent skills in spoken and written English and Armenian languages;\\n- Past English to Armenian translation and Armenian to English\\ntranslation experience;\\n- Good communication and public speaking skills;\\n- Ability to work independently and as part of a team.\\nREMUNERATION:  Commensurate with experience.\""
      ]
     },
     "execution_count": 10,
     "metadata": {},
     "output_type": "execute_result"
    }
   ],
   "source": [
    "test_input = df[\"RequiredQual\"][1]\n",
    "test_input"
   ]
  },
  {
   "cell_type": "markdown",
   "metadata": {},
   "source": [
    "<img src= \"Pipeline Architecture for IE system.png\">"
   ]
  },
  {
   "cell_type": "code",
   "execution_count": 11,
   "metadata": {},
   "outputs": [],
   "source": [
    "def ie_preprocess(document):\n",
    "    sentences = nltk.sent_tokenize(document) \n",
    "    sentences = [nltk.word_tokenize(sent) for sent in sentences] \n",
    "    sentences = [nltk.pos_tag(sent) for sent in sentences]\n",
    "    print( sentences )"
   ]
  },
  {
   "cell_type": "code",
   "execution_count": 12,
   "metadata": {},
   "outputs": [
    {
     "name": "stdout",
     "output_type": "stream",
     "text": [
      "$: dollar\n",
      "    $ -$ --$ A$ C$ HK$ M$ NZ$ S$ U.S.$ US$\n",
      "'': closing quotation mark\n",
      "    ' ''\n",
      "(: opening parenthesis\n",
      "    ( [ {\n",
      "): closing parenthesis\n",
      "    ) ] }\n",
      ",: comma\n",
      "    ,\n",
      "--: dash\n",
      "    --\n",
      ".: sentence terminator\n",
      "    . ! ?\n",
      ":: colon or ellipsis\n",
      "    : ; ...\n",
      "CC: conjunction, coordinating\n",
      "    & 'n and both but either et for less minus neither nor or plus so\n",
      "    therefore times v. versus vs. whether yet\n",
      "CD: numeral, cardinal\n",
      "    mid-1890 nine-thirty forty-two one-tenth ten million 0.5 one forty-\n",
      "    seven 1987 twenty '79 zero two 78-degrees eighty-four IX '60s .025\n",
      "    fifteen 271,124 dozen quintillion DM2,000 ...\n",
      "DT: determiner\n",
      "    all an another any both del each either every half la many much nary\n",
      "    neither no some such that the them these this those\n",
      "EX: existential there\n",
      "    there\n",
      "FW: foreign word\n",
      "    gemeinschaft hund ich jeux habeas Haementeria Herr K'ang-si vous\n",
      "    lutihaw alai je jour objets salutaris fille quibusdam pas trop Monte\n",
      "    terram fiche oui corporis ...\n",
      "IN: preposition or conjunction, subordinating\n",
      "    astride among uppon whether out inside pro despite on by throughout\n",
      "    below within for towards near behind atop around if like until below\n",
      "    next into if beside ...\n",
      "JJ: adjective or numeral, ordinal\n",
      "    third ill-mannered pre-war regrettable oiled calamitous first separable\n",
      "    ectoplasmic battery-powered participatory fourth still-to-be-named\n",
      "    multilingual multi-disciplinary ...\n",
      "JJR: adjective, comparative\n",
      "    bleaker braver breezier briefer brighter brisker broader bumper busier\n",
      "    calmer cheaper choosier cleaner clearer closer colder commoner costlier\n",
      "    cozier creamier crunchier cuter ...\n",
      "JJS: adjective, superlative\n",
      "    calmest cheapest choicest classiest cleanest clearest closest commonest\n",
      "    corniest costliest crassest creepiest crudest cutest darkest deadliest\n",
      "    dearest deepest densest dinkiest ...\n",
      "LS: list item marker\n",
      "    A A. B B. C C. D E F First G H I J K One SP-44001 SP-44002 SP-44005\n",
      "    SP-44007 Second Third Three Two * a b c d first five four one six three\n",
      "    two\n",
      "MD: modal auxiliary\n",
      "    can cannot could couldn't dare may might must need ought shall should\n",
      "    shouldn't will would\n",
      "NN: noun, common, singular or mass\n",
      "    common-carrier cabbage knuckle-duster Casino afghan shed thermostat\n",
      "    investment slide humour falloff slick wind hyena override subhumanity\n",
      "    machinist ...\n",
      "NNP: noun, proper, singular\n",
      "    Motown Venneboerger Czestochwa Ranzer Conchita Trumplane Christos\n",
      "    Oceanside Escobar Kreisler Sawyer Cougar Yvette Ervin ODI Darryl CTCA\n",
      "    Shannon A.K.C. Meltex Liverpool ...\n",
      "NNPS: noun, proper, plural\n",
      "    Americans Americas Amharas Amityvilles Amusements Anarcho-Syndicalists\n",
      "    Andalusians Andes Andruses Angels Animals Anthony Antilles Antiques\n",
      "    Apache Apaches Apocrypha ...\n",
      "NNS: noun, common, plural\n",
      "    undergraduates scotches bric-a-brac products bodyguards facets coasts\n",
      "    divestitures storehouses designs clubs fragrances averages\n",
      "    subjectivists apprehensions muses factory-jobs ...\n",
      "PDT: pre-determiner\n",
      "    all both half many quite such sure this\n",
      "POS: genitive marker\n",
      "    ' 's\n",
      "PRP: pronoun, personal\n",
      "    hers herself him himself hisself it itself me myself one oneself ours\n",
      "    ourselves ownself self she thee theirs them themselves they thou thy us\n",
      "PRP$: pronoun, possessive\n",
      "    her his mine my our ours their thy your\n",
      "RB: adverb\n",
      "    occasionally unabatingly maddeningly adventurously professedly\n",
      "    stirringly prominently technologically magisterially predominately\n",
      "    swiftly fiscally pitilessly ...\n",
      "RBR: adverb, comparative\n",
      "    further gloomier grander graver greater grimmer harder harsher\n",
      "    healthier heavier higher however larger later leaner lengthier less-\n",
      "    perfectly lesser lonelier longer louder lower more ...\n",
      "RBS: adverb, superlative\n",
      "    best biggest bluntest earliest farthest first furthest hardest\n",
      "    heartiest highest largest least less most nearest second tightest worst\n",
      "RP: particle\n",
      "    aboard about across along apart around aside at away back before behind\n",
      "    by crop down ever fast for forth from go high i.e. in into just later\n",
      "    low more off on open out over per pie raising start teeth that through\n",
      "    under unto up up-pp upon whole with you\n",
      "SYM: symbol\n",
      "    % & ' '' ''. ) ). * + ,. < = > @ A[fj] U.S U.S.S.R * ** ***\n",
      "TO: \"to\" as preposition or infinitive marker\n",
      "    to\n",
      "UH: interjection\n",
      "    Goodbye Goody Gosh Wow Jeepers Jee-sus Hubba Hey Kee-reist Oops amen\n",
      "    huh howdy uh dammit whammo shucks heck anyways whodunnit honey golly\n",
      "    man baby diddle hush sonuvabitch ...\n",
      "VB: verb, base form\n",
      "    ask assemble assess assign assume atone attention avoid bake balkanize\n",
      "    bank begin behold believe bend benefit bevel beware bless boil bomb\n",
      "    boost brace break bring broil brush build ...\n",
      "VBD: verb, past tense\n",
      "    dipped pleaded swiped regummed soaked tidied convened halted registered\n",
      "    cushioned exacted snubbed strode aimed adopted belied figgered\n",
      "    speculated wore appreciated contemplated ...\n",
      "VBG: verb, present participle or gerund\n",
      "    telegraphing stirring focusing angering judging stalling lactating\n",
      "    hankerin' alleging veering capping approaching traveling besieging\n",
      "    encrypting interrupting erasing wincing ...\n",
      "VBN: verb, past participle\n",
      "    multihulled dilapidated aerosolized chaired languished panelized used\n",
      "    experimented flourished imitated reunifed factored condensed sheared\n",
      "    unsettled primed dubbed desired ...\n",
      "VBP: verb, present tense, not 3rd person singular\n",
      "    predominate wrap resort sue twist spill cure lengthen brush terminate\n",
      "    appear tend stray glisten obtain comprise detest tease attract\n",
      "    emphasize mold postpone sever return wag ...\n",
      "VBZ: verb, present tense, 3rd person singular\n",
      "    bases reconstructs marks mixes displeases seals carps weaves snatches\n",
      "    slumps stretches authorizes smolders pictures emerges stockpiles\n",
      "    seduces fizzes uses bolsters slaps speaks pleads ...\n",
      "WDT: WH-determiner\n",
      "    that what whatever which whichever\n",
      "WP: WH-pronoun\n",
      "    that what whatever whatsoever which who whom whosoever\n",
      "WP$: WH-pronoun, possessive\n",
      "    whose\n",
      "WRB: Wh-adverb\n",
      "    how however whence whenever where whereby whereever wherein whereof why\n",
      "``: opening quotation mark\n",
      "    ` ``\n"
     ]
    }
   ],
   "source": [
    "nltk.help.upenn_tagset()"
   ]
  },
  {
   "cell_type": "code",
   "execution_count": 13,
   "metadata": {},
   "outputs": [
    {
     "name": "stdout",
     "output_type": "stream",
     "text": [
      "[[('-', ':'), ('Bachelor', 'NN'), (\"'s\", 'POS'), ('Degree', 'NNP'), (';', ':'), ('Master', 'NNP'), (\"'s\", 'POS'), ('is', 'VBZ'), ('preferred', 'VBN'), (';', ':'), ('-', ':'), ('Excellent', 'NN'), ('skills', 'NNS'), ('in', 'IN'), ('spoken', 'JJ'), ('and', 'CC'), ('written', 'VBN'), ('English', 'NNP'), ('and', 'CC'), ('Armenian', 'JJ'), ('languages', 'NNS'), (';', ':'), ('-', ':'), ('Past', 'IN'), ('English', 'NNP'), ('to', 'TO'), ('Armenian', 'JJ'), ('translation', 'NN'), ('and', 'CC'), ('Armenian', 'JJ'), ('to', 'TO'), ('English', 'VB'), ('translation', 'NN'), ('experience', 'NN'), (';', ':'), ('-', ':'), ('Good', 'JJ'), ('communication', 'NN'), ('and', 'CC'), ('public', 'JJ'), ('speaking', 'NN'), ('skills', 'NNS'), (';', ':'), ('-', ':'), ('Ability', 'NN'), ('to', 'TO'), ('work', 'VB'), ('independently', 'RB'), ('and', 'CC'), ('as', 'IN'), ('part', 'NN'), ('of', 'IN'), ('a', 'DT'), ('team', 'NN'), ('.', '.')], [('REMUNERATION', 'NN'), (':', ':'), ('Commensurate', 'NN'), ('with', 'IN'), ('experience', 'NN'), ('.', '.')]]\n"
     ]
    }
   ],
   "source": [
    "ie_preprocess(test_input)"
   ]
  },
  {
   "cell_type": "markdown",
   "metadata": {},
   "source": [
    "# Name Entity Relation Extraction"
   ]
  },
  {
   "cell_type": "code",
   "execution_count": 14,
   "metadata": {},
   "outputs": [],
   "source": [
    "# Load English tokenizer, tagger, parser, NER and word vectors\n",
    "nlp = spacy.load('en_core_web_sm')"
   ]
  },
  {
   "cell_type": "code",
   "execution_count": 67,
   "metadata": {},
   "outputs": [
    {
     "data": {
      "text/plain": [
       "'- University degree; economical background is a plus;\\n- Excellent knowledge of Windows 2000 Server, Networking TCP/ IP\\ntechnologies, MS SQL 2000 Server, Visual Basic 6;\\n- At least 2 years of experience in database software development;\\n- Good knowledge of English.\\nREMUNERATION:  Will be commensurate with the norms accepted in the\\nCompany.'"
      ]
     },
     "execution_count": 67,
     "metadata": {},
     "output_type": "execute_result"
    }
   ],
   "source": [
    "test_input1 = df[\"RequiredQual\"][4]\n",
    "test_input1"
   ]
  },
  {
   "cell_type": "markdown",
   "metadata": {},
   "source": [
    "Trying with different inputs what kind of results we are getting."
   ]
  },
  {
   "cell_type": "code",
   "execution_count": 64,
   "metadata": {},
   "outputs": [
    {
     "name": "stdout",
     "output_type": "stream",
     "text": [
      "\n",
      " 53 54 GPE\n",
      "Windows 2000 Server 79 98 PRODUCT\n",
      "Networking TCP/ IP\n",
      " 100 119 ORG\n",
      "SQL 2000 136 144 PRODUCT\n",
      "Visual Basic 6 153 167 ORG\n",
      "\n",
      " 168 169 GPE\n",
      "\n",
      " 235 236 GPE\n",
      "English 256 263 LANGUAGE\n",
      "\n",
      " 264 265 GPE\n",
      "the\n",
      "Company 328 339 ORG\n"
     ]
    }
   ],
   "source": [
    "doc = nlp(test_input1)\n",
    "for ent in doc.ents:\n",
    "    print(ent.text, ent.start_char, ent.end_char, ent.label_)"
   ]
  },
  {
   "cell_type": "code",
   "execution_count": 65,
   "metadata": {},
   "outputs": [
    {
     "data": {
      "text/plain": [
       "\"- Possession of personal vehicle, valid driver's license, and proved\\n5-year driving experience;\\n- Good communication skills;\\n- Good organizational skills and diligent attention to details\\nassociated with documenting activities to maintain accurate and complete\\njob-related records;\\n- Good knowledge of logistics and working knowledge of transportation\\nsystems.\\n- Written and spoken proficiency in Armenian, and Russian.\\n- Computer literacy, including knowledge of and experience with word\\nprocessors (MS Word), spreadsheets (Excel), databases (MS Access), and\\nelectronic mail;\\n- Knowledge of, and ability to work with a variety of governmental and\\nnon-governmental organizations;\\n- Mobility and desire to travel extensively;\\n- Willingness to work long or unusual hours/week-ends unexpectedly in\\norder to receive and distribute humanitarian supplies and to meet\\nprogrammatic goals and objectives;\\n- Willingness and ability to work in a smoke-free environment.\\nREMUNERATION:  Counterpart International offers competitive salaries and\\nbenefits comparable to standards of international NGO community in\\nArmenia. Salary is commensurate with experience. Counterpart is an equal\\nopportunity organization that strives for diversity and employs\\nqualified personnel without regard to gender, race, physical disability,\\nreligion, or ethnicity.\""
      ]
     },
     "execution_count": 65,
     "metadata": {},
     "output_type": "execute_result"
    }
   ],
   "source": [
    "test_input2 = df[\"RequiredQual\"][18]\n",
    "test_input2"
   ]
  },
  {
   "cell_type": "code",
   "execution_count": 66,
   "metadata": {},
   "outputs": [
    {
     "name": "stdout",
     "output_type": "stream",
     "text": [
      "\n",
      "5-year 68 75 EVENT\n",
      "\n",
      " 95 96 GPE\n",
      "\n",
      " 124 125 GPE\n",
      "\n",
      " 187 188 GPE\n",
      "\n",
      " 260 261 GPE\n",
      "\n",
      " 281 282 GPE\n",
      "\n",
      " 351 352 GPE\n",
      "\n",
      " 360 361 GPE\n",
      "Armenian 397 405 NORP\n",
      "Russian 411 418 NORP\n",
      "\n",
      " 419 420 GPE\n",
      "\n",
      " 488 489 GPE\n",
      "Word 504 508 PERSON\n",
      "Excel 525 530 PRODUCT\n",
      "MS Access 544 553 ORG\n",
      "\n",
      " 559 560 GPE\n",
      "\n",
      "- Knowledge 576 588 ORG\n",
      "\n",
      " 647 648 GPE\n",
      "\n",
      " 679 680 GPE\n",
      "\n",
      "- Willingness 724 738 EVENT\n",
      "hours/week-ends 763 778 DATE\n",
      "\n",
      " 794 795 GPE\n",
      "\n",
      " 860 861 GPE\n",
      "\n",
      " 895 896 GPE\n",
      "\n",
      " 958 959 GPE\n",
      "Counterpart International 974 999 ORG\n",
      "\n",
      " 1031 1032 GPE\n",
      "\n",
      " 1098 1099 GPE\n",
      "Armenia 1099 1106 GPE\n",
      "Counterpart 1148 1159 ORG\n",
      "\n",
      " 1171 1172 GPE\n",
      "\n",
      " 1235 1236 GPE\n",
      "\n",
      " 1308 1309 GPE\n"
     ]
    }
   ],
   "source": [
    "doc1 = nlp(test_input2)\n",
    "for ent in doc1.ents:\n",
    "    print(ent.text, ent.start_char, ent.end_char, ent.label_)"
   ]
  },
  {
   "cell_type": "code",
   "execution_count": null,
   "metadata": {},
   "outputs": [],
   "source": []
  }
 ],
 "metadata": {
  "kernelspec": {
   "display_name": "Python 3",
   "language": "python",
   "name": "python3"
  },
  "language_info": {
   "codemirror_mode": {
    "name": "ipython",
    "version": 3
   },
   "file_extension": ".py",
   "mimetype": "text/x-python",
   "name": "python",
   "nbconvert_exporter": "python",
   "pygments_lexer": "ipython3",
   "version": "3.6.0"
  }
 },
 "nbformat": 4,
 "nbformat_minor": 2
}
