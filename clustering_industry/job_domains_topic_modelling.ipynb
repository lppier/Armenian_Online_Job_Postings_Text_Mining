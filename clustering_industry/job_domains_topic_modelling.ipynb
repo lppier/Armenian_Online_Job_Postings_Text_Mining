{
 "cells": [
  {
   "cell_type": "markdown",
   "metadata": {},
   "source": [
    "# Topic Modelling - Job Domains "
   ]
  },
  {
   "cell_type": "code",
   "execution_count": 2,
   "metadata": {},
   "outputs": [
    {
     "name": "stdout",
     "output_type": "stream",
     "text": [
      "(19001, 24)\n",
      "(18892, 24)\n",
      "Removed 109 duplicates (based on jobpost + Title)\n"
     ]
    }
   ],
   "source": [
    "import os\n",
    "import json\n",
    "import string\n",
    "import nltk\n",
    "from nltk import word_tokenize, FreqDist\n",
    "from nltk.corpus import stopwords\n",
    "import pandas as pd\n",
    "import matplotlib.pyplot as plt\n",
    "import wordcloud\n",
    "from wordcloud import WordCloud, ImageColorGenerator\n",
    "import matplotlib.pyplot as plt\n",
    "import numpy as np\n",
    "from PIL import Image\n",
    "import re\n",
    "import logging\n",
    "import gensim\n",
    "from gensim import corpora\n",
    "import spacy\n",
    "\n",
    "pd.options.mode.chained_assignment = None  # default='warn'\n",
    "\n",
    "\n",
    "def preprocess(tokens):\n",
    "    tokens_nop = [t for t in tokens if t not in string.punctuation]\n",
    "    tokens_nop = [t.lower() for t in tokens_nop]\n",
    "    # wnl = nltk.WordNetLemmatizer()\n",
    "    stop = stopwords.words('english')\n",
    "    stop.extend(\n",
    "        ['armenian', 'armenia', 'job', 'title', 'position', 'location', 'responsibilities', 'application', 'procedures',\n",
    "         'deadline', 'required', 'qualifications', 'renumeration', 'salary', 'date', 'company', 'yerevan',\n",
    "         'eligibility', 'january', 'february', 'march', 'april', 'may', 'june', 'july', 'august', 'september',\n",
    "         'october', 'november', 'december'])\n",
    "    tokens_nostop = [t for t in tokens_nop if t not in stop]\n",
    "    # tokens_lem = [wnl.lemmatize(t) for t in tokens_nostop]\n",
    "    tokens_clean = [t for t in tokens_nostop if len(t) >= 3]  # simple way to remove the offending \" punctuations\n",
    "    return tokens_clean\n",
    "\n",
    "\n",
    "def plotWC(tokens):\n",
    "    text_clean = \" \".join(tokens)\n",
    "    print(text_clean)\n",
    "    wc = WordCloud(background_color=\"white\").generate(text_clean)\n",
    "    plt.imshow(wc, interpolation='bilinear')\n",
    "    plt.axis(\"off\")\n",
    "    plt.show()\n",
    "    plt.figure(figsize=(20, 9))\n",
    "    fd = nltk.FreqDist(tokens)  # case sensitive!\n",
    "    fd.plot(50)\n",
    "\n",
    "\n",
    "def make_bigrams(texts):\n",
    "    return [bigram_mod[doc] for doc in texts]\n",
    "\n",
    "\n",
    "def make_trigrams(texts):\n",
    "    return [trigram_mod[bigram_mod[doc]] for doc in texts]\n",
    "\n",
    "\n",
    "# Initialize spacy 'en' model, keeping only tagger component (for efficiency)\n",
    "# python3 -m spacy download en\n",
    "nlp = spacy.load('en', disable=['parser', 'ner'])\n",
    "\n",
    "\n",
    "def lemmatization(texts, allowed_postags=['NOUN', 'ADJ', 'VERB', 'ADV']):\n",
    "    \"\"\"https://spacy.io/api/annotation\"\"\"\n",
    "    texts_out = []\n",
    "    for sent in texts:\n",
    "        doc = nlp(\" \".join(sent))\n",
    "        texts_out.append([token.lemma_ for token in doc if token.pos_ in allowed_postags])\n",
    "    return texts_out\n",
    "\n",
    "\n",
    "df_ori = pd.read_csv('../data/data job posts.csv')\n",
    "df_ori.head()\n",
    "print(df_ori.shape)\n",
    "df = df_ori.drop_duplicates(['jobpost', 'Title'])\n",
    "print(df.shape)\n",
    "print(\"Removed {0} duplicates (based on jobpost + Title)\".format(df_ori.shape[0] - df.shape[0]))\n",
    "\n"
   ]
  },
  {
   "cell_type": "code",
   "execution_count": 3,
   "metadata": {},
   "outputs": [
    {
     "name": "stderr",
     "output_type": "stream",
     "text": [
      "/Users/pierlim/anaconda/envs/tensorflow/lib/python3.6/site-packages/gensim/models/phrases.py:598: UserWarning: For a faster implementation, use the gensim.models.phrases.Phraser class\n",
      "  warnings.warn(\"For a faster implementation, use the gensim.models.phrases.Phraser class\")\n"
     ]
    }
   ],
   "source": [
    "df['jobpost'] = df['jobpost'].apply(lambda x: re.sub('\\S*@\\S*\\s?', '', x))  # remove emails\n",
    "df['jobpost'] = df['jobpost'].apply(lambda x: re.sub('\\s+', ' ', x))  # remove newlines\n",
    "df['jobpost'] = df['jobpost'].apply(lambda x: re.sub(\"\\'\", \"\", x))  # remove single quotes\n",
    "re1 = '(www)'  # Word 1\n",
    "re2 = '(\\\\.)'  # Any Single Character 1\n",
    "re3 = '((?:[a-z][a-z0-9_]*))'  # Variable Name 1\n",
    "re4 = '(\\\\.)'  # Any Single Character 2\n",
    "re5 = '((?:[a-z][a-z0-9_]*))'  # Variable Name 2\n",
    "rg = re.compile(re1 + re2 + re3 + re4 + re5, re.IGNORECASE | re.DOTALL)\n",
    "df['jobpost'] = df['jobpost'].apply(lambda x: re.sub(rg, \"\", x))\n",
    "re1 = '((?:[a-z][a-z0-9_]*))'  # Variable Name 1\n",
    "re2 = '(\\\\.)'  # Any Single Character 1\n",
    "re3 = '((?:[a-z][a-z0-9_]*))'  # Word 1\n",
    "rg = re.compile(re1 + re2 + re3, re.IGNORECASE | re.DOTALL)\n",
    "df['jobpost'] = df['jobpost'].apply(lambda x: re.sub(rg, \"\", x))\n",
    "df.jobpost = df.jobpost.apply(lambda x: re.sub('(\\\\d+)', \"\", x))  # remove numbers\n",
    "\n",
    "df['jobpost_token'] = df.jobpost.map(word_tokenize)\n",
    "df['jobpost_len'] = df.jobpost_token.apply(len)\n",
    "df['jobpost_token_uniq'] = df.jobpost_token.apply(set)\n",
    "df['jobpost_processed'] = df.jobpost_token.apply(preprocess)\n",
    "# df['jobpost_processedtext'] = df.jobpost_processed.apply(lambda x: ' '.join(x))\n",
    "\n",
    "# Build the bigram and trigram models\n",
    "bigram = gensim.models.Phrases(df['jobpost_processed'], min_count=5, threshold=100)  # higher threshold fewer phrases.\n",
    "trigram = gensim.models.Phrases(bigram[df['jobpost_processed']], threshold=100)\n",
    "bigram_mod = gensim.models.phrases.Phraser(bigram)\n",
    "trigram_mod = gensim.models.phrases.Phraser(trigram)\n",
    "#print(trigram_mod[bigram_mod[df.jobpost_processed[5]]])\n",
    "\n",
    "df.jobpost_processed = make_bigrams(df.jobpost_processed)\n",
    "df.jobpost_processed = lemmatization(df.jobpost_processed, allowed_postags=['NOUN', 'VERB'])  # 'ADJ',, 'ADV'])\n",
    "\n",
    "#logging.basicConfig(format='%(asctime)s : %(levelname)s : %(message)s', level=logging.INFO)\n",
    "dictionary = corpora.Dictionary(df['jobpost_processed'])\n",
    "#print(dictionary)\n",
    "dictionary.filter_extremes(no_below=3, no_above=0.7)\n",
    "#print(dictionary)"
   ]
  },
  {
   "cell_type": "code",
   "execution_count": 4,
   "metadata": {},
   "outputs": [
    {
     "name": "stdout",
     "output_type": "stream",
     "text": [
      "[(0, 0.119975545), (1, 0.10838561), (2, 0.42120668), (3, 0.020670587), (5, 0.018573191), (6, 0.30967)]\n",
      "[(0, 0.5529387), (1, 0.19301182), (2, 0.036064904), (5, 0.11257046), (6, 0.09716331)]\n",
      "[(0, 0.21326159), (1, 0.3510972), (2, 0.050571993), (5, 0.2761624), (6, 0.0974382)]\n",
      "[(0, 0.052259926), (1, 0.49375182), (2, 0.0112226475), (3, 0.047561854), (4, 0.02636911), (5, 0.023485646), (6, 0.34534898)]\n",
      "[(0, 0.29344884), (1, 0.032398142), (2, 0.0798206), (3, 0.36920053), (4, 0.06531269), (5, 0.07589083), (6, 0.08392841)]\n"
     ]
    }
   ],
   "source": [
    "\n",
    "topic_num = 7\n",
    "\n",
    "# Use the dictionary to prepare a DTM (using TF)\n",
    "dtm_train = [dictionary.doc2bow(d) for d in df['jobpost_processed']]\n",
    "lda = gensim.models.ldamodel.LdaModel(dtm_train, num_topics=topic_num, alpha='auto', chunksize=30, id2word=dictionary,\n",
    "                                      passes=20, random_state=432)\n",
    "# lda.show_topics()\n",
    "# lda.show_topics(num_words=20)\n",
    "\n",
    "dtopics_train = lda.get_document_topics(dtm_train)\n",
    "# print topic distribution for 1st 5 rows\n",
    "for i in range(0, 5):\n",
    "    print(dtopics_train[i])\n",
    "\n",
    "\n"
   ]
  },
  {
   "cell_type": "code",
   "execution_count": 5,
   "metadata": {},
   "outputs": [
    {
     "data": {
      "text/plain": [
       "[(0,\n",
       "  '0.024*\"ability\" + 0.021*\"communication\" + 0.019*\"customer\" + 0.018*\"term\" + 0.015*\"sale\" + 0.015*\"line\" + 0.015*\"llc\" + 0.014*\"marketing\" + 0.013*\"service\" + 0.012*\"send\"'),\n",
       " (1,\n",
       "  '0.066*\"project\" + 0.036*\"development\" + 0.022*\"program\" + 0.019*\"activity\" + 0.018*\"support\" + 0.018*\"implementation\" + 0.013*\"sector\" + 0.013*\"include\" + 0.012*\"community\" + 0.011*\"ensure\"'),\n",
       " (2,\n",
       "  '0.024*\"report\" + 0.016*\"bank\" + 0.015*\"datum\" + 0.014*\"prepare\" + 0.012*\"indicate\" + 0.011*\"year\" + 0.011*\"accounting\" + 0.010*\"finance\" + 0.010*\"branch\" + 0.010*\"account\"'),\n",
       " (3,\n",
       "  '0.039*\"development\" + 0.037*\"software\" + 0.033*\"design\" + 0.025*\"team\" + 0.022*\"developer\" + 0.018*\"web\" + 0.017*\"develop\" + 0.016*\"test\" + 0.015*\"system\" + 0.015*\"technology\"'),\n",
       " (4,\n",
       "  '0.034*\"engineering\" + 0.022*\"construction\" + 0.018*\"safety\" + 0.017*\"test\" + 0.014*\"engineer\" + 0.014*\"store\" + 0.013*\"site\" + 0.012*\"register\" + 0.011*\"amd\" + 0.011*\"answer\"'),\n",
       " (5,\n",
       "  '0.018*\"office\" + 0.017*\"course\" + 0.015*\"training\" + 0.012*\"expert\" + 0.011*\"study\" + 0.010*\"student\" + 0.010*\"material\" + 0.010*\"education\" + 0.009*\"medium\" + 0.009*\"month\"'),\n",
       " (6,\n",
       "  '0.035*\"management\" + 0.025*\"ensure\" + 0.023*\"business\" + 0.020*\"manage\" + 0.019*\"plan\" + 0.017*\"develop\" + 0.016*\"manager\" + 0.013*\"system\" + 0.013*\"service\" + 0.012*\"process\"')]"
      ]
     },
     "execution_count": 5,
     "metadata": {},
     "output_type": "execute_result"
    }
   ],
   "source": [
    "lda.show_topics()"
   ]
  },
  {
   "cell_type": "markdown",
   "metadata": {},
   "source": [
    "\n",
    "7 topics\n",
    "\n",
    "0, Sales and Marketing \n",
    "\n",
    "1, Project Management and Development \n",
    "\n",
    "2, Banking and Finance\n",
    "\n",
    "3, Software Development \n",
    "\n",
    "4, Construction and Safety Engineering \n",
    "\n",
    "5, Education and Training \n",
    "\n",
    "6, Business Development and Management \n",
    "\n"
   ]
  },
  {
   "cell_type": "code",
   "execution_count": 6,
   "metadata": {},
   "outputs": [
    {
     "name": "stderr",
     "output_type": "stream",
     "text": [
      "/Users/pierlim/anaconda/envs/tensorflow/lib/python3.6/site-packages/matplotlib/axes/_axes.py:6571: UserWarning: The 'normed' kwarg is deprecated, and has been replaced by the 'density' kwarg.\n",
      "  warnings.warn(\"The 'normed' kwarg is deprecated, and has been \"\n"
     ]
    },
    {
     "data": {
      "text/plain": [
       "Text(0.5,1,'Topic Frequencies')"
      ]
     },
     "execution_count": 6,
     "metadata": {},
     "output_type": "execute_result"
    },
    {
     "data": {
      "image/png": "[encoded data removed]",
      "text/plain": [
       "<Figure size 432x288 with 1 Axes>"
      ]
     },
     "metadata": {},
     "output_type": "display_data"
    }
   ],
   "source": [
    "# get and plot the distribution of the topics\n",
    "from operator import itemgetter\n",
    "import matplotlib.style as style\n",
    "\n",
    "import seaborn as sns\n",
    "\n",
    "# style.use('seaborn-poster')\n",
    "# fig, ax = plt.subplots(figsize=(16, 9))\n",
    "top_train = [max(t, key=itemgetter(1))[0] for t in dtopics_train]\n",
    "# plt.hist(top_train, bins=topic_num)\n",
    "# plt.title('Topic Frequencies')\n",
    "# plt.show()\n",
    "sns.distplot(top_train, kde=False).set_title('Topic Frequencies')"
   ]
  },
  {
   "cell_type": "code",
   "execution_count": 23,
   "metadata": {},
   "outputs": [],
   "source": [
    "topics = pd.Series(top_train)\n",
    "df['topic'] = topics.values\n",
    "df = pd.DataFrame(df)"
   ]
  },
  {
   "cell_type": "code",
   "execution_count": 24,
   "metadata": {},
   "outputs": [
    {
     "name": "stderr",
     "output_type": "stream",
     "text": [
      "/Users/pierlim/anaconda/envs/tensorflow/lib/python3.6/site-packages/matplotlib/axes/_axes.py:6571: UserWarning: The 'normed' kwarg is deprecated, and has been replaced by the 'density' kwarg.\n",
      "  warnings.warn(\"The 'normed' kwarg is deprecated, and has been \"\n"
     ]
    },
    {
     "data": {
      "text/plain": [
       "Text(0.5,1,'Topic Frequencies 2004 - 2007')"
      ]
     },
     "execution_count": 24,
     "metadata": {},
     "output_type": "execute_result"
    },
    {
     "data": {
      "image/png": "[encoded data removed]",
      "text/plain": [
       "<Figure size 432x288 with 1 Axes>"
      ]
     },
     "metadata": {},
     "output_type": "display_data"
    }
   ],
   "source": [
    "df_04to07 = df[df.Year <= 2007]\n",
    "sns.distplot(df_04to07['topic'], kde=False).set_title('Topic Frequencies 2004 - 2007')"
   ]
  },
  {
   "cell_type": "code",
   "execution_count": 31,
   "metadata": {},
   "outputs": [
    {
     "name": "stderr",
     "output_type": "stream",
     "text": [
      "/Users/pierlim/anaconda/envs/tensorflow/lib/python3.6/site-packages/matplotlib/axes/_axes.py:6571: UserWarning: The 'normed' kwarg is deprecated, and has been replaced by the 'density' kwarg.\n",
      "  warnings.warn(\"The 'normed' kwarg is deprecated, and has been \"\n"
     ]
    },
    {
     "data": {
      "text/plain": [
       "Text(0.5,1,'Topic Frequencies 2008 - 2011')"
      ]
     },
     "execution_count": 31,
     "metadata": {},
     "output_type": "execute_result"
    },
    {
     "data": {
      "image/png": "[encoded data removed]",
      "text/plain": [
       "<Figure size 432x288 with 1 Axes>"
      ]
     },
     "metadata": {},
     "output_type": "display_data"
    }
   ],
   "source": [
    "df_08to11 = df[(df['Year'] > 2007) & (df['Year'] <= 2011)]\n",
    "sns.distplot(df_08to11['topic'], kde=False).set_title('Topic Frequencies 2008 - 2011')"
   ]
  },
  {
   "cell_type": "code",
   "execution_count": 32,
   "metadata": {},
   "outputs": [
    {
     "name": "stderr",
     "output_type": "stream",
     "text": [
      "/Users/pierlim/anaconda/envs/tensorflow/lib/python3.6/site-packages/matplotlib/axes/_axes.py:6571: UserWarning: The 'normed' kwarg is deprecated, and has been replaced by the 'density' kwarg.\n",
      "  warnings.warn(\"The 'normed' kwarg is deprecated, and has been \"\n"
     ]
    },
    {
     "data": {
      "text/plain": [
       "Text(0.5,1,'Topic Frequencies 2012 - 2015')"
      ]
     },
     "execution_count": 32,
     "metadata": {},
     "output_type": "execute_result"
    },
    {
     "data": {
      "image/png": "[encoded data removed]",
      "text/plain": [
       "<Figure size 432x288 with 1 Axes>"
      ]
     },
     "metadata": {},
     "output_type": "display_data"
    }
   ],
   "source": [
    "df_12to15 = df[(df['Year'] > 2011) & (df['Year'] <= 2015)]\n",
    "sns.distplot(df_12to15['topic'], kde=False).set_title('Topic Frequencies 2012 - 2015')"
   ]
  },
  {
   "cell_type": "code",
   "execution_count": 27,
   "metadata": {},
   "outputs": [
    {
     "data": {
      "text/html": [
       "\n",
       "<link rel=\"stylesheet\" type=\"text/css\" href=\"https://cdn.rawgit.com/bmabey/pyLDAvis/files/ldavis.v1.0.0.css\">\n",
       "\n",
       "\n",
       "<div id=\"ldavis_el256091133611918242998404393\"></div>\n",
       "<script type=\"text/javascript\">\n",
       "\n",
       "var ldavis_el256091133611918242998404393_data = {\"mdsDat\": {\"Freq\": [23.45929527282715, 20.041297912597656, 15.849380493164062, 14.595230102539062, 12.849357604980469, 8.934011459350586, 4.271431922912598], \"cluster\": [1, 1, 1, 1, 1, 1, 1], \"topics\": [1, 2, 3, 4, 5, 6, 7], \"x\": [0.017365453339236503, 0.0384914767626713, 0.18418247846032076, 0.18243187389354207, 0.07045411729509854, -0.08192306830066023, -0.41100233145020904], \"y\": [-0.03803337580408355, -0.041641435111825324, -0.005917871785740803, 0.09289436578438515, 0.18867256882364133, -0.3264631459620002, 0.13048889405562353]}, \"tinfo\": {\"Category\": [\"Default\", \"Default\", \"Default\", \"Default\", \"Default\", \"Default\", \"Default\", \"Default\", \"Default\", \"Default\", \"Default\", \"Default\", \"Default\", \"Default\", \"Default\", \"Default\", \"Default\", \"Default\", \"Default\", \"Default\", \"Default\", \"Default\", \"Default\", \"Default\", \"Default\", \"Default\", \"Default\", \"Default\", \"Default\", \"Default\", \"Topic1\", \"Topic1\", \"Topic1\", \"Topic1\", \"Topic1\", \"Topic1\", \"Topic1\", \"Topic1\", \"Topic1\", \"Topic1\", \"Topic1\", \"Topic1\", \"Topic1\", \"Topic1\", \"Topic1\", \"Topic1\", \"Topic1\", \"Topic1\", \"Topic1\", \"Topic1\", \"Topic1\", \"Topic1\", \"Topic1\", \"Topic1\", \"Topic1\", \"Topic1\", \"Topic1\", \"Topic1\", \"Topic1\", \"Topic1\", \"Topic1\", \"Topic1\", \"Topic1\", \"Topic1\", \"Topic1\", \"Topic1\", \"Topic1\", \"Topic1\", \"Topic1\", \"Topic1\", \"Topic1\", \"Topic1\", \"Topic1\", \"Topic1\", \"Topic1\", \"Topic1\", \"Topic1\", \"Topic1\", \"Topic1\", \"Topic1\", \"Topic1\", \"Topic1\", \"Topic1\", \"Topic1\", \"Topic1\", \"Topic1\", \"Topic1\", \"Topic1\", \"Topic1\", \"Topic1\", \"Topic1\", \"Topic1\", \"Topic1\", \"Topic1\", \"Topic1\", \"Topic1\", \"Topic1\", \"Topic2\", \"Topic2\", \"Topic2\", \"Topic2\", \"Topic2\", \"Topic2\", \"Topic2\", \"Topic2\", \"Topic2\", \"Topic2\", \"Topic2\", \"Topic2\", \"Topic2\", \"Topic2\", \"Topic2\", \"Topic2\", \"Topic2\", \"Topic2\", \"Topic2\", \"Topic2\", \"Topic2\", \"Topic2\", \"Topic2\", \"Topic2\", \"Topic2\", \"Topic2\", \"Topic2\", \"Topic2\", \"Topic2\", \"Topic2\", \"Topic2\", \"Topic2\", \"Topic2\", \"Topic2\", \"Topic2\", \"Topic2\", \"Topic2\", \"Topic2\", \"Topic2\", \"Topic2\", \"Topic2\", \"Topic2\", \"Topic2\", \"Topic2\", \"Topic2\", \"Topic2\", \"Topic2\", \"Topic2\", \"Topic2\", \"Topic2\", \"Topic2\", \"Topic2\", \"Topic2\", \"Topic2\", \"Topic2\", \"Topic2\", \"Topic2\", \"Topic2\", \"Topic2\", \"Topic2\", \"Topic3\", \"Topic3\", \"Topic3\", \"Topic3\", \"Topic3\", \"Topic3\", \"Topic3\", \"Topic3\", \"Topic3\", \"Topic3\", \"Topic3\", \"Topic3\", \"Topic3\", \"Topic3\", \"Topic3\", \"Topic3\", \"Topic3\", \"Topic3\", \"Topic3\", \"Topic3\", \"Topic3\", \"Topic3\", \"Topic3\", \"Topic3\", \"Topic3\", \"Topic3\", \"Topic3\", \"Topic3\", \"Topic3\", \"Topic3\", \"Topic3\", \"Topic3\", \"Topic3\", \"Topic3\", \"Topic3\", \"Topic3\", \"Topic3\", \"Topic3\", \"Topic3\", \"Topic3\", \"Topic3\", \"Topic3\", \"Topic3\", \"Topic3\", \"Topic3\", \"Topic3\", \"Topic3\", \"Topic3\", \"Topic3\", \"Topic3\", \"Topic3\", \"Topic3\", \"Topic3\", \"Topic3\", \"Topic3\", \"Topic3\", \"Topic3\", \"Topic3\", \"Topic3\", \"Topic3\", \"Topic3\", \"Topic3\", \"Topic4\", \"Topic4\", \"Topic4\", \"Topic4\", \"Topic4\", \"Topic4\", \"Topic4\", \"Topic4\", \"Topic4\", \"Topic4\", \"Topic4\", \"Topic4\", \"Topic4\", \"Topic4\", \"Topic4\", \"Topic4\", \"Topic4\", \"Topic4\", \"Topic4\", \"Topic4\", \"Topic4\", \"Topic4\", \"Topic4\", \"Topic4\", \"Topic4\", \"Topic4\", \"Topic4\", \"Topic4\", \"Topic4\", \"Topic4\", \"Topic4\", \"Topic4\", \"Topic4\", \"Topic4\", \"Topic4\", \"Topic4\", \"Topic4\", \"Topic4\", \"Topic4\", \"Topic4\", \"Topic4\", \"Topic4\", \"Topic4\", \"Topic4\", \"Topic4\", \"Topic4\", \"Topic4\", \"Topic4\", \"Topic4\", \"Topic4\", \"Topic4\", \"Topic4\", \"Topic4\", \"Topic4\", \"Topic4\", \"Topic4\", \"Topic4\", \"Topic4\", \"Topic4\", \"Topic4\", \"Topic4\", \"Topic4\", \"Topic4\", \"Topic4\", \"Topic4\", \"Topic4\", \"Topic4\", \"Topic4\", \"Topic5\", \"Topic5\", \"Topic5\", \"Topic5\", \"Topic5\", \"Topic5\", \"Topic5\", \"Topic5\", \"Topic5\", \"Topic5\", \"Topic5\", \"Topic5\", \"Topic5\", \"Topic5\", \"Topic5\", \"Topic5\", \"Topic5\", \"Topic5\", \"Topic5\", \"Topic5\", \"Topic5\", \"Topic5\", \"Topic5\", \"Topic5\", \"Topic5\", \"Topic5\", \"Topic5\", \"Topic5\", \"Topic5\", \"Topic5\", \"Topic5\", \"Topic5\", \"Topic5\", \"Topic5\", \"Topic5\", \"Topic5\", \"Topic5\", \"Topic5\", \"Topic5\", \"Topic5\", \"Topic5\", \"Topic5\", \"Topic5\", \"Topic5\", \"Topic5\", \"Topic5\", \"Topic5\", \"Topic5\", \"Topic5\", \"Topic5\", \"Topic5\", \"Topic5\", \"Topic5\", \"Topic5\", \"Topic5\", \"Topic5\", \"Topic5\", \"Topic5\", \"Topic5\", \"Topic5\", \"Topic6\", \"Topic6\", \"Topic6\", \"Topic6\", \"Topic6\", \"Topic6\", \"Topic6\", \"Topic6\", \"Topic6\", \"Topic6\", \"Topic6\", \"Topic6\", \"Topic6\", \"Topic6\", \"Topic6\", \"Topic6\", \"Topic6\", \"Topic6\", \"Topic6\", \"Topic6\", \"Topic6\", \"Topic6\", \"Topic6\", \"Topic6\", \"Topic6\", \"Topic6\", \"Topic6\", \"Topic6\", \"Topic6\", \"Topic6\", \"Topic6\", \"Topic6\", \"Topic6\", \"Topic6\", \"Topic6\", \"Topic6\", \"Topic6\", \"Topic6\", \"Topic6\", \"Topic6\", \"Topic6\", \"Topic6\", \"Topic6\", \"Topic6\", \"Topic6\", \"Topic6\", \"Topic6\", \"Topic6\", \"Topic6\", \"Topic6\", \"Topic6\", \"Topic6\", \"Topic6\", \"Topic6\", \"Topic6\", \"Topic6\", \"Topic7\", \"Topic7\", \"Topic7\", \"Topic7\", \"Topic7\", \"Topic7\", \"Topic7\", \"Topic7\", \"Topic7\", \"Topic7\", \"Topic7\", \"Topic7\", \"Topic7\", \"Topic7\", \"Topic7\", \"Topic7\", \"Topic7\", \"Topic7\", \"Topic7\", \"Topic7\", \"Topic7\", \"Topic7\", \"Topic7\", \"Topic7\", \"Topic7\", \"Topic7\", \"Topic7\", \"Topic7\", \"Topic7\", \"Topic7\", \"Topic7\", \"Topic7\", \"Topic7\", \"Topic7\", \"Topic7\", \"Topic7\", \"Topic7\", \"Topic7\", \"Topic7\", \"Topic7\", \"Topic7\", \"Topic7\", \"Topic7\", \"Topic7\", \"Topic7\", \"Topic7\", \"Topic7\", \"Topic7\", \"Topic7\", \"Topic7\", \"Topic7\"], \"Freq\": [25195.0, 25264.0, 12441.0, 11039.0, 16633.0, 9940.0, 13271.0, 6222.0, 6017.0, 10734.0, 7618.0, 7048.0, 7679.0, 14790.0, 7320.0, 9839.0, 9922.0, 3177.0, 14025.0, 5535.0, 9183.0, 12195.0, 6793.0, 7772.0, 9428.0, 18493.0, 5322.0, 12847.0, 4243.0, 6224.0, 9940.197265625, 7678.61376953125, 7319.6904296875, 3124.864501953125, 2359.3134765625, 1896.279541015625, 1735.7528076171875, 1632.544921875, 1477.3096923828125, 1397.4652099609375, 1385.9053955078125, 1357.1063232421875, 1308.826904296875, 1062.330078125, 1026.911376953125, 991.630615234375, 974.5217895507812, 925.3380126953125, 891.210693359375, 843.7080688476562, 816.8018188476562, 799.0311889648438, 756.4625244140625, 751.1389770507812, 725.6643676757812, 673.791015625, 658.35693359375, 618.7064208984375, 546.9295654296875, 545.647216796875, 3132.913330078125, 1758.1820068359375, 1000.8359985351562, 1760.897216796875, 1752.984130859375, 2786.638671875, 7552.71484375, 4363.10791015625, 10606.955078125, 6218.82958984375, 5380.06689453125, 3794.150390625, 4289.49853515625, 3943.901123046875, 9291.759765625, 1933.044677734375, 5941.4775390625, 7573.4873046875, 12192.8720703125, 4615.08984375, 4635.083984375, 5112.658203125, 3110.994140625, 3258.358642578125, 4392.1943359375, 5639.83837890625, 6892.220703125, 5788.1279296875, 5147.0673828125, 4453.2041015625, 5439.4296875, 5707.8701171875, 4453.27294921875, 4843.994140625, 4387.841796875, 4400.45703125, 4514.2490234375, 7047.609375, 5321.7080078125, 4618.50146484375, 4564.1162109375, 4524.93408203125, 4525.97607421875, 3259.20361328125, 2980.081298828125, 2785.385986328125, 2484.019287109375, 2359.813232421875, 1934.7586669921875, 1864.7874755859375, 1751.234130859375, 1745.3922119140625, 1640.35595703125, 1461.2352294921875, 1376.853271484375, 1343.63427734375, 1190.63134765625, 1159.64697265625, 1163.428466796875, 1135.76806640625, 1093.6512451171875, 1079.2955322265625, 1017.2285766601562, 979.0880737304688, 977.4296264648438, 921.53369140625, 879.3429565429688, 3723.921875, 6377.70166015625, 2235.993408203125, 2755.12060546875, 2184.743896484375, 10394.1474609375, 5921.18310546875, 3272.785888671875, 2340.893310546875, 4335.5439453125, 2222.37548828125, 2548.389892578125, 3482.759521484375, 4226.92919921875, 3356.268798828125, 4048.302978515625, 2337.499267578125, 4015.282470703125, 4813.9580078125, 2644.807373046875, 3399.2646484375, 3698.445556640625, 3626.731201171875, 3422.47705078125, 4083.3818359375, 3578.235107421875, 3215.797607421875, 3160.0146484375, 3164.654541015625, 2867.436279296875, 4282.89794921875, 3157.2646484375, 3142.05419921875, 2674.564453125, 2609.665283203125, 2238.663330078125, 2160.466796875, 1653.6685791015625, 1262.235107421875, 1203.6195068359375, 1149.6806640625, 1103.065185546875, 1070.277099609375, 1068.758056640625, 988.3112182617188, 974.4692993164062, 965.2547607421875, 903.1317138671875, 868.9925537109375, 873.0198974609375, 840.386962890625, 837.641845703125, 837.6171264648438, 791.2798461914062, 718.6052856445312, 708.9204711914062, 698.1557006835938, 702.3993530273438, 666.6121826171875, 645.4552001953125, 22703.396484375, 1150.5635986328125, 4423.11962890625, 1053.3612060546875, 2306.630126953125, 7777.73291015625, 6192.40478515625, 1784.6588134765625, 1854.856201171875, 12451.8701171875, 6548.8212890625, 1888.04833984375, 1873.742431640625, 6289.6748046875, 2927.86669921875, 2068.08740234375, 4338.1396484375, 1487.566650390625, 2529.578369140625, 3909.27197265625, 2647.412109375, 2950.3447265625, 1867.6361083984375, 3192.08251953125, 2520.7578125, 3284.47119140625, 2734.33154296875, 2095.39697265625, 2493.85595703125, 2487.063720703125, 2097.02783203125, 2090.255126953125, 2265.24169921875, 1461.856689453125, 1311.933837890625, 1204.62158203125, 1209.292724609375, 1014.6856079101562, 971.1088256835938, 952.3856811523438, 926.0051879882812, 925.15283203125, 784.7662963867188, 774.3379516601562, 775.8028564453125, 733.7276000976562, 778.1688842773438, 670.805419921875, 654.470947265625, 634.7282104492188, 631.5775756835938, 596.0673217773438, 588.1173706054688, 573.1930541992188, 571.5087280273438, 565.924560546875, 552.9698486328125, 549.1778564453125, 543.942626953125, 526.1254272460938, 515.4682006835938, 501.0902404785156, 910.7337036132812, 772.5055541992188, 1622.1451416015625, 1821.4560546875, 2475.14501953125, 6361.07470703125, 2363.7587890625, 3226.158935546875, 11288.3154296875, 3246.675537109375, 7351.1103515625, 6112.1103515625, 1150.1966552734375, 7896.716796875, 1576.1953125, 2143.77734375, 2297.46435546875, 5124.78125, 3085.5810546875, 2379.936279296875, 1490.0426025390625, 2324.774658203125, 5356.73681640625, 3039.238525390625, 4238.8154296875, 3698.8779296875, 3225.789306640625, 2844.69677734375, 4152.04248046875, 2121.963623046875, 3433.864013671875, 2413.691650390625, 2239.07421875, 2128.2099609375, 2213.2021484375, 2160.779296875, 2290.89599609375, 2135.671875, 6221.74853515625, 3029.874755859375, 2209.4130859375, 1734.5263671875, 1728.7998046875, 1526.725341796875, 1288.492431640625, 1267.83642578125, 1256.5335693359375, 1169.443603515625, 762.1365356445312, 754.74609375, 719.3428955078125, 712.8566284179688, 706.5441284179688, 680.4500122070312, 659.9163208007812, 654.70068359375, 637.4696655273438, 625.1032104492188, 607.82666015625, 597.8110961914062, 542.6224975585938, 495.6424255371094, 493.569091796875, 480.0472717285156, 477.31829833984375, 476.79278564453125, 466.0037536621094, 463.79498291015625, 5112.17431640625, 889.7694702148438, 555.96484375, 9382.025390625, 10239.650390625, 4168.17333984375, 1902.7547607421875, 4465.4287109375, 2964.409423828125, 2888.822509765625, 2578.187744140625, 4167.22705078125, 10818.80078125, 2139.9619140625, 6928.5, 2278.203857421875, 1784.138427734375, 4333.63525390625, 4642.908203125, 1994.852294921875, 2817.341064453125, 3427.9912109375, 3785.577880859375, 2902.215576171875, 2369.343017578125, 1992.5352783203125, 2143.96044921875, 2491.178466796875, 2101.488525390625, 1918.8260498046875, 3301.29150390625, 2018.76220703125, 1454.8095703125, 1372.5894775390625, 1191.26953125, 1179.7071533203125, 1059.017578125, 1003.2522583007812, 962.21044921875, 834.8726806640625, 774.865966796875, 748.1201171875, 747.5610961914062, 688.5238647460938, 654.8487548828125, 634.961181640625, 606.4848022460938, 578.2732543945312, 580.9603271484375, 524.1395874023438, 519.599853515625, 487.36260986328125, 453.3498229980469, 453.0010986328125, 453.8438415527344, 452.48724365234375, 446.7672119140625, 443.3377380371094, 438.3665771484375, 432.9381103515625, 1418.263671875, 1396.520263671875, 2390.37744140625, 2070.02001953125, 1743.296630859375, 847.4805908203125, 1531.4595947265625, 2961.08447265625, 1787.6094970703125, 2016.1646728515625, 1342.81982421875, 3415.052490234375, 1523.82275390625, 1397.291259765625, 1702.370361328125, 1930.955078125, 1321.247802734375, 1080.50634765625, 1631.347900390625, 1552.362060546875, 1234.0101318359375, 971.0089721679688, 1142.5799560546875, 1248.083251953125, 1256.098388671875, 1280.5369873046875, 3176.73583984375, 2055.849853515625, 1680.8194580078125, 1268.5679931640625, 1039.027099609375, 1000.1458129882812, 781.6687622070312, 780.9195556640625, 652.9617309570312, 610.5423583984375, 606.0410766601562, 514.0162963867188, 504.19549560546875, 488.04229736328125, 483.4024658203125, 482.0244445800781, 449.9427795410156, 439.3930969238281, 434.0314636230469, 425.2480773925781, 411.8612365722656, 388.27130126953125, 383.4660339355469, 375.3069152832031, 369.48583984375, 371.1289978027344, 369.4368896484375, 366.5748291015625, 360.0219421386719, 345.6998596191406, 735.1337280273438, 446.8350524902344, 1225.520751953125, 1080.347900390625, 568.4102783203125, 751.691650390625, 955.8505859375, 734.5751953125, 1551.6793212890625, 1278.465576171875, 704.5494384765625, 747.94091796875, 788.4852294921875, 720.671875, 640.78955078125, 828.6275634765625, 822.9119262695312, 681.99658203125, 725.6693725585938, 714.2744140625, 604.2235107421875], \"Term\": [\"project\", \"development\", \"software\", \"design\", \"management\", \"customer\", \"ensure\", \"developer\", \"test\", \"business\", \"manage\", \"bank\", \"sale\", \"report\", \"marketing\", \"program\", \"llc\", \"engineering\", \"develop\", \"web\", \"plan\", \"system\", \"datum\", \"implementation\", \"manager\", \"team\", \"indicate\", \"office\", \"engineer\", \"training\", \"customer\", \"sale\", \"marketing\", \"equipment\", \"personality\", \"photo\", \"brand\", \"thinking\", \"hotel\", \"concept\", \"phone\", \"welcome\", \"kindly_request\", \"advertising\", \"trade\", \"critical_think\", \"representation\", \"probation_period\", \"correspondence\", \"translate\", \"telecommunication\", \"guest\", \"outlook\", \"depth\", \"inquiry\", \"engagement\", \"translation\", \"category\", \"ltd\", \"editing\", \"companys\", \"engage\", \"discipline\", \"subject\", \"encourage\", \"presentation\", \"llc\", \"market\", \"communication\", \"send\", \"product\", \"look\", \"cvs\", \"organize\", \"term\", \"person\", \"email\", \"line\", \"ability\", \"interview\", \"contact\", \"list\", \"mail\", \"e\", \"computer\", \"duration\", \"service\", \"field\", \"apply\", \"write\", \"provide\", \"team\", \"degree\", \"information\", \"start\", \"office\", \"year\", \"bank\", \"indicate\", \"accounting\", \"finance\", \"account\", \"branch\", \"tax\", \"audit\", \"legislation\", \"risk\", \"regulation\", \"banking\", \"cash\", \"payment\", \"loan\", \"credit\", \"transaction\", \"statement\", \"months_probation\", \"automation\", \"food\", \"learning\", \"notified_interview\", \"investment\", \"resolve\", \"card\", \"converse\", \"data\", \"analyst\", \"sme\", \"analyze\", \"datum\", \"case\", \"economic\", \"draft\", \"report\", \"prepare\", \"review\", \"unit\", \"document\", \"law\", \"framework\", \"analysis\", \"perform\", \"control\", \"submit\", \"ask\", \"process\", \"year\", \"form\", \"list\", \"field\", \"office\", \"system\", \"ability\", \"provide\", \"degree\", \"information\", \"line\", \"service\", \"community\", \"stakeholder\", \"capacity\", \"health\", \"consultant\", \"evaluation\", \"adp\", \"donor\", \"child\", \"progress\", \"world_vision\", \"oversee\", \"grant\", \"efficiency\", \"guide\", \"advocacy\", \"collaboration\", \"input\", \"gender\", \"armenia\", \"proposal\", \"facilitate\", \"best_practice\", \"sponsorship\", \"beneficiary\", \"effectiveness\", \"child_protection\", \"impact\", \"governance\", \"context\", \"project\", \"guidance\", \"sector\", \"partnership\", \"coordinator\", \"program\", \"implementation\", \"fund\", \"coordination\", \"development\", \"activity\", \"government\", \"building\", \"support\", \"area\", \"country\", \"include\", \"assistance\", \"policy\", \"ensure\", \"staff\", \"education\", \"partner\", \"provide\", \"plan\", \"ability\", \"report\", \"implement\", \"management\", \"team\", \"develop\", \"communication\", \"procurement\", \"model\", \"recruitment\", \"personnel\", \"tourism\", \"transport\", \"supply\", \"supplier\", \"trend\", \"vehicle\", \"transportation\", \"coach\", \"possession\", \"compensation\", \"lot\", \"prioritize\", \"instruction\", \"price\", \"http_///\", \"administer\", \"vendor\", \"farmer\", \"hire\", \"actor\", \"rate\", \"complaint\", \"sphere\", \"purchase\", \"search\", \"consultancy\", \"growth\", \"generate\", \"delivery\", \"maintenance\", \"administration\", \"manage\", \"employee\", \"network\", \"management\", \"performance\", \"business\", \"plan\", \"achieve\", \"ensure\", \"leadership\", \"planning\", \"security\", \"manager\", \"operation\", \"identify\", \"change\", \"strategy\", \"develop\", \"quality\", \"system\", \"process\", \"maintain\", \"staff\", \"service\", \"coordinate\", \"support\", \"training\", \"control\", \"monitor\", \"requirement\", \"level\", \"information\", \"include\", \"developer\", \"testing\", \"java\", \"platform\", \"specification\", \"server\", \"sql\", \"javascript\", \"php\", \"hardware\", \"mysql\", \"linux\", \"troubleshoot\", \"administrator\", \"oop\", \"designer\", \"architecture\", \"object\", \"sql_server\", \"pattern\", \"html\", \"optimization\", \"mentor_graphic\", \"embed\", \"script\", \"interface\", \"android\", \"installation\", \"configuration\", \"optimize\", \"web\", \"feature\", \"joomag\", \"design\", \"software\", \"technology\", \"programming\", \"test\", \"engineer\", \"solution\", \"code\", \"application\", \"development\", \"science\", \"team\", \"database\", \"user\", \"system\", \"develop\", \"tool\", \"base\", \"term\", \"ability\", \"year\", \"llc\", \"use\", \"product\", \"project\", \"write\", \"requirement\", \"course\", \"student\", \"attachment\", \"attachments_follow\", \"school\", \"council_europe\", \"class\", \"labor\", \"awareness\", \"human_right\", \"volunteer\", \"shall\", \"negotiate\", \"organisation\", \"expect\", \"lawyer\", \"protection\", \"teach\", \"property\", \"osce\", \"publication\", \"story\", \"united_nation\", \"migration\", \"calculation\", \"power\", \"fee\", \"coe\", \"want\", \"journalism\", \"tumo\", \"ministry\", \"expert\", \"study\", \"month\", \"must\", \"content\", \"training\", \"medium\", \"material\", \"programme\", \"office\", \"applicant\", \"form\", \"level\", \"education\", \"take\", \"state\", \"business\", \"duration\", \"use\", \"people\", \"visit\", \"write\", \"information\", \"provide\", \"engineering\", \"construction\", \"safety\", \"store\", \"amd\", \"answer\", \"repair\", \"roam\", \"pass\", \"exam\", \"driver\", \"shift\", \"click\", \"zeppelin\", \"city\", \"protocol\", \"everyone\", \"bottle\", \"restaurant\", \"drawing\", \"operator\", \"car\", \"be\", \"questions_regard\", \"programmer\", \"kapan\", \"road\", \"embassy\", \"teacher\", \"confirmation_message\", \"prison\", \"telecom\", \"site\", \"register\", \"book\", \"care\", \"call\", \"availability\", \"test\", \"engineer\", \"method\", \"ask\", \"to/_criteria\", \"applicant\", \"accord\", \"start\", \"duration\", \"mail\", \"contact\", \"perform\", \"resume\"], \"Total\": [25195.0, 25264.0, 12441.0, 11039.0, 16633.0, 9940.0, 13271.0, 6222.0, 6017.0, 10734.0, 7618.0, 7048.0, 7679.0, 14790.0, 7320.0, 9839.0, 9922.0, 3177.0, 14025.0, 5535.0, 9183.0, 12195.0, 6793.0, 7772.0, 9428.0, 18493.0, 5322.0, 12847.0, 4243.0, 6224.0, 9940.953125, 7679.3681640625, 7320.4462890625, 3125.6240234375, 2360.068603515625, 1897.0355224609375, 1736.5084228515625, 1633.3031005859375, 1478.0684814453125, 1398.2242431640625, 1386.6639404296875, 1357.864013671875, 1309.583251953125, 1063.0845947265625, 1027.6700439453125, 992.4019165039062, 975.2809448242188, 926.1010131835938, 891.9679565429688, 844.4658813476562, 817.5588989257812, 799.7896118164062, 757.2193603515625, 751.9022216796875, 726.4306030273438, 674.55810546875, 659.1134033203125, 619.4652099609375, 547.6859741210938, 546.404541015625, 3188.333740234375, 1811.974609375, 1020.0878295898438, 1871.4412841796875, 1879.64990234375, 3175.65771484375, 9922.708984375, 5392.6103515625, 15001.2763671875, 8864.509765625, 7524.6787109375, 5001.94140625, 5796.6259765625, 5297.1533203125, 15888.7587890625, 2289.23291015625, 9538.5263671875, 13364.7783203125, 25421.841796875, 7230.36767578125, 7375.9814453125, 8512.541015625, 4423.9033203125, 4833.97607421875, 7664.7373046875, 11324.0322265625, 15508.2041015625, 11875.3681640625, 10543.486328125, 9949.51171875, 16130.4970703125, 18493.44921875, 10280.7255859375, 13172.5205078125, 10249.8828125, 12847.21875, 14958.4833984375, 7048.3564453125, 5322.4599609375, 4619.248046875, 4564.86376953125, 4525.68212890625, 4526.72509765625, 3259.950439453125, 2980.828369140625, 2786.133544921875, 2484.766845703125, 2360.5615234375, 1935.5050048828125, 1865.5350341796875, 1751.9815673828125, 1746.13916015625, 1641.1026611328125, 1461.982177734375, 1377.6015625, 1344.38330078125, 1191.3819580078125, 1160.4012451171875, 1164.190185546875, 1136.5281982421875, 1094.3990478515625, 1080.047607421875, 1017.9772338867188, 979.83447265625, 978.1798095703125, 922.2817993164062, 880.0932006835938, 3755.35595703125, 6793.9697265625, 2315.049072265625, 2944.62890625, 2378.923828125, 14790.9326171875, 8938.51171875, 4358.8134765625, 2850.708740234375, 6662.14599609375, 2743.89697265625, 3332.866943359375, 5363.81689453125, 7762.384765625, 5595.97265625, 9011.578125, 3086.045166015625, 9830.4462890625, 14958.4833984375, 4042.714599609375, 8512.541015625, 11875.3681640625, 12847.21875, 12195.7138671875, 25421.841796875, 16130.4970703125, 10280.7255859375, 13172.5205078125, 13364.7783203125, 15508.2041015625, 4283.6689453125, 3158.037109375, 3142.826416015625, 2675.337890625, 2610.4384765625, 2239.43603515625, 2161.23681640625, 1654.439208984375, 1263.0054931640625, 1204.39306640625, 1150.45068359375, 1103.84033203125, 1071.047607421875, 1069.5689697265625, 989.0919799804688, 975.2393188476562, 966.0274047851562, 903.908935546875, 869.7632446289062, 873.7958374023438, 841.1593627929688, 838.41455078125, 838.3961181640625, 792.0497436523438, 719.3764038085938, 709.6949462890625, 698.9256591796875, 703.1783447265625, 667.384521484375, 646.2266845703125, 25195.2421875, 1179.42578125, 5044.5048828125, 1086.149169921875, 2561.058349609375, 9839.8359375, 7772.849609375, 2080.305908203125, 2242.614990234375, 25264.837890625, 12056.4375, 2440.60546875, 2433.6669921875, 13000.2158203125, 4661.37451171875, 3050.07568359375, 10907.04296875, 1946.77978515625, 5126.6630859375, 13271.5830078125, 6472.23046875, 8970.599609375, 3698.06103515625, 16130.4970703125, 9183.755859375, 25421.841796875, 14790.9326171875, 5466.43994140625, 16633.576171875, 18493.44921875, 14025.2080078125, 15001.2763671875, 2266.011474609375, 1462.6279296875, 1312.7039794921875, 1205.3912353515625, 1210.0662841796875, 1015.4595336914062, 971.8795166015625, 953.15478515625, 926.7749633789062, 925.9234008789062, 785.5368041992188, 775.1080322265625, 776.5775756835938, 734.4972534179688, 778.9969482421875, 671.5761108398438, 655.2431030273438, 635.4971313476562, 632.3541259765625, 596.8385009765625, 588.8862915039062, 573.962890625, 572.279296875, 566.7006225585938, 553.7411499023438, 549.9487915039062, 544.7125244140625, 526.8948364257812, 516.2392578125, 501.862060546875, 929.3839721679688, 784.2662353515625, 1740.8775634765625, 1970.6893310546875, 2748.240966796875, 7618.40625, 2636.8056640625, 3987.35009765625, 16633.576171875, 4037.385009765625, 10734.935546875, 9183.755859375, 1287.7967529296875, 13271.5830078125, 1893.71435546875, 2927.269775390625, 3230.76416015625, 9428.634765625, 4800.1572265625, 3569.095947265625, 1919.517578125, 3749.81005859375, 14025.2080078125, 6305.326171875, 12195.7138671875, 9830.4462890625, 7972.21484375, 6472.23046875, 15508.2041015625, 4102.2900390625, 13000.2158203125, 6224.60009765625, 5595.97265625, 4879.4267578125, 6359.21630859375, 6548.1982421875, 13172.5205078125, 10907.04296875, 6222.529296875, 3030.6572265625, 2210.194091796875, 1735.31005859375, 1729.593017578125, 1527.5068359375, 1289.2740478515625, 1268.61767578125, 1257.3145751953125, 1170.225830078125, 762.9177856445312, 755.5271606445312, 720.1265869140625, 713.6438598632812, 707.324951171875, 681.232666015625, 660.7003173828125, 655.4832153320312, 638.2510986328125, 625.886474609375, 608.6083984375, 598.5966186523438, 543.4033813476562, 496.4240417480469, 494.3514099121094, 480.83074951171875, 478.099365234375, 477.58233642578125, 466.7869873046875, 464.5809326171875, 5535.9111328125, 911.9239501953125, 561.371826171875, 11039.7060546875, 12441.515625, 5262.052734375, 2212.90283203125, 6017.74755859375, 4243.513671875, 4126.64111328125, 3747.37158203125, 7207.306640625, 25264.837890625, 3372.841064453125, 18493.44921875, 3848.091552734375, 2801.39892578125, 12195.7138671875, 14025.2080078125, 3663.84765625, 7564.4072265625, 15888.7587890625, 25421.841796875, 14958.4833984375, 9922.708984375, 5714.9375, 7524.6787109375, 25195.2421875, 9949.51171875, 6359.21630859375, 3302.047119140625, 2019.5177001953125, 1455.5667724609375, 1373.3466796875, 1192.02734375, 1180.4625244140625, 1059.7734375, 1004.0132446289062, 962.9696655273438, 835.627685546875, 775.6263427734375, 748.875732421875, 748.321533203125, 689.2797241210938, 655.6089477539062, 635.7177734375, 607.2408447265625, 579.02880859375, 581.7232055664062, 524.8953247070312, 520.3578491210938, 488.1200866699219, 454.1064453125, 453.75994873046875, 454.60504150390625, 453.251220703125, 447.5241394042969, 444.09906005859375, 439.12188720703125, 433.6932067871094, 1424.03857421875, 1418.5772705078125, 2675.893798828125, 2726.053955078125, 2377.255615234375, 1005.9912109375, 2284.342041015625, 6224.60009765625, 3212.993408203125, 4066.47216796875, 2477.8310546875, 12847.21875, 4345.4296875, 4042.714599609375, 6548.1982421875, 8970.599609375, 3689.72509765625, 2573.719482421875, 10734.935546875, 11324.0322265625, 5714.9375, 2020.7755126953125, 5285.6650390625, 9949.51171875, 13172.5205078125, 16130.4970703125, 3177.482421875, 2056.593017578125, 1681.5628662109375, 1269.31298828125, 1039.7733154296875, 1000.892822265625, 782.4118041992188, 781.6630249023438, 653.70556640625, 611.2859497070312, 606.783935546875, 514.761474609375, 504.9389953613281, 488.78668212890625, 484.1467590332031, 482.7710876464844, 450.6855163574219, 440.1396484375, 434.7754211425781, 425.9946594238281, 412.60662841796875, 389.0151062011719, 384.220703125, 376.0507507324219, 370.2298583984375, 371.8765869140625, 370.181396484375, 367.31890869140625, 360.7685852050781, 346.4421081542969, 744.1102905273438, 486.94683837890625, 2114.161865234375, 2009.930908203125, 771.4635009765625, 1270.882080078125, 2155.87353515625, 1319.010498046875, 6017.74755859375, 4243.513671875, 1772.8175048828125, 3086.045166015625, 3948.8564453125, 4345.4296875, 2562.365234375, 10249.8828125, 11324.0322265625, 4423.9033203125, 7375.9814453125, 7762.384765625, 2518.4873046875], \"loglift\": [30.0, 29.0, 28.0, 27.0, 26.0, 25.0, 24.0, 23.0, 22.0, 21.0, 20.0, 19.0, 18.0, 17.0, 16.0, 15.0, 14.0, 13.0, 12.0, 11.0, 10.0, 9.0, 8.0, 7.0, 6.0, 5.0, 4.0, 3.0, 2.0, 1.0, 1.4498000144958496, 1.4498000144958496, 1.4498000144958496, 1.4496999979019165, 1.4495999813079834, 1.4494999647140503, 1.4494999647140503, 1.4493999481201172, 1.4493999481201172, 1.4493999481201172, 1.4493999481201172, 1.4493000507354736, 1.4493000507354736, 1.4492000341415405, 1.4492000341415405, 1.4491000175476074, 1.4491000175476074, 1.4491000175476074, 1.4491000175476074, 1.4490000009536743, 1.4490000009536743, 1.4490000009536743, 1.4488999843597412, 1.4488999843597412, 1.448799967765808, 1.448799967765808, 1.448799967765808, 1.448699951171875, 1.4485000371932983, 1.4485000371932983, 1.4323999881744385, 1.419800043106079, 1.430899977684021, 1.3890000581741333, 1.3801000118255615, 1.319200038909912, 1.1770000457763672, 1.2381000518798828, 1.1032999753952026, 1.0953999757766724, 1.114400029182434, 1.1734999418258667, 1.148800015449524, 1.1548999547958374, 0.9133999943733215, 1.2807999849319458, 0.9764999747276306, 0.8819000124931335, 0.7150999903678894, 1.0009000301361084, 0.9853000044822693, 0.9401000142097473, 1.0978000164031982, 1.0555000305175781, 0.8931000232696533, 0.7527999877929688, 0.6388999819755554, 0.7311999797821045, 0.7328000068664551, 0.6460000276565552, 0.3628999888896942, 0.2743000090122223, 0.6133000254631042, 0.4494999945163727, 0.6014999747276306, 0.3785000145435333, 0.25189998745918274, 1.607300043106079, 1.607200026512146, 1.607200026512146, 1.607200026512146, 1.607200026512146, 1.607200026512146, 1.607100009918213, 1.607100009918213, 1.607100009918213, 1.607100009918213, 1.607100009918213, 1.6069999933242798, 1.6069999933242798, 1.6068999767303467, 1.6068999767303467, 1.6068999767303467, 1.6068999767303467, 1.6067999601364136, 1.6067999601364136, 1.6066999435424805, 1.6066999435424805, 1.6066999435424805, 1.6066999435424805, 1.6066999435424805, 1.6066999435424805, 1.606600046157837, 1.606600046157837, 1.606600046157837, 1.606600046157837, 1.6065000295639038, 1.5989999771118164, 1.544100046157837, 1.57260000705719, 1.5408999919891357, 1.5221999883651733, 1.2546000480651855, 1.1955000162124634, 1.3207999467849731, 1.4103000164031982, 1.1778000593185425, 1.3966000080108643, 1.3389999866485596, 1.1755000352859497, 0.9995999932289124, 1.0961999893188477, 0.807200014591217, 1.3295999765396118, 0.7120000123977661, 0.47360000014305115, 1.1830999851226807, 0.6894000172615051, 0.4408000111579895, 0.3425999879837036, 0.3366999924182892, -0.22130000591278076, 0.1014999970793724, 0.44519999623298645, 0.17980000376701355, 0.16680000722408295, -0.08060000091791153, 1.8418999910354614, 1.8417999744415283, 1.8417999744415283, 1.8417999744415283, 1.8416999578475952, 1.8416999578475952, 1.8416999578475952, 1.841599941253662, 1.8414000272750854, 1.8414000272750854, 1.8414000272750854, 1.8413000106811523, 1.8413000106811523, 1.8413000106811523, 1.8413000106811523, 1.8411999940872192, 1.8411999940872192, 1.8411999940872192, 1.8411999940872192, 1.8411999940872192, 1.8410999774932861, 1.8410999774932861, 1.8410999774932861, 1.8410999774932861, 1.840999960899353, 1.84089994430542, 1.84089994430542, 1.84089994430542, 1.84089994430542, 1.8408000469207764, 1.7379000186920166, 1.8172999620437622, 1.7106000185012817, 1.811400055885315, 1.7374000549316406, 1.6068999767303467, 1.6146999597549438, 1.6887999773025513, 1.6521999835968018, 1.1345000267028809, 1.2316999435424805, 1.5852999687194824, 1.5806000232696533, 1.1160000562667847, 1.3769999742507935, 1.4535000324249268, 0.9200999736785889, 1.5729999542236328, 1.135599970817566, 0.6197999715805054, 0.9480999708175659, 0.7300000190734863, 1.1589000225067139, 0.22200000286102295, 0.5491999983787537, -0.20440000295639038, 0.15389999747276306, 0.8831999897956848, -0.05559999868273735, -0.16429999470710754, -0.05829999968409538, -0.12880000472068787, 1.9241000413894653, 1.9239000082015991, 1.9239000082015991, 1.923799991607666, 1.923799991607666, 1.923699975013733, 1.923699975013733, 1.923699975013733, 1.9235999584197998, 1.9235999584197998, 1.9234999418258667, 1.9234999418258667, 1.9234999418258667, 1.9234000444412231, 1.9234000444412231, 1.92330002784729, 1.92330002784729, 1.92330002784729, 1.923200011253357, 1.923200011253357, 1.923200011253357, 1.9230999946594238, 1.9230999946594238, 1.9230999946594238, 1.9230999946594238, 1.9230999946594238, 1.9230999946594238, 1.9229999780654907, 1.9229999780654907, 1.9228999614715576, 1.9041999578475952, 1.9093999862670898, 1.8538000583648682, 1.8457000255584717, 1.8198000192642212, 1.7440999746322632, 1.8151999711990356, 1.7125999927520752, 1.5368000268936157, 1.7065000534057617, 1.545799970626831, 1.517300009727478, 1.8114999532699585, 1.4053000211715698, 1.7409000396728516, 1.6130000352859497, 1.5836000442504883, 1.3148000240325928, 1.4825999736785889, 1.5191999673843384, 1.6712000370025635, 1.4464000463485718, 0.9620000123977661, 1.194700002670288, 0.8676999807357788, 0.9470000267028809, 1.019700050354004, 1.1023999452590942, 0.6067000031471252, 1.2653000354766846, 0.5932000279426575, 0.9771000146865845, 1.0084999799728394, 1.0946999788284302, 0.8690000176429749, 0.8158000111579895, 0.1753000020980835, 0.2937999963760376, 2.051800012588501, 2.0515999794006348, 2.051500082015991, 2.0513999462127686, 2.0513999462127686, 2.0513999462127686, 2.051300048828125, 2.051300048828125, 2.051300048828125, 2.0511999130249023, 2.0508999824523926, 2.050800085067749, 2.050800085067749, 2.050800085067749, 2.050800085067749, 2.0506999492645264, 2.0506999492645264, 2.0506999492645264, 2.0506999492645264, 2.050600051879883, 2.050600051879883, 2.050600051879883, 2.0504000186920166, 2.050299882888794, 2.050299882888794, 2.0501999855041504, 2.0501999855041504, 2.0501999855041504, 2.0501999855041504, 2.0501999855041504, 1.9722000360488892, 2.0272998809814453, 2.0422000885009766, 1.88919997215271, 1.857100009918213, 1.8187999725341797, 1.9009000062942505, 1.753499984741211, 1.6931999921798706, 1.6952999830245972, 1.677899956703186, 1.503999948501587, 1.2036999464035034, 1.5968999862670898, 1.070099949836731, 1.5276999473571777, 1.6007000207901, 1.017199993133545, 0.946399986743927, 1.4438999891281128, 1.0642000436782837, 0.5181999802589417, 0.14749999344348907, 0.4120999872684479, 0.619700014591217, 0.998199999332428, 0.7962999939918518, -0.2619999945163727, 0.4970000088214874, 0.8536999821662903, 2.41510009765625, 2.414900064468384, 2.414799928665161, 2.414799928665161, 2.4147000312805176, 2.4147000312805176, 2.414599895477295, 2.4144999980926514, 2.4144999980926514, 2.414400100708008, 2.414299964904785, 2.414299964904785, 2.414299964904785, 2.4142000675201416, 2.414099931716919, 2.414099931716919, 2.414099931716919, 2.4140000343322754, 2.4140000343322754, 2.4138998985290527, 2.413800001144409, 2.413800001144409, 2.413599967956543, 2.413599967956543, 2.413599967956543, 2.413599967956543, 2.413599967956543, 2.413599967956543, 2.413599967956543, 2.413599967956543, 2.4112000465393066, 2.399600028991699, 2.302500009536743, 2.140000104904175, 2.10509991645813, 2.243799924850464, 2.015399932861328, 1.6723999977111816, 1.8289999961853027, 1.7137000560760498, 1.8027000427246094, 1.090399980545044, 1.367400050163269, 1.3529000282287598, 1.0680999755859375, 0.8794000148773193, 1.3882999420166016, 1.5473999977111816, 0.5311999917030334, 0.42820000648498535, 0.8824999928474426, 1.6823999881744385, 0.8835999965667725, 0.3393999934196472, 0.06520000100135803, -0.11810000240802765, 3.1530001163482666, 3.152899980545044, 3.1528000831604004, 3.152600049972534, 3.1524999141693115, 3.1524999141693115, 3.1522998809814453, 3.1522998809814453, 3.152100086212158, 3.1519999504089355, 3.1519999504089355, 3.1517999172210693, 3.151700019836426, 3.151700019836426, 3.151700019836426, 3.151700019836426, 3.151599884033203, 3.1514999866485596, 3.1514999866485596, 3.1514999866485596, 3.151400089263916, 3.1512999534606934, 3.1512999534606934, 3.15120005607605, 3.15120005607605, 3.15120005607605, 3.15120005607605, 3.15120005607605, 3.151099920272827, 3.151099920272827, 3.1410999298095703, 3.0673000812530518, 2.6078999042510986, 2.532399892807007, 2.8478000164031982, 2.6280999183654785, 2.339900016784668, 2.5678999423980713, 1.7977999448776245, 1.9535000324249268, 2.2304999828338623, 1.7359000444412231, 1.542199969291687, 1.3565000295639038, 1.767199993133545, 0.6380000114440918, 0.5314000248908997, 1.2834999561309814, 0.8342999815940857, 0.7674000263214111, 1.7258000373840332], \"logprob\": [30.0, 29.0, 28.0, 27.0, 26.0, 25.0, 24.0, 23.0, 22.0, 21.0, 20.0, 19.0, 18.0, 17.0, 16.0, 15.0, 14.0, 13.0, 12.0, 11.0, 10.0, 9.0, 8.0, 7.0, 6.0, 5.0, 4.0, 3.0, 2.0, 1.0, -3.941499948501587, -4.199699878692627, -4.247600078582764, -5.098700046539307, -5.379799842834473, -5.598199844360352, -5.686699867248535, -5.748000144958496, -5.847899913787842, -5.903500080108643, -5.911799907684326, -5.932799816131592, -5.968999862670898, -6.177700042724609, -6.211599826812744, -6.246500015258789, -6.263899803161621, -6.315700054168701, -6.353300094604492, -6.408100128173828, -6.440499782562256, -6.462500095367432, -6.517199993133545, -6.5243000984191895, -6.558800220489502, -6.632999897003174, -6.656099796295166, -6.718200206756592, -6.841599941253662, -6.843900203704834, -5.096199989318848, -5.673799991607666, -6.237299919128418, -5.672299861907959, -5.676799774169922, -5.2133002281188965, -4.21619987487793, -4.764900207519531, -3.8766000270843506, -4.4105000495910645, -4.5553998947143555, -4.904699802398682, -4.7820000648498535, -4.866000175476074, -4.008999824523926, -5.578999996185303, -4.456200122833252, -4.213500022888184, -3.737299919128418, -4.708799839019775, -4.704500198364258, -4.606400012969971, -5.1031999588012695, -5.0569000244140625, -4.758299827575684, -4.508299827575684, -4.307700157165527, -4.4822998046875, -4.599699974060059, -4.744500160217285, -4.54449987411499, -4.496300220489502, -4.744500160217285, -4.660399913787842, -4.759300231933594, -4.756400108337402, -4.730899810791016, -4.127999782562256, -4.408899784088135, -4.550600051879883, -4.562399864196777, -4.571000099182129, -4.570799827575684, -4.899199962615967, -4.988699913024902, -5.056300163269043, -5.17080020904541, -5.222099781036377, -5.4207000732421875, -5.457499980926514, -5.520299911499023, -5.52370023727417, -5.585700035095215, -5.701399803161621, -5.760900020599365, -5.785299777984619, -5.906199932098389, -5.932499885559082, -5.929299831390381, -5.9532999992370605, -5.991099834442139, -6.004300117492676, -6.063600063323975, -6.101799964904785, -6.103499889373779, -6.162399768829346, -6.209199905395508, -4.765900135040283, -4.227799892425537, -5.276000022888184, -5.067200183868408, -5.299200057983398, -3.7393999099731445, -4.30210018157959, -4.894999980926514, -5.230100154876709, -4.613800048828125, -5.282100200653076, -5.145199775695801, -4.832799911499023, -4.639200210571289, -4.869800090789795, -4.682400226593018, -5.231599807739258, -4.690499782562256, -4.509099960327148, -5.108099937438965, -4.857100009918213, -4.77269983291626, -4.792300224304199, -4.850299835205078, -4.673699855804443, -4.805799961090088, -4.912600040435791, -4.930099964141846, -4.928599834442139, -5.027200222015381, -4.39139986038208, -4.696300029754639, -4.701099872589111, -4.862199783325195, -4.8867998123168945, -5.04010009765625, -5.075699806213379, -5.3429999351501465, -5.613100051879883, -5.660699844360352, -5.706500053405762, -5.747900009155273, -5.77810001373291, -5.7795000076293945, -5.857699871063232, -5.871799945831299, -5.881400108337402, -5.94789981842041, -5.986400127410889, -5.981800079345703, -6.019899845123291, -6.023200035095215, -6.023200035095215, -6.080100059509277, -6.176400184631348, -6.190000057220459, -6.2052998542785645, -6.19920015335083, -6.251500129699707, -6.28380012512207, -2.7235000133514404, -5.705699920654297, -4.359099864959717, -5.794000148773193, -5.010200023651123, -3.7946999073028564, -4.02269983291626, -5.2667999267578125, -5.2281999588012695, -3.3241000175476074, -3.9667000770568848, -5.210400104522705, -5.2179999351501465, -4.0071001052856445, -4.771699905395508, -5.1194000244140625, -4.378499984741211, -5.448800086975098, -4.917900085449219, -4.482600212097168, -4.872399806976318, -4.764100074768066, -5.22130012512207, -4.685299873352051, -4.92140007019043, -4.656799793243408, -4.840099811553955, -5.106200218200684, -4.932199954986572, -4.934899806976318, -5.105500221252441, -5.108699798583984, -4.945899963378906, -5.383800029754639, -5.492000102996826, -5.577400207519531, -5.573500156402588, -5.749000072479248, -5.792900085449219, -5.812300205230713, -5.840400218963623, -5.841300010681152, -6.005899906158447, -6.0192999839782715, -6.017399787902832, -6.073200225830078, -6.014400005340576, -6.162799835205078, -6.1875, -6.218100070953369, -6.223100185394287, -6.281000137329102, -6.294400215148926, -6.320099830627441, -6.322999954223633, -6.332799911499023, -6.355999946594238, -6.3628997802734375, -6.372499942779541, -6.405799865722656, -6.426199913024902, -6.454500198364258, -5.857100009918213, -6.021699905395508, -5.279799938201904, -5.163899898529053, -4.8572998046875, -3.9133999347686768, -4.903299808502197, -4.592299938201904, -3.3397998809814453, -4.585899829864502, -3.768699884414673, -3.9532999992370605, -5.623600006103516, -3.6970999240875244, -5.308499813079834, -5.000999927520752, -4.931700229644775, -4.129499912261963, -4.6367998123168945, -4.896500110626221, -5.364699840545654, -4.919899940490723, -4.08519983291626, -4.651899814605713, -4.319300174713135, -4.45550012588501, -4.592400074005127, -4.718100070953369, -4.340000152587891, -5.011199951171875, -4.529900074005127, -4.882400035858154, -4.957499980926514, -5.008299827575684, -4.969099998474121, -4.993100166320801, -4.934599876403809, -5.004799842834473, -3.8080999851226807, -4.527599811553955, -4.843400001525879, -5.085400104522705, -5.088699817657471, -5.2129998207092285, -5.382699966430664, -5.398799896240234, -5.407800197601318, -5.479599952697754, -5.907800197601318, -5.917500019073486, -5.96560001373291, -5.974599838256836, -5.983500003814697, -6.021200180053711, -6.051799774169922, -6.059700012207031, -6.086400032043457, -6.105999946594238, -6.133999824523926, -6.150599956512451, -6.247499942779541, -6.338099956512451, -6.342199802398682, -6.369999885559082, -6.375699996948242, -6.376800060272217, -6.399700164794922, -6.4045000076293945, -4.004499912261963, -5.752900123596191, -6.223199844360352, -3.39739990234375, -3.3099000453948975, -4.208700180053711, -4.992800235748291, -4.139800071716309, -4.549499988555908, -4.575300216674805, -4.6890997886657715, -4.208899974822998, -3.2548999786376953, -4.875400066375732, -3.700500011444092, -4.81279993057251, -5.057199954986572, -4.1697001457214355, -4.100800037384033, -4.9456000328063965, -4.600399971008301, -4.404200077056885, -4.304999828338623, -4.570700168609619, -4.773499965667725, -4.946700096130371, -4.873499870300293, -4.723400115966797, -4.893499851226807, -4.984399795532227, -4.078400135040283, -4.570199966430664, -4.897799968719482, -4.955999851226807, -5.097700119018555, -5.107500076293945, -5.215400218963623, -5.269499778747559, -5.311200141906738, -5.453199863433838, -5.5278000831604, -5.562900066375732, -5.563700199127197, -5.645899772644043, -5.696100234985352, -5.726900100708008, -5.772799968719482, -5.820400238037109, -5.815800189971924, -5.918700218200684, -5.9274001121521, -5.991499900817871, -6.063799858093262, -6.064599990844727, -6.062699794769287, -6.065700054168701, -6.078400135040283, -6.086100101470947, -6.097400188446045, -6.109899997711182, -4.923299789428711, -4.938700199127197, -4.401299953460693, -4.545199871063232, -4.716899871826172, -5.438199996948242, -4.846499919891357, -4.18720006942749, -4.691800117492676, -4.571499824523926, -4.978000164031982, -4.04449987411499, -4.851500034332275, -4.938199996948242, -4.740699768066406, -4.614699840545654, -4.994100093841553, -5.195300102233887, -4.783299922943115, -4.832900047302246, -5.0625, -5.30210018157959, -5.139400005340576, -5.05109977722168, -5.0447001457214355, -5.025400161743164, -3.378999948501587, -3.8141000270843506, -4.015500068664551, -4.296899795532227, -4.496500015258789, -4.5346999168396, -4.781099796295166, -4.782100200653076, -4.960999965667725, -5.028200149536133, -5.035600185394287, -5.200300216674805, -5.219600200653076, -5.252200126647949, -5.26170015335083, -5.264599800109863, -5.333399772644043, -5.3572001457214355, -5.3694000244140625, -5.389900207519531, -5.421899795532227, -5.480899810791016, -5.493299961090088, -5.514800071716309, -5.530399799346924, -5.526000022888184, -5.530600070953369, -5.538400173187256, -5.556399822235107, -5.5970001220703125, -4.84250020980835, -5.340400218963623, -4.331399917602539, -4.457499980926514, -5.099699974060059, -4.820199966430664, -4.579999923706055, -4.843299865722656, -4.0954999923706055, -4.289100170135498, -4.885000228881836, -4.825200080871582, -4.77239990234375, -4.862400054931641, -4.979899883270264, -4.722799777984619, -4.729700088500977, -4.917500019073486, -4.855500221252441, -4.871300220489502, -5.038599967956543]}, \"token.table\": {\"Topic\": [1, 2, 3, 4, 5, 1, 2, 3, 4, 5, 7, 2, 2, 3, 4, 1, 2, 3, 4, 4, 4, 3, 4, 5, 5, 3, 1, 3, 7, 2, 3, 4, 2, 2, 3, 5, 7, 1, 2, 6, 7, 1, 2, 3, 4, 5, 6, 1, 2, 3, 5, 6, 7, 5, 2, 3, 4, 5, 3, 2, 7, 1, 3, 6, 6, 2, 2, 2, 6, 7, 6, 2, 2, 1, 2, 3, 4, 5, 6, 7, 7, 3, 3, 2, 7, 7, 2, 1, 1, 3, 4, 1, 2, 4, 6, 6, 1, 7, 3, 7, 2, 3, 7, 2, 7, 2, 1, 2, 3, 4, 3, 3, 7, 6, 7, 4, 1, 2, 5, 6, 6, 3, 1, 2, 3, 5, 6, 3, 1, 2, 4, 4, 1, 2, 3, 5, 7, 1, 5, 7, 7, 4, 3, 1, 2, 5, 6, 7, 1, 5, 6, 3, 2, 4, 2, 1, 3, 4, 3, 4, 3, 6, 1, 6, 3, 6, 6, 2, 1, 1, 1, 2, 5, 2, 1, 2, 5, 6, 2, 3, 1, 2, 3, 4, 5, 6, 3, 4, 1, 3, 5, 5, 1, 3, 4, 5, 5, 2, 3, 4, 5, 1, 2, 1, 2, 3, 6, 3, 1, 2, 7, 7, 1, 2, 5, 6, 7, 1, 2, 5, 6, 7, 1, 2, 6, 1, 1, 2, 3, 6, 7, 3, 3, 1, 2, 5, 7, 5, 2, 4, 1, 3, 6, 1, 5, 1, 5, 7, 7, 2, 3, 4, 1, 3, 7, 7, 6, 5, 6, 3, 4, 1, 5, 6, 1, 2, 3, 5, 6, 2, 2, 2, 6, 2, 3, 6, 2, 3, 3, 4, 5, 3, 3, 6, 3, 3, 4, 1, 2, 3, 3, 5, 3, 4, 1, 5, 4, 6, 2, 3, 4, 3, 1, 2, 3, 4, 5, 2, 3, 4, 5, 1, 2, 3, 4, 5, 6, 2, 1, 2, 3, 4, 5, 6, 3, 1, 5, 4, 5, 1, 2, 6, 7, 2, 5, 5, 1, 5, 6, 7, 1, 6, 2, 6, 6, 3, 4, 2, 2, 1, 3, 4, 5, 6, 1, 2, 3, 4, 5, 5, 1, 2, 1, 5, 2, 1, 5, 4, 1, 1, 2, 5, 7, 1, 2, 3, 4, 5, 4, 5, 1, 3, 4, 2, 3, 4, 5, 1, 3, 4, 1, 4, 5, 1, 1, 3, 6, 1, 6, 5, 1, 2, 7, 6, 2, 6, 4, 2, 3, 4, 1, 2, 6, 2, 1, 3, 4, 6, 7, 5, 6, 3, 4, 5, 2, 5, 1, 2, 3, 6, 7, 5, 2, 4, 7, 5, 5, 6, 1, 2, 3, 4, 6, 1, 3, 1, 3, 3, 6, 7, 5, 2, 1, 3, 4, 6, 1, 2, 3, 5, 7, 4, 5, 1, 2, 1, 4, 1, 1, 5, 3, 4, 5, 6, 3, 4, 5, 2, 3, 4, 4, 6, 1, 2, 3, 6, 1, 4, 6, 4, 4, 3, 6, 7, 1, 1, 2, 3, 4, 5, 6, 4, 1, 5, 1, 2, 3, 5, 6, 3, 6, 7, 3, 5, 3, 3, 5, 6, 3, 6, 7, 1, 2, 3, 4, 5, 6, 7, 6, 4, 3, 4, 5, 7, 4, 4, 2, 6, 7, 2, 7, 1, 2, 3, 4, 1, 1, 2, 3, 4, 5, 6, 2, 7, 1, 2, 5, 7, 2, 3, 4, 2, 7, 7, 7, 1, 6, 3, 5, 6, 5, 4, 2, 3, 2, 4, 1, 2, 3, 5, 7, 5, 1, 2, 4, 5, 6, 7, 1, 3, 5, 6, 7, 2, 2, 5, 1, 2, 4, 5, 5, 4, 3, 5, 5, 1, 2, 3, 4, 3, 1, 2, 5, 6, 7, 2, 3, 6, 2, 7, 6, 1, 3, 4, 6, 1, 6, 1, 3, 1, 2, 3, 4, 6, 4, 4, 1, 2, 3, 4, 5, 2, 3, 4, 5, 1, 4, 5, 6, 2, 6, 7, 1, 2, 3, 4, 5, 4, 5, 1, 7, 1, 1, 2, 3, 5, 7, 5, 7, 5, 1, 1, 2, 7, 3, 4, 5, 4, 1, 3, 4, 6, 2, 1, 1, 4, 4, 4, 5, 4, 5, 6, 2, 3, 4, 6, 2, 3, 4, 5, 6, 7, 1, 2, 4, 5, 4, 4, 1, 2, 3, 5, 6, 7, 6, 6, 5, 6, 1, 3, 1, 2, 3, 5, 6, 1, 2, 3, 4, 5, 6, 7], \"Freq\": [0.47962692379951477, 0.1606099158525467, 0.12918025255203247, 0.08162272721529007, 0.14892704784870148, 0.030440624803304672, 0.3118212819099426, 0.049563582986593246, 0.24625685811042786, 0.1116156280040741, 0.25015950202941895, 0.999849259853363, 0.9999462962150574, 0.10638324916362762, 0.8929980397224426, 0.18488048017024994, 0.1253272444009781, 0.5431953072547913, 0.14664365351200104, 0.9987636804580688, 0.998595118522644, 0.09133114665746689, 0.9005760550498962, 0.00764125119894743, 0.9990977644920349, 0.9994277358055115, 0.9989797472953796, 0.9987292289733887, 0.9992562532424927, 0.6493510007858276, 0.11409785598516464, 0.2363988161087036, 0.9996944665908813, 0.9916503429412842, 0.008254876360297203, 0.997700572013855, 0.9991079568862915, 0.334604412317276, 0.14866194128990173, 0.350713312625885, 0.16592144966125488, 0.04287315905094147, 0.2081221342086792, 0.0105448542162776, 0.012626076117157936, 0.5781632661819458, 0.14748921990394592, 0.4881686866283417, 0.2515296936035156, 0.07473808526992798, 0.12538547813892365, 0.031678326427936554, 0.028548432514071465, 0.9989400506019592, 0.039473336189985275, 0.628140926361084, 0.3172883987426758, 0.015017029829323292, 0.999089241027832, 0.7572799324989319, 0.24238142371177673, 0.235773965716362, 0.7643391489982605, 0.9996106028556824, 0.9997475743293762, 0.9997221231460571, 0.9996793866157532, 0.4177373945713043, 0.025018755346536636, 0.5572358965873718, 0.9989930391311646, 0.9999494552612305, 0.9997391104698181, 0.28700199723243713, 0.0958435982465744, 0.14383149147033691, 0.05499439686536789, 0.3724019527435303, 0.030008960515260696, 0.015863768756389618, 0.9968228936195374, 0.9994767904281616, 0.9995275139808655, 0.26183998584747314, 0.7362629771232605, 0.9974107146263123, 0.9998398423194885, 0.9997072219848633, 0.15080124139785767, 0.7700313925743103, 0.07889328896999359, 0.07303257286548615, 0.09026602655649185, 0.6847735643386841, 0.15193384885787964, 0.9986690878868103, 0.5561550855636597, 0.4434397518634796, 0.999737024307251, 0.9973905682563782, 0.9990400075912476, 0.4083777666091919, 0.5917149782180786, 0.9658542275428772, 0.03369259089231491, 0.9997131824493408, 0.9992490410804749, 0.07085113227367401, 0.15264251828193665, 0.7762367129325867, 0.9992038607597351, 0.9986755847930908, 0.9976313710212708, 0.9992702007293701, 0.9981403946876526, 0.9985705018043518, 0.008806172758340836, 0.17292119562625885, 0.6879488825798035, 0.13022461533546448, 0.9975252151489258, 0.9989364743232727, 0.7070731520652771, 0.07086063921451569, 0.1393214762210846, 0.0696607381105423, 0.012998893857002258, 0.9998438358306885, 0.9826449155807495, 0.017250390723347664, 0.9993230104446411, 0.9982747435569763, 0.5730137825012207, 0.20639976859092712, 0.02739819884300232, 0.18617728352546692, 0.006914783734828234, 0.9991244077682495, 0.9983140230178833, 0.9987238645553589, 0.9997116327285767, 0.998282253742218, 0.999832034111023, 0.6283909678459167, 0.14126934111118317, 0.012879641726613045, 0.11903500556945801, 0.09842757880687714, 0.2775416374206543, 0.05165601149201393, 0.6702148914337158, 0.9981017708778381, 0.5997170209884644, 0.4001091718673706, 0.9991483688354492, 0.2001321166753769, 0.28228136897087097, 0.5172720551490784, 0.8271593451499939, 0.17256639897823334, 0.9007994532585144, 0.09917774796485901, 0.9989147782325745, 0.9996081590652466, 0.678015947341919, 0.32163137197494507, 0.9996829032897949, 0.999328076839447, 0.9995949864387512, 0.9999040961265564, 0.7399131655693054, 0.18769539892673492, 0.07228343188762665, 0.99879390001297, 0.22322753071784973, 0.17593136429786682, 0.5919817686080933, 0.00857567973434925, 0.9387736916542053, 0.061230771243572235, 0.4331406354904175, 0.31281837821006775, 0.07781551778316498, 0.019356610253453255, 0.11487516015768051, 0.04192310944199562, 0.06778190284967422, 0.9317139983177185, 0.9988000988960266, 0.15009456872940063, 0.8498414754867554, 0.9981905221939087, 0.13746677339076996, 0.1495164930820465, 0.3819551169872284, 0.33104678988456726, 0.9999149441719055, 0.024856681004166603, 0.49285888671875, 0.05406723916530609, 0.4282236099243164, 0.9812880754470825, 0.01862584799528122, 0.12113214284181595, 0.6508413553237915, 0.12278325855731964, 0.10537145286798477, 0.9997345209121704, 0.08154948055744171, 0.9184825420379639, 0.9976651072502136, 0.9987080693244934, 0.4980558156967163, 0.14023272693157196, 0.1518893539905548, 0.13705365359783173, 0.07267729192972183, 0.6739793419837952, 0.11274363100528717, 0.05937141552567482, 0.06433627009391785, 0.08957429230213165, 0.0577322319149971, 0.9356017708778381, 0.0064524258486926556, 0.9992596507072449, 0.30120617151260376, 0.15160636603832245, 0.3288520276546478, 0.21525874733924866, 0.0030098322313278913, 0.9990207552909851, 0.9994680285453796, 0.62284255027771, 0.2610466182231903, 0.11605565994977951, 0.9991317987442017, 0.9991458058357239, 0.10315512120723724, 0.8965393304824829, 0.9326204657554626, 0.017556460574269295, 0.04947729781270027, 0.9702122807502747, 0.029249858111143112, 0.9991726279258728, 0.6984778046607971, 0.30116552114486694, 0.9998481869697571, 0.11038623005151749, 0.29453909397125244, 0.5950307250022888, 0.9998003244400024, 0.9998052716255188, 0.9984789490699768, 0.9995322227478027, 0.9990711808204651, 0.10650646686553955, 0.8931595087051392, 0.9995055794715881, 0.9983223676681519, 0.024124817922711372, 0.9759585857391357, 0.9988288283348083, 0.48739540576934814, 0.3114008605480194, 0.1077861338853836, 0.07957647740840912, 0.013725889846682549, 0.9998107552528381, 0.999654233455658, 0.6542633771896362, 0.34555989503860474, 0.764506995677948, 0.08641208708286285, 0.14882081747055054, 0.14180606603622437, 0.8580468893051147, 0.9991224408149719, 0.9856346845626831, 0.014025849290192127, 0.9994238615036011, 0.7735785245895386, 0.22617338597774506, 0.9990218877792358, 0.01936766691505909, 0.9802191853523254, 0.9990127086639404, 0.023740366101264954, 0.9758986234664917, 0.9988960027694702, 0.9989525079727173, 0.999873697757721, 0.9995119571685791, 0.9992771148681641, 0.9990003705024719, 0.9994400143623352, 0.9992488622665405, 0.11039210110902786, 0.22274547815322876, 0.6668355464935303, 0.9983242750167847, 0.033842865377664566, 0.18732483685016632, 0.38324761390686035, 0.26818186044692993, 0.12732236087322235, 0.035379558801651, 0.7966190576553345, 0.10999827086925507, 0.05789382383227348, 0.07316373288631439, 0.12148113548755646, 0.3977246582508087, 0.19583676755428314, 0.11955577880144119, 0.09223397821187973, 0.9999135732650757, 0.36773523688316345, 0.2398933470249176, 0.06300996243953705, 0.17392267286777496, 0.06012516841292381, 0.09535001218318939, 0.9989944100379944, 0.9994072318077087, 0.9987806677818298, 0.9981028437614441, 0.9982722401618958, 0.6382801532745361, 0.24825847148895264, 0.05131135880947113, 0.06196088716387749, 0.9996353983879089, 0.9994597434997559, 0.9995130896568298, 0.007125402335077524, 0.9904308915138245, 0.9984016418457031, 0.9976428151130676, 0.9995546340942383, 0.9989908337593079, 0.8097971677780151, 0.18987593054771423, 0.9988709092140198, 0.16739588975906372, 0.8322268724441528, 0.9989776611328125, 0.9995931386947632, 0.11117561906576157, 0.13683153688907623, 0.3300144374370575, 0.16202929615974426, 0.25991883873939514, 0.5666386485099792, 0.23681649565696716, 0.0347929447889328, 0.08634636551141739, 0.07534730434417725, 0.9993022680282593, 0.6006432175636292, 0.3992932438850403, 0.7611832618713379, 0.2387452870607376, 0.9993476271629333, 0.7585054636001587, 0.24130630493164062, 0.9987202286720276, 0.9987475275993347, 0.7032251358032227, 0.10465870797634125, 0.03774946928024292, 0.15416249632835388, 0.3655194938182831, 0.15541477501392365, 0.029351944103837013, 0.40465542674064636, 0.04515683650970459, 0.9240421652793884, 0.07560805976390839, 0.15738199651241302, 0.007613141089677811, 0.8349515199661255, 0.14687159657478333, 0.1499376893043518, 0.6786273717880249, 0.02452870085835457, 0.3666490614414215, 0.08972667157649994, 0.5435569286346436, 0.8090701103210449, 0.17319998145103455, 0.017616700381040573, 0.9999390244483948, 0.4303484559059143, 0.07377401739358902, 0.4957614243030548, 0.44351163506507874, 0.556490421295166, 0.9992576837539673, 0.13368549942970276, 0.4687453806400299, 0.39767205715179443, 0.9983252286911011, 0.014803564175963402, 0.9847894906997681, 0.9995706677436829, 0.28507447242736816, 0.27872127294540405, 0.4361168146133423, 0.14975251257419586, 0.11652091890573502, 0.7331984043121338, 0.9997149109840393, 0.05765457823872566, 0.007952355779707432, 0.02882728911936283, 0.8419556617736816, 0.06361884623765945, 0.9987969994544983, 0.9995703101158142, 0.09605376422405243, 0.8090586066246033, 0.09479980170726776, 0.9995352625846863, 0.999262809753418, 0.34248659014701843, 0.2823179066181183, 0.10375786572694778, 0.2658163011074066, 0.005526488181203604, 0.9995405673980713, 0.3570716381072998, 0.6428955793380737, 0.9985297918319702, 0.9990032911300659, 0.9987495541572571, 0.9995941519737244, 0.7445508241653442, 0.06777224689722061, 0.13837620615959167, 0.04927174746990204, 0.9982942938804626, 0.9983896613121033, 0.9992387294769287, 0.4948539137840271, 0.5051295757293701, 0.9694800972938538, 0.029461883008480072, 0.9989206790924072, 0.9985836744308472, 0.9994397163391113, 0.23109939694404602, 0.010886909440159798, 0.27712133526802063, 0.48050859570503235, 0.2777496874332428, 0.5445491671562195, 0.04032266139984131, 0.04521806165575981, 0.09198204427957535, 0.8042334318161011, 0.1956712007522583, 0.8443876504898071, 0.15551060438156128, 0.9995472431182861, 0.999675452709198, 0.9995211958885193, 0.999454140663147, 0.9997497797012329, 0.27450641989707947, 0.6655229330062866, 0.03179527074098587, 0.02809308096766472, 0.26748475432395935, 0.7324231266975403, 0.9998213052749634, 0.12932388484477997, 0.49349838495254517, 0.3770483732223511, 0.9992562532424927, 0.9972394704818726, 0.20663395524024963, 0.66241455078125, 0.046763937920331955, 0.08413033932447433, 0.8776134848594666, 0.01668945699930191, 0.10580485314130783, 0.9992177486419678, 0.9991421699523926, 0.0013438868336379528, 0.009407207369804382, 0.9877567887306213, 0.9988111257553101, 0.06754525750875473, 0.4084250032901764, 0.09684199094772339, 0.3762799799442291, 0.04679340124130249, 0.004068991169333458, 0.9995536208152771, 0.7149807214736938, 0.284929096698761, 0.0433950312435627, 0.05050897225737572, 0.7904603481292725, 0.07052963227033615, 0.04512270539999008, 0.4576583206653595, 0.542006254196167, 0.9966781139373779, 0.1396355926990509, 0.8599564433097839, 0.9996736645698547, 0.9010828137397766, 0.09886787086725235, 0.9987567663192749, 0.9986217021942139, 0.9979565739631653, 0.9984027743339539, 0.33718737959861755, 0.22181585431098938, 0.19788603484630585, 0.11406964063644409, 0.039056453853845596, 0.07941478490829468, 0.010539042763411999, 0.9993122816085815, 0.9983016848564148, 0.2808736562728882, 0.48197346925735474, 0.23694254457950592, 0.9972058534622192, 0.9986615777015686, 0.9994637370109558, 0.221400648355484, 0.2408042997121811, 0.5373318791389465, 0.9997621178627014, 0.9994736909866333, 0.049557387828826904, 0.7027278542518616, 0.18484297394752502, 0.06280875205993652, 0.9997119307518005, 0.029406139627099037, 0.2898155748844147, 0.018712997436523438, 0.34799885749816895, 0.3017667531967163, 0.012265662662684917, 0.9990300536155701, 0.9982165098190308, 0.4725058674812317, 0.04288288578391075, 0.24459126591682434, 0.239826500415802, 0.7508924007415771, 0.059649258852005005, 0.1892716884613037, 0.999691367149353, 0.9968085885047913, 0.9991517663002014, 0.9996652603149414, 0.9999520778656006, 0.9991381764411926, 0.20368584990501404, 0.6344799399375916, 0.16158483922481537, 0.9992891550064087, 0.9975994229316711, 0.12310425192117691, 0.8767956495285034, 0.2887861728668213, 0.71097731590271, 0.7015616297721863, 0.13649937510490417, 0.02989448979496956, 0.1045743077993393, 0.027525492012500763, 0.9996681809425354, 0.44440993666648865, 0.1848698854446411, 0.267729252576828, 0.1029132679104805, 0.9988306164741516, 0.9985207319259644, 0.06196308881044388, 0.07000409811735153, 0.04824607074260712, 0.24028433859348297, 0.5798988342285156, 0.9987578392028809, 0.1769077032804489, 0.823050856590271, 0.07924120128154755, 0.006785179488360882, 0.2139754742383957, 0.7000851035118103, 0.999657154083252, 0.9986919164657593, 0.9986746311187744, 0.9990118145942688, 0.9980397820472717, 0.1398281455039978, 0.011433461681008339, 0.40897801518440247, 0.43957024812698364, 0.9996715784072876, 0.4281024634838104, 0.23473438620567322, 0.16936779022216797, 0.08692782372236252, 0.08087897300720215, 0.5291951894760132, 0.05089909955859184, 0.4200146794319153, 0.9995633363723755, 0.9997534155845642, 0.9977052807807922, 0.17840903997421265, 0.20161020755767822, 0.6200314164161682, 0.999743640422821, 0.24027404189109802, 0.7593393325805664, 0.9409859776496887, 0.058778226375579834, 0.35254645347595215, 0.449199914932251, 0.013316202908754349, 0.06813456863164902, 0.11684967577457428, 0.9987884759902954, 0.9990950226783752, 0.15707431733608246, 0.00523068243637681, 0.48383811116218567, 0.2641494572162628, 0.08976773917675018, 0.28059038519859314, 0.01639920473098755, 0.3475811183452606, 0.35537075996398926, 0.4694116711616516, 0.10868018120527267, 0.06341935694217682, 0.35802125930786133, 0.9997084736824036, 0.9982232451438904, 0.997869610786438, 0.30864983797073364, 0.09300590306520462, 0.1344800442457199, 0.08922078460454941, 0.37461912631988525, 0.20771361887454987, 0.7920863032341003, 0.08214449137449265, 0.9179646968841553, 0.999316394329071, 0.5848159790039062, 0.16055376827716827, 0.020895276218652725, 0.21575002372264862, 0.018000148236751556, 0.7419719696044922, 0.2579038143157959, 0.9997831583023071, 0.9998144507408142, 0.452789306640625, 0.3474423587322235, 0.19955144822597504, 0.09088806062936783, 0.36437103152275085, 0.5445095300674438, 0.9991188049316406, 0.999347984790802, 0.13639430701732635, 0.38781607151031494, 0.4756931960582733, 0.9993281960487366, 0.999448299407959, 0.9983107447624207, 0.9995474815368652, 0.9993166327476501, 0.999163806438446, 0.9984355568885803, 0.001404456328600645, 0.0021066844929009676, 0.9957595467567444, 0.8211992979049683, 0.009822119027376175, 0.16908076405525208, 0.9975634813308716, 0.04741959273815155, 0.10393814742565155, 0.23569811880588531, 0.3487352132797241, 0.21592536568641663, 0.04846947267651558, 0.10851721465587616, 0.04711931571364403, 0.20739638805389404, 0.6368246674537659, 0.9990026950836182, 0.9984949827194214, 0.469004362821579, 0.1295958012342453, 0.01702718622982502, 0.14037968218326569, 0.21624526381492615, 0.027621878311038017, 0.999192476272583, 0.9974451661109924, 0.9234252572059631, 0.0764101892709732, 0.9993637204170227, 0.9996082782745361, 0.447559654712677, 0.07950139045715332, 0.1361875832080841, 0.2111661434173584, 0.1254332959651947, 0.30176857113838196, 0.3218240737915039, 0.10823290050029755, 0.04532545059919357, 0.194003626704216, 0.028813080862164497, 0.9983905553817749], \"Term\": [\"ability\", \"ability\", \"ability\", \"ability\", \"ability\", \"accord\", \"accord\", \"accord\", \"accord\", \"accord\", \"accord\", \"account\", \"accounting\", \"achieve\", \"achieve\", \"activity\", \"activity\", \"activity\", \"activity\", \"actor\", \"administer\", \"administration\", \"administration\", \"administration\", \"administrator\", \"adp\", \"advertising\", \"advocacy\", \"amd\", \"analysis\", \"analysis\", \"analysis\", \"analyst\", \"analyze\", \"analyze\", \"android\", \"answer\", \"applicant\", \"applicant\", \"applicant\", \"applicant\", \"application\", \"application\", \"application\", \"application\", \"application\", \"application\", \"apply\", \"apply\", \"apply\", \"apply\", \"apply\", \"apply\", \"architecture\", \"area\", \"area\", \"area\", \"area\", \"armenia\", \"ask\", \"ask\", \"assistance\", \"assistance\", \"attachment\", \"attachments_follow\", \"audit\", \"automation\", \"availability\", \"availability\", \"availability\", \"awareness\", \"bank\", \"banking\", \"base\", \"base\", \"base\", \"base\", \"base\", \"base\", \"base\", \"be\", \"beneficiary\", \"best_practice\", \"book\", \"book\", \"bottle\", \"branch\", \"brand\", \"building\", \"building\", \"building\", \"business\", \"business\", \"business\", \"business\", \"calculation\", \"call\", \"call\", \"capacity\", \"car\", \"card\", \"care\", \"care\", \"case\", \"case\", \"cash\", \"category\", \"change\", \"change\", \"change\", \"child\", \"child_protection\", \"city\", \"class\", \"click\", \"coach\", \"code\", \"code\", \"code\", \"code\", \"coe\", \"collaboration\", \"communication\", \"communication\", \"communication\", \"communication\", \"communication\", \"community\", \"companys\", \"companys\", \"compensation\", \"complaint\", \"computer\", \"computer\", \"computer\", \"computer\", \"computer\", \"concept\", \"configuration\", \"confirmation_message\", \"construction\", \"consultancy\", \"consultant\", \"contact\", \"contact\", \"contact\", \"contact\", \"contact\", \"content\", \"content\", \"content\", \"context\", \"control\", \"control\", \"converse\", \"coordinate\", \"coordinate\", \"coordinate\", \"coordination\", \"coordination\", \"coordinator\", \"coordinator\", \"correspondence\", \"council_europe\", \"country\", \"country\", \"course\", \"credit\", \"critical_think\", \"customer\", \"cvs\", \"cvs\", \"cvs\", \"data\", \"database\", \"database\", \"database\", \"database\", \"datum\", \"datum\", \"degree\", \"degree\", \"degree\", \"degree\", \"degree\", \"degree\", \"delivery\", \"delivery\", \"depth\", \"design\", \"design\", \"designer\", \"develop\", \"develop\", \"develop\", \"develop\", \"developer\", \"development\", \"development\", \"development\", \"development\", \"discipline\", \"discipline\", \"document\", \"document\", \"document\", \"document\", \"donor\", \"draft\", \"draft\", \"drawing\", \"driver\", \"duration\", \"duration\", \"duration\", \"duration\", \"duration\", \"e\", \"e\", \"e\", \"e\", \"e\", \"economic\", \"economic\", \"economic\", \"editing\", \"education\", \"education\", \"education\", \"education\", \"education\", \"effectiveness\", \"efficiency\", \"email\", \"email\", \"email\", \"embassy\", \"embed\", \"employee\", \"employee\", \"encourage\", \"encourage\", \"encourage\", \"engage\", \"engage\", \"engagement\", \"engineer\", \"engineer\", \"engineering\", \"ensure\", \"ensure\", \"ensure\", \"equipment\", \"evaluation\", \"everyone\", \"exam\", \"expect\", \"expert\", \"expert\", \"facilitate\", \"farmer\", \"feature\", \"feature\", \"fee\", \"field\", \"field\", \"field\", \"field\", \"field\", \"finance\", \"food\", \"form\", \"form\", \"framework\", \"framework\", \"framework\", \"fund\", \"fund\", \"gender\", \"generate\", \"generate\", \"governance\", \"government\", \"government\", \"grant\", \"growth\", \"growth\", \"guest\", \"guidance\", \"guidance\", \"guide\", \"hardware\", \"health\", \"hire\", \"hotel\", \"html\", \"http_///\", \"human_right\", \"identify\", \"identify\", \"identify\", \"impact\", \"implement\", \"implement\", \"implement\", \"implement\", \"implement\", \"implementation\", \"implementation\", \"implementation\", \"implementation\", \"include\", \"include\", \"include\", \"include\", \"include\", \"include\", \"indicate\", \"information\", \"information\", \"information\", \"information\", \"information\", \"information\", \"input\", \"inquiry\", \"installation\", \"instruction\", \"interface\", \"interview\", \"interview\", \"interview\", \"interview\", \"investment\", \"java\", \"javascript\", \"joomag\", \"joomag\", \"journalism\", \"kapan\", \"kindly_request\", \"labor\", \"law\", \"law\", \"lawyer\", \"leadership\", \"leadership\", \"learning\", \"legislation\", \"level\", \"level\", \"level\", \"level\", \"level\", \"line\", \"line\", \"line\", \"line\", \"line\", \"linux\", \"list\", \"list\", \"llc\", \"llc\", \"loan\", \"look\", \"look\", \"lot\", \"ltd\", \"mail\", \"mail\", \"mail\", \"mail\", \"maintain\", \"maintain\", \"maintain\", \"maintain\", \"maintain\", \"maintenance\", \"maintenance\", \"manage\", \"manage\", \"manage\", \"management\", \"management\", \"management\", \"management\", \"manager\", \"manager\", \"manager\", \"market\", \"market\", \"market\", \"marketing\", \"material\", \"material\", \"material\", \"medium\", \"medium\", \"mentor_graphic\", \"method\", \"method\", \"method\", \"migration\", \"ministry\", \"ministry\", \"model\", \"monitor\", \"monitor\", \"monitor\", \"month\", \"month\", \"month\", \"months_probation\", \"must\", \"must\", \"must\", \"must\", \"must\", \"mysql\", \"negotiate\", \"network\", \"network\", \"network\", \"notified_interview\", \"object\", \"office\", \"office\", \"office\", \"office\", \"office\", \"oop\", \"operation\", \"operation\", \"operator\", \"optimization\", \"optimize\", \"organisation\", \"organize\", \"organize\", \"organize\", \"organize\", \"osce\", \"outlook\", \"oversee\", \"partner\", \"partner\", \"partnership\", \"partnership\", \"pass\", \"pattern\", \"payment\", \"people\", \"people\", \"people\", \"people\", \"perform\", \"perform\", \"perform\", \"perform\", \"perform\", \"performance\", \"performance\", \"person\", \"person\", \"personality\", \"personnel\", \"phone\", \"photo\", \"php\", \"plan\", \"plan\", \"plan\", \"plan\", \"planning\", \"planning\", \"platform\", \"policy\", \"policy\", \"policy\", \"possession\", \"power\", \"prepare\", \"prepare\", \"prepare\", \"prepare\", \"presentation\", \"presentation\", \"presentation\", \"price\", \"prioritize\", \"prison\", \"prison\", \"prison\", \"probation_period\", \"process\", \"process\", \"process\", \"process\", \"process\", \"process\", \"procurement\", \"product\", \"product\", \"program\", \"program\", \"program\", \"program\", \"program\", \"programme\", \"programme\", \"programmer\", \"programming\", \"programming\", \"progress\", \"project\", \"project\", \"property\", \"proposal\", \"protection\", \"protocol\", \"provide\", \"provide\", \"provide\", \"provide\", \"provide\", \"provide\", \"provide\", \"publication\", \"purchase\", \"quality\", \"quality\", \"quality\", \"questions_regard\", \"rate\", \"recruitment\", \"register\", \"register\", \"register\", \"regulation\", \"repair\", \"report\", \"report\", \"report\", \"report\", \"representation\", \"requirement\", \"requirement\", \"requirement\", \"requirement\", \"requirement\", \"requirement\", \"resolve\", \"restaurant\", \"resume\", \"resume\", \"resume\", \"resume\", \"review\", \"review\", \"review\", \"risk\", \"road\", \"roam\", \"safety\", \"sale\", \"school\", \"science\", \"science\", \"science\", \"script\", \"search\", \"sector\", \"sector\", \"security\", \"security\", \"send\", \"send\", \"send\", \"send\", \"send\", \"server\", \"service\", \"service\", \"service\", \"service\", \"shall\", \"shift\", \"site\", \"site\", \"site\", \"site\", \"site\", \"sme\", \"software\", \"software\", \"solution\", \"solution\", \"solution\", \"solution\", \"specification\", \"sphere\", \"sponsorship\", \"sql\", \"sql_server\", \"staff\", \"staff\", \"staff\", \"staff\", \"stakeholder\", \"start\", \"start\", \"start\", \"start\", \"start\", \"state\", \"state\", \"state\", \"statement\", \"store\", \"story\", \"strategy\", \"strategy\", \"strategy\", \"student\", \"study\", \"study\", \"subject\", \"subject\", \"submit\", \"submit\", \"submit\", \"submit\", \"submit\", \"supplier\", \"supply\", \"support\", \"support\", \"support\", \"support\", \"support\", \"system\", \"system\", \"system\", \"system\", \"take\", \"take\", \"take\", \"take\", \"tax\", \"teach\", \"teacher\", \"team\", \"team\", \"team\", \"team\", \"team\", \"technology\", \"technology\", \"telecom\", \"telecom\", \"telecommunication\", \"term\", \"term\", \"term\", \"term\", \"term\", \"test\", \"test\", \"testing\", \"thinking\", \"to/_criteria\", \"to/_criteria\", \"to/_criteria\", \"tool\", \"tool\", \"tool\", \"tourism\", \"trade\", \"training\", \"training\", \"training\", \"transaction\", \"translate\", \"translation\", \"transport\", \"transportation\", \"trend\", \"troubleshoot\", \"tumo\", \"tumo\", \"tumo\", \"unit\", \"unit\", \"unit\", \"united_nation\", \"use\", \"use\", \"use\", \"use\", \"use\", \"use\", \"user\", \"user\", \"user\", \"user\", \"vehicle\", \"vendor\", \"visit\", \"visit\", \"visit\", \"visit\", \"visit\", \"visit\", \"volunteer\", \"want\", \"web\", \"web\", \"welcome\", \"world_vision\", \"write\", \"write\", \"write\", \"write\", \"write\", \"year\", \"year\", \"year\", \"year\", \"year\", \"year\", \"zeppelin\"]}, \"R\": 30, \"lambda.step\": 0.01, \"plot.opts\": {\"xlab\": \"PC1\", \"ylab\": \"PC2\"}, \"topic.order\": [1, 3, 2, 7, 4, 6, 5]};\n",
       "\n",
       "function LDAvis_load_lib(url, callback){\n",
       "  var s = document.createElement('script');\n",
       "  s.src = url;\n",
       "  s.async = true;\n",
       "  s.onreadystatechange = s.onload = callback;\n",
       "  s.onerror = function(){console.warn(\"failed to load library \" + url);};\n",
       "  document.getElementsByTagName(\"head\")[0].appendChild(s);\n",
       "}\n",
       "\n",
       "if(typeof(LDAvis) !== \"undefined\"){\n",
       "   // already loaded: just create the visualization\n",
       "   !function(LDAvis){\n",
       "       new LDAvis(\"#\" + \"ldavis_el256091133611918242998404393\", ldavis_el256091133611918242998404393_data);\n",
       "   }(LDAvis);\n",
       "}else if(typeof define === \"function\" && define.amd){\n",
       "   // require.js is available: use it to load d3/LDAvis\n",
       "   require.config({paths: {d3: \"https://cdnjs.cloudflare.com/ajax/libs/d3/3.5.5/d3.min\"}});\n",
       "   require([\"d3\"], function(d3){\n",
       "      window.d3 = d3;\n",
       "      LDAvis_load_lib(\"https://cdn.rawgit.com/bmabey/pyLDAvis/files/ldavis.v1.0.0.js\", function(){\n",
       "        new LDAvis(\"#\" + \"ldavis_el256091133611918242998404393\", ldavis_el256091133611918242998404393_data);\n",
       "      });\n",
       "    });\n",
       "}else{\n",
       "    // require.js not available: dynamically load d3 & LDAvis\n",
       "    LDAvis_load_lib(\"https://cdnjs.cloudflare.com/ajax/libs/d3/3.5.5/d3.min.js\", function(){\n",
       "         LDAvis_load_lib(\"https://cdn.rawgit.com/bmabey/pyLDAvis/files/ldavis.v1.0.0.js\", function(){\n",
       "                 new LDAvis(\"#\" + \"ldavis_el256091133611918242998404393\", ldavis_el256091133611918242998404393_data);\n",
       "            })\n",
       "         });\n",
       "}\n",
       "</script>"
      ],
      "text/plain": [
       "PreparedData(topic_coordinates=            Freq  cluster  topics         x         y\n",
       "topic                                                \n",
       "0      23.459295        1       1  0.017365 -0.038033\n",
       "2      20.041298        1       2  0.038491 -0.041641\n",
       "1      15.849380        1       3  0.184182 -0.005918\n",
       "6      14.595230        1       4  0.182432  0.092894\n",
       "3      12.849358        1       5  0.070454  0.188673\n",
       "5       8.934011        1       6 -0.081923 -0.326463\n",
       "4       4.271432        1       7 -0.411002  0.130489, topic_info=     Category          Freq                  Term         Total  loglift  \\\n",
       "term                                                                       \n",
       "278   Default  25195.000000               project  25195.000000  30.0000   \n",
       "64    Default  25264.000000           development  25264.000000  29.0000   \n",
       "170   Default  12441.000000              software  12441.000000  28.0000   \n",
       "61    Default  11039.000000                design  11039.000000  27.0000   \n",
       "113   Default  16633.000000            management  16633.000000  26.0000   \n",
       "657   Default   9940.000000              customer   9940.000000  25.0000   \n",
       "72    Default  13271.000000                ensure  13271.000000  24.0000   \n",
       "364   Default   6222.000000             developer   6222.000000  23.0000   \n",
       "1146  Default   6017.000000                  test   6017.000000  22.0000   \n",
       "29    Default  10734.000000              business  10734.000000  21.0000   \n",
       "112   Default   7618.000000                manage   7618.000000  20.0000   \n",
       "1278  Default   7048.000000                  bank   7048.000000  19.0000   \n",
       "897   Default   7679.000000                  sale   7679.000000  18.0000   \n",
       "154   Default  14790.000000                report  14790.000000  17.0000   \n",
       "826   Default   7320.000000             marketing   7320.000000  16.0000   \n",
       "240   Default   9839.000000               program   9839.000000  15.0000   \n",
       "661   Default   9922.000000                   llc   9922.000000  14.0000   \n",
       "1384  Default   3177.000000           engineering   3177.000000  13.0000   \n",
       "63    Default  14025.000000               develop  14025.000000  12.0000   \n",
       "712   Default   5535.000000                   web   5535.000000  11.0000   \n",
       "136   Default   9183.000000                  plan   9183.000000  10.0000   \n",
       "183   Default  12195.000000                system  12195.000000   9.0000   \n",
       "56    Default   6793.000000                 datum   6793.000000   8.0000   \n",
       "93    Default   7772.000000        implementation   7772.000000   7.0000   \n",
       "114   Default   9428.000000               manager   9428.000000   6.0000   \n",
       "185   Default  18493.000000                  team  18493.000000   5.0000   \n",
       "1440  Default   5322.000000              indicate   5322.000000   4.0000   \n",
       "124   Default  12847.000000                office  12847.000000   3.0000   \n",
       "1383  Default   4243.000000              engineer   4243.000000   2.0000   \n",
       "191   Default   6224.000000              training   6224.000000   1.0000   \n",
       "...       ...           ...                   ...           ...      ...   \n",
       "586    Topic7    388.271301                   car    389.015106   3.1513   \n",
       "3207   Topic7    383.466034                    be    384.220703   3.1513   \n",
       "8898   Topic7    375.306915      questions_regard    376.050751   3.1512   \n",
       "1145   Topic7    369.485840            programmer    370.229858   3.1512   \n",
       "5134   Topic7    371.128998                 kapan    371.876587   3.1512   \n",
       "1426   Topic7    369.436890                  road    370.181396   3.1512   \n",
       "510    Topic7    366.574829               embassy    367.318909   3.1512   \n",
       "1277   Topic7    360.021942               teacher    360.768585   3.1511   \n",
       "9365   Topic7    345.699860  confirmation_message    346.442108   3.1511   \n",
       "7131   Topic7    735.133728                prison    744.110291   3.1411   \n",
       "4690   Topic7    446.835052               telecom    486.946838   3.0673   \n",
       "705    Topic7   1225.520752                  site   2114.161865   2.6079   \n",
       "1249   Topic7   1080.347900              register   2009.930908   2.5324   \n",
       "1417   Topic7    568.410278                  book    771.463501   2.8478   \n",
       "1074   Topic7    751.691650                  care   1270.882080   2.6281   \n",
       "673    Topic7    955.850586                  call   2155.873535   2.3399   \n",
       "1429   Topic7    734.575195          availability   1319.010498   2.5679   \n",
       "1146   Topic7   1551.679321                  test   6017.747559   1.7978   \n",
       "1383   Topic7   1278.465576              engineer   4243.513672   1.9535   \n",
       "1352   Topic7    704.549438                method   1772.817505   2.2305   \n",
       "1140   Topic7    747.940918                   ask   3086.045166   1.7359   \n",
       "2614   Topic7    788.485229          to/_criteria   3948.856445   1.5422   \n",
       "200    Topic7    720.671875             applicant   4345.429688   1.3565   \n",
       "415    Topic7    640.789551                accord   2562.365234   1.7672   \n",
       "284    Topic7    828.627563                 start  10249.882812   0.6380   \n",
       "212    Topic7    822.911926              duration  11324.032227   0.5314   \n",
       "109    Topic7    681.996582                  mail   4423.903320   1.2835   \n",
       "263    Topic7    725.669373               contact   7375.981445   0.8343   \n",
       "133    Topic7    714.274414               perform   7762.384766   0.7674   \n",
       "160    Topic7    604.223511                resume   2518.487305   1.7258   \n",
       "\n",
       "      logprob  \n",
       "term           \n",
       "278   30.0000  \n",
       "64    29.0000  \n",
       "170   28.0000  \n",
       "61    27.0000  \n",
       "113   26.0000  \n",
       "657   25.0000  \n",
       "72    24.0000  \n",
       "364   23.0000  \n",
       "1146  22.0000  \n",
       "29    21.0000  \n",
       "112   20.0000  \n",
       "1278  19.0000  \n",
       "897   18.0000  \n",
       "154   17.0000  \n",
       "826   16.0000  \n",
       "240   15.0000  \n",
       "661   14.0000  \n",
       "1384  13.0000  \n",
       "63    12.0000  \n",
       "712   11.0000  \n",
       "136   10.0000  \n",
       "183    9.0000  \n",
       "56     8.0000  \n",
       "93     7.0000  \n",
       "114    6.0000  \n",
       "185    5.0000  \n",
       "1440   4.0000  \n",
       "124    3.0000  \n",
       "1383   2.0000  \n",
       "191    1.0000  \n",
       "...       ...  \n",
       "586   -5.4809  \n",
       "3207  -5.4933  \n",
       "8898  -5.5148  \n",
       "1145  -5.5304  \n",
       "5134  -5.5260  \n",
       "1426  -5.5306  \n",
       "510   -5.5384  \n",
       "1277  -5.5564  \n",
       "9365  -5.5970  \n",
       "7131  -4.8425  \n",
       "4690  -5.3404  \n",
       "705   -4.3314  \n",
       "1249  -4.4575  \n",
       "1417  -5.0997  \n",
       "1074  -4.8202  \n",
       "673   -4.5800  \n",
       "1429  -4.8433  \n",
       "1146  -4.0955  \n",
       "1383  -4.2891  \n",
       "1352  -4.8850  \n",
       "1140  -4.8252  \n",
       "2614  -4.7724  \n",
       "200   -4.8624  \n",
       "415   -4.9799  \n",
       "284   -4.7228  \n",
       "212   -4.7297  \n",
       "109   -4.9175  \n",
       "263   -4.8555  \n",
       "133   -4.8713  \n",
       "160   -5.0386  \n",
       "\n",
       "[454 rows x 6 columns], token_table=      Topic      Freq            Term\n",
       "term                                 \n",
       "0         1  0.479627         ability\n",
       "0         2  0.160610         ability\n",
       "0         3  0.129180         ability\n",
       "0         4  0.081623         ability\n",
       "0         5  0.148927         ability\n",
       "415       1  0.030441          accord\n",
       "415       2  0.311821          accord\n",
       "415       3  0.049564          accord\n",
       "415       4  0.246257          accord\n",
       "415       5  0.111616          accord\n",
       "415       7  0.250160          accord\n",
       "1         2  0.999849         account\n",
       "2         2  0.999946      accounting\n",
       "4         3  0.106383         achieve\n",
       "4         4  0.892998         achieve\n",
       "6         1  0.184880        activity\n",
       "6         2  0.125327        activity\n",
       "6         3  0.543195        activity\n",
       "6         4  0.146644        activity\n",
       "617       4  0.998764           actor\n",
       "199       4  0.998595      administer\n",
       "9         3  0.091331  administration\n",
       "9         4  0.900576  administration\n",
       "9         5  0.007641  administration\n",
       "667       5  0.999098   administrator\n",
       "1799      3  0.999428             adp\n",
       "1462      1  0.998980     advertising\n",
       "292       3  0.998729        advocacy\n",
       "1370      7  0.999256             amd\n",
       "11        2  0.649351        analysis\n",
       "...     ...       ...             ...\n",
       "613       1  0.108517            user\n",
       "613       2  0.047119            user\n",
       "613       4  0.207396            user\n",
       "613       5  0.636825            user\n",
       "806       4  0.999003         vehicle\n",
       "1720      4  0.998495          vendor\n",
       "711       1  0.469004           visit\n",
       "711       2  0.129596           visit\n",
       "711       3  0.017027           visit\n",
       "711       5  0.140380           visit\n",
       "711       6  0.216245           visit\n",
       "711       7  0.027622           visit\n",
       "1090      6  0.999192       volunteer\n",
       "2459      6  0.997445            want\n",
       "712       5  0.923425             web\n",
       "712       6  0.076410             web\n",
       "1507      1  0.999364         welcome\n",
       "1797      3  0.999608    world_vision\n",
       "256       1  0.447560           write\n",
       "256       2  0.079501           write\n",
       "256       3  0.136188           write\n",
       "256       5  0.211166           write\n",
       "256       6  0.125433           write\n",
       "198       1  0.301769            year\n",
       "198       2  0.321824            year\n",
       "198       3  0.108233            year\n",
       "198       4  0.045325            year\n",
       "198       5  0.194004            year\n",
       "198       6  0.028813            year\n",
       "6971      7  0.998391        zeppelin\n",
       "\n",
       "[732 rows x 3 columns], R=30, lambda_step=0.01, plot_opts={'xlab': 'PC1', 'ylab': 'PC2'}, topic_order=[1, 3, 2, 7, 4, 6, 5])"
      ]
     },
     "execution_count": 27,
     "metadata": {},
     "output_type": "execute_result"
    }
   ],
   "source": [
    "# Plotting tools\n",
    "import pyLDAvis\n",
    "import pyLDAvis.gensim  # don't skip this\n",
    "\n",
    "# Visualize the topics\n",
    "pyLDAvis.enable_notebook()\n",
    "vis = pyLDAvis.gensim.prepare(lda, dtm_train, dictionary)\n",
    "vis"
   ]
  },
  {
   "cell_type": "code",
   "execution_count": null,
   "metadata": {},
   "outputs": [],
   "source": []
  },
  {
   "cell_type": "code",
   "execution_count": null,
   "metadata": {},
   "outputs": [],
   "source": []
  },
  {
   "cell_type": "code",
   "execution_count": null,
   "metadata": {},
   "outputs": [],
   "source": []
  }
 ],
 "metadata": {
  "kernelspec": {
   "display_name": "Python [conda env:tensorflow]",
   "language": "python",
   "name": "conda-env-tensorflow-py"
  },
  "language_info": {
   "codemirror_mode": {
    "name": "ipython",
    "version": 3
   },
   "file_extension": ".py",
   "mimetype": "text/x-python",
   "name": "python",
   "nbconvert_exporter": "python",
   "pygments_lexer": "ipython3",
   "version": "3.6.6"
  }
 },
 "nbformat": 4,
 "nbformat_minor": 2
}
