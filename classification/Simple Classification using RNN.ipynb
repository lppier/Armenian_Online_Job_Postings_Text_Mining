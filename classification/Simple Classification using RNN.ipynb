{
 "cells": [
  {
   "cell_type": "markdown",
   "metadata": {},
   "source": [
    "# Simple Classification"
   ]
  },
  {
   "cell_type": "markdown",
   "metadata": {},
   "source": [
    "This section is inspired by this notebook: https://github.com/bentrevett/pytorch-sentiment-analysis/blob/master/1%20-%20Simple%20Sentiment%20Analysis.ipynb\n",
    "\n",
    "Basically we'll be building a machine learning model to detect IT job (i.e. detect if a job posting is an IT job or not) using PyTorch and TorchText. This will be done on job posting from Armenian Job posting https://www.kaggle.com/madhab/jobposts/home.\n",
    "\n",
    "In this first notebook, we'll start very simple to understand the general concepts whilst not really caring about good results. Further notebooks will build on this knowledge, to actually get good results.\n",
    "\n",
    "We'll be using a recurrent neural network (RNN) which reads a sequence of words, and for each word (sometimes called a step) will output a hidden state. We then use the hidden state for subsequent word in the sentence, until the final word has been fed into the RNN. This final hidden state will then be used to predict the sentiment of the sentence.\n",
    "\n",
    "![RNN Image](https://camo.githubusercontent.com/45a3950547d071988cea037b78c8183cdbed0b17/68747470733a2f2f692e696d6775722e636f6d2f566564593969472e706e67 \"RNN\")\n",
    "\n",
    "## Preparing Data\n",
    "\n",
    "One of the main concepts of TorchText is the Field. These define how your data should be processed. In our sentiment classification task we have to sources of data, the raw string of the review and the sentiment, either \"pos\" or \"neg\".\n",
    "\n",
    "We use the TEXT field to handle the review and the LABEL field to handle the sentiment.\n",
    "\n",
    "The parameters of a Field specify how the data should be processed.\n",
    "\n",
    "Our TEXT field has `tokenize='spacy'`, which defines that the \"tokenization\" (the act of splitting the string into discrete \"tokens\") should be done using the spaCy tokenizer. If no tokenize argument is passed, the default is simply splitting the string on spaces.\n",
    "\n",
    "LABEL is defined by a LabelField, a special subset of the Field class specifically for handling labels. We will explain the tensor_type argument later.\n",
    "\n",
    "For more on Fields, go [here](https://github.com/pytorch/text/blob/master/torchtext/data/field.py).\n",
    "\n",
    "We also set the random seeds for reproducibility."
   ]
  },
  {
   "cell_type": "code",
   "execution_count": 1,
   "metadata": {},
   "outputs": [],
   "source": [
    "import torch\n",
    "from torchtext import data\n",
    "\n",
    "SEED = 1234\n",
    "\n",
    "torch.manual_seed(SEED)\n",
    "torch.cuda.manual_seed(SEED)\n",
    "\n",
    "TEXT = data.Field(tokenize='spacy')\n",
    "LABEL = data.LabelField(tensor_type=torch.FloatTensor)"
   ]
  },
  {
   "cell_type": "code",
   "execution_count": 2,
   "metadata": {},
   "outputs": [
    {
     "data": {
      "text/html": [
       "<div>\n",
       "<style scoped>\n",
       "    .dataframe tbody tr th:only-of-type {\n",
       "        vertical-align: middle;\n",
       "    }\n",
       "\n",
       "    .dataframe tbody tr th {\n",
       "        vertical-align: top;\n",
       "    }\n",
       "\n",
       "    .dataframe thead th {\n",
       "        text-align: right;\n",
       "    }\n",
       "</style>\n",
       "<table border=\"1\" class=\"dataframe\">\n",
       "  <thead>\n",
       "    <tr style=\"text-align: right;\">\n",
       "      <th></th>\n",
       "      <th>jobpost</th>\n",
       "      <th>date</th>\n",
       "      <th>Title</th>\n",
       "      <th>Company</th>\n",
       "      <th>AnnouncementCode</th>\n",
       "      <th>Term</th>\n",
       "      <th>Eligibility</th>\n",
       "      <th>Audience</th>\n",
       "      <th>StartDate</th>\n",
       "      <th>Duration</th>\n",
       "      <th>...</th>\n",
       "      <th>Salary</th>\n",
       "      <th>ApplicationP</th>\n",
       "      <th>OpeningDate</th>\n",
       "      <th>Deadline</th>\n",
       "      <th>Notes</th>\n",
       "      <th>AboutC</th>\n",
       "      <th>Attach</th>\n",
       "      <th>Year</th>\n",
       "      <th>Month</th>\n",
       "      <th>IT</th>\n",
       "    </tr>\n",
       "  </thead>\n",
       "  <tbody>\n",
       "    <tr>\n",
       "      <th>0</th>\n",
       "      <td>AMERIA Investment Consulting Company\\nJOB TITL...</td>\n",
       "      <td>Jan 5, 2004</td>\n",
       "      <td>Chief Financial Officer</td>\n",
       "      <td>AMERIA Investment Consulting Company</td>\n",
       "      <td>NaN</td>\n",
       "      <td>NaN</td>\n",
       "      <td>NaN</td>\n",
       "      <td>NaN</td>\n",
       "      <td>NaN</td>\n",
       "      <td>NaN</td>\n",
       "      <td>...</td>\n",
       "      <td>NaN</td>\n",
       "      <td>To apply for this position, please submit a\\nc...</td>\n",
       "      <td>NaN</td>\n",
       "      <td>26 January 2004</td>\n",
       "      <td>NaN</td>\n",
       "      <td>NaN</td>\n",
       "      <td>NaN</td>\n",
       "      <td>2004</td>\n",
       "      <td>1</td>\n",
       "      <td>False</td>\n",
       "    </tr>\n",
       "    <tr>\n",
       "      <th>1</th>\n",
       "      <td>International Research &amp; Exchanges Board (IREX...</td>\n",
       "      <td>Jan 7, 2004</td>\n",
       "      <td>Full-time Community Connections Intern (paid i...</td>\n",
       "      <td>International Research &amp; Exchanges Board (IREX)</td>\n",
       "      <td>NaN</td>\n",
       "      <td>NaN</td>\n",
       "      <td>NaN</td>\n",
       "      <td>NaN</td>\n",
       "      <td>NaN</td>\n",
       "      <td>3 months</td>\n",
       "      <td>...</td>\n",
       "      <td>NaN</td>\n",
       "      <td>Please submit a cover letter and resume to:\\nI...</td>\n",
       "      <td>NaN</td>\n",
       "      <td>12 January 2004</td>\n",
       "      <td>NaN</td>\n",
       "      <td>The International Research &amp; Exchanges Board (...</td>\n",
       "      <td>NaN</td>\n",
       "      <td>2004</td>\n",
       "      <td>1</td>\n",
       "      <td>False</td>\n",
       "    </tr>\n",
       "    <tr>\n",
       "      <th>2</th>\n",
       "      <td>Caucasus Environmental NGO Network (CENN)\\nJOB...</td>\n",
       "      <td>Jan 7, 2004</td>\n",
       "      <td>Country Coordinator</td>\n",
       "      <td>Caucasus Environmental NGO Network (CENN)</td>\n",
       "      <td>NaN</td>\n",
       "      <td>NaN</td>\n",
       "      <td>NaN</td>\n",
       "      <td>NaN</td>\n",
       "      <td>NaN</td>\n",
       "      <td>Renewable annual contract\\nPOSITION</td>\n",
       "      <td>...</td>\n",
       "      <td>NaN</td>\n",
       "      <td>Please send resume or CV toursula.kazarian@......</td>\n",
       "      <td>NaN</td>\n",
       "      <td>20 January 2004\\nSTART DATE:  February 2004</td>\n",
       "      <td>NaN</td>\n",
       "      <td>The Caucasus Environmental NGO Network is a\\nn...</td>\n",
       "      <td>NaN</td>\n",
       "      <td>2004</td>\n",
       "      <td>1</td>\n",
       "      <td>False</td>\n",
       "    </tr>\n",
       "    <tr>\n",
       "      <th>3</th>\n",
       "      <td>Manoff Group\\nJOB TITLE:  BCC Specialist\\nPOSI...</td>\n",
       "      <td>Jan 7, 2004</td>\n",
       "      <td>BCC Specialist</td>\n",
       "      <td>Manoff Group</td>\n",
       "      <td>NaN</td>\n",
       "      <td>NaN</td>\n",
       "      <td>NaN</td>\n",
       "      <td>NaN</td>\n",
       "      <td>NaN</td>\n",
       "      <td>NaN</td>\n",
       "      <td>...</td>\n",
       "      <td>NaN</td>\n",
       "      <td>Please send cover letter and resume to Amy\\nPe...</td>\n",
       "      <td>NaN</td>\n",
       "      <td>23 January 2004\\nSTART DATE:  Immediate</td>\n",
       "      <td>NaN</td>\n",
       "      <td>NaN</td>\n",
       "      <td>NaN</td>\n",
       "      <td>2004</td>\n",
       "      <td>1</td>\n",
       "      <td>False</td>\n",
       "    </tr>\n",
       "    <tr>\n",
       "      <th>4</th>\n",
       "      <td>Yerevan Brandy Company\\nJOB TITLE:  Software D...</td>\n",
       "      <td>Jan 10, 2004</td>\n",
       "      <td>Software Developer</td>\n",
       "      <td>Yerevan Brandy Company</td>\n",
       "      <td>NaN</td>\n",
       "      <td>NaN</td>\n",
       "      <td>NaN</td>\n",
       "      <td>NaN</td>\n",
       "      <td>NaN</td>\n",
       "      <td>NaN</td>\n",
       "      <td>...</td>\n",
       "      <td>NaN</td>\n",
       "      <td>Successful candidates should submit\\n- CV; \\n-...</td>\n",
       "      <td>NaN</td>\n",
       "      <td>20 January 2004, 18:00</td>\n",
       "      <td>NaN</td>\n",
       "      <td>NaN</td>\n",
       "      <td>NaN</td>\n",
       "      <td>2004</td>\n",
       "      <td>1</td>\n",
       "      <td>True</td>\n",
       "    </tr>\n",
       "  </tbody>\n",
       "</table>\n",
       "<p>5 rows × 24 columns</p>\n",
       "</div>"
      ],
      "text/plain": [
       "                                             jobpost          date  \\\n",
       "0  AMERIA Investment Consulting Company\\nJOB TITL...   Jan 5, 2004   \n",
       "1  International Research & Exchanges Board (IREX...   Jan 7, 2004   \n",
       "2  Caucasus Environmental NGO Network (CENN)\\nJOB...   Jan 7, 2004   \n",
       "3  Manoff Group\\nJOB TITLE:  BCC Specialist\\nPOSI...   Jan 7, 2004   \n",
       "4  Yerevan Brandy Company\\nJOB TITLE:  Software D...  Jan 10, 2004   \n",
       "\n",
       "                                               Title  \\\n",
       "0                            Chief Financial Officer   \n",
       "1  Full-time Community Connections Intern (paid i...   \n",
       "2                                Country Coordinator   \n",
       "3                                     BCC Specialist   \n",
       "4                                 Software Developer   \n",
       "\n",
       "                                           Company AnnouncementCode Term  \\\n",
       "0             AMERIA Investment Consulting Company              NaN  NaN   \n",
       "1  International Research & Exchanges Board (IREX)              NaN  NaN   \n",
       "2        Caucasus Environmental NGO Network (CENN)              NaN  NaN   \n",
       "3                                     Manoff Group              NaN  NaN   \n",
       "4                           Yerevan Brandy Company              NaN  NaN   \n",
       "\n",
       "  Eligibility Audience StartDate                             Duration  ...    \\\n",
       "0         NaN      NaN       NaN                                  NaN  ...     \n",
       "1         NaN      NaN       NaN                             3 months  ...     \n",
       "2         NaN      NaN       NaN  Renewable annual contract\\nPOSITION  ...     \n",
       "3         NaN      NaN       NaN                                  NaN  ...     \n",
       "4         NaN      NaN       NaN                                  NaN  ...     \n",
       "\n",
       "  Salary                                       ApplicationP OpeningDate  \\\n",
       "0    NaN  To apply for this position, please submit a\\nc...         NaN   \n",
       "1    NaN  Please submit a cover letter and resume to:\\nI...         NaN   \n",
       "2    NaN  Please send resume or CV toursula.kazarian@......         NaN   \n",
       "3    NaN  Please send cover letter and resume to Amy\\nPe...         NaN   \n",
       "4    NaN  Successful candidates should submit\\n- CV; \\n-...         NaN   \n",
       "\n",
       "                                      Deadline Notes  \\\n",
       "0                              26 January 2004   NaN   \n",
       "1                              12 January 2004   NaN   \n",
       "2  20 January 2004\\nSTART DATE:  February 2004   NaN   \n",
       "3      23 January 2004\\nSTART DATE:  Immediate   NaN   \n",
       "4                       20 January 2004, 18:00   NaN   \n",
       "\n",
       "                                              AboutC Attach  Year Month     IT  \n",
       "0                                                NaN    NaN  2004     1  False  \n",
       "1  The International Research & Exchanges Board (...    NaN  2004     1  False  \n",
       "2  The Caucasus Environmental NGO Network is a\\nn...    NaN  2004     1  False  \n",
       "3                                                NaN    NaN  2004     1  False  \n",
       "4                                                NaN    NaN  2004     1   True  \n",
       "\n",
       "[5 rows x 24 columns]"
      ]
     },
     "execution_count": 2,
     "metadata": {},
     "output_type": "execute_result"
    }
   ],
   "source": [
    "import pandas as pd\n",
    "import numpy as np\n",
    "\n",
    "df = pd.read_csv('../data/data job posts.csv')\n",
    "\n",
    "df.head(5)"
   ]
  },
  {
   "cell_type": "code",
   "execution_count": 3,
   "metadata": {},
   "outputs": [],
   "source": [
    "df[['jobpost', 'IT']].to_csv('../data/data_jobpost_it.csv', index=False)"
   ]
  },
  {
   "cell_type": "code",
   "execution_count": 4,
   "metadata": {},
   "outputs": [],
   "source": [
    "pos = data.TabularDataset(\n",
    "    path='../data/data_jobpost_it.csv', format='csv', \n",
    "    fields=[\n",
    "        ('text', TEXT), \n",
    "        ('label', LABEL)\n",
    "    ]\n",
    ")"
   ]
  },
  {
   "cell_type": "code",
   "execution_count": 5,
   "metadata": {},
   "outputs": [],
   "source": [
    "train, test = pos.split()"
   ]
  },
  {
   "cell_type": "markdown",
   "metadata": {},
   "source": [
    "We can see how many examples are in each split by checking their length."
   ]
  },
  {
   "cell_type": "code",
   "execution_count": 11,
   "metadata": {},
   "outputs": [
    {
     "name": "stdout",
     "output_type": "stream",
     "text": [
      "len(train): 13301\n",
      "len(test): 5701\n"
     ]
    }
   ],
   "source": [
    "print('len(train):', len(train))\n",
    "print('len(test):', len(test))"
   ]
  },
  {
   "cell_type": "markdown",
   "metadata": {},
   "source": [
    "We can check the fields of the data, hoping that it they match the Fields given earlier."
   ]
  },
  {
   "cell_type": "code",
   "execution_count": 12,
   "metadata": {},
   "outputs": [
    {
     "name": "stdout",
     "output_type": "stream",
     "text": [
      "train.fields: {'text': <torchtext.data.field.Field object at 0x7f0454363940>, 'label': <torchtext.data.field.LabelField object at 0x7f0454363cc0>}\n"
     ]
    }
   ],
   "source": [
    "print('train.fields:', train.fields)"
   ]
  },
  {
   "cell_type": "markdown",
   "metadata": {},
   "source": [
    "We can also check an example."
   ]
  },
  {
   "cell_type": "code",
   "execution_count": 13,
   "metadata": {},
   "outputs": [
    {
     "name": "stdout",
     "output_type": "stream",
     "text": [
      "vars(train[0]): {'text': ['\"', 'ABM', 'Soft', 'Prof', '\"', 'Ltd.', '\\n', 'TITLE', ':', ' ', 'Administrative', 'Assistant', '\\n', 'START', 'DATE/', 'TIME', ':', ' ', 'As', 'soon', 'as', 'possible', '\\n', 'LOCATION', ':', ' ', 'Yerevan', ',', 'Armenia', '\\n', 'JOB', 'DESCRIPTION', ':', ' ', 'Under', 'the', 'direct', 'supervision', 'of', 'the', 'General', 'Director', '\\n', 'the', 'Administrative', 'Assistant', 'will', 'be', 'responsible', 'for', 'a', 'variety', 'of', 'tasks', '\\n', 'essential', 'to', 'maintaining', 'efficient', 'office', 'operation', '.', 'This', 'position', '\\n', 'requires', 'ability', 'to', 'plan', 'a', 'complex', 'range', 'of', 'duties', 'in', 'a', 'constructive', 'and', '\\n', 'autonomous', 'manner', '.', '\\n', 'JOB', 'RESPONSIBILITIES', ':', '\\n', '-', 'Manage', 'human', 'resource', 'issues', 'including', 'the', 'personnel', 'files', ';', '\\n', '-', 'Distribution', 'and', 'maintenance', 'of', 'office', 'correspondence', ',', 'register', '\\n', 'incoming', 'and', 'outgoing', 'correspondence', ';', '\\n', '-', 'Record', 'and', 'prepare', 'minutes', 'of', 'meetings', ';', '\\n', '-', 'Assist', 'the', 'General', 'Director', '.', '\\n', 'REQUIRED', 'QUALIFICATIONS', ':', '\\n', '-', 'Higher', 'education', ';', '\\n', '-', 'Extensive', 'secretarial', 'experience', ';', '\\n', '-', 'At', 'least', 'two', 'years', 'of', 'relevant', 'work', 'experience', 'in', 'a', '\\n', 'governmental', '/', 'non', '-', 'governmental', ',', 'scientific', '/', 'private', 'or', 'international', '\\n', 'organization', ';', '\\n', '-', 'Demonstrated', 'flexibility', 'and', 'ability', 'to', 'work', 'under', 'pressure', ';', '\\n', '-', 'Proven', 'experience', 'of', 'working', 'with', 'computers', '(', 'Microsoft', 'Office', ')', 'and', '\\n', 'office', 'equipment', ';', '\\n', '-', 'Good', 'interpersonal', 'and', 'communication', 'skills', '.', '\\n', 'REMUNERATION/', 'SALARY', ':', ' ', 'Competitive', '.', '\\n', 'APPLICATION', 'PROCEDURES', ':', ' ', 'Interested', 'applicants', 'should', 'mail', 'a', 'current', 'CV', '\\n', 'and', 'a', 'cover', 'letter', 'explaining', 'their', 'motivation', 'to', ':', 'info@', '....', '\\n', 'Only', 'shortlisted', 'candidates', 'will', 'be', 'interviewed', '.', '\\n', 'Please', 'clearly', 'mention', 'in', 'your', 'application', 'letter', 'that', 'you', 'learned', 'of', '\\n', 'this', 'job', 'opportunity', 'through', 'Career', 'Center', 'and', 'mention', 'the', 'URL', 'of', 'its', '\\n', 'website', '-', 'www.careercenter.am', ',', 'Thanks', '.', '\\n', 'OPENING', 'DATE', ':', ' ', '19', 'April', '2005', '\\n', 'APPLICATION', 'DEADLINE', ':', ' ', '29', 'April', '2005', '\\n', 'ABOUT', 'COMPANY', ':', ' ', 'ABM', 'Soft', 'Company', ',', 'established', 'in', '2002', ',', 'is', 'an', 'IT', 'company', '.', '\\n', '----------------------------------', '\\n', 'To', 'place', 'a', 'free', 'posting', 'for', 'job', 'or', 'other', 'career', '-', 'related', 'opportunities', '\\n', 'available', 'in', 'your', 'organization', ',', 'just', 'go', 'to', 'the', 'www.careercenter.am', '\\n', 'website', 'and', 'follow', 'the', '\"', 'Post', 'an', 'Announcement', '\"', 'link', '.'], 'label': 'False'}\n"
     ]
    }
   ],
   "source": [
    "print('vars(train[0]):', vars(train[0]))"
   ]
  },
  {
   "cell_type": "markdown",
   "metadata": {},
   "source": [
    "By default this splits 70/30, however by passing a split_ratio argument, we can change the ratio of the split, i.e. a split_ratio of 0.8 would mean 80% of the examples make up the training set and 20% make up the validation set.\n",
    "\n",
    "We also pass our random seed to the random_state argument, ensuring that we get the same train/validation split each time."
   ]
  },
  {
   "cell_type": "code",
   "execution_count": 14,
   "metadata": {},
   "outputs": [],
   "source": [
    "import random\n",
    "\n",
    "train, valid = train.split(random_state=random.seed(SEED))"
   ]
  },
  {
   "cell_type": "markdown",
   "metadata": {},
   "source": [
    "Again, we'll view how many examples are in each split."
   ]
  },
  {
   "cell_type": "code",
   "execution_count": 15,
   "metadata": {},
   "outputs": [
    {
     "name": "stdout",
     "output_type": "stream",
     "text": [
      "len(train): 9311\n",
      "len(valid): 3990\n",
      "len(test): 5701\n"
     ]
    }
   ],
   "source": [
    "print('len(train):', len(train))\n",
    "print('len(valid):', len(valid))\n",
    "print('len(test):', len(test))"
   ]
  },
  {
   "cell_type": "markdown",
   "metadata": {},
   "source": [
    "Next, we have to build a vocabulary. This is a effectively a look up table where every unique word in your dictionary (every word that occurs in all of your examples) has a corresponding index (an integer).\n",
    "\n",
    "![image](https://camo.githubusercontent.com/6bc54d31095cbf20e35cfb8c1d9ea5e63ece0886/68747470733a2f2f692e696d6775722e636f6d2f306f35476461722e706e67)\n",
    "\n",
    "We do this as our machine learning model cannot operate on strings, only numbers. Each index is used to construct a one-hot vector for each word. A one-hot vector is a vector where all of the elements are 0, except one, which is 1, and dimensionality is the total number of unique words in your vocabulary.\n",
    "\n",
    "The number of unique words in our training set is over 100,000, which means that our one-hot vectors will be 100,000 dimensions! This will make training slow and possibly won't fit onto your GPU (if you're using one).\n",
    "\n",
    "There are two ways effectively cut down our vocabulary, we can either only take the top $n$ most common words or ignore words that appear less than $n$ times. We'll do the former, only keeping the top 25,000 words.\n",
    "\n",
    "What do we do with words that appear in examples but we have cut from the vocabulary? We replace them with a special unknown or unk token. For example, if the sentence was \"This job requires working knowledge in Microsoft Office\" but the word \"Microsoft\" was not in the vocabulary, it would become \"This job requires working knowledge in unk Office\"."
   ]
  },
  {
   "cell_type": "code",
   "execution_count": 16,
   "metadata": {},
   "outputs": [],
   "source": [
    "TEXT.build_vocab(train, max_size=50000)\n",
    "LABEL.build_vocab(train)"
   ]
  },
  {
   "cell_type": "markdown",
   "metadata": {},
   "source": [
    "Why do we only build the vocabulary on the training set? When testing any machine learning system you do not want to look at the test set in any way. We do not include the validation set as we want it to reflect the test set as much as possible."
   ]
  },
  {
   "cell_type": "code",
   "execution_count": 17,
   "metadata": {},
   "outputs": [
    {
     "name": "stdout",
     "output_type": "stream",
     "text": [
      "len(TEXT.vocab): 36289\n",
      "len(LABEL.vocab): 2\n"
     ]
    }
   ],
   "source": [
    "print('len(TEXT.vocab):', len(TEXT.vocab))\n",
    "print('len(LABEL.vocab):', len(LABEL.vocab))"
   ]
  },
  {
   "cell_type": "markdown",
   "metadata": {},
   "source": [
    "When we feed sentences into our model, we feed a batch of them at a time, i.e. more than one at a time, and all sentences in the batch need to be the same size. Thus, to ensure each sentence in the batch is the same size, any shorter than the largest within the batch are padded.\n",
    "\n",
    "We can also view the most common words in the vocabulary."
   ]
  },
  {
   "cell_type": "code",
   "execution_count": 18,
   "metadata": {},
   "outputs": [
    {
     "name": "stdout",
     "output_type": "stream",
     "text": [
      "[('\\n', 469154), ('-', 191998), ('and', 162551), (',', 144212), ('the', 126690), (':', 124900), (';', 123858), ('of', 114486), ('.', 100359), (' ', 88728), ('in', 84847), ('to', 73783), ('for', 41844), ('a', 40590), ('with', 28964), ('\"', 28892), ('your', 25810), ('or', 23582), (')', 23286), ('is', 22172)]\n"
     ]
    }
   ],
   "source": [
    "print(TEXT.vocab.freqs.most_common(20))"
   ]
  },
  {
   "cell_type": "markdown",
   "metadata": {},
   "source": [
    "We can also see the vocabulary directly using either the stoi (string to int) or itos (int to string) method."
   ]
  },
  {
   "cell_type": "code",
   "execution_count": 19,
   "metadata": {},
   "outputs": [
    {
     "name": "stdout",
     "output_type": "stream",
     "text": [
      "['<unk>', '<pad>', '\\n', '-', 'and', ',', 'the', ':', ';', 'of']\n"
     ]
    }
   ],
   "source": [
    "print(TEXT.vocab.itos[:10])"
   ]
  },
  {
   "cell_type": "markdown",
   "metadata": {},
   "source": [
    "We can also check the labels, ensuring 0 is for False and 1 is for True."
   ]
  },
  {
   "cell_type": "code",
   "execution_count": 20,
   "metadata": {},
   "outputs": [
    {
     "name": "stdout",
     "output_type": "stream",
     "text": [
      "defaultdict(<function _default_unk_index at 0x7f04355e5b70>, {'False': 0, 'True': 1})\n"
     ]
    }
   ],
   "source": [
    "print(LABEL.vocab.stoi)"
   ]
  },
  {
   "cell_type": "markdown",
   "metadata": {},
   "source": [
    "The final step of preparing the data is creating the iterators.\n",
    "\n",
    "`BucketIterator` first sorts of the examples using the `sort_key`, here we use the length of the sentences, and then partitions them into buckets. When the iterator is called it returns a batch of examples from the same bucket. This will return a batch of examples where each example is a similar length, minimizing the amount of padding."
   ]
  },
  {
   "cell_type": "code",
   "execution_count": 21,
   "metadata": {},
   "outputs": [],
   "source": [
    "BATCH_SIZE = 64\n",
    "\n",
    "train_iterator, valid_iterator, test_iterator = data.BucketIterator.splits(\n",
    "    (train, valid, test), \n",
    "    batch_size=BATCH_SIZE, \n",
    "    sort_key=lambda x: len(x.text), \n",
    "    repeat=False)"
   ]
  },
  {
   "cell_type": "markdown",
   "metadata": {},
   "source": [
    "## Build the Model\n",
    "\n",
    "The next stage is building the model that we'll eventually train and evaluate.\n",
    "\n",
    "There is a small amount of boilerplate code when creating models in PyTorch, note how our RNN class is a sub-class of `nn.Module` and the use of `super`.\n",
    "\n",
    "Within the `__init__` we define the layers of the module. Our three layers are an *embedding* layer, our RNN, and a *linear* layer.\n",
    "\n",
    "The embedding layer is used to transform our sparse one-hot vector (sparse as most of the elements are 0) into a dense embedding vector (dense as the dimensionality is a lot smaller). This embedding layer is simply a single fully connected layer. The theory is that words that have similar impact on the sentiment are mapped close together in this dense vector space. For more information about word embeddings, see [here](https://monkeylearn.com/blog/word-embeddings-transform-text-numbers/).\n",
    "\n",
    "The RNN layer is our RNN which takes in our dense vector and the previous hidden state $h_{t-1}$, which it uses to calculate the next hidden state, $h_t$.\n",
    "\n",
    "Finally, the linear layer takes the final hidden state and feeds it through a fully connected layer, transforming it to the correct output dimension.\n",
    "\n",
    "![Image](https://camo.githubusercontent.com/32eb89dd587c125f8379b22e58a0954d42a2fcf8/68747470733a2f2f692e696d6775722e636f6d2f47496f76337a462e706e67)"
   ]
  },
  {
   "cell_type": "markdown",
   "metadata": {},
   "source": [
    "The forward method is called when we feed examples into our model.\n",
    "\n",
    "Each batch, x, is a tensor of size **_[sentence length, batch size]_**. That is a batch of sentences, each having each word converted into a one-hot vector.\n",
    "\n",
    "You may notice that this tensor should have another dimension due to the one-hot vectors, however PyTorch conveniently stores a one-hot vector as it's index value.\n",
    "\n",
    "The input batch is then passed through the embedding layer to get embedded, where now each one-hot vector is converted to a dense vector. embedded is a tensor of size **_[sentence length, batch size]_**.\n",
    "\n",
    "embedded is then fed into the RNN. In some frameworks you must feed the initial hidden state, $h_0$, into the RNN, however in PyTorch, if no initial hidden state is passed as an argument it defaults to a tensor of all zeros.\n",
    "\n",
    "The RNN returns 2 tensors, output of size **_[sentence length, batch size]_** and hidden of size **_[1, batch size, embedding dim]_**. output is the concatenation of the hidden state from every time step, whereas hidden is simply the final hidden state. We verify this using the assert statement. Note the squeeze method, which is used to remove a dimension of size 1.\n",
    "\n",
    "Finally, we feed the last hidden state, hidden, through the linear layer to produce a prediction."
   ]
  },
  {
   "cell_type": "code",
   "execution_count": 22,
   "metadata": {},
   "outputs": [],
   "source": [
    "import torch.nn as nn\n",
    "\n",
    "class RNN(nn.Module):\n",
    "    def __init__(self, input_dim, embedding_dim, hidden_dim, output_dim):\n",
    "        super().__init__()\n",
    "        \n",
    "        self.embedding = nn.Embedding(input_dim, embedding_dim)\n",
    "        self.rnn = nn.RNN(embedding_dim, hidden_dim)\n",
    "        self.fc = nn.Linear(hidden_dim, output_dim)\n",
    "        \n",
    "    def forward(self, x):\n",
    "\n",
    "        #x = [sent len, batch size]\n",
    "        \n",
    "        embedded = self.embedding(x)\n",
    "        \n",
    "        #embedded = [sent len, batch size, emb dim]\n",
    "        \n",
    "        output, hidden = self.rnn(embedded)\n",
    "        \n",
    "        #output = [sent len, batch size, hid dim]\n",
    "        #hidden = [1, batch size, hid dim]\n",
    "        \n",
    "        assert torch.equal(output[-1,:,:], hidden.squeeze(0))\n",
    "        \n",
    "        return self.fc(hidden.squeeze(0))"
   ]
  },
  {
   "cell_type": "markdown",
   "metadata": {},
   "source": [
    "We now create an instance of our RNN class.\n",
    "\n",
    "The input dimension is the dimension of the one-hot vectors, which is equal to the vocabulary size.\n",
    "\n",
    "The embedding dimension is the size of the dense word vectors, this is usually around the square root of the vocab size.\n",
    "\n",
    "The hidden dimension is the size of the hidden states, this is usually around 100-500 dimensions, but depends on the vocab size, embedding dimension and the complexity of the task.\n",
    "\n",
    "The output dimension is usually the number of classes, however in the case of only 2 classes the output value is between 0 and 1 and thus can be 1-dimensional, i.e. a single scalar."
   ]
  },
  {
   "cell_type": "code",
   "execution_count": 23,
   "metadata": {},
   "outputs": [],
   "source": [
    "INPUT_DIM = len(TEXT.vocab)\n",
    "EMBEDDING_DIM = 100\n",
    "HIDDEN_DIM = 256\n",
    "OUTPUT_DIM = 1\n",
    "\n",
    "model = RNN(INPUT_DIM, EMBEDDING_DIM, HIDDEN_DIM, OUTPUT_DIM)"
   ]
  },
  {
   "cell_type": "markdown",
   "metadata": {},
   "source": [
    "## Train the Model\n",
    "\n",
    "Now we'll set up the training and then train the model.\n",
    "\n",
    "First, we'll create an optimizer. This is the algorithm we use to update the parameters of the module. Here, we'll use stochastic gradient descent (SGD). The first argument is the parameters will be updated by the optimizer, the second is the learning rate, i.e. how much we'll change the parameters by when we do an update."
   ]
  },
  {
   "cell_type": "code",
   "execution_count": 24,
   "metadata": {},
   "outputs": [],
   "source": [
    "import torch.optim as optim\n",
    "\n",
    "optimizer = optim.SGD(model.parameters(), lr=1e-3)"
   ]
  },
  {
   "cell_type": "markdown",
   "metadata": {},
   "source": [
    "Next, we'll define our loss function. In PyTorch this is commonly called a criterion.\n",
    "\n",
    "The loss function here is binary cross entropy with logits.\n",
    "\n",
    "The prediction for each sentence is an unbound real number, as our labels are either 0 or 1, we want to restrict the number between 0 and 1, we do this using the sigmoid function, see [here](https://en.wikipedia.org/wiki/Sigmoid_function).\n",
    "\n",
    "We then calculate this bound scalar using binary cross entropy, see [here](https://rdipietro.github.io/friendly-intro-to-cross-entropy-loss/)."
   ]
  },
  {
   "cell_type": "code",
   "execution_count": 25,
   "metadata": {},
   "outputs": [],
   "source": [
    "criterion = nn.BCEWithLogitsLoss()"
   ]
  },
  {
   "cell_type": "markdown",
   "metadata": {},
   "source": [
    "PyTorch has excellent support for NVIDIA GPUs via CUDA. torch.cuda.is_available() returns True if PyTorch detects a GPU.\n",
    "\n",
    "Using .to, we can place the model and the criterion on the GPU."
   ]
  },
  {
   "cell_type": "code",
   "execution_count": 26,
   "metadata": {},
   "outputs": [],
   "source": [
    "device = torch.device('cuda' if torch.cuda.is_available() else 'cpu')\n",
    "\n",
    "model = model.to(device)\n",
    "criterion = criterion.to(device)"
   ]
  },
  {
   "cell_type": "markdown",
   "metadata": {},
   "source": [
    "Our criterion function calculates the loss, however we have to write our function to calculate the accuracy.\n",
    "\n",
    "This function first feeds the predictions through a sigmoid layer, squashing the values between 0 and 1, we then round them to the nearest integer. This rounds any value greater than 0.5 to 1 (a positive sentiment).\n",
    "\n",
    "We then calculate how many rounded predictions equal the actual labels and average it across the batch."
   ]
  },
  {
   "cell_type": "code",
   "execution_count": 27,
   "metadata": {},
   "outputs": [],
   "source": [
    "import torch.nn.functional as F\n",
    "\n",
    "def binary_accuracy(preds, y):\n",
    "    \"\"\"\n",
    "    Returns accuracy per batch, i.e. if you get 8/10 right, this returns 0.8, NOT 8\n",
    "    \"\"\"\n",
    "\n",
    "    #round predictions to the closest integer\n",
    "    rounded_preds = torch.round(F.sigmoid(preds))\n",
    "    correct = (rounded_preds == y).float() #convert into float for division \n",
    "    acc = correct.sum()/len(correct)\n",
    "    return acc"
   ]
  },
  {
   "cell_type": "markdown",
   "metadata": {},
   "source": [
    "The train function iterates over all examples, a batch at a time.\n",
    "\n",
    "`model.train()` is used to put the model in \"training mode\", which turns on dropout and batch normalization. Although we aren't using them in this model, it's good practice to include it.\n",
    "\n",
    "For each batch, we first zero the gradients. Each parameter in a model has a grad attribute which stores the gradient calculated by the criterion. PyTorch does not automatically remove (or zero) the gradients calculated from the last gradient calculation so they must be manually cleared.\n",
    "\n",
    "We then feed the batch of sentences, `batch.text`, into the model. Note, you do not need to do `model.forward(batch.text)`, simply calling the model works. The squeeze is needed as the predictions are initially size **_[batch size, 1]_**, and we need to remove the dimension of size 1.\n",
    "\n",
    "The loss and accuracy are then calculated using our predictions and the labels, `batch.label`.\n",
    "\n",
    "We calculate the gradient of each parameter with `loss.backward()`, and then update the parameters using the gradients and optimizer algorithm with `optimizer.step()`.\n",
    "\n",
    "The loss and accuracy is accumulated across the epoch, the `.item()` method is used to extract a scalar from a tensor which only contains a single value.\n",
    "\n",
    "Finally, we return the loss and accuracy, averaged across the epoch. The len of an iterator is the number of batches in the iterator.\n",
    "\n",
    "You may recall when initializing the `LABEL` field, we set `tensor_type=torch.FloatTensor`. This is because TorchText sets tensors to be `LongTensors` by default, however our criterion expects both inputs to be `FloatTensors`. As we have manually set the tensor_type to be `FloatTensors`, this conversion is done for us.\n",
    "\n",
    "Another method would be to do the conversion inside the train function by passing `batch.label.float()` instad of `batch.label` to the criterion."
   ]
  },
  {
   "cell_type": "code",
   "execution_count": 28,
   "metadata": {},
   "outputs": [],
   "source": [
    "def train(model, iterator, optimizer, criterion):\n",
    "    \n",
    "    epoch_loss = 0\n",
    "    epoch_acc = 0\n",
    "    \n",
    "    model.train()\n",
    "    \n",
    "    for batch in iterator:\n",
    "        \n",
    "        optimizer.zero_grad()\n",
    "        \n",
    "        predictions = model(batch.text).squeeze(1)\n",
    "        \n",
    "        loss = criterion(predictions, batch.label)\n",
    "        \n",
    "        acc = binary_accuracy(predictions, batch.label)\n",
    "        \n",
    "        loss.backward()\n",
    "        \n",
    "        optimizer.step()\n",
    "        \n",
    "        epoch_loss += loss.item()\n",
    "        epoch_acc += acc.item()\n",
    "        \n",
    "    return epoch_loss / len(iterator), epoch_acc / len(iterator)"
   ]
  },
  {
   "cell_type": "markdown",
   "metadata": {},
   "source": [
    "evaluate is similar to train, with a few modifications as you don't want to update the parameters when evaluating.\n",
    "\n",
    "`model.eval()` puts the model in \"evaluation mode\", this turns off _dropout_ and _batch normalization_. Again, we are not using them in this model, but it is good practice to include it.\n",
    "\n",
    "Inside the `no_grad()`, no gradients are calculated which speeds up computation.\n",
    "\n",
    "The rest of the function is the same as train, with the removal of `optimizer.zero_grad()`, `loss.backward()`, `optimizer.step()`."
   ]
  },
  {
   "cell_type": "code",
   "execution_count": 29,
   "metadata": {},
   "outputs": [],
   "source": [
    "def evaluate(model, iterator, criterion):\n",
    "    \n",
    "    epoch_loss = 0\n",
    "    epoch_acc = 0\n",
    "    \n",
    "    model.eval()\n",
    "    \n",
    "    with torch.no_grad():\n",
    "    \n",
    "        for batch in iterator:\n",
    "\n",
    "            predictions = model(batch.text).squeeze(1)\n",
    "            \n",
    "            loss = criterion(predictions, batch.label)\n",
    "            \n",
    "            acc = binary_accuracy(predictions, batch.label)\n",
    "\n",
    "            epoch_loss += loss.item()\n",
    "            epoch_acc += acc.item()\n",
    "        \n",
    "    return epoch_loss / len(iterator), epoch_acc / len(iterator)"
   ]
  },
  {
   "cell_type": "markdown",
   "metadata": {},
   "source": [
    "We then train the model through multiple epochs, an epoch being a complete pass through all examples in the split."
   ]
  },
  {
   "cell_type": "code",
   "execution_count": 30,
   "metadata": {},
   "outputs": [
    {
     "name": "stderr",
     "output_type": "stream",
     "text": [
      "/home/david/anaconda3/envs/machinelearning/lib/python3.6/site-packages/torch/nn/functional.py:1006: UserWarning: nn.functional.sigmoid is deprecated. Use torch.sigmoid instead.\n",
      "  warnings.warn(\"nn.functional.sigmoid is deprecated. Use torch.sigmoid instead.\")\n",
      "/home/david/anaconda3/envs/machinelearning/lib/python3.6/site-packages/torchtext/data/field.py:322: UserWarning: volatile was removed and now has no effect. Use `with torch.no_grad():` instead.\n",
      "  return Variable(arr, volatile=not train)\n"
     ]
    },
    {
     "name": "stdout",
     "output_type": "stream",
     "text": [
      "Epoch: 01, Train Loss: 0.539, Train Acc: 79.73%, Val. Loss: 0.494, Val. Acc: 81.57%\n",
      "Epoch: 02, Train Loss: 0.504, Train Acc: 80.10%, Val. Loss: 0.489, Val. Acc: 81.57%\n",
      "Epoch: 03, Train Loss: 0.503, Train Acc: 80.12%, Val. Loss: 0.487, Val. Acc: 81.57%\n",
      "Epoch: 04, Train Loss: 0.503, Train Acc: 80.08%, Val. Loss: 0.487, Val. Acc: 81.57%\n",
      "Epoch: 05, Train Loss: 0.502, Train Acc: 80.16%, Val. Loss: 0.486, Val. Acc: 81.57%\n"
     ]
    }
   ],
   "source": [
    "N_EPOCHS = 5\n",
    "\n",
    "for epoch in range(N_EPOCHS):\n",
    "\n",
    "    train_loss, train_acc = train(model, train_iterator, optimizer, criterion)\n",
    "    valid_loss, valid_acc = evaluate(model, valid_iterator, criterion)\n",
    "    \n",
    "    print(f'Epoch: {epoch+1:02}, Train Loss: {train_loss:.3f}, Train Acc: {train_acc*100:.2f}%, Val. Loss: {valid_loss:.3f}, Val. Acc: {valid_acc*100:.2f}%')"
   ]
  },
  {
   "cell_type": "markdown",
   "metadata": {},
   "source": [
    "You may have noticed the loss is not really decreasing and the accuracy is poor. This is due to several issues with the model which we'll improve in the next notebook.\n",
    "\n",
    "Finally, the metric you actually care about, the test loss and accuracy."
   ]
  },
  {
   "cell_type": "code",
   "execution_count": 31,
   "metadata": {},
   "outputs": [
    {
     "name": "stderr",
     "output_type": "stream",
     "text": [
      "/home/david/anaconda3/envs/machinelearning/lib/python3.6/site-packages/torchtext/data/field.py:322: UserWarning: volatile was removed and now has no effect. Use `with torch.no_grad():` instead.\n",
      "  return Variable(arr, volatile=not train)\n",
      "/home/david/anaconda3/envs/machinelearning/lib/python3.6/site-packages/torch/nn/functional.py:1006: UserWarning: nn.functional.sigmoid is deprecated. Use torch.sigmoid instead.\n",
      "  warnings.warn(\"nn.functional.sigmoid is deprecated. Use torch.sigmoid instead.\")\n"
     ]
    },
    {
     "name": "stdout",
     "output_type": "stream",
     "text": [
      "Test Loss: 0.514, Test Acc: 79.70%\n"
     ]
    }
   ],
   "source": [
    "test_loss, test_acc = evaluate(model, test_iterator, criterion)\n",
    "\n",
    "print(f'Test Loss: {test_loss:.3f}, Test Acc: {test_acc*100:.2f}%')"
   ]
  },
  {
   "cell_type": "markdown",
   "metadata": {},
   "source": [
    "## Next Steps\n",
    "\n",
    "In the next notebook, the improvements we will make are:\n",
    "\n",
    "* different optimizer\n",
    "* use pre-trained word embeddings\n",
    "* different RNN architecture\n",
    "* bidirectional RNN\n",
    "* multi-layer RNN\n",
    "* regularization\n",
    "\n",
    "This will allow us to achieve ~85% accuracy."
   ]
  }
 ],
 "metadata": {
  "kernelspec": {
   "display_name": "Python 3",
   "language": "python",
   "name": "python3"
  },
  "language_info": {
   "codemirror_mode": {
    "name": "ipython",
    "version": 3
   },
   "file_extension": ".py",
   "mimetype": "text/x-python",
   "name": "python",
   "nbconvert_exporter": "python",
   "pygments_lexer": "ipython3",
   "version": "3.6.6"
  }
 },
 "nbformat": 4,
 "nbformat_minor": 2
}
