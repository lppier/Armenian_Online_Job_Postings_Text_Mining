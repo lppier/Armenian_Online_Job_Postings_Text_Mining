{
 "cells": [
  {
   "cell_type": "markdown",
   "metadata": {},
   "source": [
    "# 0 - Doc2Vec with SVM for Binary Classification"
   ]
  },
  {
   "cell_type": "code",
   "execution_count": 1,
   "metadata": {},
   "outputs": [],
   "source": [
    "import gensim\n",
    "import os\n",
    "import collections\n",
    "import smart_open\n",
    "import random\n",
    "import pandas as pd\n",
    "import numpy as np\n",
    "from sklearn.model_selection import train_test_split\n",
    "\n",
    "RANDOM_STATE = 41"
   ]
  },
  {
   "cell_type": "code",
   "execution_count": 2,
   "metadata": {},
   "outputs": [
    {
     "data": {
      "text/html": [
       "<div>\n",
       "<style scoped>\n",
       "    .dataframe tbody tr th:only-of-type {\n",
       "        vertical-align: middle;\n",
       "    }\n",
       "\n",
       "    .dataframe tbody tr th {\n",
       "        vertical-align: top;\n",
       "    }\n",
       "\n",
       "    .dataframe thead th {\n",
       "        text-align: right;\n",
       "    }\n",
       "</style>\n",
       "<table border=\"1\" class=\"dataframe\">\n",
       "  <thead>\n",
       "    <tr style=\"text-align: right;\">\n",
       "      <th></th>\n",
       "      <th>text</th>\n",
       "      <th>label</th>\n",
       "    </tr>\n",
       "  </thead>\n",
       "  <tbody>\n",
       "    <tr>\n",
       "      <th>0</th>\n",
       "      <td>[ameria, investment, consulting, company, job,...</td>\n",
       "      <td>False</td>\n",
       "    </tr>\n",
       "    <tr>\n",
       "      <th>1</th>\n",
       "      <td>[international, research, exchanges, board, ir...</td>\n",
       "      <td>False</td>\n",
       "    </tr>\n",
       "    <tr>\n",
       "      <th>2</th>\n",
       "      <td>[caucasus, environmental, ngo, network, cenn, ...</td>\n",
       "      <td>False</td>\n",
       "    </tr>\n",
       "    <tr>\n",
       "      <th>3</th>\n",
       "      <td>[manoff, group, job, title, bcc, specialist, p...</td>\n",
       "      <td>False</td>\n",
       "    </tr>\n",
       "    <tr>\n",
       "      <th>4</th>\n",
       "      <td>[yerevan, brandy, company, job, title, softwar...</td>\n",
       "      <td>True</td>\n",
       "    </tr>\n",
       "  </tbody>\n",
       "</table>\n",
       "</div>"
      ],
      "text/plain": [
       "                                                text  label\n",
       "0  [ameria, investment, consulting, company, job,...  False\n",
       "1  [international, research, exchanges, board, ir...  False\n",
       "2  [caucasus, environmental, ngo, network, cenn, ...  False\n",
       "3  [manoff, group, job, title, bcc, specialist, p...  False\n",
       "4  [yerevan, brandy, company, job, title, softwar...   True"
      ]
     },
     "execution_count": 2,
     "metadata": {},
     "output_type": "execute_result"
    }
   ],
   "source": [
    "df = pd.read_csv('../data/data_jobposts_it.csv')\n",
    "\n",
    "df['text'] = df.jobpost.apply(gensim.utils.simple_preprocess)\n",
    "df[\"label\"] = df.IT\n",
    "df = df[[\"text\", \"label\"]]\n",
    "df.head(5)"
   ]
  },
  {
   "cell_type": "markdown",
   "metadata": {},
   "source": [
    "## Define a Function to Read and Preprocess Text"
   ]
  },
  {
   "cell_type": "code",
   "execution_count": 3,
   "metadata": {},
   "outputs": [],
   "source": [
    "train, test = train_test_split(df, test_size=0.30, random_state=RANDOM_STATE, stratify=df[\"label\"])"
   ]
  },
  {
   "cell_type": "code",
   "execution_count": 4,
   "metadata": {},
   "outputs": [],
   "source": [
    "def read_corpus(dataframe, tokens_only=False):\n",
    "    for i, row in enumerate(dataframe.iterrows()):\n",
    "        if tokens_only:\n",
    "            yield row[1]['text']\n",
    "        else:\n",
    "            # For training data, add tags\n",
    "            yield gensim.models.doc2vec.TaggedDocument(row[1]['text'], [row[1]['label']])"
   ]
  },
  {
   "cell_type": "code",
   "execution_count": 5,
   "metadata": {
    "scrolled": true
   },
   "outputs": [],
   "source": [
    "train_corpus = list(read_corpus(train))\n",
    "test_corpus = list(read_corpus(test, tokens_only=True))"
   ]
  },
  {
   "cell_type": "code",
   "execution_count": 6,
   "metadata": {
    "scrolled": true
   },
   "outputs": [
    {
     "data": {
      "text/plain": [
       "[TaggedDocument(words=['save', 'the', 'children', 'international', 'armenian', 'representative', 'office', 'title', 'driver', 'logistician', 'term', 'full', 'time', 'start', 'date', 'time', 'march', 'location', 'yerevan', 'armenia', 'job', 'description', 'the', 'driver', 'logistician', 'will', 'be', 'fully', 'responsible', 'for', 'the', 'maintenance', 'and', 'technical', 'oversight', 'of', 'the', 'representative', 'office', 'vehicle', 'fleet', 'transport', 'operations', 'and', 'reporting', 'this', 'includes', 'scheduling', 'of', 'vehicles', 'for', 'servicing', 'management', 'of', 'vehicle', 'fleet', 'and', 'coordination', 'of', 'vehicle', 'assignments', 'for', 'staff', 'transportation', 'and', 'supervision', 'of', 'drivers', 'the', 'incumbent', 'will', 'be', 'ultimately', 'responsible', 'for', 'ensuring', 'that', 'all', 'sci', 'personnel', 'and', 'property', 'are', 'transported', 'in', 'the', 'safest', 'manner', 'possible', 'and', 'in', 'strict', 'accordance', 'with', 'relevant', 'agency', 'and', 'donor', 'policy', 'and', 'procedures', 'and', 'local', 'traffic', 'regulations', 'the', 'driver', 'logistician', 'will', 'also', 'be', 'responsible', 'for', 'outsourcing', 'services', 'for', 'office', 'maintenance', 'and', 'repair', 'transportation', 'services', 'for', 'delivery', 'of', 'materials', 'to', 'the', 'projects', 'sites', 'and', 'logistical', 'support', 'to', 'the', 'sci', 'staff', 'job', 'overseeing', 'technical', 'conditions', 'and', 'coordination', 'of', 'routine', 'care', 'and', 'maintenance', 'of', 'office', 'vehicles', 'ensure', 'that', 'all', 'office', 'vehicles', 'are', 'in', 'good', 'operational', 'order', 'so', 'as', 'to', 'ensure', 'the', 'safety', 'of', 'sci', 'personnel', 'the', 'maximum', 'efficiency', 'of', 'the', 'transport', 'means', 'and', 'the', 'preparedness', 'of', 'the', 'office', 'to', 'respond', 'to', 'its', 'programmatic', 'and', 'administrative', 'needs', 'ensure', 'routine', 'planning', 'and', 'regular', 'rotation', 'of', 'vehicles', 'for', 'inspection', 'maintenance', 'and', 'repair', 'and', 'keep', 'detailed', 'records', 'oversee', 'the', 'scheduling', 'of', 'regular', 'service', 'and', 'repairs', 'of', 'vehicles', 'supervise', 'all', 'mechanical', 'work', 'and', 'maintain', 'detailed', 'service', 'records', 'for', 'all', 'vehicles', 'ensure', 'that', 'good', 'quality', 'services', 'and', 'materials', 'spare', 'parts', 'are', 'procured', 'at', 'reasonable', 'cost', 'where', 'requested', 'coordinate', 'with', 'procurement', 'in', 'the', 'identification', 'and', 'selection', 'of', 'appropriate', 'goods', 'and', 'services', 'necessary', 'for', 'the', 'maintenance', 'and', 'repair', 'of', 'sci', 'vehicles', 'obtain', 'proper', 'documents', 'from', 'service', 'providers', 'and', 'suppliers', 'and', 'ensure', 'the', 'timely', 'payment', 'for', 'services', 'materials', 'procured', 'management', 'of', 'vehicle', 'fleet', 'and', 'coordination', 'of', 'vehicle', 'assignments', 'for', 'staff', 'transportation', 'ensure', 'that', 'all', 'vehicles', 'are', 'properly', 'and', 'securely', 'stored', 'or', 'parked', 'in', 'designated', 'places', 'when', 'not', 'in', 'use', 'ensure', 'that', 'all', 'sci', 'vehicles', 'have', 'full', 'tank', 'of', 'diesel', 'petrol', 'at', 'the', 'end', 'of', 'each', 'working', 'day', 'oversee', 'and', 'coordinate', 'all', 'inter', 'office', 'transport', 'and', 'logistics', 'to', 'ensure', 'efficient', 'and', 'fair', 'usage', 'of', 'office', 'transport', 'resources', 'ensure', 'first', 'and', 'foremost', 'that', 'field', 'office', 'transport', 'resources', 'are', 'used', 'to', 'the', 'maximum', 'advantage', 'of', 'achieving', 'office', 'project', 'and', 'contractual', 'obligations', 'while', 'also', 'ensuring', 'appropriate', 'and', 'adequate', 'support', 'to', 'all', 'other', 'operational', 'and', 'support', 'units', 'assign', 'specific', 'tasks', 'to', 'each', 'driver', 'respond', 'to', 'unplanned', 'vehicle', 'requests', 'each', 'day', 'in', 'an', 'appropriate', 'manner', 'ensure', 'preparedness', 'of', 'vehicle', 'fleet', 'for', 'evacuation', 'in', 'case', 'of', 'emergency', 'training', 'coordination', 'and', 'supervision', 'of', 'office', 'drivers', 'directly', 'supervise', 'the', 'work', 'of', 'drivers', 'ensure', 'that', 'all', 'drivers', 'are', 'fully', 'informed', 'kept', 'up', 'to', 'date', 'and', 'adhere', 'to', 'all', 'relevant', 'co', 'policies', 'and', 'procedures', 'regarding', 'travel', 'and', 'vehicle', 'usage', 'ensure', 'that', 'all', 'drivers', 'are', 'properly', 'trained', 'and', 'possess', 'all', 'proper', 'documents', 'have', 'the', 'necessary', 'skills', 'to', 'ensure', 'safe', 'usage', 'of', 'co', 'vehicles', 'and', 'transportation', 'of', 'office', 'staff', 'ensure', 'that', 'the', 'office', 'personnel', 'is', 'aware', 'of', 'relevant', 'policies', 'and', 'procedures', 'and', 'those', 'are', 'strictly', 'enforced', 'by', 'office', 'drivers', 'and', 'management', 'personnel', 'overseeing', 'the', 'regular', 'monitoring', 'of', 'records', 'and', 'ensuring', 'timely', 'reporting', 'ensure', 'that', 'all', 'vehicles', 'have', 'log', 'books', 'and', 'that', 'the', 'log', 'books', 'are', 'fully', 'maintained', 'and', 'up', 'to', 'date', 'per', 'established', 'policy', 'and', 'procedures', 'and', 'agency', 'and', 'donor', 'regulations', 'monitor', 'and', 'ensure', 'that', 'related', 'office', 'travel', 'and', 'vehicle', 'usage', 'are', 'properly', 'recorded', 'in', 'the', 'vehicle', 'log', 'books', 'reconcile', 'petrol', 'consumption', 'materials', 'and', 'spare', 'parts', 'usage', 'every', 'month', 'prepare', 'monthly', 'reports', 'to', 'reconcile', 'vehicle', 'usage', 'chargeable', 'to', 'sci', 'programs', 'assist', 'in', 'any', 'other', 'appropriate', 'reporting', 'and', 'or', 'monitoring', 'in', 'coordination', 'with', 'senior', 'management', 'to', 'improve', 'the', 'efficiency', 'of', 'transport', 'usage', 'ensure', 'that', 'all', 'vehicles', 'carry', 'any', 'mandated', 'documentation', 'and', 'or', 'equipment', 'as', 'required', 'by', 'agency', 'and', 'donor', 'policies', 'and', 'local', 'regulations', 'logistical', 'support', 'perform', 'collection', 'of', 'vehicle', 'related', 'price', 'quotes', 'for', 'procurement', 'requiring', 'competitive', 'analyses', 'perform', 'custom', 'clearance', 'of', 'pouches', 'and', 'parcels', 'received', 'on', 'the', 'name', 'of', 'sci', 'ensure', 'appropriate', 'and', 'timely', 'registration', 'of', 'sci', 'with', 'custom', 'authorities', 'organize', 'delivery', 'of', 'project', 'materials', 'to', 'the', 'impact', 'area', 'sites', 'ensure', 'selection', 'of', 'reliable', 'transportation', 'companies', 'including', 'collecting', 'quotes', 'as', 'needed', 'and', 'work', 'with', 'them', 'to', 'ensure', 'timely', 'and', 'safe', 'delivery', 'of', 'purchased', 'goods', 'to', 'the', 'project', 'sites', 'assist', 'the', 'operations', 'and', 'security', 'coordinator', 'in', 'vehicle', 'fleet', 'management', 'ensuring', 'that', 'it', 'meets', 'the', 'needs', 'of', 'the', 'co', 'and', 'is', 'maintained', 'in', 'compliance', 'with', 'sci', 'policies', 'and', 'procedures', 'ensure', 'that', 'all', 'vehicles', 'are', 'properly', 'maintained', 'and', 'supplied', 'with', 'necessary', 'equipment', 'first', 'aid', 'kits', 'assist', 'the', 'operations', 'and', 'security', 'coordinator', 'in', 'procurement', 'operations', 'act', 'in', 'accordance', 'with', 'and', 'follow', 'effective', 'procurement', 'policies', 'and', 'procedures', 'ensure', 'that', 'periodic', 'mandatory', 'maintenance', 'check', 'ups', 'of', 'vehicles', 'are', 'carried', 'out', 'in', 'line', 'with', 'the', 'ra', 'legislation', 'ensure', 'that', 'all', 'mandatory', 'insurance', 'related', 'to', 'the', 'vehicle', 'fleet', 'is', 'done', 'and', 'updated', 'in', 'timely', 'manner', 'required', 'qualifications', 'college', 'degree', 'preferably', 'in', 'mechanics', 'or', 'related', 'field', 'and', 'minimum', 'of', 'years', 'of', 'relevant', 'work', 'experience', 'driver', 'license', 'excellent', 'organizational', 'skills', 'critical', 'and', 'creative', 'thinking', 'ability', 'to', 'work', 'on', 'ms', 'words', 'and', 'excel', 'excellent', 'interpersonal', 'skills', 'including', 'patience', 'diplomacy', 'willingness', 'to', 'listen', 'and', 'respect', 'for', 'colleagues', 'ability', 'to', 'work', 'as', 'part', 'of', 'team', 'ability', 'to', 'work', 'effectively', 'in', 'fast', 'paced', 'stressful', 'environment', 'flexibility', 'willingness', 'to', 'perform', 'other', 'duties', 'and', 'work', 'irregular', 'hours', 'fluency', 'in', 'written', 'and', 'spoken', 'armenian', 'language', 'basic', 'knowledge', 'of', 'english', 'language', 'is', 'plus', 'application', 'procedures', 'to', 'apply', 'candidates', 'are', 'asked', 'to', 'email', 'their', 'cvs', 'to', 'anna', 'khachaturyan', 'mentioning', 'driver', 'logistician', 'in', 'the', 'subject', 'line', 'of', 'the', 'message', 'only', 'shortlisted', 'candidates', 'will', 'be', 'invited', 'for', 'an', 'interview', 'save', 'the', 'children', 'international', 'needs', 'to', 'keep', 'children', 'safe', 'so', 'its', 'selection', 'process', 'reflects', 'the', 'organization', 'commitment', 'to', 'the', 'protection', 'of', 'children', 'from', 'abuse', 'please', 'clearly', 'mention', 'in', 'your', 'application', 'letter', 'that', 'you', 'learned', 'of', 'this', 'job', 'opportunity', 'through', 'career', 'center', 'and', 'mention', 'the', 'url', 'of', 'its', 'website', 'www', 'careercenter', 'am', 'thanks', 'opening', 'date', 'february', 'application', 'deadline', 'march', 'about', 'company', 'save', 'the', 'children', 'international', 'established', 'its', 'presence', 'in', 'armenia', 'in', 'with', 'mission', 'to', 'achieve', 'immediate', 'and', 'lasting', 'change', 'in', 'children', 'lives', 'to', 'place', 'free', 'posting', 'for', 'job', 'or', 'other', 'career', 'related', 'opportunities', 'available', 'in', 'your', 'organization', 'just', 'go', 'to', 'the', 'www', 'careercenter', 'am', 'website', 'and', 'follow', 'the', 'post', 'an', 'announcement', 'link'], tags=[False]),\n",
       " TaggedDocument(words=['world', 'vision', 'armenia', 'title', 'project', 'manager', 'for', 'caring', 'for', 'equality', 'project', 'start', 'date', 'time', 'asap', 'duration', 'years', 'with', 'possible', 'extension', 'location', 'yerevan', 'armenia', 'job', 'description', 'the', 'project', 'manager', 'pm', 'will', 'have', 'overall', 'responsibility', 'for', 'the', 'coordination', 'of', 'all', 'the', 'project', 'activities', 'and', 'staff', 'he', 'she', 'will', 'be', 'responsible', 'for', 'technical', 'leadership', 'and', 'administrative', 'oversight', 'of', 'the', 'caring', 'for', 'equality', 'project', 'and', 'will', 'serve', 'as', 'the', 'principal', 'institutional', 'liaison', 'to', 'the', 'donor', 'partners', 'and', 'local', 'government', 'entities', 'the', 'pm', 'shall', 'have', 'keen', 'understanding', 'of', 'the', 'unique', 'political', 'dynamics', 'related', 'to', 'gender', 'approaches', 'in', 'the', 'country', 'and', 'work', 'carefully', 'and', 'collaboratively', 'to', 'support', 'the', 'various', 'entities', 'in', 'armenia', 'pm', 'will', 'manage', 'team', 'of', 'the', 'project', 'staff', 'and', 'engagement', 'with', 'stakeholders', 'and', 'ensure', 'the', 'quality', 'timeliness', 'and', 'efficiency', 'of', 'all', 'products', 'and', 'activities', 'generated', 'under', 'the', 'project', 'the', 'pm', 'is', 'expected', 'to', 'have', 'strong', 'leadership', 'qualities', 'and', 'the', 'depth', 'and', 'breadth', 'of', 'technical', 'and', 'management', 'expertise', 'he', 'she', 'also', 'provides', 'strategic', 'leadership', 'and', 'supervision', 'of', 'partners', 'consultants', 'service', 'contractors', 'while', 'ensuring', 'the', 'security', 'feasibility', 'and', 'sustainability', 'of', 'the', 'project', 'and', 'contribution', 'to', 'child', 'well', 'being', 'outcomes', 'job', 'direct', 'and', 'oversee', 'project', 'implementation', 'ensuring', 'that', 'all', 'strategic', 'objectives', 'are', 'met', 'through', 'proper', 'design', 'staffing', 'implementation', 'and', 'quality', 'assurance', 'establish', 'and', 'maintain', 'effective', 'project', 'reporting', 'evaluation', 'and', 'communication', 'systems', 'submit', 'timely', 'accurate', 'and', 'professional', 'reports', 'that', 'meet', 'donor', 'requirements', 'manage', 'the', 'project', 'budget', 'within', 'approved', 'spending', 'levels', 'and', 'ensure', 'the', 'submission', 'of', 'accurate', 'and', 'timely', 'financial', 'reports', 'to', 'donors', 'and', 'the', 'so', 'staff', 'ensure', 'the', 'project', 'expenses', 'are', 'reasonable', 'allocated', 'as', 'per', 'assigned', 'budget', 'prudent', 'and', 'spent', 'in', 'accordance', 'with', 'donor', 'rules', 'and', 'regulations', 'to', 'ensure', 'low', 'risk', 'audits', 'liaise', 'with', 'local', 'government', 'officials', 'local', 'communities', 'donor', 'representatives', 'and', 'other', 'stakeholders', 'as', 'appropriate', 'facilitate', 'learning', 'of', 'best', 'practices', 'on', 'the', 'project', 'technical', 'areas', 'and', 'other', 'donor', 'organizations', 'provide', 'spiritual', 'leadership', 'to', 'the', 'project', 'team', 'attend', 'and', 'participate', 'in', 'weekly', 'devotional', 'meetings', 'establish', 'clear', 'and', 'frequent', 'communication', 'regarding', 'the', 'project', 'progress', 'and', 'oversight', 'management', 'with', 'the', 'donor', 'required', 'qualifications', 'the', 'following', 'knowledge', 'skills', 'and', 'abilities', 'may', 'have', 'been', 'acquired', 'through', 'combination', 'of', 'formal', 'schooling', 'self', 'education', 'prior', 'experience', 'or', 'on', 'the', 'job', 'training', 'master', 'degree', 'in', 'related', 'field', 'or', 'equivalent', 'qualifications', 'in', 'grant', 'management', 'and', 'technical', 'field', 'in', 'developing', 'countries', 'at', 'least', 'years', 'of', 'extensive', 'international', 'development', 'experience', 'in', 'managing', 'projects', 'proven', 'ability', 'to', 'manage', 'technical', 'assistance', 'teams', 'knowledge', 'of', 'and', 'familiarity', 'with', 'international', 'assistance', 'program', 'requirements', 'their', 'policies', 'and', 'regulations', 'keen', 'understanding', 'of', 'the', 'unique', 'political', 'dynamics', 'of', 'the', 'country', 'and', 'ability', 'to', 'work', 'carefully', 'and', 'collaboratively', 'to', 'maintain', 'productive', 'relationships', 'with', 'the', 'various', 'government', 'entities', 'in', 'armenia', 'ability', 'to', 'integrate', 'the', 'teams', 'of', 'professionals', 'around', 'common', 'goals', 'demonstrated', 'accomplishment', 'in', 'working', 'with', 'host', 'country', 'professionals', 'ministries', 'and', 'with', 'donor', 'colleagues', 'in', 'the', 'country', 'strong', 'presentation', 'and', 'report', 'writing', 'skills', 'experience', 'in', 'leading', 'diverse', 'teams', 'experience', 'in', 'managing', 'contracts', 'under', 'grants', 'for', 'complex', 'projects', 'fluency', 'in', 'english', 'and', 'armenian', 'languages', 'experience', 'in', 'managing', 'inter', 'agency', 'consortiums', 'is', 'preferred', 'be', 'prepared', 'to', 'travel', 'to', 'implementation', 'sites', 'and', 'regional', 'meetings', 'as', 'required', 'application', 'procedures', 'if', 'you', 'are', 'interested', 'in', 'this', 'position', 'to', 'apply', 'please', 'register', 'at', 'http', 'careers', 'wvi', 'org', 'job', 'opportunities', 'in', 'armenia', 'and', 'send', 'your', 'cv', 'to', 'hr_wvarm', 'no', 'information', 'inquiries', 'will', 'be', 'handled', 'over', 'the', 'phone', 'only', 'short', 'listed', 'candidates', 'will', 'be', 'notified', 'for', 'the', 'interview', 'please', 'mention', 'the', 'position', 'you', 'are', 'applying', 'for', 'in', 'the', 'subject', 'line', 'please', 'clearly', 'mention', 'in', 'your', 'application', 'letter', 'that', 'you', 'learned', 'of', 'this', 'job', 'opportunity', 'through', 'career', 'center', 'and', 'mention', 'the', 'url', 'of', 'its', 'website', 'www', 'careercenter', 'am', 'thanks', 'opening', 'date', 'october', 'application', 'deadline', 'november', 'about', 'company', 'world', 'vision', 'is', 'christian', 'humanitarian', 'and', 'development', 'organization', 'working', 'to', 'create', 'lasting', 'change', 'in', 'the', 'lives', 'established', 'in', 'world', 'vision', 'operates', 'in', 'nearly', 'countries', 'worldwide', 'it', 'is', 'christian', 'relief', 'development', 'and', 'advocacy', 'organization', 'dedicated', 'to', 'working', 'with', 'children', 'families', 'and', 'communities', 'to', 'overcome', 'poverty', 'and', 'injustice', 'world', 'vision', 'pursues', 'life', 'in', 'all', 'its', 'fullness', 'for', 'every', 'child', 'and', 'serves', 'all', 'people', 'regardless', 'of', 'religion', 'race', 'ethnicity', 'or', 'gender', 'world', 'vision', 'armenia', 'works', 'in', 'communities', 'in', 'six', 'marzes', 'of', 'armenia', 'and', 'in', 'yerevan', 'supporting', 'children', 'and', 'their', 'families', 'the', 'organization', 'fulfills', 'advocacy', 'health', 'care', 'education', 'economic', 'development', 'child', 'protection', 'and', 'spiritual', 'growth', 'activities', 'wv', 'armenia', 'operates', 'mainly', 'through', 'its', 'years', 'long', 'term', 'area', 'development', 'programs', 'adp', 'that', 'are', 'predominantly', 'funded', 'through', 'child', 'sponsorship', 'adps', 'are', 'focused', 'on', 'promoting', 'child', 'well', 'being', 'through', 'community', 'participation', 'and', 'ownership', 'to', 'place', 'free', 'posting', 'for', 'job', 'or', 'other', 'career', 'related', 'opportunities', 'available', 'in', 'your', 'organization', 'just', 'go', 'to', 'the', 'www', 'careercenter', 'am', 'website', 'and', 'follow', 'the', 'post', 'an', 'announcement', 'link'], tags=[False]),\n",
       " TaggedDocument(words=['termosupply', 'programms', 'piu', 'si', 'of', 'ministry', 'of', 'finance', 'and', 'economy', 'of', 'ra', 'title', 'office', 'manager', 'term', 'full', 'time', 'start', 'date', 'time', 'july', 'duration', 'permanent', 'location', 'yerevan', 'armenia', 'job', 'description', 'job', 'provide', 'current', 'activities', 'of', 'the', 'office', 'procurement', 'of', 'reserves', 'office', 'supplies', 'fast', 'worn', 'out', 'things', 'uninterrupted', 'operation', 'of', 'vehicle', 'devices', 'and', 'equipments', 'including', 'connection', 'internet', 'website', 'internal', 'computer', 'and', 'phone', 'network', 'etc', 'carry', 'out', 'the', 'accounting', 'stock', 'taking', 'maintenance', 'and', 'distribution', 'in', 'accordance', 'with', 'the', 'specified', 'order', 'of', 'office', 'materials', 'supplies', 'fast', 'worn', 'out', 'things', 'and', 'stocks', 'of', 'materials', 'and', 'capital', 'equipment', 'which', 'are', 'under', 'the', 'direction', 'of', 'the', 'office', 'provide', 'publishing', 'of', 'the', 'piu', 'and', 'project', 'related', 'materials', 'information', 'creation', 'of', 'data', 'base', 'replenish', 'the', 'information', 'create', 'databases', 'administer', 'and', 'replenish', 'the', 'ones', 'develop', 'and', 'introduce', 'the', 'system', 'of', 'piu', 'staff', 'attendance', 'registration', 'conduct', 'the', 'registration', 'book', 'and', 'submit', 'the', 'monthly', 'reports', 'regarding', 'the', 'attendance', 'and', 'stocks', 'of', 'materials', 'and', 'capital', 'equipment', 'in', 'specified', 'form', 'technical', 'provision', 'connected', 'with', 'organization', 'of', 'workshops', 'visits', 'negotiations', 'and', 'other', 'meetings', 'carry', 'out', 'import', 'of', 'supplied', 'goods', 'in', 'the', 'frame', 'of', 'the', 'project', 'and', 'activities', 'connected', 'with', 'delivery', 'acceptance', 'of', 'the', 'goods', 'or', 'implemented', 'activities', 'participate', 'in', 'activities', 'of', 'piu', 'budget', 'preparation', 'give', 'proposals', 'regarding', 'planning', 'of', 'expenditure', 'items', 'required', 'qualifications', 'higher', 'education', 'in', 'management', 'or', 'economics', 'at', 'least', 'years', 'of', 'work', 'experience', 'as', 'well', 'as', 'ability', 'of', 'activities', 'organization', 'evaluation', 'of', 'processes', 'knowledge', 'of', 'communication', 'business', 'ethics', 'and', 'psychology', 'and', 'ability', 'of', 'good', 'fellowship', 'computer', 'literacy', 'particularly', 'the', 'knowledge', 'of', 'up', 'to', 'date', 'and', 'widespread', 'programs', 'and', 'internet', 'is', 'obligatory', 'and', 'knowledge', 'of', 'ms', 'access', 'power', 'point', 'acrobat', 'reader', 'photoshop', 'and', 'other', 'programs', 'used', 'in', 'practice', 'of', 'office', 'operation', 'is', 'desirable', 'good', 'command', 'of', 'armenian', 'english', 'and', 'russian', 'languages', 'high', 'level', 'organizational', 'skills', 'excellent', 'communication', 'skills', 'energetic', 'enthusiastic', 'sociable', 'and', 'creative', 'personality', 'remuneration', 'salary', 'based', 'on', 'work', 'experience', 'and', 'qualifications', 'application', 'procedures', 'candidates', 'should', 'send', 'their', 'cvs', 'to', 'tsppiu', 'please', 'note', 'that', 'only', 'short', 'listed', 'candidates', 'will', 'be', 'contacted', 'please', 'clearly', 'mention', 'in', 'your', 'application', 'letter', 'that', 'you', 'learned', 'of', 'this', 'job', 'opportunity', 'through', 'career', 'center', 'and', 'mention', 'the', 'url', 'of', 'its', 'website', 'www', 'careercenter', 'am', 'thanks', 'opening', 'date', 'june', 'application', 'deadline', 'june', 'about', 'company', 'termosupply', 'programms', 'piu', 'si', 'implements', 'world', 'bank', 'financed', 'urban', 'heating', 'project', 'to', 'place', 'free', 'posting', 'for', 'job', 'or', 'other', 'career', 'related', 'opportunities', 'available', 'in', 'your', 'organization', 'just', 'go', 'to', 'the', 'www', 'careercenter', 'am', 'website', 'and', 'follow', 'the', 'post', 'an', 'announcement', 'link'], tags=[False])]"
      ]
     },
     "execution_count": 6,
     "metadata": {},
     "output_type": "execute_result"
    }
   ],
   "source": [
    "train_corpus[:3]"
   ]
  },
  {
   "cell_type": "code",
   "execution_count": 7,
   "metadata": {},
   "outputs": [
    {
     "data": {
      "text/plain": [
       "249"
      ]
     },
     "execution_count": 7,
     "metadata": {},
     "output_type": "execute_result"
    }
   ],
   "source": [
    "len(test_corpus[:1][0])"
   ]
  },
  {
   "cell_type": "markdown",
   "metadata": {},
   "source": [
    "## Training the Model\n",
    "\n",
    "### Instantiate a Doc2Vec Object¶"
   ]
  },
  {
   "cell_type": "code",
   "execution_count": 8,
   "metadata": {},
   "outputs": [],
   "source": [
    "model = gensim.models.doc2vec.Doc2Vec(vector_size=50, min_count=2, epochs=40)"
   ]
  },
  {
   "cell_type": "markdown",
   "metadata": {},
   "source": [
    "### Build a Vocabulary"
   ]
  },
  {
   "cell_type": "code",
   "execution_count": 9,
   "metadata": {},
   "outputs": [],
   "source": [
    "model.build_vocab(train_corpus)"
   ]
  },
  {
   "cell_type": "markdown",
   "metadata": {},
   "source": [
    "### Time to Train"
   ]
  },
  {
   "cell_type": "markdown",
   "metadata": {},
   "source": [
    "If the BLAS library is being used, this should take no more than 3 seconds. If the BLAS library is not being used, this should take no more than 2 minutes, so use BLAS if you value your time."
   ]
  },
  {
   "cell_type": "code",
   "execution_count": 10,
   "metadata": {},
   "outputs": [
    {
     "name": "stdout",
     "output_type": "stream",
     "text": [
      "blas_mkl_info:\n",
      "  NOT AVAILABLE\n",
      "blis_info:\n",
      "  NOT AVAILABLE\n",
      "openblas_info:\n",
      "    libraries = ['openblas', 'openblas']\n",
      "    library_dirs = ['/usr/local/lib']\n",
      "    language = c\n",
      "    define_macros = [('HAVE_CBLAS', None)]\n",
      "blas_opt_info:\n",
      "    libraries = ['openblas', 'openblas']\n",
      "    library_dirs = ['/usr/local/lib']\n",
      "    language = c\n",
      "    define_macros = [('HAVE_CBLAS', None)]\n",
      "lapack_mkl_info:\n",
      "  NOT AVAILABLE\n",
      "openblas_lapack_info:\n",
      "    libraries = ['openblas', 'openblas']\n",
      "    library_dirs = ['/usr/local/lib']\n",
      "    language = c\n",
      "    define_macros = [('HAVE_CBLAS', None)]\n",
      "lapack_opt_info:\n",
      "    libraries = ['openblas', 'openblas']\n",
      "    library_dirs = ['/usr/local/lib']\n",
      "    language = c\n",
      "    define_macros = [('HAVE_CBLAS', None)]\n"
     ]
    }
   ],
   "source": [
    "np.show_config()"
   ]
  },
  {
   "cell_type": "code",
   "execution_count": 11,
   "metadata": {},
   "outputs": [
    {
     "name": "stdout",
     "output_type": "stream",
     "text": [
      "CPU times: user 3min 7s, sys: 2.36 s, total: 3min 9s\n",
      "Wall time: 1min 9s\n"
     ]
    }
   ],
   "source": [
    "%time model.train(train_corpus, total_examples=model.corpus_count, epochs=model.epochs)"
   ]
  },
  {
   "cell_type": "markdown",
   "metadata": {},
   "source": [
    "### Inferring a Vector\n",
    "\n",
    "One important thing to note is that you can now infer a vector for any piece of text without having to re-train the model by passing a list of words to the model.infer_vector function. This vector can then be compared with other vectors via cosine similarity."
   ]
  },
  {
   "cell_type": "code",
   "execution_count": 12,
   "metadata": {},
   "outputs": [
    {
     "data": {
      "text/plain": [
       "array([ 0.02571415,  0.22088249,  0.16103734, -0.09390803, -0.23629257,\n",
       "        0.00282712,  0.08484655,  0.03984943,  0.01526297,  0.03373836,\n",
       "       -0.01302054, -0.2074478 ,  0.05832008, -0.10093126,  0.13920258,\n",
       "        0.32278383, -0.19244651, -0.02207048, -0.12636152,  0.10709625,\n",
       "        0.00171392,  0.0648146 , -0.0726667 , -0.17695695,  0.01372944,\n",
       "       -0.10719944,  0.02441189, -0.06617588,  0.13580577,  0.04023248,\n",
       "       -0.01704024,  0.12465484,  0.22958142,  0.04541818, -0.01378347,\n",
       "       -0.1602466 , -0.07892415, -0.12507807,  0.14647557, -0.00941419,\n",
       "       -0.07785662, -0.10593599,  0.20411465, -0.09089117,  0.03094489,\n",
       "       -0.0943466 , -0.09872963, -0.16515435, -0.08136088, -0.01864995],\n",
       "      dtype=float32)"
      ]
     },
     "execution_count": 12,
     "metadata": {},
     "output_type": "execute_result"
    }
   ],
   "source": [
    "model.infer_vector(['only', 'you', 'can', 'prevent', 'forest', 'fires'])"
   ]
  },
  {
   "cell_type": "markdown",
   "metadata": {},
   "source": [
    "## Assessing Model\n",
    "\n",
    "To assess our new model, we'll first infer new vectors for each document of the training corpus, compare the inferred vectors with the training corpus, and then returning the rank of the document based on self-similarity. Basically, we're pretending as if the training corpus is some new unseen data and then seeing how they compare with the trained model. The expectation is that we've likely overfit our model (i.e., all of the ranks will be less than 2) and so we should be able to find similar documents very easily. Additionally, we'll keep track of the second ranks for a comparison of less similar documents."
   ]
  },
  {
   "cell_type": "code",
   "execution_count": 13,
   "metadata": {
    "scrolled": true
   },
   "outputs": [
    {
     "name": "stdout",
     "output_type": "stream",
     "text": [
      "Document (0): «save the children international armenian representative office title driver logistician term full time start date time march location yerevan armenia job description the driver logistician will be fully responsible for the maintenance and technical oversight of the representative office vehicle fleet transport operations and reporting this includes scheduling of vehicles for servicing management of vehicle fleet and coordination of vehicle assignments for staff transportation and supervision of drivers the incumbent will be ultimately responsible for ensuring that all sci personnel and property are transported in the safest manner possible and in strict accordance with relevant agency and donor policy and procedures and local traffic regulations the driver logistician will also be responsible for outsourcing services for office maintenance and repair transportation services for delivery of materials to the projects sites and logistical support to the sci staff job overseeing technical conditions and coordination of routine care and maintenance of office vehicles ensure that all office vehicles are in good operational order so as to ensure the safety of sci personnel the maximum efficiency of the transport means and the preparedness of the office to respond to its programmatic and administrative needs ensure routine planning and regular rotation of vehicles for inspection maintenance and repair and keep detailed records oversee the scheduling of regular service and repairs of vehicles supervise all mechanical work and maintain detailed service records for all vehicles ensure that good quality services and materials spare parts are procured at reasonable cost where requested coordinate with procurement in the identification and selection of appropriate goods and services necessary for the maintenance and repair of sci vehicles obtain proper documents from service providers and suppliers and ensure the timely payment for services materials procured management of vehicle fleet and coordination of vehicle assignments for staff transportation ensure that all vehicles are properly and securely stored or parked in designated places when not in use ensure that all sci vehicles have full tank of diesel petrol at the end of each working day oversee and coordinate all inter office transport and logistics to ensure efficient and fair usage of office transport resources ensure first and foremost that field office transport resources are used to the maximum advantage of achieving office project and contractual obligations while also ensuring appropriate and adequate support to all other operational and support units assign specific tasks to each driver respond to unplanned vehicle requests each day in an appropriate manner ensure preparedness of vehicle fleet for evacuation in case of emergency training coordination and supervision of office drivers directly supervise the work of drivers ensure that all drivers are fully informed kept up to date and adhere to all relevant co policies and procedures regarding travel and vehicle usage ensure that all drivers are properly trained and possess all proper documents have the necessary skills to ensure safe usage of co vehicles and transportation of office staff ensure that the office personnel is aware of relevant policies and procedures and those are strictly enforced by office drivers and management personnel overseeing the regular monitoring of records and ensuring timely reporting ensure that all vehicles have log books and that the log books are fully maintained and up to date per established policy and procedures and agency and donor regulations monitor and ensure that related office travel and vehicle usage are properly recorded in the vehicle log books reconcile petrol consumption materials and spare parts usage every month prepare monthly reports to reconcile vehicle usage chargeable to sci programs assist in any other appropriate reporting and or monitoring in coordination with senior management to improve the efficiency of transport usage ensure that all vehicles carry any mandated documentation and or equipment as required by agency and donor policies and local regulations logistical support perform collection of vehicle related price quotes for procurement requiring competitive analyses perform custom clearance of pouches and parcels received on the name of sci ensure appropriate and timely registration of sci with custom authorities organize delivery of project materials to the impact area sites ensure selection of reliable transportation companies including collecting quotes as needed and work with them to ensure timely and safe delivery of purchased goods to the project sites assist the operations and security coordinator in vehicle fleet management ensuring that it meets the needs of the co and is maintained in compliance with sci policies and procedures ensure that all vehicles are properly maintained and supplied with necessary equipment first aid kits assist the operations and security coordinator in procurement operations act in accordance with and follow effective procurement policies and procedures ensure that periodic mandatory maintenance check ups of vehicles are carried out in line with the ra legislation ensure that all mandatory insurance related to the vehicle fleet is done and updated in timely manner required qualifications college degree preferably in mechanics or related field and minimum of years of relevant work experience driver license excellent organizational skills critical and creative thinking ability to work on ms words and excel excellent interpersonal skills including patience diplomacy willingness to listen and respect for colleagues ability to work as part of team ability to work effectively in fast paced stressful environment flexibility willingness to perform other duties and work irregular hours fluency in written and spoken armenian language basic knowledge of english language is plus application procedures to apply candidates are asked to email their cvs to anna khachaturyan mentioning driver logistician in the subject line of the message only shortlisted candidates will be invited for an interview save the children international needs to keep children safe so its selection process reflects the organization commitment to the protection of children from abuse please clearly mention in your application letter that you learned of this job opportunity through career center and mention the url of its website www careercenter am thanks opening date february application deadline march about company save the children international established its presence in armenia in with mission to achieve immediate and lasting change in children lives to place free posting for job or other career related opportunities available in your organization just go to the www careercenter am website and follow the post an announcement link»\n",
      "\n",
      "Inferred Vector: [-0.528647    0.5347641   0.55378944 -1.8998144   1.3183097  -0.06563694\n",
      "  0.9011268  -1.3146508  -2.006542   -0.4817907  -0.2200273   0.1210033\n",
      " -0.07139249 -0.17361903  0.00501539 -1.3449733   0.09940565  0.7105231\n",
      " -0.95957565 -1.3574249   0.55798644  2.253983    0.02701272  3.1003163\n",
      " -1.3332992   2.460518   -1.3794538  -0.32551965 -2.0523045   1.3779334\n",
      " -0.10802744 -1.4410661  -0.21503128  0.09471995  1.9161947   0.04931666\n",
      " -0.12772198  0.8250639   0.30368713 -0.66588527 -0.24747364 -0.42904025\n",
      "  1.0036114  -0.23116493 -1.3476484   0.995232    1.8522532   0.19545935\n",
      " -1.6048322  -1.056388  ]\n",
      "SIMILAR/DISSIMILAR DOCS PER MODEL Doc2Vec(dm/m,d50,n5,w5,mc2,s0.001,t3):\n",
      "\n",
      "MOST (0, 0.7519773840904236): «save the children international armenian representative office title driver logistician term full time start date time march location yerevan armenia job description the driver logistician will be fully responsible for the maintenance and technical oversight of the representative office vehicle fleet transport operations and reporting this includes scheduling of vehicles for servicing management of vehicle fleet and coordination of vehicle assignments for staff transportation and supervision of drivers the incumbent will be ultimately responsible for ensuring that all sci personnel and property are transported in the safest manner possible and in strict accordance with relevant agency and donor policy and procedures and local traffic regulations the driver logistician will also be responsible for outsourcing services for office maintenance and repair transportation services for delivery of materials to the projects sites and logistical support to the sci staff job overseeing technical conditions and coordination of routine care and maintenance of office vehicles ensure that all office vehicles are in good operational order so as to ensure the safety of sci personnel the maximum efficiency of the transport means and the preparedness of the office to respond to its programmatic and administrative needs ensure routine planning and regular rotation of vehicles for inspection maintenance and repair and keep detailed records oversee the scheduling of regular service and repairs of vehicles supervise all mechanical work and maintain detailed service records for all vehicles ensure that good quality services and materials spare parts are procured at reasonable cost where requested coordinate with procurement in the identification and selection of appropriate goods and services necessary for the maintenance and repair of sci vehicles obtain proper documents from service providers and suppliers and ensure the timely payment for services materials procured management of vehicle fleet and coordination of vehicle assignments for staff transportation ensure that all vehicles are properly and securely stored or parked in designated places when not in use ensure that all sci vehicles have full tank of diesel petrol at the end of each working day oversee and coordinate all inter office transport and logistics to ensure efficient and fair usage of office transport resources ensure first and foremost that field office transport resources are used to the maximum advantage of achieving office project and contractual obligations while also ensuring appropriate and adequate support to all other operational and support units assign specific tasks to each driver respond to unplanned vehicle requests each day in an appropriate manner ensure preparedness of vehicle fleet for evacuation in case of emergency training coordination and supervision of office drivers directly supervise the work of drivers ensure that all drivers are fully informed kept up to date and adhere to all relevant co policies and procedures regarding travel and vehicle usage ensure that all drivers are properly trained and possess all proper documents have the necessary skills to ensure safe usage of co vehicles and transportation of office staff ensure that the office personnel is aware of relevant policies and procedures and those are strictly enforced by office drivers and management personnel overseeing the regular monitoring of records and ensuring timely reporting ensure that all vehicles have log books and that the log books are fully maintained and up to date per established policy and procedures and agency and donor regulations monitor and ensure that related office travel and vehicle usage are properly recorded in the vehicle log books reconcile petrol consumption materials and spare parts usage every month prepare monthly reports to reconcile vehicle usage chargeable to sci programs assist in any other appropriate reporting and or monitoring in coordination with senior management to improve the efficiency of transport usage ensure that all vehicles carry any mandated documentation and or equipment as required by agency and donor policies and local regulations logistical support perform collection of vehicle related price quotes for procurement requiring competitive analyses perform custom clearance of pouches and parcels received on the name of sci ensure appropriate and timely registration of sci with custom authorities organize delivery of project materials to the impact area sites ensure selection of reliable transportation companies including collecting quotes as needed and work with them to ensure timely and safe delivery of purchased goods to the project sites assist the operations and security coordinator in vehicle fleet management ensuring that it meets the needs of the co and is maintained in compliance with sci policies and procedures ensure that all vehicles are properly maintained and supplied with necessary equipment first aid kits assist the operations and security coordinator in procurement operations act in accordance with and follow effective procurement policies and procedures ensure that periodic mandatory maintenance check ups of vehicles are carried out in line with the ra legislation ensure that all mandatory insurance related to the vehicle fleet is done and updated in timely manner required qualifications college degree preferably in mechanics or related field and minimum of years of relevant work experience driver license excellent organizational skills critical and creative thinking ability to work on ms words and excel excellent interpersonal skills including patience diplomacy willingness to listen and respect for colleagues ability to work as part of team ability to work effectively in fast paced stressful environment flexibility willingness to perform other duties and work irregular hours fluency in written and spoken armenian language basic knowledge of english language is plus application procedures to apply candidates are asked to email their cvs to anna khachaturyan mentioning driver logistician in the subject line of the message only shortlisted candidates will be invited for an interview save the children international needs to keep children safe so its selection process reflects the organization commitment to the protection of children from abuse please clearly mention in your application letter that you learned of this job opportunity through career center and mention the url of its website www careercenter am thanks opening date february application deadline march about company save the children international established its presence in armenia in with mission to achieve immediate and lasting change in children lives to place free posting for job or other career related opportunities available in your organization just go to the www careercenter am website and follow the post an announcement link»\n",
      "\n",
      "SECOND-MOST (1, 0.4122396409511566): «world vision armenia title project manager for caring for equality project start date time asap duration years with possible extension location yerevan armenia job description the project manager pm will have overall responsibility for the coordination of all the project activities and staff he she will be responsible for technical leadership and administrative oversight of the caring for equality project and will serve as the principal institutional liaison to the donor partners and local government entities the pm shall have keen understanding of the unique political dynamics related to gender approaches in the country and work carefully and collaboratively to support the various entities in armenia pm will manage team of the project staff and engagement with stakeholders and ensure the quality timeliness and efficiency of all products and activities generated under the project the pm is expected to have strong leadership qualities and the depth and breadth of technical and management expertise he she also provides strategic leadership and supervision of partners consultants service contractors while ensuring the security feasibility and sustainability of the project and contribution to child well being outcomes job direct and oversee project implementation ensuring that all strategic objectives are met through proper design staffing implementation and quality assurance establish and maintain effective project reporting evaluation and communication systems submit timely accurate and professional reports that meet donor requirements manage the project budget within approved spending levels and ensure the submission of accurate and timely financial reports to donors and the so staff ensure the project expenses are reasonable allocated as per assigned budget prudent and spent in accordance with donor rules and regulations to ensure low risk audits liaise with local government officials local communities donor representatives and other stakeholders as appropriate facilitate learning of best practices on the project technical areas and other donor organizations provide spiritual leadership to the project team attend and participate in weekly devotional meetings establish clear and frequent communication regarding the project progress and oversight management with the donor required qualifications the following knowledge skills and abilities may have been acquired through combination of formal schooling self education prior experience or on the job training master degree in related field or equivalent qualifications in grant management and technical field in developing countries at least years of extensive international development experience in managing projects proven ability to manage technical assistance teams knowledge of and familiarity with international assistance program requirements their policies and regulations keen understanding of the unique political dynamics of the country and ability to work carefully and collaboratively to maintain productive relationships with the various government entities in armenia ability to integrate the teams of professionals around common goals demonstrated accomplishment in working with host country professionals ministries and with donor colleagues in the country strong presentation and report writing skills experience in leading diverse teams experience in managing contracts under grants for complex projects fluency in english and armenian languages experience in managing inter agency consortiums is preferred be prepared to travel to implementation sites and regional meetings as required application procedures if you are interested in this position to apply please register at http careers wvi org job opportunities in armenia and send your cv to hr_wvarm no information inquiries will be handled over the phone only short listed candidates will be notified for the interview please mention the position you are applying for in the subject line please clearly mention in your application letter that you learned of this job opportunity through career center and mention the url of its website www careercenter am thanks opening date october application deadline november about company world vision is christian humanitarian and development organization working to create lasting change in the lives established in world vision operates in nearly countries worldwide it is christian relief development and advocacy organization dedicated to working with children families and communities to overcome poverty and injustice world vision pursues life in all its fullness for every child and serves all people regardless of religion race ethnicity or gender world vision armenia works in communities in six marzes of armenia and in yerevan supporting children and their families the organization fulfills advocacy health care education economic development child protection and spiritual growth activities wv armenia operates mainly through its years long term area development programs adp that are predominantly funded through child sponsorship adps are focused on promoting child well being through community participation and ownership to place free posting for job or other career related opportunities available in your organization just go to the www careercenter am website and follow the post an announcement link»\n",
      "\n",
      "MEDIAN (1, 0.4122396409511566): «world vision armenia title project manager for caring for equality project start date time asap duration years with possible extension location yerevan armenia job description the project manager pm will have overall responsibility for the coordination of all the project activities and staff he she will be responsible for technical leadership and administrative oversight of the caring for equality project and will serve as the principal institutional liaison to the donor partners and local government entities the pm shall have keen understanding of the unique political dynamics related to gender approaches in the country and work carefully and collaboratively to support the various entities in armenia pm will manage team of the project staff and engagement with stakeholders and ensure the quality timeliness and efficiency of all products and activities generated under the project the pm is expected to have strong leadership qualities and the depth and breadth of technical and management expertise he she also provides strategic leadership and supervision of partners consultants service contractors while ensuring the security feasibility and sustainability of the project and contribution to child well being outcomes job direct and oversee project implementation ensuring that all strategic objectives are met through proper design staffing implementation and quality assurance establish and maintain effective project reporting evaluation and communication systems submit timely accurate and professional reports that meet donor requirements manage the project budget within approved spending levels and ensure the submission of accurate and timely financial reports to donors and the so staff ensure the project expenses are reasonable allocated as per assigned budget prudent and spent in accordance with donor rules and regulations to ensure low risk audits liaise with local government officials local communities donor representatives and other stakeholders as appropriate facilitate learning of best practices on the project technical areas and other donor organizations provide spiritual leadership to the project team attend and participate in weekly devotional meetings establish clear and frequent communication regarding the project progress and oversight management with the donor required qualifications the following knowledge skills and abilities may have been acquired through combination of formal schooling self education prior experience or on the job training master degree in related field or equivalent qualifications in grant management and technical field in developing countries at least years of extensive international development experience in managing projects proven ability to manage technical assistance teams knowledge of and familiarity with international assistance program requirements their policies and regulations keen understanding of the unique political dynamics of the country and ability to work carefully and collaboratively to maintain productive relationships with the various government entities in armenia ability to integrate the teams of professionals around common goals demonstrated accomplishment in working with host country professionals ministries and with donor colleagues in the country strong presentation and report writing skills experience in leading diverse teams experience in managing contracts under grants for complex projects fluency in english and armenian languages experience in managing inter agency consortiums is preferred be prepared to travel to implementation sites and regional meetings as required application procedures if you are interested in this position to apply please register at http careers wvi org job opportunities in armenia and send your cv to hr_wvarm no information inquiries will be handled over the phone only short listed candidates will be notified for the interview please mention the position you are applying for in the subject line please clearly mention in your application letter that you learned of this job opportunity through career center and mention the url of its website www careercenter am thanks opening date october application deadline november about company world vision is christian humanitarian and development organization working to create lasting change in the lives established in world vision operates in nearly countries worldwide it is christian relief development and advocacy organization dedicated to working with children families and communities to overcome poverty and injustice world vision pursues life in all its fullness for every child and serves all people regardless of religion race ethnicity or gender world vision armenia works in communities in six marzes of armenia and in yerevan supporting children and their families the organization fulfills advocacy health care education economic development child protection and spiritual growth activities wv armenia operates mainly through its years long term area development programs adp that are predominantly funded through child sponsorship adps are focused on promoting child well being through community participation and ownership to place free posting for job or other career related opportunities available in your organization just go to the www careercenter am website and follow the post an announcement link»\n",
      "\n",
      "LEAST (1, 0.4122396409511566): «world vision armenia title project manager for caring for equality project start date time asap duration years with possible extension location yerevan armenia job description the project manager pm will have overall responsibility for the coordination of all the project activities and staff he she will be responsible for technical leadership and administrative oversight of the caring for equality project and will serve as the principal institutional liaison to the donor partners and local government entities the pm shall have keen understanding of the unique political dynamics related to gender approaches in the country and work carefully and collaboratively to support the various entities in armenia pm will manage team of the project staff and engagement with stakeholders and ensure the quality timeliness and efficiency of all products and activities generated under the project the pm is expected to have strong leadership qualities and the depth and breadth of technical and management expertise he she also provides strategic leadership and supervision of partners consultants service contractors while ensuring the security feasibility and sustainability of the project and contribution to child well being outcomes job direct and oversee project implementation ensuring that all strategic objectives are met through proper design staffing implementation and quality assurance establish and maintain effective project reporting evaluation and communication systems submit timely accurate and professional reports that meet donor requirements manage the project budget within approved spending levels and ensure the submission of accurate and timely financial reports to donors and the so staff ensure the project expenses are reasonable allocated as per assigned budget prudent and spent in accordance with donor rules and regulations to ensure low risk audits liaise with local government officials local communities donor representatives and other stakeholders as appropriate facilitate learning of best practices on the project technical areas and other donor organizations provide spiritual leadership to the project team attend and participate in weekly devotional meetings establish clear and frequent communication regarding the project progress and oversight management with the donor required qualifications the following knowledge skills and abilities may have been acquired through combination of formal schooling self education prior experience or on the job training master degree in related field or equivalent qualifications in grant management and technical field in developing countries at least years of extensive international development experience in managing projects proven ability to manage technical assistance teams knowledge of and familiarity with international assistance program requirements their policies and regulations keen understanding of the unique political dynamics of the country and ability to work carefully and collaboratively to maintain productive relationships with the various government entities in armenia ability to integrate the teams of professionals around common goals demonstrated accomplishment in working with host country professionals ministries and with donor colleagues in the country strong presentation and report writing skills experience in leading diverse teams experience in managing contracts under grants for complex projects fluency in english and armenian languages experience in managing inter agency consortiums is preferred be prepared to travel to implementation sites and regional meetings as required application procedures if you are interested in this position to apply please register at http careers wvi org job opportunities in armenia and send your cv to hr_wvarm no information inquiries will be handled over the phone only short listed candidates will be notified for the interview please mention the position you are applying for in the subject line please clearly mention in your application letter that you learned of this job opportunity through career center and mention the url of its website www careercenter am thanks opening date october application deadline november about company world vision is christian humanitarian and development organization working to create lasting change in the lives established in world vision operates in nearly countries worldwide it is christian relief development and advocacy organization dedicated to working with children families and communities to overcome poverty and injustice world vision pursues life in all its fullness for every child and serves all people regardless of religion race ethnicity or gender world vision armenia works in communities in six marzes of armenia and in yerevan supporting children and their families the organization fulfills advocacy health care education economic development child protection and spiritual growth activities wv armenia operates mainly through its years long term area development programs adp that are predominantly funded through child sponsorship adps are focused on promoting child well being through community participation and ownership to place free posting for job or other career related opportunities available in your organization just go to the www careercenter am website and follow the post an announcement link»\n",
      "\n"
     ]
    }
   ],
   "source": [
    "doc_id = 0\n",
    "print('Document ({}): «{}»\\n'.format(doc_id, ' '.join(train_corpus[doc_id].words)))\n",
    "inferred_vector = model.infer_vector(train_corpus[doc_id].words)\n",
    "print(\"Inferred Vector: {}\".format(inferred_vector))\n",
    "sims = model.docvecs.most_similar([inferred_vector], topn=len(model.docvecs))\n",
    "print(u'SIMILAR/DISSIMILAR DOCS PER MODEL %s:\\n' % model)\n",
    "for label, index in [('MOST', 0), ('SECOND-MOST', 1), ('MEDIAN', len(sims)//2), ('LEAST', len(sims) - 1)]:\n",
    "    print(u'%s %s: «%s»\\n' % (label, sims[index], ' '.join(train_corpus[sims[index][0]].words)))"
   ]
  },
  {
   "cell_type": "markdown",
   "metadata": {},
   "source": [
    "## Testing the Model\n",
    "\n",
    "Using the same approach above, we'll infer the vector for a randomly chosen test document, and compare the document to our model by eye."
   ]
  },
  {
   "cell_type": "code",
   "execution_count": 14,
   "metadata": {},
   "outputs": [
    {
     "name": "stdout",
     "output_type": "stream",
     "text": [
      "Test Document (11): «energize global services cjsc title software developer term full time start date time asap duration permanent location yerevan armenia job description energize global services cjsc is looking for software developer to be engaged in different long term projects job participate in software development in asp net work as part of software development team required qualifications minimum years of work experience in software application development on and excellent knowledge of and experience of development under linux unix os advanced knowledge of oop and ood advanced knowledge of python scripting languages knowledge of stl unit testing frameworks good knowledge of optimization and cryptography algorithms experience in software development using agile methodologies good communication and negotiation skills good knowledge of english language ability to work in team and independently ability to work under pressure on multiple tasks and within tight deadlines remuneration salary based on skills and experience application procedures if interested please email your last updated and detailed cv with size photo to hr please clearly mention in the subject line which position you are applying for only shortlisted candidates will be invited for an interview please clearly mention in your application letter that you learned of this job opportunity through career center and mention the url of its website www careercenter am thanks opening date april application deadline may about company energize global services cjsc is software development company that specializes in offshore development and provides it services for partners all over the world to place free posting for job or other career related opportunities available in your organization just go to the www careercenter am website and follow the post an announcement link»\n",
      "\n",
      "SIMILAR/DISSIMILAR DOCS PER MODEL Doc2Vec(dm/m,d50,n5,w5,mc2,s0.001,t3):\n",
      "\n",
      "MOST (0, 0.6872742772102356): «save the children international armenian representative office title driver logistician term full time start date time march location yerevan armenia job description the driver logistician will be fully responsible for the maintenance and technical oversight of the representative office vehicle fleet transport operations and reporting this includes scheduling of vehicles for servicing management of vehicle fleet and coordination of vehicle assignments for staff transportation and supervision of drivers the incumbent will be ultimately responsible for ensuring that all sci personnel and property are transported in the safest manner possible and in strict accordance with relevant agency and donor policy and procedures and local traffic regulations the driver logistician will also be responsible for outsourcing services for office maintenance and repair transportation services for delivery of materials to the projects sites and logistical support to the sci staff job overseeing technical conditions and coordination of routine care and maintenance of office vehicles ensure that all office vehicles are in good operational order so as to ensure the safety of sci personnel the maximum efficiency of the transport means and the preparedness of the office to respond to its programmatic and administrative needs ensure routine planning and regular rotation of vehicles for inspection maintenance and repair and keep detailed records oversee the scheduling of regular service and repairs of vehicles supervise all mechanical work and maintain detailed service records for all vehicles ensure that good quality services and materials spare parts are procured at reasonable cost where requested coordinate with procurement in the identification and selection of appropriate goods and services necessary for the maintenance and repair of sci vehicles obtain proper documents from service providers and suppliers and ensure the timely payment for services materials procured management of vehicle fleet and coordination of vehicle assignments for staff transportation ensure that all vehicles are properly and securely stored or parked in designated places when not in use ensure that all sci vehicles have full tank of diesel petrol at the end of each working day oversee and coordinate all inter office transport and logistics to ensure efficient and fair usage of office transport resources ensure first and foremost that field office transport resources are used to the maximum advantage of achieving office project and contractual obligations while also ensuring appropriate and adequate support to all other operational and support units assign specific tasks to each driver respond to unplanned vehicle requests each day in an appropriate manner ensure preparedness of vehicle fleet for evacuation in case of emergency training coordination and supervision of office drivers directly supervise the work of drivers ensure that all drivers are fully informed kept up to date and adhere to all relevant co policies and procedures regarding travel and vehicle usage ensure that all drivers are properly trained and possess all proper documents have the necessary skills to ensure safe usage of co vehicles and transportation of office staff ensure that the office personnel is aware of relevant policies and procedures and those are strictly enforced by office drivers and management personnel overseeing the regular monitoring of records and ensuring timely reporting ensure that all vehicles have log books and that the log books are fully maintained and up to date per established policy and procedures and agency and donor regulations monitor and ensure that related office travel and vehicle usage are properly recorded in the vehicle log books reconcile petrol consumption materials and spare parts usage every month prepare monthly reports to reconcile vehicle usage chargeable to sci programs assist in any other appropriate reporting and or monitoring in coordination with senior management to improve the efficiency of transport usage ensure that all vehicles carry any mandated documentation and or equipment as required by agency and donor policies and local regulations logistical support perform collection of vehicle related price quotes for procurement requiring competitive analyses perform custom clearance of pouches and parcels received on the name of sci ensure appropriate and timely registration of sci with custom authorities organize delivery of project materials to the impact area sites ensure selection of reliable transportation companies including collecting quotes as needed and work with them to ensure timely and safe delivery of purchased goods to the project sites assist the operations and security coordinator in vehicle fleet management ensuring that it meets the needs of the co and is maintained in compliance with sci policies and procedures ensure that all vehicles are properly maintained and supplied with necessary equipment first aid kits assist the operations and security coordinator in procurement operations act in accordance with and follow effective procurement policies and procedures ensure that periodic mandatory maintenance check ups of vehicles are carried out in line with the ra legislation ensure that all mandatory insurance related to the vehicle fleet is done and updated in timely manner required qualifications college degree preferably in mechanics or related field and minimum of years of relevant work experience driver license excellent organizational skills critical and creative thinking ability to work on ms words and excel excellent interpersonal skills including patience diplomacy willingness to listen and respect for colleagues ability to work as part of team ability to work effectively in fast paced stressful environment flexibility willingness to perform other duties and work irregular hours fluency in written and spoken armenian language basic knowledge of english language is plus application procedures to apply candidates are asked to email their cvs to anna khachaturyan mentioning driver logistician in the subject line of the message only shortlisted candidates will be invited for an interview save the children international needs to keep children safe so its selection process reflects the organization commitment to the protection of children from abuse please clearly mention in your application letter that you learned of this job opportunity through career center and mention the url of its website www careercenter am thanks opening date february application deadline march about company save the children international established its presence in armenia in with mission to achieve immediate and lasting change in children lives to place free posting for job or other career related opportunities available in your organization just go to the www careercenter am website and follow the post an announcement link»\n",
      "\n",
      "MEDIAN (1, 0.6445068120956421): «world vision armenia title project manager for caring for equality project start date time asap duration years with possible extension location yerevan armenia job description the project manager pm will have overall responsibility for the coordination of all the project activities and staff he she will be responsible for technical leadership and administrative oversight of the caring for equality project and will serve as the principal institutional liaison to the donor partners and local government entities the pm shall have keen understanding of the unique political dynamics related to gender approaches in the country and work carefully and collaboratively to support the various entities in armenia pm will manage team of the project staff and engagement with stakeholders and ensure the quality timeliness and efficiency of all products and activities generated under the project the pm is expected to have strong leadership qualities and the depth and breadth of technical and management expertise he she also provides strategic leadership and supervision of partners consultants service contractors while ensuring the security feasibility and sustainability of the project and contribution to child well being outcomes job direct and oversee project implementation ensuring that all strategic objectives are met through proper design staffing implementation and quality assurance establish and maintain effective project reporting evaluation and communication systems submit timely accurate and professional reports that meet donor requirements manage the project budget within approved spending levels and ensure the submission of accurate and timely financial reports to donors and the so staff ensure the project expenses are reasonable allocated as per assigned budget prudent and spent in accordance with donor rules and regulations to ensure low risk audits liaise with local government officials local communities donor representatives and other stakeholders as appropriate facilitate learning of best practices on the project technical areas and other donor organizations provide spiritual leadership to the project team attend and participate in weekly devotional meetings establish clear and frequent communication regarding the project progress and oversight management with the donor required qualifications the following knowledge skills and abilities may have been acquired through combination of formal schooling self education prior experience or on the job training master degree in related field or equivalent qualifications in grant management and technical field in developing countries at least years of extensive international development experience in managing projects proven ability to manage technical assistance teams knowledge of and familiarity with international assistance program requirements their policies and regulations keen understanding of the unique political dynamics of the country and ability to work carefully and collaboratively to maintain productive relationships with the various government entities in armenia ability to integrate the teams of professionals around common goals demonstrated accomplishment in working with host country professionals ministries and with donor colleagues in the country strong presentation and report writing skills experience in leading diverse teams experience in managing contracts under grants for complex projects fluency in english and armenian languages experience in managing inter agency consortiums is preferred be prepared to travel to implementation sites and regional meetings as required application procedures if you are interested in this position to apply please register at http careers wvi org job opportunities in armenia and send your cv to hr_wvarm no information inquiries will be handled over the phone only short listed candidates will be notified for the interview please mention the position you are applying for in the subject line please clearly mention in your application letter that you learned of this job opportunity through career center and mention the url of its website www careercenter am thanks opening date october application deadline november about company world vision is christian humanitarian and development organization working to create lasting change in the lives established in world vision operates in nearly countries worldwide it is christian relief development and advocacy organization dedicated to working with children families and communities to overcome poverty and injustice world vision pursues life in all its fullness for every child and serves all people regardless of religion race ethnicity or gender world vision armenia works in communities in six marzes of armenia and in yerevan supporting children and their families the organization fulfills advocacy health care education economic development child protection and spiritual growth activities wv armenia operates mainly through its years long term area development programs adp that are predominantly funded through child sponsorship adps are focused on promoting child well being through community participation and ownership to place free posting for job or other career related opportunities available in your organization just go to the www careercenter am website and follow the post an announcement link»\n",
      "\n",
      "LEAST (1, 0.6445068120956421): «world vision armenia title project manager for caring for equality project start date time asap duration years with possible extension location yerevan armenia job description the project manager pm will have overall responsibility for the coordination of all the project activities and staff he she will be responsible for technical leadership and administrative oversight of the caring for equality project and will serve as the principal institutional liaison to the donor partners and local government entities the pm shall have keen understanding of the unique political dynamics related to gender approaches in the country and work carefully and collaboratively to support the various entities in armenia pm will manage team of the project staff and engagement with stakeholders and ensure the quality timeliness and efficiency of all products and activities generated under the project the pm is expected to have strong leadership qualities and the depth and breadth of technical and management expertise he she also provides strategic leadership and supervision of partners consultants service contractors while ensuring the security feasibility and sustainability of the project and contribution to child well being outcomes job direct and oversee project implementation ensuring that all strategic objectives are met through proper design staffing implementation and quality assurance establish and maintain effective project reporting evaluation and communication systems submit timely accurate and professional reports that meet donor requirements manage the project budget within approved spending levels and ensure the submission of accurate and timely financial reports to donors and the so staff ensure the project expenses are reasonable allocated as per assigned budget prudent and spent in accordance with donor rules and regulations to ensure low risk audits liaise with local government officials local communities donor representatives and other stakeholders as appropriate facilitate learning of best practices on the project technical areas and other donor organizations provide spiritual leadership to the project team attend and participate in weekly devotional meetings establish clear and frequent communication regarding the project progress and oversight management with the donor required qualifications the following knowledge skills and abilities may have been acquired through combination of formal schooling self education prior experience or on the job training master degree in related field or equivalent qualifications in grant management and technical field in developing countries at least years of extensive international development experience in managing projects proven ability to manage technical assistance teams knowledge of and familiarity with international assistance program requirements their policies and regulations keen understanding of the unique political dynamics of the country and ability to work carefully and collaboratively to maintain productive relationships with the various government entities in armenia ability to integrate the teams of professionals around common goals demonstrated accomplishment in working with host country professionals ministries and with donor colleagues in the country strong presentation and report writing skills experience in leading diverse teams experience in managing contracts under grants for complex projects fluency in english and armenian languages experience in managing inter agency consortiums is preferred be prepared to travel to implementation sites and regional meetings as required application procedures if you are interested in this position to apply please register at http careers wvi org job opportunities in armenia and send your cv to hr_wvarm no information inquiries will be handled over the phone only short listed candidates will be notified for the interview please mention the position you are applying for in the subject line please clearly mention in your application letter that you learned of this job opportunity through career center and mention the url of its website www careercenter am thanks opening date october application deadline november about company world vision is christian humanitarian and development organization working to create lasting change in the lives established in world vision operates in nearly countries worldwide it is christian relief development and advocacy organization dedicated to working with children families and communities to overcome poverty and injustice world vision pursues life in all its fullness for every child and serves all people regardless of religion race ethnicity or gender world vision armenia works in communities in six marzes of armenia and in yerevan supporting children and their families the organization fulfills advocacy health care education economic development child protection and spiritual growth activities wv armenia operates mainly through its years long term area development programs adp that are predominantly funded through child sponsorship adps are focused on promoting child well being through community participation and ownership to place free posting for job or other career related opportunities available in your organization just go to the www careercenter am website and follow the post an announcement link»\n",
      "\n"
     ]
    }
   ],
   "source": [
    "# Pick a random document from the test corpus and infer a vector from the model\n",
    "doc_id = random.randint(0, len(test_corpus) - 1)\n",
    "inferred_vector = model.infer_vector(test_corpus[doc_id])\n",
    "sims = model.docvecs.most_similar([inferred_vector], topn=len(model.docvecs))\n",
    "\n",
    "# Compare and print the most/median/least similar documents from the train corpus\n",
    "print('Test Document ({}): «{}»\\n'.format(doc_id, ' '.join(test_corpus[doc_id])))\n",
    "print(u'SIMILAR/DISSIMILAR DOCS PER MODEL %s:\\n' % model)\n",
    "for label, index in [('MOST', 0), ('MEDIAN', len(sims)//2), ('LEAST', len(sims) - 1)]:\n",
    "    print(u'%s %s: «%s»\\n' % (label, sims[index], ' '.join(train_corpus[sims[index][0]].words)))"
   ]
  },
  {
   "cell_type": "code",
   "execution_count": 15,
   "metadata": {},
   "outputs": [],
   "source": [
    "filename = \"./models/doc2vec_model\"\n",
    "model.save(\"./models/doc2vec_model\")"
   ]
  },
  {
   "cell_type": "code",
   "execution_count": 16,
   "metadata": {},
   "outputs": [],
   "source": [
    "from gensim.models.doc2vec import Doc2Vec\n",
    "\n",
    "\n",
    "model = Doc2Vec.load(filename)  # you can continue training with the loaded model!\n",
    "model.delete_temporary_training_data(keep_doctags_vectors=True, keep_inference=True)"
   ]
  },
  {
   "cell_type": "markdown",
   "metadata": {},
   "source": [
    "## Use Doc2Vec with SVM"
   ]
  },
  {
   "cell_type": "code",
   "execution_count": 17,
   "metadata": {},
   "outputs": [],
   "source": [
    "train_X, train_y = [], []\n",
    "for corpora in train_corpus:\n",
    "    train_X.append(model.infer_vector(corpora.words))\n",
    "    train_y.append(corpora.tags[0])\n",
    "    \n",
    "train_X = np.array(train_X)\n",
    "train_y = np.array(train_y)"
   ]
  },
  {
   "cell_type": "code",
   "execution_count": 18,
   "metadata": {},
   "outputs": [],
   "source": [
    "test_X = []\n",
    "for corpora in test_corpus:\n",
    "    test_X.append(model.infer_vector(corpora))\n",
    "    \n",
    "test_X = np.array(test_X)"
   ]
  },
  {
   "cell_type": "code",
   "execution_count": 19,
   "metadata": {},
   "outputs": [],
   "source": [
    "test_y = test['label']"
   ]
  },
  {
   "cell_type": "code",
   "execution_count": 20,
   "metadata": {},
   "outputs": [
    {
     "data": {
      "text/plain": [
       "SVC(C=100.0, cache_size=200, class_weight=None, coef0=0.0,\n",
       "  decision_function_shape='ovr', degree=3, gamma=0.001, kernel='rbf',\n",
       "  max_iter=-1, probability=False, random_state=None, shrinking=True,\n",
       "  tol=0.001, verbose=False)"
      ]
     },
     "execution_count": 20,
     "metadata": {},
     "output_type": "execute_result"
    }
   ],
   "source": [
    "from sklearn import svm\n",
    "\n",
    "clf = svm.SVC(gamma=0.001, C=100.)\n",
    "\n",
    "clf.fit(train_X, train_y)"
   ]
  },
  {
   "cell_type": "code",
   "execution_count": 21,
   "metadata": {},
   "outputs": [],
   "source": [
    "import pickle\n",
    "\n",
    "filename = \"./models/doc2vec_svc.pkl\"\n",
    "pickle.dump(clf, open(filename, 'wb'))"
   ]
  },
  {
   "cell_type": "code",
   "execution_count": 22,
   "metadata": {},
   "outputs": [],
   "source": [
    "import pickle\n",
    "\n",
    "filename = \"./models/doc2vec_svc.pkl\"\n",
    "clf = pickle.load(open(filename, 'rb'))\n",
    "predicted_y = clf.predict(test_X)"
   ]
  },
  {
   "cell_type": "code",
   "execution_count": 23,
   "metadata": {},
   "outputs": [],
   "source": [
    "import matplotlib.pyplot as plt\n",
    "import itertools\n",
    "from sklearn.metrics import confusion_matrix, classification_report\n",
    "\n",
    "def pretty_print_conf_matrix(y_true, y_pred, \n",
    "                             classes,\n",
    "                             normalize=False,\n",
    "                             title='Confusion matrix',\n",
    "                             cmap=plt.cm.Blues):\n",
    "    \"\"\"\n",
    "    Mostly stolen from: http://scikit-learn.org/stable/auto_examples/model_selection/plot_confusion_matrix.html#sphx-glr-auto-examples-model-selection-plot-confusion-matrix-py\n",
    "\n",
    "    Normalization changed, classification_report stats added below plot\n",
    "    \"\"\"\n",
    "\n",
    "    cm = confusion_matrix(y_true, y_pred)\n",
    "\n",
    "    # Configure Confusion Matrix Plot Aesthetics (no text yet) \n",
    "    plt.imshow(cm, interpolation='nearest', cmap=cmap)\n",
    "    plt.title(title, fontsize=14)\n",
    "    tick_marks = np.arange(len(classes))\n",
    "    plt.xticks(tick_marks, classes, rotation=45)\n",
    "    plt.yticks(tick_marks, classes)\n",
    "    plt.ylabel('True label', fontsize=12)\n",
    "    plt.xlabel('Predicted label', fontsize=12)\n",
    "\n",
    "    # Calculate normalized values (so all cells sum to 1) if desired\n",
    "    if normalize:\n",
    "        cm = np.round(cm.astype('float') / cm.sum(),2) #(axis=1)[:, np.newaxis]\n",
    "\n",
    "    # Place Numbers as Text on Confusion Matrix Plot\n",
    "    thresh = cm.max() / 2.\n",
    "    for i, j in itertools.product(range(cm.shape[0]), range(cm.shape[1])):\n",
    "        plt.text(j, i, cm[i, j],\n",
    "                 horizontalalignment=\"center\",\n",
    "                 color=\"white\" if cm[i, j] > thresh else \"black\",\n",
    "                 fontsize=12)"
   ]
  },
  {
   "cell_type": "code",
   "execution_count": 24,
   "metadata": {},
   "outputs": [
    {
     "data": {
      "image/png": "[encoded data removed]",
      "text/plain": [
       "<Figure size 432x288 with 1 Axes>"
      ]
     },
     "metadata": {},
     "output_type": "display_data"
    }
   ],
   "source": [
    "pretty_print_conf_matrix(y_true=test_y, y_pred=predicted_y, classes=[\"False\", \"True\"])"
   ]
  },
  {
   "cell_type": "code",
   "execution_count": 25,
   "metadata": {},
   "outputs": [
    {
     "name": "stdout",
     "output_type": "stream",
     "text": [
      "              precision    recall  f1-score   support\n",
      "\n",
      "       False       0.92      0.95      0.94      4573\n",
      "        True       0.77      0.68      0.72      1128\n",
      "\n",
      "   micro avg       0.90      0.90      0.90      5701\n",
      "   macro avg       0.85      0.81      0.83      5701\n",
      "weighted avg       0.89      0.90      0.89      5701\n",
      "\n"
     ]
    }
   ],
   "source": [
    "rpt = classification_report(test_y, predicted_y)\n",
    "print(rpt)"
   ]
  }
 ],
 "metadata": {
  "kernelspec": {
   "display_name": "Python 3",
   "language": "python",
   "name": "python3"
  },
  "language_info": {
   "codemirror_mode": {
    "name": "ipython",
    "version": 3
   },
   "file_extension": ".py",
   "mimetype": "text/x-python",
   "name": "python",
   "nbconvert_exporter": "python",
   "pygments_lexer": "ipython3",
   "version": "3.6.5"
  }
 },
 "nbformat": 4,
 "nbformat_minor": 2
}
