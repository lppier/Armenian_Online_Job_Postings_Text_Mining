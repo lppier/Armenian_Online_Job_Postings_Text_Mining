{
  "nbformat": 4,
  "nbformat_minor": 0,
  "metadata": {
    "colab": {
      "name": "2 - Upgraded Classification using RNN.ipynb",
      "version": "0.3.2",
      "provenance": [],
      "collapsed_sections": []
    },
    "kernelspec": {
      "name": "python3",
      "display_name": "Python 3"
    },
    "accelerator": "GPU"
  },
  "cells": [
    {
      "metadata": {
        "id": "RREn6iHds7GD",
        "colab_type": "code",
        "colab": {
          "base_uri": "https://localhost:8080/",
          "height": 326
        },
        "outputId": "8c659943-8d82-4f5f-ec3f-d95022124789"
      },
      "cell_type": "code",
      "source": [
        "!pip install torch torchvision"
      ],
      "execution_count": 1,
      "outputs": [
        {
          "output_type": "stream",
          "text": [
            "Collecting torch\n",
            "\u001b[?25l  Downloading https://files.pythonhosted.org/packages/49/0e/e382bcf1a6ae8225f50b99cc26effa2d4cc6d66975ccf3fa9590efcbedce/torch-0.4.1-cp36-cp36m-manylinux1_x86_64.whl (519.5MB)\n",
            "\u001b[K    100% |████████████████████████████████| 519.5MB 27kB/s \n",
            "tcmalloc: large alloc 1073750016 bytes == 0x5985c000 @  0x7f51875e12a4 0x594e17 0x626104 0x51190a 0x4f5277 0x510c78 0x5119bd 0x4f5277 0x4f3338 0x510fb0 0x5119bd 0x4f5277 0x4f3338 0x510fb0 0x5119bd 0x4f5277 0x4f3338 0x510fb0 0x5119bd 0x4f6070 0x510c78 0x5119bd 0x4f5277 0x4f3338 0x510fb0 0x5119bd 0x4f6070 0x4f3338 0x510fb0 0x5119bd 0x4f6070\n",
            "\u001b[?25hCollecting torchvision\n",
            "\u001b[?25l  Downloading https://files.pythonhosted.org/packages/ca/0d/f00b2885711e08bd71242ebe7b96561e6f6d01fdb4b9dcf4d37e2e13c5e1/torchvision-0.2.1-py2.py3-none-any.whl (54kB)\n",
            "\u001b[K    100% |████████████████████████████████| 61kB 23.9MB/s \n",
            "\u001b[?25hRequirement already satisfied: numpy in /usr/local/lib/python3.6/dist-packages (from torchvision) (1.14.6)\n",
            "Requirement already satisfied: six in /usr/local/lib/python3.6/dist-packages (from torchvision) (1.11.0)\n",
            "Collecting pillow>=4.1.1 (from torchvision)\n",
            "\u001b[?25l  Downloading https://files.pythonhosted.org/packages/62/94/5430ebaa83f91cc7a9f687ff5238e26164a779cca2ef9903232268b0a318/Pillow-5.3.0-cp36-cp36m-manylinux1_x86_64.whl (2.0MB)\n",
            "\u001b[K    100% |████████████████████████████████| 2.0MB 5.2MB/s \n",
            "\u001b[?25hInstalling collected packages: torch, pillow, torchvision\n",
            "  Found existing installation: Pillow 4.0.0\n",
            "    Uninstalling Pillow-4.0.0:\n",
            "      Successfully uninstalled Pillow-4.0.0\n",
            "Successfully installed pillow-5.3.0 torch-0.4.1 torchvision-0.2.1\n"
          ],
          "name": "stdout"
        }
      ]
    },
    {
      "metadata": {
        "id": "7HdOBdhAwrtZ",
        "colab_type": "code",
        "colab": {
          "base_uri": "https://localhost:8080/",
          "height": 272
        },
        "outputId": "c76195e9-d5dd-4bd9-f735-b4eedb1aadad"
      },
      "cell_type": "code",
      "source": [
        "!pip install torchtext"
      ],
      "execution_count": 2,
      "outputs": [
        {
          "output_type": "stream",
          "text": [
            "Collecting torchtext\n",
            "\u001b[?25l  Downloading https://files.pythonhosted.org/packages/78/90/474d5944d43001a6e72b9aaed5c3e4f77516fbef2317002da2096fd8b5ea/torchtext-0.2.3.tar.gz (42kB)\n",
            "\u001b[K    100% |████████████████████████████████| 51kB 2.1MB/s \n",
            "\u001b[?25hRequirement already satisfied: tqdm in /usr/local/lib/python3.6/dist-packages (from torchtext) (4.26.0)\n",
            "Requirement already satisfied: requests in /usr/local/lib/python3.6/dist-packages (from torchtext) (2.18.4)\n",
            "Requirement already satisfied: idna<2.7,>=2.5 in /usr/local/lib/python3.6/dist-packages (from requests->torchtext) (2.6)\n",
            "Requirement already satisfied: chardet<3.1.0,>=3.0.2 in /usr/local/lib/python3.6/dist-packages (from requests->torchtext) (3.0.4)\n",
            "Requirement already satisfied: urllib3<1.23,>=1.21.1 in /usr/local/lib/python3.6/dist-packages (from requests->torchtext) (1.22)\n",
            "Requirement already satisfied: certifi>=2017.4.17 in /usr/local/lib/python3.6/dist-packages (from requests->torchtext) (2018.8.24)\n",
            "Building wheels for collected packages: torchtext\n",
            "  Running setup.py bdist_wheel for torchtext ... \u001b[?25l-\b \bdone\n",
            "\u001b[?25h  Stored in directory: /root/.cache/pip/wheels/42/a6/f4/b267328bde6bb680094a0c173e8e5627ccc99543abded97204\n",
            "Successfully built torchtext\n",
            "Installing collected packages: torchtext\n",
            "Successfully installed torchtext-0.2.3\n"
          ],
          "name": "stdout"
        }
      ]
    },
    {
      "metadata": {
        "id": "4lo0TUwy1NuQ",
        "colab_type": "code",
        "colab": {
          "base_uri": "https://localhost:8080/",
          "height": 734
        },
        "outputId": "febe4fb5-7c27-4fae-d7cb-3c3595cf18b5"
      },
      "cell_type": "code",
      "source": [
        "!pip install gensim\n",
        "!pip install -U -q PyDrive"
      ],
      "execution_count": 3,
      "outputs": [
        {
          "output_type": "stream",
          "text": [
            "Collecting gensim\n",
            "\u001b[?25l  Downloading https://files.pythonhosted.org/packages/27/a4/d10c0acc8528d838cda5eede0ee9c784caa598dbf40bd0911ff8d067a7eb/gensim-3.6.0-cp36-cp36m-manylinux1_x86_64.whl (23.6MB)\n",
            "\u001b[K    100% |████████████████████████████████| 23.6MB 1.8MB/s \n",
            "\u001b[?25hRequirement already satisfied: numpy>=1.11.3 in /usr/local/lib/python3.6/dist-packages (from gensim) (1.14.6)\n",
            "Requirement already satisfied: scipy>=0.18.1 in /usr/local/lib/python3.6/dist-packages (from gensim) (0.19.1)\n",
            "Collecting smart-open>=1.2.1 (from gensim)\n",
            "  Downloading https://files.pythonhosted.org/packages/4b/1f/6f27e3682124de63ac97a0a5876da6186de6c19410feab66c1543afab055/smart_open-1.7.1.tar.gz\n",
            "Requirement already satisfied: six>=1.5.0 in /usr/local/lib/python3.6/dist-packages (from gensim) (1.11.0)\n",
            "Collecting boto>=2.32 (from smart-open>=1.2.1->gensim)\n",
            "\u001b[?25l  Downloading https://files.pythonhosted.org/packages/23/10/c0b78c27298029e4454a472a1919bde20cb182dab1662cec7f2ca1dcc523/boto-2.49.0-py2.py3-none-any.whl (1.4MB)\n",
            "\u001b[K    100% |████████████████████████████████| 1.4MB 12.8MB/s \n",
            "\u001b[?25hCollecting bz2file (from smart-open>=1.2.1->gensim)\n",
            "  Downloading https://files.pythonhosted.org/packages/61/39/122222b5e85cd41c391b68a99ee296584b2a2d1d233e7ee32b4532384f2d/bz2file-0.98.tar.gz\n",
            "Requirement already satisfied: requests in /usr/local/lib/python3.6/dist-packages (from smart-open>=1.2.1->gensim) (2.18.4)\n",
            "Collecting boto3 (from smart-open>=1.2.1->gensim)\n",
            "\u001b[?25l  Downloading https://files.pythonhosted.org/packages/f8/fe/76fc5a00b0ef8cd7958f2b71e7c442f01ff3883c6f3720a64ddef6b6680b/boto3-1.9.21-py2.py3-none-any.whl (128kB)\n",
            "\u001b[K    100% |████████████████████████████████| 133kB 28.7MB/s \n",
            "\u001b[?25hRequirement already satisfied: urllib3<1.23,>=1.21.1 in /usr/local/lib/python3.6/dist-packages (from requests->smart-open>=1.2.1->gensim) (1.22)\n",
            "Requirement already satisfied: idna<2.7,>=2.5 in /usr/local/lib/python3.6/dist-packages (from requests->smart-open>=1.2.1->gensim) (2.6)\n",
            "Requirement already satisfied: chardet<3.1.0,>=3.0.2 in /usr/local/lib/python3.6/dist-packages (from requests->smart-open>=1.2.1->gensim) (3.0.4)\n",
            "Requirement already satisfied: certifi>=2017.4.17 in /usr/local/lib/python3.6/dist-packages (from requests->smart-open>=1.2.1->gensim) (2018.8.24)\n",
            "Collecting jmespath<1.0.0,>=0.7.1 (from boto3->smart-open>=1.2.1->gensim)\n",
            "  Downloading https://files.pythonhosted.org/packages/b7/31/05c8d001f7f87f0f07289a5fc0fc3832e9a57f2dbd4d3b0fee70e0d51365/jmespath-0.9.3-py2.py3-none-any.whl\n",
            "Collecting s3transfer<0.2.0,>=0.1.10 (from boto3->smart-open>=1.2.1->gensim)\n",
            "\u001b[?25l  Downloading https://files.pythonhosted.org/packages/d7/14/2a0004d487464d120c9fb85313a75cd3d71a7506955be458eebfe19a6b1d/s3transfer-0.1.13-py2.py3-none-any.whl (59kB)\n",
            "\u001b[K    100% |████████████████████████████████| 61kB 22.9MB/s \n",
            "\u001b[?25hCollecting botocore<1.13.0,>=1.12.21 (from boto3->smart-open>=1.2.1->gensim)\n",
            "\u001b[?25l  Downloading https://files.pythonhosted.org/packages/2f/1a/802af8dba189138768281b0278cec9bfed0025b5cc64de5cf1d1e5f271b3/botocore-1.12.21-py2.py3-none-any.whl (4.7MB)\n",
            "\u001b[K    100% |████████████████████████████████| 4.7MB 5.7MB/s \n",
            "\u001b[?25hRequirement already satisfied: python-dateutil<3.0.0,>=2.1; python_version >= \"2.7\" in /usr/local/lib/python3.6/dist-packages (from botocore<1.13.0,>=1.12.21->boto3->smart-open>=1.2.1->gensim) (2.5.3)\n",
            "Collecting docutils>=0.10 (from botocore<1.13.0,>=1.12.21->boto3->smart-open>=1.2.1->gensim)\n",
            "\u001b[?25l  Downloading https://files.pythonhosted.org/packages/36/fa/08e9e6e0e3cbd1d362c3bbee8d01d0aedb2155c4ac112b19ef3cae8eed8d/docutils-0.14-py3-none-any.whl (543kB)\n",
            "\u001b[K    100% |████████████████████████████████| 552kB 15.9MB/s \n",
            "\u001b[?25hBuilding wheels for collected packages: smart-open, bz2file\n",
            "  Running setup.py bdist_wheel for smart-open ... \u001b[?25l-\b \b\\\b \bdone\n",
            "\u001b[?25h  Stored in directory: /root/.cache/pip/wheels/23/00/44/e5b939f7a80c04e32297dbd6d96fa3065af89ecf57e2b5f89f\n",
            "  Running setup.py bdist_wheel for bz2file ... \u001b[?25l-\b \b\\\b \bdone\n",
            "\u001b[?25h  Stored in directory: /root/.cache/pip/wheels/81/75/d6/e1317bf09bf1af5a30befc2a007869fa6e1f516b8f7c591cb9\n",
            "Successfully built smart-open bz2file\n",
            "Installing collected packages: boto, bz2file, jmespath, docutils, botocore, s3transfer, boto3, smart-open, gensim\n",
            "Successfully installed boto-2.49.0 boto3-1.9.21 botocore-1.12.21 bz2file-0.98 docutils-0.14 gensim-3.6.0 jmespath-0.9.3 s3transfer-0.1.13 smart-open-1.7.1\n"
          ],
          "name": "stdout"
        }
      ]
    },
    {
      "metadata": {
        "id": "dxiZ98_vw8ih",
        "colab_type": "code",
        "colab": {
          "base_uri": "https://localhost:8080/",
          "height": 258
        },
        "outputId": "ef8e2c15-a188-4d02-d776-b42c7e36088a"
      },
      "cell_type": "code",
      "source": [
        "!python -m spacy download en"
      ],
      "execution_count": 4,
      "outputs": [
        {
          "output_type": "stream",
          "text": [
            "Collecting en_core_web_sm==2.0.0 from https://github.com/explosion/spacy-models/releases/download/en_core_web_sm-2.0.0/en_core_web_sm-2.0.0.tar.gz#egg=en_core_web_sm==2.0.0\n",
            "\u001b[?25l  Downloading https://github.com/explosion/spacy-models/releases/download/en_core_web_sm-2.0.0/en_core_web_sm-2.0.0.tar.gz (37.4MB)\n",
            "\u001b[K    100% |████████████████████████████████| 37.4MB 33.0MB/s \n",
            "\u001b[?25hInstalling collected packages: en-core-web-sm\n",
            "  Running setup.py install for en-core-web-sm ... \u001b[?25l-\b \b\\\b \b|\b \bdone\n",
            "\u001b[?25hSuccessfully installed en-core-web-sm-2.0.0\n",
            "\n",
            "\u001b[93m    Linking successful\u001b[0m\n",
            "    /usr/local/lib/python3.6/dist-packages/en_core_web_sm -->\n",
            "    /usr/local/lib/python3.6/dist-packages/spacy/data/en\n",
            "\n",
            "    You can now load the model via spacy.load('en')\n",
            "\n"
          ],
          "name": "stdout"
        }
      ]
    },
    {
      "metadata": {
        "id": "OFM3ndSx2Fhw",
        "colab_type": "code",
        "colab": {}
      },
      "cell_type": "code",
      "source": [
        "from pydrive.auth import GoogleAuth\n",
        "from pydrive.drive import GoogleDrive\n",
        "from oauth2client.client import GoogleCredentials\n",
        "from google.colab import auth\n",
        "\n",
        "auth.authenticate_user()\n",
        "gauth = GoogleAuth()\n",
        "gauth.credentials = GoogleCredentials.get_application_default()\n",
        "drive = GoogleDrive(gauth)"
      ],
      "execution_count": 0,
      "outputs": []
    },
    {
      "metadata": {
        "id": "7E0bZBkz4LaZ",
        "colab_type": "code",
        "colab": {}
      },
      "cell_type": "code",
      "source": [
        "# download google drive file\n",
        "def download_drive_file(drive_directory, filename):\n",
        "  list_file_query = \"title='{}' and trashed=false\".format(drive_directory)\n",
        "  file_list = drive.ListFile({'q': list_file_query}).GetList()\n",
        "\n",
        "  if len(file_list) > 0:\n",
        "    directory_id = file_list[0]['id']\n",
        "\n",
        "    list_file_query = \"'{}' in parents\".format(directory_id)\n",
        "\n",
        "    file_list = drive.ListFile({'q': list_file_query}).GetList()\n",
        "    \n",
        "    file_id = None\n",
        "    for file1 in file_list:\n",
        "      if file1['title'] == filename:\n",
        "        print(\"downloading file {}\".format(file1['title']))\n",
        "        file1.GetContentFile(file1['title'])"
      ],
      "execution_count": 0,
      "outputs": []
    },
    {
      "metadata": {
        "id": "J1JPJ0hn5Nys",
        "colab_type": "code",
        "colab": {
          "base_uri": "https://localhost:8080/",
          "height": 34
        },
        "outputId": "af8915bf-572d-4290-d375-7e724ea158b0"
      },
      "cell_type": "code",
      "source": [
        "download_drive_file(\"Datasets\", \"data job posts.csv\")"
      ],
      "execution_count": 7,
      "outputs": [
        {
          "output_type": "stream",
          "text": [
            "downloading file data job posts.csv\n"
          ],
          "name": "stdout"
        }
      ]
    },
    {
      "metadata": {
        "id": "HtuzjRDPZduU",
        "colab_type": "code",
        "colab": {
          "base_uri": "https://localhost:8080/",
          "height": 559
        },
        "outputId": "3ef4aeef-b683-476a-a43c-8772da97ca62"
      },
      "cell_type": "code",
      "source": [
        "import pandas as pd\n",
        "\n",
        "df = pd.read_csv(\"data job posts.csv\")\n",
        "df.head(5)"
      ],
      "execution_count": 8,
      "outputs": [
        {
          "output_type": "execute_result",
          "data": {
            "text/html": [
              "<div>\n",
              "<style scoped>\n",
              "    .dataframe tbody tr th:only-of-type {\n",
              "        vertical-align: middle;\n",
              "    }\n",
              "\n",
              "    .dataframe tbody tr th {\n",
              "        vertical-align: top;\n",
              "    }\n",
              "\n",
              "    .dataframe thead th {\n",
              "        text-align: right;\n",
              "    }\n",
              "</style>\n",
              "<table border=\"1\" class=\"dataframe\">\n",
              "  <thead>\n",
              "    <tr style=\"text-align: right;\">\n",
              "      <th></th>\n",
              "      <th>jobpost</th>\n",
              "      <th>date</th>\n",
              "      <th>Title</th>\n",
              "      <th>Company</th>\n",
              "      <th>AnnouncementCode</th>\n",
              "      <th>Term</th>\n",
              "      <th>Eligibility</th>\n",
              "      <th>Audience</th>\n",
              "      <th>StartDate</th>\n",
              "      <th>Duration</th>\n",
              "      <th>...</th>\n",
              "      <th>Salary</th>\n",
              "      <th>ApplicationP</th>\n",
              "      <th>OpeningDate</th>\n",
              "      <th>Deadline</th>\n",
              "      <th>Notes</th>\n",
              "      <th>AboutC</th>\n",
              "      <th>Attach</th>\n",
              "      <th>Year</th>\n",
              "      <th>Month</th>\n",
              "      <th>IT</th>\n",
              "    </tr>\n",
              "  </thead>\n",
              "  <tbody>\n",
              "    <tr>\n",
              "      <th>0</th>\n",
              "      <td>AMERIA Investment Consulting Company\\nJOB TITL...</td>\n",
              "      <td>Jan 5, 2004</td>\n",
              "      <td>Chief Financial Officer</td>\n",
              "      <td>AMERIA Investment Consulting Company</td>\n",
              "      <td>NaN</td>\n",
              "      <td>NaN</td>\n",
              "      <td>NaN</td>\n",
              "      <td>NaN</td>\n",
              "      <td>NaN</td>\n",
              "      <td>NaN</td>\n",
              "      <td>...</td>\n",
              "      <td>NaN</td>\n",
              "      <td>To apply for this position, please submit a\\nc...</td>\n",
              "      <td>NaN</td>\n",
              "      <td>26 January 2004</td>\n",
              "      <td>NaN</td>\n",
              "      <td>NaN</td>\n",
              "      <td>NaN</td>\n",
              "      <td>2004</td>\n",
              "      <td>1</td>\n",
              "      <td>False</td>\n",
              "    </tr>\n",
              "    <tr>\n",
              "      <th>1</th>\n",
              "      <td>International Research &amp; Exchanges Board (IREX...</td>\n",
              "      <td>Jan 7, 2004</td>\n",
              "      <td>Full-time Community Connections Intern (paid i...</td>\n",
              "      <td>International Research &amp; Exchanges Board (IREX)</td>\n",
              "      <td>NaN</td>\n",
              "      <td>NaN</td>\n",
              "      <td>NaN</td>\n",
              "      <td>NaN</td>\n",
              "      <td>NaN</td>\n",
              "      <td>3 months</td>\n",
              "      <td>...</td>\n",
              "      <td>NaN</td>\n",
              "      <td>Please submit a cover letter and resume to:\\nI...</td>\n",
              "      <td>NaN</td>\n",
              "      <td>12 January 2004</td>\n",
              "      <td>NaN</td>\n",
              "      <td>The International Research &amp; Exchanges Board (...</td>\n",
              "      <td>NaN</td>\n",
              "      <td>2004</td>\n",
              "      <td>1</td>\n",
              "      <td>False</td>\n",
              "    </tr>\n",
              "    <tr>\n",
              "      <th>2</th>\n",
              "      <td>Caucasus Environmental NGO Network (CENN)\\nJOB...</td>\n",
              "      <td>Jan 7, 2004</td>\n",
              "      <td>Country Coordinator</td>\n",
              "      <td>Caucasus Environmental NGO Network (CENN)</td>\n",
              "      <td>NaN</td>\n",
              "      <td>NaN</td>\n",
              "      <td>NaN</td>\n",
              "      <td>NaN</td>\n",
              "      <td>NaN</td>\n",
              "      <td>Renewable annual contract\\nPOSITION</td>\n",
              "      <td>...</td>\n",
              "      <td>NaN</td>\n",
              "      <td>Please send resume or CV toursula.kazarian@......</td>\n",
              "      <td>NaN</td>\n",
              "      <td>20 January 2004\\nSTART DATE:  February 2004</td>\n",
              "      <td>NaN</td>\n",
              "      <td>The Caucasus Environmental NGO Network is a\\nn...</td>\n",
              "      <td>NaN</td>\n",
              "      <td>2004</td>\n",
              "      <td>1</td>\n",
              "      <td>False</td>\n",
              "    </tr>\n",
              "    <tr>\n",
              "      <th>3</th>\n",
              "      <td>Manoff Group\\nJOB TITLE:  BCC Specialist\\nPOSI...</td>\n",
              "      <td>Jan 7, 2004</td>\n",
              "      <td>BCC Specialist</td>\n",
              "      <td>Manoff Group</td>\n",
              "      <td>NaN</td>\n",
              "      <td>NaN</td>\n",
              "      <td>NaN</td>\n",
              "      <td>NaN</td>\n",
              "      <td>NaN</td>\n",
              "      <td>NaN</td>\n",
              "      <td>...</td>\n",
              "      <td>NaN</td>\n",
              "      <td>Please send cover letter and resume to Amy\\nPe...</td>\n",
              "      <td>NaN</td>\n",
              "      <td>23 January 2004\\nSTART DATE:  Immediate</td>\n",
              "      <td>NaN</td>\n",
              "      <td>NaN</td>\n",
              "      <td>NaN</td>\n",
              "      <td>2004</td>\n",
              "      <td>1</td>\n",
              "      <td>False</td>\n",
              "    </tr>\n",
              "    <tr>\n",
              "      <th>4</th>\n",
              "      <td>Yerevan Brandy Company\\nJOB TITLE:  Software D...</td>\n",
              "      <td>Jan 10, 2004</td>\n",
              "      <td>Software Developer</td>\n",
              "      <td>Yerevan Brandy Company</td>\n",
              "      <td>NaN</td>\n",
              "      <td>NaN</td>\n",
              "      <td>NaN</td>\n",
              "      <td>NaN</td>\n",
              "      <td>NaN</td>\n",
              "      <td>NaN</td>\n",
              "      <td>...</td>\n",
              "      <td>NaN</td>\n",
              "      <td>Successful candidates should submit\\n- CV; \\n-...</td>\n",
              "      <td>NaN</td>\n",
              "      <td>20 January 2004, 18:00</td>\n",
              "      <td>NaN</td>\n",
              "      <td>NaN</td>\n",
              "      <td>NaN</td>\n",
              "      <td>2004</td>\n",
              "      <td>1</td>\n",
              "      <td>True</td>\n",
              "    </tr>\n",
              "  </tbody>\n",
              "</table>\n",
              "<p>5 rows × 24 columns</p>\n",
              "</div>"
            ],
            "text/plain": [
              "                                             jobpost          date  \\\n",
              "0  AMERIA Investment Consulting Company\\nJOB TITL...   Jan 5, 2004   \n",
              "1  International Research & Exchanges Board (IREX...   Jan 7, 2004   \n",
              "2  Caucasus Environmental NGO Network (CENN)\\nJOB...   Jan 7, 2004   \n",
              "3  Manoff Group\\nJOB TITLE:  BCC Specialist\\nPOSI...   Jan 7, 2004   \n",
              "4  Yerevan Brandy Company\\nJOB TITLE:  Software D...  Jan 10, 2004   \n",
              "\n",
              "                                               Title  \\\n",
              "0                            Chief Financial Officer   \n",
              "1  Full-time Community Connections Intern (paid i...   \n",
              "2                                Country Coordinator   \n",
              "3                                     BCC Specialist   \n",
              "4                                 Software Developer   \n",
              "\n",
              "                                           Company AnnouncementCode Term  \\\n",
              "0             AMERIA Investment Consulting Company              NaN  NaN   \n",
              "1  International Research & Exchanges Board (IREX)              NaN  NaN   \n",
              "2        Caucasus Environmental NGO Network (CENN)              NaN  NaN   \n",
              "3                                     Manoff Group              NaN  NaN   \n",
              "4                           Yerevan Brandy Company              NaN  NaN   \n",
              "\n",
              "  Eligibility Audience StartDate                             Duration  ...    \\\n",
              "0         NaN      NaN       NaN                                  NaN  ...     \n",
              "1         NaN      NaN       NaN                             3 months  ...     \n",
              "2         NaN      NaN       NaN  Renewable annual contract\\nPOSITION  ...     \n",
              "3         NaN      NaN       NaN                                  NaN  ...     \n",
              "4         NaN      NaN       NaN                                  NaN  ...     \n",
              "\n",
              "  Salary                                       ApplicationP OpeningDate  \\\n",
              "0    NaN  To apply for this position, please submit a\\nc...         NaN   \n",
              "1    NaN  Please submit a cover letter and resume to:\\nI...         NaN   \n",
              "2    NaN  Please send resume or CV toursula.kazarian@......         NaN   \n",
              "3    NaN  Please send cover letter and resume to Amy\\nPe...         NaN   \n",
              "4    NaN  Successful candidates should submit\\n- CV; \\n-...         NaN   \n",
              "\n",
              "                                      Deadline Notes  \\\n",
              "0                              26 January 2004   NaN   \n",
              "1                              12 January 2004   NaN   \n",
              "2  20 January 2004\\nSTART DATE:  February 2004   NaN   \n",
              "3      23 January 2004\\nSTART DATE:  Immediate   NaN   \n",
              "4                       20 January 2004, 18:00   NaN   \n",
              "\n",
              "                                              AboutC Attach  Year Month     IT  \n",
              "0                                                NaN    NaN  2004     1  False  \n",
              "1  The International Research & Exchanges Board (...    NaN  2004     1  False  \n",
              "2  The Caucasus Environmental NGO Network is a\\nn...    NaN  2004     1  False  \n",
              "3                                                NaN    NaN  2004     1  False  \n",
              "4                                                NaN    NaN  2004     1   True  \n",
              "\n",
              "[5 rows x 24 columns]"
            ]
          },
          "metadata": {
            "tags": []
          },
          "execution_count": 8
        }
      ]
    },
    {
      "metadata": {
        "id": "O6Pez43IZj1M",
        "colab_type": "code",
        "colab": {}
      },
      "cell_type": "code",
      "source": [
        "df[[\"jobpost\", \"IT\"]].to_csv(\"data_jobposts_it.csv\", encoding=\"utf-8\", index=False)"
      ],
      "execution_count": 0,
      "outputs": []
    },
    {
      "metadata": {
        "id": "LGmWL_lA4quu",
        "colab_type": "code",
        "colab": {
          "base_uri": "https://localhost:8080/",
          "height": 204
        },
        "outputId": "d4efe10d-41ff-42f0-fec4-7fdd107d8e46"
      },
      "cell_type": "code",
      "source": [
        "df = pd.read_csv(\"data_jobposts_it.csv\")\n",
        "df.head(5)"
      ],
      "execution_count": 14,
      "outputs": [
        {
          "output_type": "execute_result",
          "data": {
            "text/html": [
              "<div>\n",
              "<style scoped>\n",
              "    .dataframe tbody tr th:only-of-type {\n",
              "        vertical-align: middle;\n",
              "    }\n",
              "\n",
              "    .dataframe tbody tr th {\n",
              "        vertical-align: top;\n",
              "    }\n",
              "\n",
              "    .dataframe thead th {\n",
              "        text-align: right;\n",
              "    }\n",
              "</style>\n",
              "<table border=\"1\" class=\"dataframe\">\n",
              "  <thead>\n",
              "    <tr style=\"text-align: right;\">\n",
              "      <th></th>\n",
              "      <th>jobpost</th>\n",
              "      <th>IT</th>\n",
              "    </tr>\n",
              "  </thead>\n",
              "  <tbody>\n",
              "    <tr>\n",
              "      <th>0</th>\n",
              "      <td>AMERIA Investment Consulting Company\\nJOB TITL...</td>\n",
              "      <td>False</td>\n",
              "    </tr>\n",
              "    <tr>\n",
              "      <th>1</th>\n",
              "      <td>International Research &amp; Exchanges Board (IREX...</td>\n",
              "      <td>False</td>\n",
              "    </tr>\n",
              "    <tr>\n",
              "      <th>2</th>\n",
              "      <td>Caucasus Environmental NGO Network (CENN)\\nJOB...</td>\n",
              "      <td>False</td>\n",
              "    </tr>\n",
              "    <tr>\n",
              "      <th>3</th>\n",
              "      <td>Manoff Group\\nJOB TITLE:  BCC Specialist\\nPOSI...</td>\n",
              "      <td>False</td>\n",
              "    </tr>\n",
              "    <tr>\n",
              "      <th>4</th>\n",
              "      <td>Yerevan Brandy Company\\nJOB TITLE:  Software D...</td>\n",
              "      <td>True</td>\n",
              "    </tr>\n",
              "  </tbody>\n",
              "</table>\n",
              "</div>"
            ],
            "text/plain": [
              "                                             jobpost     IT\n",
              "0  AMERIA Investment Consulting Company\\nJOB TITL...  False\n",
              "1  International Research & Exchanges Board (IREX...  False\n",
              "2  Caucasus Environmental NGO Network (CENN)\\nJOB...  False\n",
              "3  Manoff Group\\nJOB TITLE:  BCC Specialist\\nPOSI...  False\n",
              "4  Yerevan Brandy Company\\nJOB TITLE:  Software D...   True"
            ]
          },
          "metadata": {
            "tags": []
          },
          "execution_count": 14
        }
      ]
    },
    {
      "metadata": {
        "id": "bra3tLxDrS7H",
        "colab_type": "text"
      },
      "cell_type": "markdown",
      "source": [
        "# 2 - Updated Classification using RNN"
      ]
    },
    {
      "metadata": {
        "id": "Naw-NDherS7I",
        "colab_type": "text"
      },
      "cell_type": "markdown",
      "source": [
        "In the previous notebook, we got the fundamentals down for sentiment analysis. In this notebook, we'll actually get decent results.\n",
        "\n",
        "We will use:\n",
        "* pre-trained word embeddings\n",
        "* different RNN architecture\n",
        "* bidirectional RNN\n",
        "* multi-layer RNN\n",
        "* regularization\n",
        "* a different optimizer\n",
        "\n",
        "This will allow us to achieve ~85% test accuracy.\n",
        "\n",
        "## Preparing Data\n",
        "\n",
        "The same as before, we'll set the seed, define the Fields and get the train/valid/test splits."
      ]
    },
    {
      "metadata": {
        "id": "XiQUTI1frS7K",
        "colab_type": "code",
        "colab": {}
      },
      "cell_type": "code",
      "source": [
        "import torch\n",
        "from torchtext import data\n",
        "\n",
        "SEED = 1234\n",
        "\n",
        "torch.manual_seed(SEED)\n",
        "torch.cuda.manual_seed(SEED)\n",
        "\n",
        "TEXT = data.Field(tokenize='spacy')\n",
        "LABEL = data.LabelField(tensor_type=torch.FloatTensor)\n",
        "\n",
        "pos = data.TabularDataset(\n",
        "    path='data_jobposts_it.csv', format='csv', \n",
        "    fields=[\n",
        "        ('text', TEXT), \n",
        "        ('label', LABEL)\n",
        "    ]\n",
        ")"
      ],
      "execution_count": 0,
      "outputs": []
    },
    {
      "metadata": {
        "id": "W7RCIYIAXZQF",
        "colab_type": "code",
        "colab": {}
      },
      "cell_type": "code",
      "source": [
        "import random\n",
        "\n",
        "\n",
        "train_data, test_data = pos.split()\n",
        "\n",
        "train_data, valid_data = train_data.split(random_state=random.seed(SEED))"
      ],
      "execution_count": 0,
      "outputs": []
    },
    {
      "metadata": {
        "id": "VPEjy1xJrS7Y",
        "colab_type": "text"
      },
      "cell_type": "markdown",
      "source": [
        "We can see how many examples are in each split by checking their length."
      ]
    },
    {
      "metadata": {
        "id": "GknAU6ohrS7Y",
        "colab_type": "code",
        "colab": {
          "base_uri": "https://localhost:8080/",
          "height": 68
        },
        "outputId": "1a694abd-62c8-462f-b40d-f4454c81c02a"
      },
      "cell_type": "code",
      "source": [
        "print('len(train_data):', len(train_data))\n",
        "print('len(valid_data):', len(valid_data))\n",
        "print('len(test_data):', len(test_data))"
      ],
      "execution_count": 17,
      "outputs": [
        {
          "output_type": "stream",
          "text": [
            "len(train_data): 9311\n",
            "len(valid_data): 3990\n",
            "len(test_data): 5701\n"
          ],
          "name": "stdout"
        }
      ]
    },
    {
      "metadata": {
        "id": "Q7dW09-SrS7b",
        "colab_type": "text"
      },
      "cell_type": "markdown",
      "source": [
        "We can check the fields of the data, hoping that it they match the Fields given earlier."
      ]
    },
    {
      "metadata": {
        "id": "VdFO88SfrS7c",
        "colab_type": "code",
        "colab": {
          "base_uri": "https://localhost:8080/",
          "height": 34
        },
        "outputId": "ffba5b2d-5543-4ca3-9ab9-e4c9e8430db8"
      },
      "cell_type": "code",
      "source": [
        "print('train_data.fields:', train_data.fields)"
      ],
      "execution_count": 18,
      "outputs": [
        {
          "output_type": "stream",
          "text": [
            "train_data.fields: {'text': <torchtext.data.field.Field object at 0x7fee9fc730b8>, 'label': <torchtext.data.field.LabelField object at 0x7fee9fc730f0>}\n"
          ],
          "name": "stdout"
        }
      ]
    },
    {
      "metadata": {
        "id": "Nmjw2H28rS7e",
        "colab_type": "text"
      },
      "cell_type": "markdown",
      "source": [
        "We can also check an example."
      ]
    },
    {
      "metadata": {
        "id": "a-z-M4MFrS7e",
        "colab_type": "code",
        "colab": {
          "base_uri": "https://localhost:8080/",
          "height": 54
        },
        "outputId": "218de5e9-9bef-4bfb-f867-f21bbbac0b0c"
      },
      "cell_type": "code",
      "source": [
        "print('vars(train_data[0]):', vars(train_data[0]))"
      ],
      "execution_count": 19,
      "outputs": [
        {
          "output_type": "stream",
          "text": [
            "vars(train_data[0]): {'text': ['FINCA', 'Universal', 'Credit', 'Organization', 'CJSC', '\\n', 'TITLE', ':', ' ', 'General', 'Counsel', '\\n', 'LOCATION', ':', ' ', 'Yerevan', ',', 'Armenia', '\\n', 'JOB', 'DESCRIPTION', ':', ' ', 'FINCA', 'UCO', 'is', 'seeking', 'an', 'attorney', 'to', 'head', 'its', 'Legal', '\\n', 'Department', 'who', 'will', 'work', 'and', 'provide', 'legal', 'advice', 'on', 'a', 'wide', 'range', 'of', '\\n', 'corporate', 'and', 'credit', 'matters', '.', '\\n', 'JOB', 'RESPONSIBILITIES', ':', '\\n', '-', 'Comply', 'with', 'Armenian', 'laws', 'and', 'regulations', ',', 'including', 'applicable', '\\n', 'banking', 'regulations', ',', 'corporate', ',', 'tax', 'and', 'accounting', 'matters', ';', '\\n', '-', 'Liaise', 'with', 'the', 'Central', 'Bank', 'of', 'Armenia', 'and', 'other', 'governmental', '\\n', 'agencies', ';', '\\n', '-', 'Maintain', 'corporate', 'minutes', 'book', ',', 'contracts', 'and', 'records', ';', '\\n', '-', 'Provide', 'legal', 'support', 'in', 'all', 'aspects', 'of', 'FINCA', 'UCO', \"'s\", 'credit', 'operations', ',', '\\n', 'including', 'preparing', 'and', 'negotiating', 'loan', 'and', 'security', 'documents', ',', 'managing', '\\n', 'foreclosure', 'proceedings', ',', 'and', 'perfection', 'of', 'security', 'interests', ';', '\\n', '-', 'Provide', 'legal', 'support', 'in', 'structuring', 'and', 'monitoring', 'financing', '\\n', 'agreements', 'with', 'local', 'and', 'international', 'lenders', ';', '\\n', '-', 'Perform', 'other', 'corporate', 'matters', 'requiring', 'legal', 'advice', '.', '\\n', 'REQUIRED', 'QUALIFICATIONS', ':', '\\n', '-', 'Law', 'degree', 'from', 'a', 'leading', 'university', 'in', 'Armenia', '.', 'Post', '-', 'graduate', 'degree', '\\n', 'from', 'a', 'western', 'university', 'preferred', ';', '\\n', '-', 'Minimum', '5', 'years', 'of', 'work', 'experience', 'in', 'corporate', ',', 'tax', ',', 'commercial', ',', '\\n', 'finance/', 'banking', 'law', ';', '\\n', '-', 'Experience', 'with', 'credit/', 'financing', 'operations', ',', 'loan', 'and', 'security', '\\n', 'structuring', ',', 'foreclosure', 'proceedings', ';', '\\n', '-', 'Litigations', 'experience', '.', 'Experience', 'with', 'commercial', 'banks', 'is', '\\n', 'preferred', ';', '\\n', '-', 'Experience', 'with', 'cross', '-', 'border', 'financing', 'transactions', ';', '\\n', '-', 'Excellent', 'command', 'of', 'Armenian', ',', 'Russian', 'and', 'English', 'languages', ',', '\\n', 'including', 'a', 'demonstrated', 'skill', 'to', 'draft', 'and', 'negotiate', 'contracts', 'in', 'three', '\\n', 'languages', ';', '\\n', '-', 'Attraction', 'to', 'the', 'mission', 'of', 'FINCA', ';', '\\n', '-', 'Capacity', 'to', 'work', 'under', 'time', 'pressure', ';', '\\n', '-', 'Effective', 'interpersonal', 'skills', ';', '\\n', '-', 'Ability', 'to', 'operate', 'sensitively', 'in', 'multicultural', 'environment', 'and', '\\n', 'develop', 'effective', 'working', 'relations', 'with', 'colleagues', 'and', 'clients', '.', '\\n', 'APPLICATION', 'PROCEDURES', ':', ' ', 'To', 'apply', ',', 'email', 'your', 'CV', 'and', 'Cover', 'Letter', 'to', ':', 'olga@', '...', 'and', 'rusanna@', '....', '\\n', 'Please', 'clearly', 'mention', 'in', 'your', 'application', 'letter', 'that', 'you', 'learned', 'of', '\\n', 'this', 'job', 'opportunity', 'through', 'Career', 'Center', 'and', 'mention', 'the', 'URL', 'of', 'its', '\\n', 'website', '-', 'www.careercenter.am', ',', 'Thanks', '.', '\\n', 'OPENING', 'DATE', ':', ' ', '11', 'July', '2006', '\\n', 'APPLICATION', 'DEADLINE', ':', ' ', '01', 'August', '2006', '\\n', 'ABOUT', 'COMPANY', ':', ' ', 'FINCA', 'UCO', 'is', 'a', 'recently', 'established', 'and', 'licensed', 'credit', '\\n', 'organization', 'founded', 'by', 'FINCA', 'International', ',', 'Inc.', ',', 'a', 'U.S.', 'non', '-', 'profit', '\\n', 'organization', 'whose', 'mission', 'is', 'to', 'provide', 'financial', 'services', 'to', 'the', '\\n', 'worlds', 'poorest', 'families', 'so', 'they', 'can', 'create', 'their', 'own', 'jobs', ',', 'raise', '\\n', 'household', 'incomes', ',', 'and', 'improve', 'their', 'standard', 'of', 'living', '.', '\\n', '----------------------------------', '\\n', 'To', 'place', 'a', 'free', 'posting', 'for', 'job', 'or', 'other', 'career', '-', 'related', 'opportunities', '\\n', 'available', 'in', 'your', 'organization', ',', 'just', 'go', 'to', 'the', 'www.careercenter.am', '\\n', 'website', 'and', 'follow', 'the', '\"', 'Post', 'an', 'Announcement', '\"', 'link', '.'], 'label': 'False'}\n"
          ],
          "name": "stdout"
        }
      ]
    },
    {
      "metadata": {
        "id": "26e3b3xlY4N9",
        "colab_type": "text"
      },
      "cell_type": "markdown",
      "source": [
        "The first update, is the addition of pre-trained word embeddings. These vectors have been trained on corpuses of billions of tokens. Now, instead of having our word embeddings initialized randomly, they are initialized with these pre-trained vectors, where words that appear in similar contexts appear nearby in this vector space.\n",
        "The first step to using these is to specify the vectors and download them, which is passed as an argument to build_vocab. The glove is the algorithm used to calculate the vectors, go here for more. 6B indicates these vectors were trained on 6 billion tokens. 100d indicates these vectors are 100-dimensional.\n",
        "Note: these vectors are about 862MB, so watch out if you have a limited internet connection."
      ]
    },
    {
      "metadata": {
        "id": "WwpEQ5GyY2d2",
        "colab_type": "code",
        "colab": {
          "base_uri": "https://localhost:8080/",
          "height": 51
        },
        "outputId": "dc53a636-b6d5-4edd-8c70-58edb0653dfb"
      },
      "cell_type": "code",
      "source": [
        "TEXT.build_vocab(train_data, max_size=50000, vectors=\"glove.6B.100d\")\n",
        "LABEL.build_vocab(train_data)"
      ],
      "execution_count": 20,
      "outputs": [
        {
          "output_type": "stream",
          "text": [
            ".vector_cache/glove.6B.zip: 862MB [30:07, 477kB/s]                           \n",
            "100%|██████████| 400000/400000 [00:21<00:00, 18843.37it/s]\n"
          ],
          "name": "stderr"
        }
      ]
    },
    {
      "metadata": {
        "id": "qo9pQwevrS7s",
        "colab_type": "text"
      },
      "cell_type": "markdown",
      "source": [
        "As before, we create the iterators."
      ]
    },
    {
      "metadata": {
        "id": "EFiVT5I9rS7t",
        "colab_type": "code",
        "colab": {}
      },
      "cell_type": "code",
      "source": [
        "BATCH_SIZE = 64\n",
        "\n",
        "train_iterator, valid_iterator, test_iterator = data.BucketIterator.splits(\n",
        "    (train_data, valid_data, test_data), \n",
        "    batch_size=BATCH_SIZE, \n",
        "    sort_key=lambda x: len(x.text), \n",
        "    repeat=False)"
      ],
      "execution_count": 0,
      "outputs": []
    },
    {
      "metadata": {
        "id": "R96B8UBVrS7u",
        "colab_type": "text"
      },
      "cell_type": "markdown",
      "source": [
        "## Build the Model\n",
        "\n",
        "The model features the most drastic changes.\n",
        "\n",
        "### Different RNN Architecture\n",
        "\n",
        "We use a different RNN architecture called a Long Short-Term Memory (LSTM). Why is an LSTM better than a standard RNN? The hidden state can be thought of as a \"memory\" of the words seen by the model. It is difficult to train a standard RNN as the gradient decays exponentially along the sequence, causing the RNN to \"forget\" what has happened earlier in the sequence. LSTMs have an extra recurrent state called a cell, which can be thought of as the \"memory\" of the LSTM and can remember information for many time steps. LSTMs also use multiple gates, these control the flow of information into and out of the memory. For more information, go [here](https://colah.github.io/posts/2015-08-Understanding-LSTMs/).\n",
        "\n",
        "### Bidirectional RNN\n",
        "\n",
        "The concept behind a bidirectional RNN is simple. As well as having an RNN processing the words in the sentence from the first to the last, we have a second RNN processing the words in the sentence from **the last to the first**. PyTorch simplifies this by concatenating both the forward and backward RNNs together, and thus the returned final hidden state, hidden, is the concatenation of the hidden state from the last word of the sentence from the forward RNN with the hidden state of the first word of the sentence from the backward RNN, both of which are the final hidden states from their respective RNNs.\n",
        "\n",
        "![](https://camo.githubusercontent.com/9f462fe904900e9fc30a10101df3884fec700f60/68747470733a2f2f692e696d6775722e636f6d2f69746d494967782e706e67)\n",
        "\n",
        "### Multi-layer RNN\n",
        "\n",
        "Multi-layer RNNs (also called deep RNNs) are another simple concept. The idea is that we add additional RNNs on top of the initial standard RNN, where each RNN added is another layer. The hidden state output by the first (bottom) RNN at time-step $t$ will be the input to the RNN above it at time step $t$. The prediction is then usually made from the final hidden state of the final (highest) layer. These are easily combined with bi-directional RNNs, where each extra layer adds an additional forward and backward RNN.\n",
        "\n",
        "![](https://camo.githubusercontent.com/0b711a2cae89c6b6bc3cc9e57a95d4f047d2116f/68747470733a2f2f692e696d6775722e636f6d2f6b6e73497a65682e706e67)\n",
        "\n",
        "### Regularization\n",
        "\n",
        "Although we've added improvements to our model, each one adds additional parameters. Without going into overfitting into to much detail, the more parameters you have in in your model, the higher the probability that you'll overfit (have a low train error but high validation/test error). To combat this, we use regularization. More specifically, we use a method of regularization called dropout. Dropout works by randomly dropping out (setting to 0) neurons during a forward pass. The probability that each neuron is dropped out is set by a hyperparameter and each neuron with dropout applied is considered indepenently. One theory about why dropout works is that a model with parameters dropped out can be seen as a \"weaker\" (less parameters) model, the predictions from all these \"weaker\" models (one for each forward pass) get averaged together in the parameters of the model. Thus, your one model can be thought of as an ensemble of weaker models, none of which are over-parameterized and thus should not overfit.\n",
        "\n",
        "### Implementation Details\n",
        "\n",
        "To use an LSTM instead of the standard RNN, we use nn.LSTM instead of nn.RNN on line 8. Also note on line 20 the LSTM returns the output and a tuple of the final hidden state and the final cell state, whereas the standard RNN only returned the output and final hidden state.\n",
        "\n",
        "As the final hidden state of our LSTM has both a forward and a backward component, which are concatenated together, the size of the input to the nn.Linear layer is twice that of the hidden dimension size.\n",
        "\n",
        "Implementing bidirectionality and adding additional layers are done by passing values for the num_layers and bidirectional arguments for the RNN/LSTM.\n",
        "\n",
        "Dropout is implemented by initializing an nn.Dropout layer (the argument is the probability of dropout for each neuron) and using it within the forward method after each layer we want to apply dropout to. Note: never use dropout on the input or output layers (x or fc in this case), you only ever want to use dropout on intermediate layers. The LSTM has a dropout argument which adds dropout on the connections between hidden states in one layer to hidden states in the next layer."
      ]
    },
    {
      "metadata": {
        "id": "18zc0D2KrS7v",
        "colab_type": "code",
        "colab": {}
      },
      "cell_type": "code",
      "source": [
        "import torch.nn as nn\n",
        "\n",
        "class RNN(nn.Module):\n",
        "    def __init__(self, vocab_size, embedding_dim, hidden_dim, output_dim, n_layers, bidirectional, dropout):\n",
        "        super().__init__()\n",
        "        \n",
        "        self.embedding = nn.Embedding(vocab_size, embedding_dim)\n",
        "        self.rnn = nn.LSTM(embedding_dim, hidden_dim, num_layers=n_layers, bidirectional=bidirectional, dropout=dropout)\n",
        "        self.fc = nn.Linear(hidden_dim*2, output_dim)\n",
        "        self.dropout = nn.Dropout(dropout)\n",
        "        \n",
        "    def forward(self, x):\n",
        "        \n",
        "        #x = [sent len, batch size]\n",
        "        \n",
        "        embedded = self.dropout(self.embedding(x))\n",
        "        \n",
        "        #embedded = [sent len, batch size, emb dim]\n",
        "        \n",
        "        output, (hidden, cell) = self.rnn(embedded)\n",
        "        \n",
        "        #output = [sent len, batch size, hid dim * num directions]\n",
        "        #hidden = [num layers * num directions, batch size, hid. dim]\n",
        "        #cell = [num layers * num directions, batch size, hid. dim]\n",
        "        \n",
        "        hidden = self.dropout(torch.cat((hidden[-2,:,:], hidden[-1,:,:]), dim=1))\n",
        "                \n",
        "        #hidden [batch size, hid. dim * num directions]\n",
        "            \n",
        "        return self.fc(hidden.squeeze(0))"
      ],
      "execution_count": 0,
      "outputs": []
    },
    {
      "metadata": {
        "id": "Bq4FY1eurS7w",
        "colab_type": "text"
      },
      "cell_type": "markdown",
      "source": [
        "Like before, we'll create an instance of our RNN class, with the new parameters and arguments for the number of layers, bidirectionality and dropout probability.\n",
        "To ensure the pre-trained vectors can be loaded into the model, the EMBEDDING_DIM must be equal to that of the pre-trained GloVe vectors loaded earlier."
      ]
    },
    {
      "metadata": {
        "id": "uD8-4kS3rS7x",
        "colab_type": "code",
        "colab": {}
      },
      "cell_type": "code",
      "source": [
        "INPUT_DIM = len(TEXT.vocab)\n",
        "EMBEDDING_DIM = 100\n",
        "HIDDEN_DIM = 256\n",
        "OUTPUT_DIM = 1\n",
        "N_LAYERS = 2\n",
        "BIDIRECTIONAL = True\n",
        "DROPOUT = 0.5\n",
        "\n",
        "model = RNN(INPUT_DIM, EMBEDDING_DIM, HIDDEN_DIM, OUTPUT_DIM, N_LAYERS, BIDIRECTIONAL, DROPOUT)"
      ],
      "execution_count": 0,
      "outputs": []
    },
    {
      "metadata": {
        "id": "dstSKG2Mcsya",
        "colab_type": "text"
      },
      "cell_type": "markdown",
      "source": [
        "The final addition is copying the pre-trained word embeddings we loaded earlier into the embedding layer of our model.\n",
        "\n",
        "We retrieve the embeddings from the field's vocab, and ensure they're the correct size, **[vocab size, embedding dim]**"
      ]
    },
    {
      "metadata": {
        "id": "FKnJc3SEcy70",
        "colab_type": "code",
        "colab": {
          "base_uri": "https://localhost:8080/",
          "height": 34
        },
        "outputId": "ca21c35d-2ef6-4a51-b887-b35f90c9cc20"
      },
      "cell_type": "code",
      "source": [
        "pretrained_embeddings = TEXT.vocab.vectors\n",
        "\n",
        "print(pretrained_embeddings.shape)"
      ],
      "execution_count": 24,
      "outputs": [
        {
          "output_type": "stream",
          "text": [
            "torch.Size([36064, 100])\n"
          ],
          "name": "stdout"
        }
      ]
    },
    {
      "metadata": {
        "id": "wNaqaZQCc2Jf",
        "colab_type": "text"
      },
      "cell_type": "markdown",
      "source": [
        "We then replace the initial weights of the embedding layer with the pre-trained embeddings."
      ]
    },
    {
      "metadata": {
        "id": "7ihCyWpuc56c",
        "colab_type": "code",
        "colab": {
          "base_uri": "https://localhost:8080/",
          "height": 136
        },
        "outputId": "8bb3ff27-ae00-4de0-c647-aba728076cc1"
      },
      "cell_type": "code",
      "source": [
        "model.embedding.weight.data.copy_(pretrained_embeddings)"
      ],
      "execution_count": 25,
      "outputs": [
        {
          "output_type": "execute_result",
          "data": {
            "text/plain": [
              "tensor([[ 0.0000,  0.0000,  0.0000,  ...,  0.0000,  0.0000,  0.0000],\n",
              "        [ 0.0000,  0.0000,  0.0000,  ...,  0.0000,  0.0000,  0.0000],\n",
              "        [ 0.0000,  0.0000,  0.0000,  ...,  0.0000,  0.0000,  0.0000],\n",
              "        ...,\n",
              "        [-0.6579,  0.9318,  0.4520,  ...,  0.6688,  0.1790, -0.9520],\n",
              "        [-0.4156,  1.2573, -0.1221,  ..., -0.1845, -0.6722, -0.0952],\n",
              "        [ 0.0000,  0.0000,  0.0000,  ...,  0.0000,  0.0000,  0.0000]])"
            ]
          },
          "metadata": {
            "tags": []
          },
          "execution_count": 25
        }
      ]
    },
    {
      "metadata": {
        "id": "L4xDY8CLrS7y",
        "colab_type": "text"
      },
      "cell_type": "markdown",
      "source": [
        "## Train the Model\n",
        "\n",
        "Now to training the model.\n",
        "\n",
        "The only change we'll make here is changing the optimizer from `SGD` to `Adam`. SGD updates all parameters with the same learning rate and choosing this learning rate can be tricky. Adam adapts the learning rate for each parameter, giving parameters that are updated more frequently lower learning rates and parameters that are updated infrequently higher learning rates. More information about Adam (and other optimizers) can be found [here](http://ruder.io/optimizing-gradient-descent/index.html).\n",
        "\n",
        "To change `SGD` to `Adam`, we simply change `optim.SGD` to `optim.Adam,` also note how we do not have to provide an initial learning rate for Adam as PyTorch specifies a sensibile initial learning rate."
      ]
    },
    {
      "metadata": {
        "id": "etHOvPERrS7z",
        "colab_type": "code",
        "colab": {}
      },
      "cell_type": "code",
      "source": [
        "import torch.optim as optim\n",
        "\n",
        "optimizer = optim.Adam(model.parameters())"
      ],
      "execution_count": 0,
      "outputs": []
    },
    {
      "metadata": {
        "id": "CNHAtqfwrS70",
        "colab_type": "text"
      },
      "cell_type": "markdown",
      "source": [
        "The rest of the steps for training the model are unchanged.\n",
        "\n",
        "We define the criterion and place the model and criterion on the GPU (if available)..."
      ]
    },
    {
      "metadata": {
        "id": "zyrfpvctrS71",
        "colab_type": "code",
        "colab": {}
      },
      "cell_type": "code",
      "source": [
        "criterion = nn.BCEWithLogitsLoss()\n",
        "\n",
        "device = torch.device('cuda' if torch.cuda.is_available() else 'cpu')\n",
        "\n",
        "model = model.to(device)\n",
        "criterion = criterion.to(device)"
      ],
      "execution_count": 0,
      "outputs": []
    },
    {
      "metadata": {
        "id": "b3UefxVyrS73",
        "colab_type": "text"
      },
      "cell_type": "markdown",
      "source": [
        "We implement the function to calculate accuracy..."
      ]
    },
    {
      "metadata": {
        "id": "h7-a98l_rS73",
        "colab_type": "code",
        "colab": {}
      },
      "cell_type": "code",
      "source": [
        "import torch\n",
        "\n",
        "def binary_accuracy(preds, y):\n",
        "    \"\"\"\n",
        "    Returns accuracy per batch, i.e. if you get 8/10 right, this returns 0.8, NOT 8\n",
        "    \"\"\"\n",
        "\n",
        "    #round predictions to the closest integer\n",
        "    rounded_preds = torch.round(torch.sigmoid(preds))\n",
        "    correct = (rounded_preds == y).float() #convert into float for division \n",
        "    acc = correct.sum()/len(correct)\n",
        "    return acc"
      ],
      "execution_count": 0,
      "outputs": []
    },
    {
      "metadata": {
        "id": "6vld5loxrS74",
        "colab_type": "text"
      },
      "cell_type": "markdown",
      "source": [
        "We define a function for training our model...\n",
        "\n",
        "**Note:** as we are now using dropout, we must remember to use `model.train()` to ensure the dropout is \"turned on\" while training."
      ]
    },
    {
      "metadata": {
        "id": "CPdnwRhkrS74",
        "colab_type": "code",
        "colab": {}
      },
      "cell_type": "code",
      "source": [
        "def train(model, iterator, optimizer, criterion):\n",
        "    \n",
        "    epoch_loss = 0\n",
        "    epoch_acc = 0\n",
        "    \n",
        "    model.train()\n",
        "    \n",
        "    for batch in iterator:\n",
        "        \n",
        "        optimizer.zero_grad()\n",
        "        \n",
        "        predictions = model(batch.text).squeeze(1)\n",
        "        \n",
        "        loss = criterion(predictions, batch.label)\n",
        "        \n",
        "        acc = binary_accuracy(predictions, batch.label)\n",
        "        \n",
        "        loss.backward()\n",
        "        \n",
        "        optimizer.step()\n",
        "        \n",
        "        epoch_loss += loss.item()\n",
        "        epoch_acc += acc.item()\n",
        "        \n",
        "    return epoch_loss / len(iterator), epoch_acc / len(iterator)"
      ],
      "execution_count": 0,
      "outputs": []
    },
    {
      "metadata": {
        "id": "JWaYhAD_rS75",
        "colab_type": "text"
      },
      "cell_type": "markdown",
      "source": [
        "We define a function for testing our model...\n",
        "\n",
        "**Note:** as we are now using dropout, we must remember to use `model.eval()` to ensure the dropout is \"turned off\" while evaluating."
      ]
    },
    {
      "metadata": {
        "id": "AeLO_teFrS76",
        "colab_type": "code",
        "colab": {}
      },
      "cell_type": "code",
      "source": [
        "def evaluate(model, iterator, criterion):\n",
        "    \n",
        "    epoch_loss = 0\n",
        "    epoch_acc = 0\n",
        "    \n",
        "    model.eval()\n",
        "    \n",
        "    with torch.no_grad():\n",
        "    \n",
        "        for batch in iterator:\n",
        "\n",
        "            predictions = model(batch.text).squeeze(1)\n",
        "            \n",
        "            loss = criterion(predictions, batch.label)\n",
        "            \n",
        "            acc = binary_accuracy(predictions, batch.label)\n",
        "\n",
        "            epoch_loss += loss.item()\n",
        "            epoch_acc += acc.item()\n",
        "        \n",
        "    return epoch_loss / len(iterator), epoch_acc / len(iterator)"
      ],
      "execution_count": 0,
      "outputs": []
    },
    {
      "metadata": {
        "id": "00SZAY7DrS76",
        "colab_type": "text"
      },
      "cell_type": "markdown",
      "source": [
        "Finally, we train our model..."
      ]
    },
    {
      "metadata": {
        "id": "LOB6qia4rS77",
        "colab_type": "code",
        "colab": {
          "base_uri": "https://localhost:8080/",
          "height": 156
        },
        "outputId": "6f3cbf39-0672-4c69-e843-cd68fd662d9c"
      },
      "cell_type": "code",
      "source": [
        "N_EPOCHS = 5\n",
        "\n",
        "for epoch in range(N_EPOCHS):\n",
        "\n",
        "    train_loss, train_acc = train(model, train_iterator, optimizer, criterion)\n",
        "    valid_loss, valid_acc = evaluate(model, valid_iterator, criterion)\n",
        "    \n",
        "    print(f'Epoch: {epoch+1:02}, Train Loss: {train_loss:.3f}, Train Acc: {train_acc*100:.2f}%, Val. Loss: {valid_loss:.3f}, Val. Acc: {valid_acc*100:.2f}%')"
      ],
      "execution_count": 31,
      "outputs": [
        {
          "output_type": "stream",
          "text": [
            "/usr/local/lib/python3.6/dist-packages/torchtext/data/field.py:322: UserWarning: volatile was removed and now has no effect. Use `with torch.no_grad():` instead.\n",
            "  return Variable(arr, volatile=not train)\n"
          ],
          "name": "stderr"
        },
        {
          "output_type": "stream",
          "text": [
            "Epoch: 01, Train Loss: 0.378, Train Acc: 84.75%, Val. Loss: 0.152, Val. Acc: 95.12%\n",
            "Epoch: 02, Train Loss: 0.132, Train Acc: 95.95%, Val. Loss: 0.096, Val. Acc: 96.95%\n",
            "Epoch: 03, Train Loss: 0.083, Train Acc: 97.27%, Val. Loss: 0.082, Val. Acc: 97.17%\n",
            "Epoch: 04, Train Loss: 0.057, Train Acc: 98.13%, Val. Loss: 0.089, Val. Acc: 97.40%\n",
            "Epoch: 05, Train Loss: 0.045, Train Acc: 98.31%, Val. Loss: 0.068, Val. Acc: 97.77%\n"
          ],
          "name": "stdout"
        }
      ]
    },
    {
      "metadata": {
        "id": "Kxd7wzqZrS78",
        "colab_type": "text"
      },
      "cell_type": "markdown",
      "source": [
        "...and get our new and vastly improved test accuracy!"
      ]
    },
    {
      "metadata": {
        "id": "lczIjqZjrS79",
        "colab_type": "text"
      },
      "cell_type": "markdown",
      "source": [
        "## Model Evaluation"
      ]
    },
    {
      "metadata": {
        "id": "bccQWZhlrS79",
        "colab_type": "text"
      },
      "cell_type": "markdown",
      "source": [
        "Finally, the metric you actually care about, the test loss and accuracy."
      ]
    },
    {
      "metadata": {
        "id": "V4WI7kR7rS79",
        "colab_type": "code",
        "colab": {
          "base_uri": "https://localhost:8080/",
          "height": 88
        },
        "outputId": "1fc4a49b-9913-4cb8-fece-cf6d523211dd"
      },
      "cell_type": "code",
      "source": [
        "test_loss, test_acc = evaluate(model, test_iterator, criterion)\n",
        "\n",
        "print(f'Test Loss: {test_loss:.3f}, Test Acc: {test_acc*100:.2f}%')"
      ],
      "execution_count": 32,
      "outputs": [
        {
          "output_type": "stream",
          "text": [
            "/usr/local/lib/python3.6/dist-packages/torchtext/data/field.py:322: UserWarning: volatile was removed and now has no effect. Use `with torch.no_grad():` instead.\n",
            "  return Variable(arr, volatile=not train)\n"
          ],
          "name": "stderr"
        },
        {
          "output_type": "stream",
          "text": [
            "Test Loss: 0.067, Test Acc: 97.76%\n"
          ],
          "name": "stdout"
        }
      ]
    },
    {
      "metadata": {
        "id": "CzTv6vfBrS7_",
        "colab_type": "code",
        "colab": {}
      },
      "cell_type": "code",
      "source": [
        "import torch\n",
        "\n",
        "def to_binary(preds):\n",
        "    \"\"\"\n",
        "    Convert predicted torch array to either 0 or 1\n",
        "    \"\"\"\n",
        "\n",
        "    #round predictions to the closest integer\n",
        "    return torch.round(torch.sigmoid(preds))\n",
        "\n",
        "def predict(model, iterator):\n",
        "    \n",
        "    model.eval()\n",
        "    \n",
        "    all_predictions = [] \n",
        "    with torch.no_grad():\n",
        "    \n",
        "        for batch in iterator:\n",
        "\n",
        "            predictions = to_binary(model(batch.text).squeeze(1)).cpu().numpy()\n",
        "            all_predictions += predictions.tolist()\n",
        "            \n",
        "    return all_predictions"
      ],
      "execution_count": 0,
      "outputs": []
    },
    {
      "metadata": {
        "id": "I4e-9oSGrS8A",
        "colab_type": "text"
      },
      "cell_type": "markdown",
      "source": [
        "This is the confusion matrix based on predicted and actual test label."
      ]
    },
    {
      "metadata": {
        "id": "PVny0wu6rS8A",
        "colab_type": "code",
        "colab": {
          "base_uri": "https://localhost:8080/",
          "height": 71
        },
        "outputId": "3a999336-e7f4-492c-db62-b77ed2c8a0d9"
      },
      "cell_type": "code",
      "source": [
        "test_predicted_labels = predict(model, test_iterator)"
      ],
      "execution_count": 34,
      "outputs": [
        {
          "output_type": "stream",
          "text": [
            "/usr/local/lib/python3.6/dist-packages/torchtext/data/field.py:322: UserWarning: volatile was removed and now has no effect. Use `with torch.no_grad():` instead.\n",
            "  return Variable(arr, volatile=not train)\n"
          ],
          "name": "stderr"
        }
      ]
    },
    {
      "metadata": {
        "id": "-7hBySNjcj8s",
        "colab_type": "code",
        "colab": {}
      },
      "cell_type": "code",
      "source": [
        "import matplotlib.pyplot as plt\n",
        "import numpy as np\n",
        "import itertools\n",
        "from sklearn.metrics import confusion_matrix, precision_recall_fscore_support, accuracy_score\n",
        "import seaborn as sns\n",
        "\n",
        "\n",
        "def print_confusion_matrix(confusion_matrix, class_names, figsize = (3.5,3), fontsize=15):\n",
        "    \"\"\"Prints a confusion matrix, as returned by sklearn.metrics.confusion_matrix, as a heatmap.\n",
        "    \n",
        "    Arguments\n",
        "    ---------\n",
        "    confusion_matrix: numpy.ndarray\n",
        "        The numpy.ndarray object returned from a call to sklearn.metrics.confusion_matrix. \n",
        "        Similarly constructed ndarrays can also be used.\n",
        "    class_names: list\n",
        "        An ordered list of class names, in the order they index the given confusion matrix.\n",
        "    figsize: tuple\n",
        "        A 2-long tuple, the first value determining the horizontal size of the ouputted figure,\n",
        "        the second determining the vertical size. Defaults to (10,7).\n",
        "    fontsize: int\n",
        "        Font size for axes labels. Defaults to 14.\n",
        "        \n",
        "    Returns\n",
        "    -------\n",
        "    matplotlib.figure.Figure\n",
        "        The resulting confusion matrix figure\n",
        "    \"\"\"\n",
        "    df_cm = pd.DataFrame(\n",
        "        confusion_matrix, index=class_names, columns=class_names, \n",
        "    )\n",
        "    fig = plt.figure(figsize=figsize)\n",
        "    try:\n",
        "        heatmap = sns.heatmap(df_cm, annot=True, fmt=\"d\")\n",
        "    except ValueError:\n",
        "        raise ValueError(\"Confusion matrix values must be integers.\")\n",
        "    heatmap.yaxis.set_ticklabels(heatmap.yaxis.get_ticklabels(), rotation=0, ha='right', fontsize=fontsize)\n",
        "    heatmap.xaxis.set_ticklabels(heatmap.xaxis.get_ticklabels(), rotation=45, ha='right', fontsize=fontsize)\n",
        "    plt.ylabel('True label')\n",
        "    plt.xlabel('Predicted label')\n",
        "    return fig"
      ],
      "execution_count": 0,
      "outputs": []
    },
    {
      "metadata": {
        "id": "eaa5kESArS8C",
        "colab_type": "code",
        "colab": {
          "base_uri": "https://localhost:8080/",
          "height": 322
        },
        "outputId": "db08ae6c-72ad-4547-8810-14d00e803265"
      },
      "cell_type": "code",
      "source": [
        "classes = [\"False\", \"True\"]\n",
        "test_actual_labels = []\n",
        "with torch.no_grad():\n",
        "    for batch in test_iterator:\n",
        "        test_actual_labels += batch.label.cpu().numpy().tolist()\n",
        "        \n",
        "cm = confusion_matrix(test_actual_labels, test_predicted_labels)\n",
        "print(print_confusion_matrix(cm, class_names=classes))"
      ],
      "execution_count": 64,
      "outputs": [
        {
          "output_type": "stream",
          "text": [
            "/usr/local/lib/python3.6/dist-packages/torchtext/data/field.py:322: UserWarning: volatile was removed and now has no effect. Use `with torch.no_grad():` instead.\n",
            "  return Variable(arr, volatile=not train)\n"
          ],
          "name": "stderr"
        },
        {
          "output_type": "stream",
          "text": [
            "Figure(252x216)\n"
          ],
          "name": "stdout"
        },
        {
          "output_type": "display_data",
          "data": {
            "image/png": "[encoded data removed]",
            "text/plain": [
              "<matplotlib.figure.Figure at 0x7fee454a5278>"
            ]
          },
          "metadata": {
            "tags": []
          }
        }
      ]
    },
    {
      "metadata": {
        "id": "LD_8SpjLH3mT",
        "colab_type": "code",
        "colab": {
          "base_uri": "https://localhost:8080/",
          "height": 111
        },
        "outputId": "a8ea4d74-9737-427f-b638-6f51a3e8ce5a"
      },
      "cell_type": "code",
      "source": [
        "precision, recall, fscore, support = precision_recall_fscore_support(test_actual_labels, test_predicted_labels)\n",
        "score_dict = {\n",
        "  \"precision\": precision.round(4),\n",
        "  \"recall\": recall.round(4),\n",
        "  \"f1-score\": fscore.round(4),\n",
        "  \"support\": support.round(4)\n",
        "}\n",
        "score_df = pd.DataFrame(score_dict, index=classes)\n",
        "score_df"
      ],
      "execution_count": 66,
      "outputs": [
        {
          "output_type": "execute_result",
          "data": {
            "text/html": [
              "<div>\n",
              "<style scoped>\n",
              "    .dataframe tbody tr th:only-of-type {\n",
              "        vertical-align: middle;\n",
              "    }\n",
              "\n",
              "    .dataframe tbody tr th {\n",
              "        vertical-align: top;\n",
              "    }\n",
              "\n",
              "    .dataframe thead th {\n",
              "        text-align: right;\n",
              "    }\n",
              "</style>\n",
              "<table border=\"1\" class=\"dataframe\">\n",
              "  <thead>\n",
              "    <tr style=\"text-align: right;\">\n",
              "      <th></th>\n",
              "      <th>f1-score</th>\n",
              "      <th>precision</th>\n",
              "      <th>recall</th>\n",
              "      <th>support</th>\n",
              "    </tr>\n",
              "  </thead>\n",
              "  <tbody>\n",
              "    <tr>\n",
              "      <th>False</th>\n",
              "      <td>0.9859</td>\n",
              "      <td>0.9915</td>\n",
              "      <td>0.9805</td>\n",
              "      <td>4615</td>\n",
              "    </tr>\n",
              "    <tr>\n",
              "      <th>True</th>\n",
              "      <td>0.9420</td>\n",
              "      <td>0.9208</td>\n",
              "      <td>0.9641</td>\n",
              "      <td>1086</td>\n",
              "    </tr>\n",
              "  </tbody>\n",
              "</table>\n",
              "</div>"
            ],
            "text/plain": [
              "       f1-score  precision  recall  support\n",
              "False    0.9859     0.9915  0.9805     4615\n",
              "True     0.9420     0.9208  0.9641     1086"
            ]
          },
          "metadata": {
            "tags": []
          },
          "execution_count": 66
        }
      ]
    },
    {
      "metadata": {
        "id": "71pSafeRJdJc",
        "colab_type": "text"
      },
      "cell_type": "markdown",
      "source": [
        "### Performance score using binary average"
      ]
    },
    {
      "metadata": {
        "id": "YW31cDFYJdRU",
        "colab_type": "code",
        "colab": {
          "base_uri": "https://localhost:8080/",
          "height": 80
        },
        "outputId": "fe78f5f5-68e8-47b2-e479-164082c0a2c7"
      },
      "cell_type": "code",
      "source": [
        "precision, recall, fscore, support = precision_recall_fscore_support(test_actual_labels, test_predicted_labels, average=\"binary\")\n",
        "score_dict = {\n",
        "  \"precision\": precision.round(4),\n",
        "  \"recall\": recall.round(4),\n",
        "  \"f1-score\": fscore.round(4),\n",
        "  \"support\": support\n",
        "}\n",
        "score_df = pd.DataFrame(score_dict, index=[\"score\"])\n",
        "score_df"
      ],
      "execution_count": 76,
      "outputs": [
        {
          "output_type": "execute_result",
          "data": {
            "text/html": [
              "<div>\n",
              "<style scoped>\n",
              "    .dataframe tbody tr th:only-of-type {\n",
              "        vertical-align: middle;\n",
              "    }\n",
              "\n",
              "    .dataframe tbody tr th {\n",
              "        vertical-align: top;\n",
              "    }\n",
              "\n",
              "    .dataframe thead th {\n",
              "        text-align: right;\n",
              "    }\n",
              "</style>\n",
              "<table border=\"1\" class=\"dataframe\">\n",
              "  <thead>\n",
              "    <tr style=\"text-align: right;\">\n",
              "      <th></th>\n",
              "      <th>f1-score</th>\n",
              "      <th>precision</th>\n",
              "      <th>recall</th>\n",
              "      <th>support</th>\n",
              "    </tr>\n",
              "  </thead>\n",
              "  <tbody>\n",
              "    <tr>\n",
              "      <th>score</th>\n",
              "      <td>0.942</td>\n",
              "      <td>0.9208</td>\n",
              "      <td>0.9641</td>\n",
              "      <td>None</td>\n",
              "    </tr>\n",
              "  </tbody>\n",
              "</table>\n",
              "</div>"
            ],
            "text/plain": [
              "       f1-score  precision  recall support\n",
              "score     0.942     0.9208  0.9641    None"
            ]
          },
          "metadata": {
            "tags": []
          },
          "execution_count": 76
        }
      ]
    },
    {
      "metadata": {
        "id": "_7j2uq6iI4F5",
        "colab_type": "text"
      },
      "cell_type": "markdown",
      "source": [
        "### Performance score using micro average"
      ]
    },
    {
      "metadata": {
        "id": "L9ORzFnJI3ac",
        "colab_type": "code",
        "colab": {
          "base_uri": "https://localhost:8080/",
          "height": 80
        },
        "outputId": "42ef3054-b28d-4113-bd03-4dc5994a77c6"
      },
      "cell_type": "code",
      "source": [
        "precision, recall, fscore, support = precision_recall_fscore_support(test_actual_labels, test_predicted_labels, average=\"micro\")\n",
        "score_dict = {\n",
        "  \"precision\": precision.round(4),\n",
        "  \"recall\": recall.round(4),\n",
        "  \"f1-score\": fscore.round(4),\n",
        "  \"support\": support\n",
        "}\n",
        "score_df = pd.DataFrame(score_dict, index=[\"score\"])\n",
        "score_df"
      ],
      "execution_count": 71,
      "outputs": [
        {
          "output_type": "execute_result",
          "data": {
            "text/html": [
              "<div>\n",
              "<style scoped>\n",
              "    .dataframe tbody tr th:only-of-type {\n",
              "        vertical-align: middle;\n",
              "    }\n",
              "\n",
              "    .dataframe tbody tr th {\n",
              "        vertical-align: top;\n",
              "    }\n",
              "\n",
              "    .dataframe thead th {\n",
              "        text-align: right;\n",
              "    }\n",
              "</style>\n",
              "<table border=\"1\" class=\"dataframe\">\n",
              "  <thead>\n",
              "    <tr style=\"text-align: right;\">\n",
              "      <th></th>\n",
              "      <th>f1-score</th>\n",
              "      <th>precision</th>\n",
              "      <th>recall</th>\n",
              "      <th>support</th>\n",
              "    </tr>\n",
              "  </thead>\n",
              "  <tbody>\n",
              "    <tr>\n",
              "      <th>score</th>\n",
              "      <td>0.9774</td>\n",
              "      <td>0.9774</td>\n",
              "      <td>0.9774</td>\n",
              "      <td>None</td>\n",
              "    </tr>\n",
              "  </tbody>\n",
              "</table>\n",
              "</div>"
            ],
            "text/plain": [
              "       f1-score  precision  recall support\n",
              "score    0.9774     0.9774  0.9774    None"
            ]
          },
          "metadata": {
            "tags": []
          },
          "execution_count": 71
        }
      ]
    },
    {
      "metadata": {
        "id": "QnKk7Bf1I12S",
        "colab_type": "text"
      },
      "cell_type": "markdown",
      "source": [
        "### Performance score using macro average"
      ]
    },
    {
      "metadata": {
        "id": "3Ove6a2ZIoVy",
        "colab_type": "code",
        "colab": {
          "base_uri": "https://localhost:8080/",
          "height": 80
        },
        "outputId": "f304f169-bf51-4f6e-8a6c-848ed16cd2bb"
      },
      "cell_type": "code",
      "source": [
        "precision, recall, fscore, support = precision_recall_fscore_support(test_actual_labels, test_predicted_labels, average=\"macro\")\n",
        "score_dict = {\n",
        "  \"precision\": precision.round(4),\n",
        "  \"recall\": recall.round(4),\n",
        "  \"f1-score\": fscore.round(4),\n",
        "  \"support\": support\n",
        "}\n",
        "score_df = pd.DataFrame(score_dict, index=[\"score\"])\n",
        "score_df"
      ],
      "execution_count": 70,
      "outputs": [
        {
          "output_type": "execute_result",
          "data": {
            "text/html": [
              "<div>\n",
              "<style scoped>\n",
              "    .dataframe tbody tr th:only-of-type {\n",
              "        vertical-align: middle;\n",
              "    }\n",
              "\n",
              "    .dataframe tbody tr th {\n",
              "        vertical-align: top;\n",
              "    }\n",
              "\n",
              "    .dataframe thead th {\n",
              "        text-align: right;\n",
              "    }\n",
              "</style>\n",
              "<table border=\"1\" class=\"dataframe\">\n",
              "  <thead>\n",
              "    <tr style=\"text-align: right;\">\n",
              "      <th></th>\n",
              "      <th>f1-score</th>\n",
              "      <th>precision</th>\n",
              "      <th>recall</th>\n",
              "      <th>support</th>\n",
              "    </tr>\n",
              "  </thead>\n",
              "  <tbody>\n",
              "    <tr>\n",
              "      <th>score</th>\n",
              "      <td>0.964</td>\n",
              "      <td>0.9561</td>\n",
              "      <td>0.9723</td>\n",
              "      <td>None</td>\n",
              "    </tr>\n",
              "  </tbody>\n",
              "</table>\n",
              "</div>"
            ],
            "text/plain": [
              "       f1-score  precision  recall support\n",
              "score     0.964     0.9561  0.9723    None"
            ]
          },
          "metadata": {
            "tags": []
          },
          "execution_count": 70
        }
      ]
    },
    {
      "metadata": {
        "id": "66fvwy0WJRqB",
        "colab_type": "text"
      },
      "cell_type": "markdown",
      "source": [
        "### Performance score using weighted average"
      ]
    },
    {
      "metadata": {
        "id": "CBen1IJIJR4z",
        "colab_type": "code",
        "colab": {
          "base_uri": "https://localhost:8080/",
          "height": 80
        },
        "outputId": "4a8a6960-5a84-4140-8f3f-2def2cb02b67"
      },
      "cell_type": "code",
      "source": [
        "precision, recall, fscore, support = precision_recall_fscore_support(test_actual_labels, test_predicted_labels, average=\"weighted\")\n",
        "score_dict = {\n",
        "  \"precision\": precision.round(4),\n",
        "  \"recall\": recall.round(4),\n",
        "  \"f1-score\": fscore.round(4),\n",
        "  \"support\": support\n",
        "}\n",
        "score_df = pd.DataFrame(score_dict, index=[\"score\"])\n",
        "score_df"
      ],
      "execution_count": 75,
      "outputs": [
        {
          "output_type": "execute_result",
          "data": {
            "text/html": [
              "<div>\n",
              "<style scoped>\n",
              "    .dataframe tbody tr th:only-of-type {\n",
              "        vertical-align: middle;\n",
              "    }\n",
              "\n",
              "    .dataframe tbody tr th {\n",
              "        vertical-align: top;\n",
              "    }\n",
              "\n",
              "    .dataframe thead th {\n",
              "        text-align: right;\n",
              "    }\n",
              "</style>\n",
              "<table border=\"1\" class=\"dataframe\">\n",
              "  <thead>\n",
              "    <tr style=\"text-align: right;\">\n",
              "      <th></th>\n",
              "      <th>f1-score</th>\n",
              "      <th>precision</th>\n",
              "      <th>recall</th>\n",
              "      <th>support</th>\n",
              "    </tr>\n",
              "  </thead>\n",
              "  <tbody>\n",
              "    <tr>\n",
              "      <th>score</th>\n",
              "      <td>0.9776</td>\n",
              "      <td>0.978</td>\n",
              "      <td>0.9774</td>\n",
              "      <td>None</td>\n",
              "    </tr>\n",
              "  </tbody>\n",
              "</table>\n",
              "</div>"
            ],
            "text/plain": [
              "       f1-score  precision  recall support\n",
              "score    0.9776      0.978  0.9774    None"
            ]
          },
          "metadata": {
            "tags": []
          },
          "execution_count": 75
        }
      ]
    },
    {
      "metadata": {
        "id": "yHn-qyeJrS8F",
        "colab_type": "text"
      },
      "cell_type": "markdown",
      "source": [
        "We can finally save our upgraded RNN model for IT job classification task."
      ]
    },
    {
      "metadata": {
        "id": "W5UjjdwMrS8G",
        "colab_type": "code",
        "colab": {
          "base_uri": "https://localhost:8080/",
          "height": 71
        },
        "outputId": "1b1ba23f-6fc6-4481-bd9d-fb1f3595c7e6"
      },
      "cell_type": "code",
      "source": [
        "torch.save(model, '02_lstm.pth')"
      ],
      "execution_count": 72,
      "outputs": [
        {
          "output_type": "stream",
          "text": [
            "/usr/local/lib/python3.6/dist-packages/torch/serialization.py:241: UserWarning: Couldn't retrieve source code for container of type RNN. It won't be checked for correctness upon loading.\n",
            "  \"type \" + obj.__name__ + \". It won't be checked \"\n"
          ],
          "name": "stderr"
        }
      ]
    },
    {
      "metadata": {
        "id": "pJ0Tyqf2jUw1",
        "colab_type": "code",
        "colab": {
          "base_uri": "https://localhost:8080/",
          "height": 170
        },
        "outputId": "83dbe8ec-8006-40d7-cf6e-5230bfaf3496"
      },
      "cell_type": "code",
      "source": [
        "!ls -lAh"
      ],
      "execution_count": 73,
      "outputs": [
        {
          "output_type": "stream",
          "text": [
            "total 210M\n",
            "-rw-r--r-- 1 root root  23M Oct 11 08:00  02_lstm.pth\n",
            "-rw-r--r-- 1 root root 2.5K Oct 11 06:48  adc.json\n",
            "drwxr-xr-x 1 root root 4.0K Oct 11 06:48  .config\n",
            "-rw-r--r-- 1 root root  90M Oct 11 06:48 'data job posts.csv'\n",
            "-rw-r--r-- 1 root root  49M Oct 11 06:49  data_jobposts_it.csv\n",
            "-rw-r--r-- 1 root root  49M Oct 11 06:48  data_jobposts_qualification.csv\n",
            "drwxr-xr-x 2 root root 4.0K Oct  9 16:42  sample_data\n",
            "drwxr-xr-x 2 root root 4.0K Oct 11 07:22  .vector_cache\n"
          ],
          "name": "stdout"
        }
      ]
    },
    {
      "metadata": {
        "id": "OOj-jIVVivVo",
        "colab_type": "code",
        "colab": {}
      },
      "cell_type": "code",
      "source": [
        "from google.colab import files\n",
        "\n",
        "files.download('02_lstm.pth') "
      ],
      "execution_count": 0,
      "outputs": []
    },
    {
      "metadata": {
        "id": "azWCX0XrrS8H",
        "colab_type": "text"
      },
      "cell_type": "markdown",
      "source": [
        "## Next Steps\n",
        "\n",
        "We've now built a decent sentiment analysis model for movie reviews. However, not all of the steps we have added were necessary to achieve the test accuracy we've achieved. In the next notebook we'll implement a model that gets comparable accuracy with far fewer parameters and trains much, much faster."
      ]
    }
  ]
}