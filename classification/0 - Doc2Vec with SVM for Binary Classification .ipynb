{
 "cells": [
  {
   "cell_type": "markdown",
   "metadata": {},
   "source": [
    "# Doc2Vec Test"
   ]
  },
  {
   "cell_type": "code",
   "execution_count": 1,
   "metadata": {},
   "outputs": [],
   "source": [
    "import gensim\n",
    "import os\n",
    "import collections\n",
    "import smart_open\n",
    "import random\n",
    "import pandas as pd\n",
    "import numpy as np\n",
    "from sklearn.model_selection import train_test_split\n",
    "\n",
    "RANDOM_STATE = 41"
   ]
  },
  {
   "cell_type": "code",
   "execution_count": 2,
   "metadata": {},
   "outputs": [
    {
     "data": {
      "text/html": [
       "<div>\n",
       "<style scoped>\n",
       "    .dataframe tbody tr th:only-of-type {\n",
       "        vertical-align: middle;\n",
       "    }\n",
       "\n",
       "    .dataframe tbody tr th {\n",
       "        vertical-align: top;\n",
       "    }\n",
       "\n",
       "    .dataframe thead th {\n",
       "        text-align: right;\n",
       "    }\n",
       "</style>\n",
       "<table border=\"1\" class=\"dataframe\">\n",
       "  <thead>\n",
       "    <tr style=\"text-align: right;\">\n",
       "      <th></th>\n",
       "      <th>text</th>\n",
       "      <th>label</th>\n",
       "    </tr>\n",
       "  </thead>\n",
       "  <tbody>\n",
       "    <tr>\n",
       "      <th>0</th>\n",
       "      <td>AMERIA Investment Consulting Company\\nJOB TITL...</td>\n",
       "      <td>False</td>\n",
       "    </tr>\n",
       "    <tr>\n",
       "      <th>1</th>\n",
       "      <td>International Research &amp; Exchanges Board (IREX...</td>\n",
       "      <td>False</td>\n",
       "    </tr>\n",
       "    <tr>\n",
       "      <th>2</th>\n",
       "      <td>Caucasus Environmental NGO Network (CENN)\\nJOB...</td>\n",
       "      <td>False</td>\n",
       "    </tr>\n",
       "    <tr>\n",
       "      <th>3</th>\n",
       "      <td>Manoff Group\\nJOB TITLE:  BCC Specialist\\nPOSI...</td>\n",
       "      <td>False</td>\n",
       "    </tr>\n",
       "    <tr>\n",
       "      <th>4</th>\n",
       "      <td>Yerevan Brandy Company\\nJOB TITLE:  Software D...</td>\n",
       "      <td>True</td>\n",
       "    </tr>\n",
       "  </tbody>\n",
       "</table>\n",
       "</div>"
      ],
      "text/plain": [
       "                                                text  label\n",
       "0  AMERIA Investment Consulting Company\\nJOB TITL...  False\n",
       "1  International Research & Exchanges Board (IREX...  False\n",
       "2  Caucasus Environmental NGO Network (CENN)\\nJOB...  False\n",
       "3  Manoff Group\\nJOB TITLE:  BCC Specialist\\nPOSI...  False\n",
       "4  Yerevan Brandy Company\\nJOB TITLE:  Software D...   True"
      ]
     },
     "execution_count": 2,
     "metadata": {},
     "output_type": "execute_result"
    }
   ],
   "source": [
    "df = pd.read_csv(\"../data/data_jobposts_it.csv\")\n",
    "df[\"text\"] = df.jobpost\n",
    "df[\"label\"] = df.IT\n",
    "df = df[[\"text\", \"label\"]]\n",
    "df.head(5)"
   ]
  },
  {
   "cell_type": "markdown",
   "metadata": {},
   "source": [
    "## Define a Function to Read and Preprocess Text"
   ]
  },
  {
   "cell_type": "code",
   "execution_count": 3,
   "metadata": {},
   "outputs": [],
   "source": [
    "train, test = train_test_split(df, test_size=0.30, random_state=RANDOM_STATE, stratify=df[\"label\"])"
   ]
  },
  {
   "cell_type": "code",
   "execution_count": 4,
   "metadata": {},
   "outputs": [],
   "source": [
    "def read_corpus(dataframe, tokens_only=False):\n",
    "    for row in dataframe.iterrows():\n",
    "        if tokens_only:\n",
    "            yield gensim.utils.simple_preprocess(row[1]['text'])\n",
    "        else:\n",
    "            # For training data, add tags\n",
    "            yield gensim.models.doc2vec.TaggedDocument(gensim.utils.simple_preprocess(row[1]['text']), [row[1]['label']])"
   ]
  },
  {
   "cell_type": "code",
   "execution_count": 5,
   "metadata": {},
   "outputs": [],
   "source": [
    "train_corpus = list(read_corpus(train))\n",
    "test_corpus = list(read_corpus(test, tokens_only=True))"
   ]
  },
  {
   "cell_type": "code",
   "execution_count": 6,
   "metadata": {},
   "outputs": [
    {
     "data": {
      "text/plain": [
       "[TaggedDocument(words=['save', 'the', 'children', 'international', 'armenian', 'representative', 'office', 'title', 'driver', 'logistician', 'term', 'full', 'time', 'start', 'date', 'time', 'march', 'location', 'yerevan', 'armenia', 'job', 'description', 'the', 'driver', 'logistician', 'will', 'be', 'fully', 'responsible', 'for', 'the', 'maintenance', 'and', 'technical', 'oversight', 'of', 'the', 'representative', 'office', 'vehicle', 'fleet', 'transport', 'operations', 'and', 'reporting', 'this', 'includes', 'scheduling', 'of', 'vehicles', 'for', 'servicing', 'management', 'of', 'vehicle', 'fleet', 'and', 'coordination', 'of', 'vehicle', 'assignments', 'for', 'staff', 'transportation', 'and', 'supervision', 'of', 'drivers', 'the', 'incumbent', 'will', 'be', 'ultimately', 'responsible', 'for', 'ensuring', 'that', 'all', 'sci', 'personnel', 'and', 'property', 'are', 'transported', 'in', 'the', 'safest', 'manner', 'possible', 'and', 'in', 'strict', 'accordance', 'with', 'relevant', 'agency', 'and', 'donor', 'policy', 'and', 'procedures', 'and', 'local', 'traffic', 'regulations', 'the', 'driver', 'logistician', 'will', 'also', 'be', 'responsible', 'for', 'outsourcing', 'services', 'for', 'office', 'maintenance', 'and', 'repair', 'transportation', 'services', 'for', 'delivery', 'of', 'materials', 'to', 'the', 'projects', 'sites', 'and', 'logistical', 'support', 'to', 'the', 'sci', 'staff', 'job', 'overseeing', 'technical', 'conditions', 'and', 'coordination', 'of', 'routine', 'care', 'and', 'maintenance', 'of', 'office', 'vehicles', 'ensure', 'that', 'all', 'office', 'vehicles', 'are', 'in', 'good', 'operational', 'order', 'so', 'as', 'to', 'ensure', 'the', 'safety', 'of', 'sci', 'personnel', 'the', 'maximum', 'efficiency', 'of', 'the', 'transport', 'means', 'and', 'the', 'preparedness', 'of', 'the', 'office', 'to', 'respond', 'to', 'its', 'programmatic', 'and', 'administrative', 'needs', 'ensure', 'routine', 'planning', 'and', 'regular', 'rotation', 'of', 'vehicles', 'for', 'inspection', 'maintenance', 'and', 'repair', 'and', 'keep', 'detailed', 'records', 'oversee', 'the', 'scheduling', 'of', 'regular', 'service', 'and', 'repairs', 'of', 'vehicles', 'supervise', 'all', 'mechanical', 'work', 'and', 'maintain', 'detailed', 'service', 'records', 'for', 'all', 'vehicles', 'ensure', 'that', 'good', 'quality', 'services', 'and', 'materials', 'spare', 'parts', 'are', 'procured', 'at', 'reasonable', 'cost', 'where', 'requested', 'coordinate', 'with', 'procurement', 'in', 'the', 'identification', 'and', 'selection', 'of', 'appropriate', 'goods', 'and', 'services', 'necessary', 'for', 'the', 'maintenance', 'and', 'repair', 'of', 'sci', 'vehicles', 'obtain', 'proper', 'documents', 'from', 'service', 'providers', 'and', 'suppliers', 'and', 'ensure', 'the', 'timely', 'payment', 'for', 'services', 'materials', 'procured', 'management', 'of', 'vehicle', 'fleet', 'and', 'coordination', 'of', 'vehicle', 'assignments', 'for', 'staff', 'transportation', 'ensure', 'that', 'all', 'vehicles', 'are', 'properly', 'and', 'securely', 'stored', 'or', 'parked', 'in', 'designated', 'places', 'when', 'not', 'in', 'use', 'ensure', 'that', 'all', 'sci', 'vehicles', 'have', 'full', 'tank', 'of', 'diesel', 'petrol', 'at', 'the', 'end', 'of', 'each', 'working', 'day', 'oversee', 'and', 'coordinate', 'all', 'inter', 'office', 'transport', 'and', 'logistics', 'to', 'ensure', 'efficient', 'and', 'fair', 'usage', 'of', 'office', 'transport', 'resources', 'ensure', 'first', 'and', 'foremost', 'that', 'field', 'office', 'transport', 'resources', 'are', 'used', 'to', 'the', 'maximum', 'advantage', 'of', 'achieving', 'office', 'project', 'and', 'contractual', 'obligations', 'while', 'also', 'ensuring', 'appropriate', 'and', 'adequate', 'support', 'to', 'all', 'other', 'operational', 'and', 'support', 'units', 'assign', 'specific', 'tasks', 'to', 'each', 'driver', 'respond', 'to', 'unplanned', 'vehicle', 'requests', 'each', 'day', 'in', 'an', 'appropriate', 'manner', 'ensure', 'preparedness', 'of', 'vehicle', 'fleet', 'for', 'evacuation', 'in', 'case', 'of', 'emergency', 'training', 'coordination', 'and', 'supervision', 'of', 'office', 'drivers', 'directly', 'supervise', 'the', 'work', 'of', 'drivers', 'ensure', 'that', 'all', 'drivers', 'are', 'fully', 'informed', 'kept', 'up', 'to', 'date', 'and', 'adhere', 'to', 'all', 'relevant', 'co', 'policies', 'and', 'procedures', 'regarding', 'travel', 'and', 'vehicle', 'usage', 'ensure', 'that', 'all', 'drivers', 'are', 'properly', 'trained', 'and', 'possess', 'all', 'proper', 'documents', 'have', 'the', 'necessary', 'skills', 'to', 'ensure', 'safe', 'usage', 'of', 'co', 'vehicles', 'and', 'transportation', 'of', 'office', 'staff', 'ensure', 'that', 'the', 'office', 'personnel', 'is', 'aware', 'of', 'relevant', 'policies', 'and', 'procedures', 'and', 'those', 'are', 'strictly', 'enforced', 'by', 'office', 'drivers', 'and', 'management', 'personnel', 'overseeing', 'the', 'regular', 'monitoring', 'of', 'records', 'and', 'ensuring', 'timely', 'reporting', 'ensure', 'that', 'all', 'vehicles', 'have', 'log', 'books', 'and', 'that', 'the', 'log', 'books', 'are', 'fully', 'maintained', 'and', 'up', 'to', 'date', 'per', 'established', 'policy', 'and', 'procedures', 'and', 'agency', 'and', 'donor', 'regulations', 'monitor', 'and', 'ensure', 'that', 'related', 'office', 'travel', 'and', 'vehicle', 'usage', 'are', 'properly', 'recorded', 'in', 'the', 'vehicle', 'log', 'books', 'reconcile', 'petrol', 'consumption', 'materials', 'and', 'spare', 'parts', 'usage', 'every', 'month', 'prepare', 'monthly', 'reports', 'to', 'reconcile', 'vehicle', 'usage', 'chargeable', 'to', 'sci', 'programs', 'assist', 'in', 'any', 'other', 'appropriate', 'reporting', 'and', 'or', 'monitoring', 'in', 'coordination', 'with', 'senior', 'management', 'to', 'improve', 'the', 'efficiency', 'of', 'transport', 'usage', 'ensure', 'that', 'all', 'vehicles', 'carry', 'any', 'mandated', 'documentation', 'and', 'or', 'equipment', 'as', 'required', 'by', 'agency', 'and', 'donor', 'policies', 'and', 'local', 'regulations', 'logistical', 'support', 'perform', 'collection', 'of', 'vehicle', 'related', 'price', 'quotes', 'for', 'procurement', 'requiring', 'competitive', 'analyses', 'perform', 'custom', 'clearance', 'of', 'pouches', 'and', 'parcels', 'received', 'on', 'the', 'name', 'of', 'sci', 'ensure', 'appropriate', 'and', 'timely', 'registration', 'of', 'sci', 'with', 'custom', 'authorities', 'organize', 'delivery', 'of', 'project', 'materials', 'to', 'the', 'impact', 'area', 'sites', 'ensure', 'selection', 'of', 'reliable', 'transportation', 'companies', 'including', 'collecting', 'quotes', 'as', 'needed', 'and', 'work', 'with', 'them', 'to', 'ensure', 'timely', 'and', 'safe', 'delivery', 'of', 'purchased', 'goods', 'to', 'the', 'project', 'sites', 'assist', 'the', 'operations', 'and', 'security', 'coordinator', 'in', 'vehicle', 'fleet', 'management', 'ensuring', 'that', 'it', 'meets', 'the', 'needs', 'of', 'the', 'co', 'and', 'is', 'maintained', 'in', 'compliance', 'with', 'sci', 'policies', 'and', 'procedures', 'ensure', 'that', 'all', 'vehicles', 'are', 'properly', 'maintained', 'and', 'supplied', 'with', 'necessary', 'equipment', 'first', 'aid', 'kits', 'assist', 'the', 'operations', 'and', 'security', 'coordinator', 'in', 'procurement', 'operations', 'act', 'in', 'accordance', 'with', 'and', 'follow', 'effective', 'procurement', 'policies', 'and', 'procedures', 'ensure', 'that', 'periodic', 'mandatory', 'maintenance', 'check', 'ups', 'of', 'vehicles', 'are', 'carried', 'out', 'in', 'line', 'with', 'the', 'ra', 'legislation', 'ensure', 'that', 'all', 'mandatory', 'insurance', 'related', 'to', 'the', 'vehicle', 'fleet', 'is', 'done', 'and', 'updated', 'in', 'timely', 'manner', 'required', 'qualifications', 'college', 'degree', 'preferably', 'in', 'mechanics', 'or', 'related', 'field', 'and', 'minimum', 'of', 'years', 'of', 'relevant', 'work', 'experience', 'driver', 'license', 'excellent', 'organizational', 'skills', 'critical', 'and', 'creative', 'thinking', 'ability', 'to', 'work', 'on', 'ms', 'words', 'and', 'excel', 'excellent', 'interpersonal', 'skills', 'including', 'patience', 'diplomacy', 'willingness', 'to', 'listen', 'and', 'respect', 'for', 'colleagues', 'ability', 'to', 'work', 'as', 'part', 'of', 'team', 'ability', 'to', 'work', 'effectively', 'in', 'fast', 'paced', 'stressful', 'environment', 'flexibility', 'willingness', 'to', 'perform', 'other', 'duties', 'and', 'work', 'irregular', 'hours', 'fluency', 'in', 'written', 'and', 'spoken', 'armenian', 'language', 'basic', 'knowledge', 'of', 'english', 'language', 'is', 'plus', 'application', 'procedures', 'to', 'apply', 'candidates', 'are', 'asked', 'to', 'email', 'their', 'cvs', 'to', 'anna', 'khachaturyan', 'mentioning', 'driver', 'logistician', 'in', 'the', 'subject', 'line', 'of', 'the', 'message', 'only', 'shortlisted', 'candidates', 'will', 'be', 'invited', 'for', 'an', 'interview', 'save', 'the', 'children', 'international', 'needs', 'to', 'keep', 'children', 'safe', 'so', 'its', 'selection', 'process', 'reflects', 'the', 'organization', 'commitment', 'to', 'the', 'protection', 'of', 'children', 'from', 'abuse', 'please', 'clearly', 'mention', 'in', 'your', 'application', 'letter', 'that', 'you', 'learned', 'of', 'this', 'job', 'opportunity', 'through', 'career', 'center', 'and', 'mention', 'the', 'url', 'of', 'its', 'website', 'www', 'careercenter', 'am', 'thanks', 'opening', 'date', 'february', 'application', 'deadline', 'march', 'about', 'company', 'save', 'the', 'children', 'international', 'established', 'its', 'presence', 'in', 'armenia', 'in', 'with', 'mission', 'to', 'achieve', 'immediate', 'and', 'lasting', 'change', 'in', 'children', 'lives', 'to', 'place', 'free', 'posting', 'for', 'job', 'or', 'other', 'career', 'related', 'opportunities', 'available', 'in', 'your', 'organization', 'just', 'go', 'to', 'the', 'www', 'careercenter', 'am', 'website', 'and', 'follow', 'the', 'post', 'an', 'announcement', 'link'], tags=[False])]"
      ]
     },
     "execution_count": 6,
     "metadata": {},
     "output_type": "execute_result"
    }
   ],
   "source": [
    "train_corpus[:1]"
   ]
  },
  {
   "cell_type": "code",
   "execution_count": 7,
   "metadata": {},
   "outputs": [
    {
     "data": {
      "text/plain": [
       "249"
      ]
     },
     "execution_count": 7,
     "metadata": {},
     "output_type": "execute_result"
    }
   ],
   "source": [
    "len(test_corpus[:1][0])"
   ]
  },
  {
   "cell_type": "markdown",
   "metadata": {},
   "source": [
    "## Training the Model\n",
    "\n",
    "### Instantiate a Doc2Vec Object¶"
   ]
  },
  {
   "cell_type": "code",
   "execution_count": 8,
   "metadata": {},
   "outputs": [],
   "source": [
    "model = gensim.models.doc2vec.Doc2Vec(vector_size=100, min_count=2, epochs=40)"
   ]
  },
  {
   "cell_type": "markdown",
   "metadata": {},
   "source": [
    "### Build a Vocabulary"
   ]
  },
  {
   "cell_type": "code",
   "execution_count": 9,
   "metadata": {},
   "outputs": [],
   "source": [
    "model.build_vocab(train_corpus)"
   ]
  },
  {
   "cell_type": "markdown",
   "metadata": {},
   "source": [
    "### Time to Train"
   ]
  },
  {
   "cell_type": "markdown",
   "metadata": {},
   "source": [
    "If the BLAS library is being used, this should take no more than 3 seconds. If the BLAS library is not being used, this should take no more than 2 minutes, so use BLAS if you value your time."
   ]
  },
  {
   "cell_type": "code",
   "execution_count": 10,
   "metadata": {},
   "outputs": [
    {
     "name": "stdout",
     "output_type": "stream",
     "text": [
      "blas_mkl_info:\n",
      "  NOT AVAILABLE\n",
      "blis_info:\n",
      "  NOT AVAILABLE\n",
      "openblas_info:\n",
      "    libraries = ['openblas', 'openblas']\n",
      "    library_dirs = ['/usr/local/lib']\n",
      "    language = c\n",
      "    define_macros = [('HAVE_CBLAS', None)]\n",
      "blas_opt_info:\n",
      "    libraries = ['openblas', 'openblas']\n",
      "    library_dirs = ['/usr/local/lib']\n",
      "    language = c\n",
      "    define_macros = [('HAVE_CBLAS', None)]\n",
      "lapack_mkl_info:\n",
      "  NOT AVAILABLE\n",
      "openblas_lapack_info:\n",
      "    libraries = ['openblas', 'openblas']\n",
      "    library_dirs = ['/usr/local/lib']\n",
      "    language = c\n",
      "    define_macros = [('HAVE_CBLAS', None)]\n",
      "lapack_opt_info:\n",
      "    libraries = ['openblas', 'openblas']\n",
      "    library_dirs = ['/usr/local/lib']\n",
      "    language = c\n",
      "    define_macros = [('HAVE_CBLAS', None)]\n"
     ]
    }
   ],
   "source": [
    "np.show_config()"
   ]
  },
  {
   "cell_type": "code",
   "execution_count": 11,
   "metadata": {},
   "outputs": [
    {
     "name": "stdout",
     "output_type": "stream",
     "text": [
      "CPU times: user 3min 19s, sys: 2.3 s, total: 3min 21s\n",
      "Wall time: 1min 13s\n"
     ]
    }
   ],
   "source": [
    "%time model.train(train_corpus, total_examples=model.corpus_count, epochs=model.epochs)"
   ]
  },
  {
   "cell_type": "markdown",
   "metadata": {},
   "source": [
    "### Inferring a Vector\n",
    "\n",
    "One important thing to note is that you can now infer a vector for any piece of text without having to re-train the model by passing a list of words to the model.infer_vector function. This vector can then be compared with other vectors via cosine similarity."
   ]
  },
  {
   "cell_type": "code",
   "execution_count": 12,
   "metadata": {},
   "outputs": [
    {
     "data": {
      "text/plain": [
       "array([ 0.11993464,  0.06103383,  0.0358479 , -0.1467592 ,  0.01417663,\n",
       "        0.05853273,  0.18080038, -0.07603522,  0.19370246,  0.25028706,\n",
       "       -0.1744133 , -0.10115156,  0.05233283, -0.00788944,  0.01995182,\n",
       "        0.11607894, -0.08528315, -0.01110276, -0.05080802,  0.07050474,\n",
       "       -0.03395127, -0.04830793,  0.10094498,  0.12753408, -0.08098111,\n",
       "       -0.0153179 ,  0.13074286,  0.04588256, -0.08034714,  0.02581976,\n",
       "       -0.16801327, -0.21571971,  0.10034394, -0.06858094,  0.06212711,\n",
       "       -0.14616475,  0.07763265,  0.03157115,  0.03727923,  0.12855203,\n",
       "       -0.02204283,  0.00306406,  0.17649132,  0.04223145,  0.0199463 ,\n",
       "        0.2230159 ,  0.06578144,  0.02941306,  0.00967784, -0.03317848,\n",
       "       -0.15309119, -0.16908848,  0.1008231 , -0.02785151,  0.06799634,\n",
       "        0.07847132, -0.11122034, -0.04517649, -0.04000286,  0.1090109 ,\n",
       "       -0.19787933, -0.00516194,  0.02461855,  0.13880552,  0.11666964,\n",
       "        0.04139508, -0.24547438,  0.05404897,  0.07370555, -0.05662872,\n",
       "       -0.08450409, -0.0013476 , -0.02769495, -0.10526972, -0.16089055,\n",
       "        0.0015969 ,  0.07408964, -0.06016535,  0.09581141, -0.02133796,\n",
       "        0.17443207,  0.14012331, -0.02851404, -0.14233533, -0.01394878,\n",
       "       -0.18841358, -0.00855486, -0.23054506, -0.03133018,  0.10816833,\n",
       "       -0.01323345,  0.11536772, -0.04939535,  0.06832426, -0.0158305 ,\n",
       "        0.03193752,  0.06929932, -0.14309411, -0.04572261, -0.10098287],\n",
       "      dtype=float32)"
      ]
     },
     "execution_count": 12,
     "metadata": {},
     "output_type": "execute_result"
    }
   ],
   "source": [
    "model.infer_vector(['only', 'you', 'can', 'prevent', 'forest', 'fires'])"
   ]
  },
  {
   "cell_type": "markdown",
   "metadata": {},
   "source": [
    "## Assessing Model\n",
    "\n",
    "To assess our new model, we'll first infer new vectors for each document of the training corpus, compare the inferred vectors with the training corpus, and then returning the rank of the document based on self-similarity. Basically, we're pretending as if the training corpus is some new unseen data and then seeing how they compare with the trained model. The expectation is that we've likely overfit our model (i.e., all of the ranks will be less than 2) and so we should be able to find similar documents very easily. Additionally, we'll keep track of the second ranks for a comparison of less similar documents."
   ]
  },
  {
   "cell_type": "code",
   "execution_count": 13,
   "metadata": {
    "scrolled": false
   },
   "outputs": [
    {
     "name": "stdout",
     "output_type": "stream",
     "text": [
      "Document (0): «save the children international armenian representative office title driver logistician term full time start date time march location yerevan armenia job description the driver logistician will be fully responsible for the maintenance and technical oversight of the representative office vehicle fleet transport operations and reporting this includes scheduling of vehicles for servicing management of vehicle fleet and coordination of vehicle assignments for staff transportation and supervision of drivers the incumbent will be ultimately responsible for ensuring that all sci personnel and property are transported in the safest manner possible and in strict accordance with relevant agency and donor policy and procedures and local traffic regulations the driver logistician will also be responsible for outsourcing services for office maintenance and repair transportation services for delivery of materials to the projects sites and logistical support to the sci staff job overseeing technical conditions and coordination of routine care and maintenance of office vehicles ensure that all office vehicles are in good operational order so as to ensure the safety of sci personnel the maximum efficiency of the transport means and the preparedness of the office to respond to its programmatic and administrative needs ensure routine planning and regular rotation of vehicles for inspection maintenance and repair and keep detailed records oversee the scheduling of regular service and repairs of vehicles supervise all mechanical work and maintain detailed service records for all vehicles ensure that good quality services and materials spare parts are procured at reasonable cost where requested coordinate with procurement in the identification and selection of appropriate goods and services necessary for the maintenance and repair of sci vehicles obtain proper documents from service providers and suppliers and ensure the timely payment for services materials procured management of vehicle fleet and coordination of vehicle assignments for staff transportation ensure that all vehicles are properly and securely stored or parked in designated places when not in use ensure that all sci vehicles have full tank of diesel petrol at the end of each working day oversee and coordinate all inter office transport and logistics to ensure efficient and fair usage of office transport resources ensure first and foremost that field office transport resources are used to the maximum advantage of achieving office project and contractual obligations while also ensuring appropriate and adequate support to all other operational and support units assign specific tasks to each driver respond to unplanned vehicle requests each day in an appropriate manner ensure preparedness of vehicle fleet for evacuation in case of emergency training coordination and supervision of office drivers directly supervise the work of drivers ensure that all drivers are fully informed kept up to date and adhere to all relevant co policies and procedures regarding travel and vehicle usage ensure that all drivers are properly trained and possess all proper documents have the necessary skills to ensure safe usage of co vehicles and transportation of office staff ensure that the office personnel is aware of relevant policies and procedures and those are strictly enforced by office drivers and management personnel overseeing the regular monitoring of records and ensuring timely reporting ensure that all vehicles have log books and that the log books are fully maintained and up to date per established policy and procedures and agency and donor regulations monitor and ensure that related office travel and vehicle usage are properly recorded in the vehicle log books reconcile petrol consumption materials and spare parts usage every month prepare monthly reports to reconcile vehicle usage chargeable to sci programs assist in any other appropriate reporting and or monitoring in coordination with senior management to improve the efficiency of transport usage ensure that all vehicles carry any mandated documentation and or equipment as required by agency and donor policies and local regulations logistical support perform collection of vehicle related price quotes for procurement requiring competitive analyses perform custom clearance of pouches and parcels received on the name of sci ensure appropriate and timely registration of sci with custom authorities organize delivery of project materials to the impact area sites ensure selection of reliable transportation companies including collecting quotes as needed and work with them to ensure timely and safe delivery of purchased goods to the project sites assist the operations and security coordinator in vehicle fleet management ensuring that it meets the needs of the co and is maintained in compliance with sci policies and procedures ensure that all vehicles are properly maintained and supplied with necessary equipment first aid kits assist the operations and security coordinator in procurement operations act in accordance with and follow effective procurement policies and procedures ensure that periodic mandatory maintenance check ups of vehicles are carried out in line with the ra legislation ensure that all mandatory insurance related to the vehicle fleet is done and updated in timely manner required qualifications college degree preferably in mechanics or related field and minimum of years of relevant work experience driver license excellent organizational skills critical and creative thinking ability to work on ms words and excel excellent interpersonal skills including patience diplomacy willingness to listen and respect for colleagues ability to work as part of team ability to work effectively in fast paced stressful environment flexibility willingness to perform other duties and work irregular hours fluency in written and spoken armenian language basic knowledge of english language is plus application procedures to apply candidates are asked to email their cvs to anna khachaturyan mentioning driver logistician in the subject line of the message only shortlisted candidates will be invited for an interview save the children international needs to keep children safe so its selection process reflects the organization commitment to the protection of children from abuse please clearly mention in your application letter that you learned of this job opportunity through career center and mention the url of its website www careercenter am thanks opening date february application deadline march about company save the children international established its presence in armenia in with mission to achieve immediate and lasting change in children lives to place free posting for job or other career related opportunities available in your organization just go to the www careercenter am website and follow the post an announcement link»\n",
      "\n",
      "Inferred Vector: [ 5.03300071e-01 -6.85922503e-02  1.47018507e-01 -1.99414182e+00\n",
      "  5.14159501e-01  2.02283955e+00 -1.30095732e+00  1.65995765e+00\n",
      " -1.15507402e-01 -5.96310496e-01 -4.24599171e-01 -8.28412831e-01\n",
      "  2.99868546e-02  5.03311992e-01  1.29491976e-02  8.17067474e-02\n",
      " -4.89376634e-01  6.92421794e-01 -3.41507375e-01 -8.51261139e-01\n",
      " -4.27725196e-01  1.63990939e+00  8.95964801e-01 -1.40952742e+00\n",
      "  4.98176038e-01  4.71026927e-01  9.86805677e-01  7.34173775e-01\n",
      "  4.99378771e-01  7.73855224e-02  8.29272211e-01  1.56487596e+00\n",
      "  5.73472857e-01  4.88825917e-01  3.90512496e-01  1.06161618e+00\n",
      " -1.40253812e-01 -1.88134730e-01  2.15072632e+00  4.36981320e-01\n",
      " -6.56364262e-01  1.38141572e+00 -1.01273644e+00  7.41711736e-01\n",
      " -1.02393591e+00 -1.74048030e+00  5.31868935e-01  2.67697304e-01\n",
      " -5.33419311e-01 -6.55201495e-01 -9.16417778e-01 -7.05454573e-02\n",
      " -2.91367126e+00  9.55385745e-01 -7.10006058e-01  8.69399190e-01\n",
      " -4.76584196e-01  3.69507700e-01 -3.04632992e-01 -1.87205493e+00\n",
      " -5.78315258e-01  1.28615534e+00 -6.65034279e-02  7.14469910e-01\n",
      "  5.34371197e-01  1.09690285e+00  2.99534321e+00  5.42566064e-04\n",
      " -6.68670595e-01  8.45382988e-01 -1.80991039e-01 -1.77381706e+00\n",
      "  6.36475012e-02  5.19298315e-01 -1.63866830e+00  4.85855907e-01\n",
      "  9.40431714e-01 -1.66209972e+00  4.30100337e-02 -1.32750809e-01\n",
      " -1.05875409e+00  1.12602726e-01 -2.28925914e-01 -1.81901962e-01\n",
      " -7.09047139e-01  1.86364901e+00 -7.70673871e-01  1.08121991e+00\n",
      " -9.43593830e-02  5.07675946e-01  4.42200184e-01  8.43429625e-01\n",
      "  1.40761137e+00  2.79603124e-01  3.02363396e-01 -2.48365641e-01\n",
      " -1.00112903e+00 -9.76206243e-01  4.97285426e-01  6.10936761e-01]\n",
      "SIMILAR/DISSIMILAR DOCS PER MODEL Doc2Vec(dm/m,d100,n5,w5,mc2,s0.001,t3):\n",
      "\n",
      "MOST (0, 0.6698935627937317): «save the children international armenian representative office title driver logistician term full time start date time march location yerevan armenia job description the driver logistician will be fully responsible for the maintenance and technical oversight of the representative office vehicle fleet transport operations and reporting this includes scheduling of vehicles for servicing management of vehicle fleet and coordination of vehicle assignments for staff transportation and supervision of drivers the incumbent will be ultimately responsible for ensuring that all sci personnel and property are transported in the safest manner possible and in strict accordance with relevant agency and donor policy and procedures and local traffic regulations the driver logistician will also be responsible for outsourcing services for office maintenance and repair transportation services for delivery of materials to the projects sites and logistical support to the sci staff job overseeing technical conditions and coordination of routine care and maintenance of office vehicles ensure that all office vehicles are in good operational order so as to ensure the safety of sci personnel the maximum efficiency of the transport means and the preparedness of the office to respond to its programmatic and administrative needs ensure routine planning and regular rotation of vehicles for inspection maintenance and repair and keep detailed records oversee the scheduling of regular service and repairs of vehicles supervise all mechanical work and maintain detailed service records for all vehicles ensure that good quality services and materials spare parts are procured at reasonable cost where requested coordinate with procurement in the identification and selection of appropriate goods and services necessary for the maintenance and repair of sci vehicles obtain proper documents from service providers and suppliers and ensure the timely payment for services materials procured management of vehicle fleet and coordination of vehicle assignments for staff transportation ensure that all vehicles are properly and securely stored or parked in designated places when not in use ensure that all sci vehicles have full tank of diesel petrol at the end of each working day oversee and coordinate all inter office transport and logistics to ensure efficient and fair usage of office transport resources ensure first and foremost that field office transport resources are used to the maximum advantage of achieving office project and contractual obligations while also ensuring appropriate and adequate support to all other operational and support units assign specific tasks to each driver respond to unplanned vehicle requests each day in an appropriate manner ensure preparedness of vehicle fleet for evacuation in case of emergency training coordination and supervision of office drivers directly supervise the work of drivers ensure that all drivers are fully informed kept up to date and adhere to all relevant co policies and procedures regarding travel and vehicle usage ensure that all drivers are properly trained and possess all proper documents have the necessary skills to ensure safe usage of co vehicles and transportation of office staff ensure that the office personnel is aware of relevant policies and procedures and those are strictly enforced by office drivers and management personnel overseeing the regular monitoring of records and ensuring timely reporting ensure that all vehicles have log books and that the log books are fully maintained and up to date per established policy and procedures and agency and donor regulations monitor and ensure that related office travel and vehicle usage are properly recorded in the vehicle log books reconcile petrol consumption materials and spare parts usage every month prepare monthly reports to reconcile vehicle usage chargeable to sci programs assist in any other appropriate reporting and or monitoring in coordination with senior management to improve the efficiency of transport usage ensure that all vehicles carry any mandated documentation and or equipment as required by agency and donor policies and local regulations logistical support perform collection of vehicle related price quotes for procurement requiring competitive analyses perform custom clearance of pouches and parcels received on the name of sci ensure appropriate and timely registration of sci with custom authorities organize delivery of project materials to the impact area sites ensure selection of reliable transportation companies including collecting quotes as needed and work with them to ensure timely and safe delivery of purchased goods to the project sites assist the operations and security coordinator in vehicle fleet management ensuring that it meets the needs of the co and is maintained in compliance with sci policies and procedures ensure that all vehicles are properly maintained and supplied with necessary equipment first aid kits assist the operations and security coordinator in procurement operations act in accordance with and follow effective procurement policies and procedures ensure that periodic mandatory maintenance check ups of vehicles are carried out in line with the ra legislation ensure that all mandatory insurance related to the vehicle fleet is done and updated in timely manner required qualifications college degree preferably in mechanics or related field and minimum of years of relevant work experience driver license excellent organizational skills critical and creative thinking ability to work on ms words and excel excellent interpersonal skills including patience diplomacy willingness to listen and respect for colleagues ability to work as part of team ability to work effectively in fast paced stressful environment flexibility willingness to perform other duties and work irregular hours fluency in written and spoken armenian language basic knowledge of english language is plus application procedures to apply candidates are asked to email their cvs to anna khachaturyan mentioning driver logistician in the subject line of the message only shortlisted candidates will be invited for an interview save the children international needs to keep children safe so its selection process reflects the organization commitment to the protection of children from abuse please clearly mention in your application letter that you learned of this job opportunity through career center and mention the url of its website www careercenter am thanks opening date february application deadline march about company save the children international established its presence in armenia in with mission to achieve immediate and lasting change in children lives to place free posting for job or other career related opportunities available in your organization just go to the www careercenter am website and follow the post an announcement link»\n",
      "\n",
      "SECOND-MOST (1, 0.3614262044429779): «world vision armenia title project manager for caring for equality project start date time asap duration years with possible extension location yerevan armenia job description the project manager pm will have overall responsibility for the coordination of all the project activities and staff he she will be responsible for technical leadership and administrative oversight of the caring for equality project and will serve as the principal institutional liaison to the donor partners and local government entities the pm shall have keen understanding of the unique political dynamics related to gender approaches in the country and work carefully and collaboratively to support the various entities in armenia pm will manage team of the project staff and engagement with stakeholders and ensure the quality timeliness and efficiency of all products and activities generated under the project the pm is expected to have strong leadership qualities and the depth and breadth of technical and management expertise he she also provides strategic leadership and supervision of partners consultants service contractors while ensuring the security feasibility and sustainability of the project and contribution to child well being outcomes job direct and oversee project implementation ensuring that all strategic objectives are met through proper design staffing implementation and quality assurance establish and maintain effective project reporting evaluation and communication systems submit timely accurate and professional reports that meet donor requirements manage the project budget within approved spending levels and ensure the submission of accurate and timely financial reports to donors and the so staff ensure the project expenses are reasonable allocated as per assigned budget prudent and spent in accordance with donor rules and regulations to ensure low risk audits liaise with local government officials local communities donor representatives and other stakeholders as appropriate facilitate learning of best practices on the project technical areas and other donor organizations provide spiritual leadership to the project team attend and participate in weekly devotional meetings establish clear and frequent communication regarding the project progress and oversight management with the donor required qualifications the following knowledge skills and abilities may have been acquired through combination of formal schooling self education prior experience or on the job training master degree in related field or equivalent qualifications in grant management and technical field in developing countries at least years of extensive international development experience in managing projects proven ability to manage technical assistance teams knowledge of and familiarity with international assistance program requirements their policies and regulations keen understanding of the unique political dynamics of the country and ability to work carefully and collaboratively to maintain productive relationships with the various government entities in armenia ability to integrate the teams of professionals around common goals demonstrated accomplishment in working with host country professionals ministries and with donor colleagues in the country strong presentation and report writing skills experience in leading diverse teams experience in managing contracts under grants for complex projects fluency in english and armenian languages experience in managing inter agency consortiums is preferred be prepared to travel to implementation sites and regional meetings as required application procedures if you are interested in this position to apply please register at http careers wvi org job opportunities in armenia and send your cv to hr_wvarm no information inquiries will be handled over the phone only short listed candidates will be notified for the interview please mention the position you are applying for in the subject line please clearly mention in your application letter that you learned of this job opportunity through career center and mention the url of its website www careercenter am thanks opening date october application deadline november about company world vision is christian humanitarian and development organization working to create lasting change in the lives established in world vision operates in nearly countries worldwide it is christian relief development and advocacy organization dedicated to working with children families and communities to overcome poverty and injustice world vision pursues life in all its fullness for every child and serves all people regardless of religion race ethnicity or gender world vision armenia works in communities in six marzes of armenia and in yerevan supporting children and their families the organization fulfills advocacy health care education economic development child protection and spiritual growth activities wv armenia operates mainly through its years long term area development programs adp that are predominantly funded through child sponsorship adps are focused on promoting child well being through community participation and ownership to place free posting for job or other career related opportunities available in your organization just go to the www careercenter am website and follow the post an announcement link»\n",
      "\n",
      "MEDIAN (1, 0.3614262044429779): «world vision armenia title project manager for caring for equality project start date time asap duration years with possible extension location yerevan armenia job description the project manager pm will have overall responsibility for the coordination of all the project activities and staff he she will be responsible for technical leadership and administrative oversight of the caring for equality project and will serve as the principal institutional liaison to the donor partners and local government entities the pm shall have keen understanding of the unique political dynamics related to gender approaches in the country and work carefully and collaboratively to support the various entities in armenia pm will manage team of the project staff and engagement with stakeholders and ensure the quality timeliness and efficiency of all products and activities generated under the project the pm is expected to have strong leadership qualities and the depth and breadth of technical and management expertise he she also provides strategic leadership and supervision of partners consultants service contractors while ensuring the security feasibility and sustainability of the project and contribution to child well being outcomes job direct and oversee project implementation ensuring that all strategic objectives are met through proper design staffing implementation and quality assurance establish and maintain effective project reporting evaluation and communication systems submit timely accurate and professional reports that meet donor requirements manage the project budget within approved spending levels and ensure the submission of accurate and timely financial reports to donors and the so staff ensure the project expenses are reasonable allocated as per assigned budget prudent and spent in accordance with donor rules and regulations to ensure low risk audits liaise with local government officials local communities donor representatives and other stakeholders as appropriate facilitate learning of best practices on the project technical areas and other donor organizations provide spiritual leadership to the project team attend and participate in weekly devotional meetings establish clear and frequent communication regarding the project progress and oversight management with the donor required qualifications the following knowledge skills and abilities may have been acquired through combination of formal schooling self education prior experience or on the job training master degree in related field or equivalent qualifications in grant management and technical field in developing countries at least years of extensive international development experience in managing projects proven ability to manage technical assistance teams knowledge of and familiarity with international assistance program requirements their policies and regulations keen understanding of the unique political dynamics of the country and ability to work carefully and collaboratively to maintain productive relationships with the various government entities in armenia ability to integrate the teams of professionals around common goals demonstrated accomplishment in working with host country professionals ministries and with donor colleagues in the country strong presentation and report writing skills experience in leading diverse teams experience in managing contracts under grants for complex projects fluency in english and armenian languages experience in managing inter agency consortiums is preferred be prepared to travel to implementation sites and regional meetings as required application procedures if you are interested in this position to apply please register at http careers wvi org job opportunities in armenia and send your cv to hr_wvarm no information inquiries will be handled over the phone only short listed candidates will be notified for the interview please mention the position you are applying for in the subject line please clearly mention in your application letter that you learned of this job opportunity through career center and mention the url of its website www careercenter am thanks opening date october application deadline november about company world vision is christian humanitarian and development organization working to create lasting change in the lives established in world vision operates in nearly countries worldwide it is christian relief development and advocacy organization dedicated to working with children families and communities to overcome poverty and injustice world vision pursues life in all its fullness for every child and serves all people regardless of religion race ethnicity or gender world vision armenia works in communities in six marzes of armenia and in yerevan supporting children and their families the organization fulfills advocacy health care education economic development child protection and spiritual growth activities wv armenia operates mainly through its years long term area development programs adp that are predominantly funded through child sponsorship adps are focused on promoting child well being through community participation and ownership to place free posting for job or other career related opportunities available in your organization just go to the www careercenter am website and follow the post an announcement link»\n",
      "\n",
      "LEAST (1, 0.3614262044429779): «world vision armenia title project manager for caring for equality project start date time asap duration years with possible extension location yerevan armenia job description the project manager pm will have overall responsibility for the coordination of all the project activities and staff he she will be responsible for technical leadership and administrative oversight of the caring for equality project and will serve as the principal institutional liaison to the donor partners and local government entities the pm shall have keen understanding of the unique political dynamics related to gender approaches in the country and work carefully and collaboratively to support the various entities in armenia pm will manage team of the project staff and engagement with stakeholders and ensure the quality timeliness and efficiency of all products and activities generated under the project the pm is expected to have strong leadership qualities and the depth and breadth of technical and management expertise he she also provides strategic leadership and supervision of partners consultants service contractors while ensuring the security feasibility and sustainability of the project and contribution to child well being outcomes job direct and oversee project implementation ensuring that all strategic objectives are met through proper design staffing implementation and quality assurance establish and maintain effective project reporting evaluation and communication systems submit timely accurate and professional reports that meet donor requirements manage the project budget within approved spending levels and ensure the submission of accurate and timely financial reports to donors and the so staff ensure the project expenses are reasonable allocated as per assigned budget prudent and spent in accordance with donor rules and regulations to ensure low risk audits liaise with local government officials local communities donor representatives and other stakeholders as appropriate facilitate learning of best practices on the project technical areas and other donor organizations provide spiritual leadership to the project team attend and participate in weekly devotional meetings establish clear and frequent communication regarding the project progress and oversight management with the donor required qualifications the following knowledge skills and abilities may have been acquired through combination of formal schooling self education prior experience or on the job training master degree in related field or equivalent qualifications in grant management and technical field in developing countries at least years of extensive international development experience in managing projects proven ability to manage technical assistance teams knowledge of and familiarity with international assistance program requirements their policies and regulations keen understanding of the unique political dynamics of the country and ability to work carefully and collaboratively to maintain productive relationships with the various government entities in armenia ability to integrate the teams of professionals around common goals demonstrated accomplishment in working with host country professionals ministries and with donor colleagues in the country strong presentation and report writing skills experience in leading diverse teams experience in managing contracts under grants for complex projects fluency in english and armenian languages experience in managing inter agency consortiums is preferred be prepared to travel to implementation sites and regional meetings as required application procedures if you are interested in this position to apply please register at http careers wvi org job opportunities in armenia and send your cv to hr_wvarm no information inquiries will be handled over the phone only short listed candidates will be notified for the interview please mention the position you are applying for in the subject line please clearly mention in your application letter that you learned of this job opportunity through career center and mention the url of its website www careercenter am thanks opening date october application deadline november about company world vision is christian humanitarian and development organization working to create lasting change in the lives established in world vision operates in nearly countries worldwide it is christian relief development and advocacy organization dedicated to working with children families and communities to overcome poverty and injustice world vision pursues life in all its fullness for every child and serves all people regardless of religion race ethnicity or gender world vision armenia works in communities in six marzes of armenia and in yerevan supporting children and their families the organization fulfills advocacy health care education economic development child protection and spiritual growth activities wv armenia operates mainly through its years long term area development programs adp that are predominantly funded through child sponsorship adps are focused on promoting child well being through community participation and ownership to place free posting for job or other career related opportunities available in your organization just go to the www careercenter am website and follow the post an announcement link»\n",
      "\n"
     ]
    }
   ],
   "source": [
    "doc_id = 0\n",
    "print('Document ({}): «{}»\\n'.format(doc_id, ' '.join(train_corpus[doc_id].words)))\n",
    "inferred_vector = model.infer_vector(train_corpus[doc_id].words)\n",
    "print(\"Inferred Vector: {}\".format(inferred_vector))\n",
    "sims = model.docvecs.most_similar([inferred_vector], topn=len(model.docvecs))\n",
    "print(u'SIMILAR/DISSIMILAR DOCS PER MODEL %s:\\n' % model)\n",
    "for label, index in [('MOST', 0), ('SECOND-MOST', 1), ('MEDIAN', len(sims)//2), ('LEAST', len(sims) - 1)]:\n",
    "    print(u'%s %s: «%s»\\n' % (label, sims[index], ' '.join(train_corpus[sims[index][0]].words)))"
   ]
  },
  {
   "cell_type": "markdown",
   "metadata": {},
   "source": [
    "## Testing the Model\n",
    "\n",
    "Using the same approach above, we'll infer the vector for a randomly chosen test document, and compare the document to our model by eye."
   ]
  },
  {
   "cell_type": "code",
   "execution_count": 14,
   "metadata": {},
   "outputs": [
    {
     "name": "stdout",
     "output_type": "stream",
     "text": [
      "Test Document (1349): «general transworld manufacturing company title lawyer legal advisor term long term location yerevan armenia job description the incumbent will perform duties and activities to conduct all the legal affairs related to the company job provide legal advice and guidance to company as well as keep control over all the legal issues affecting its business operations develop strategies for protecting companys interests rights and integrity and the companys business activities conduct legal researches and analyses drafting opinion represent the company and or the company in court carry out case management draft and maintain legal memoranda and day to day legal documentation and their translations as well as manage negotiations involving legal aspects review contracts and their translations for purchases sales and other in coordination with the commercial and financial departments recommend for changes and or improvements monetary control and adherence to internal and statutory norms and regulations required qualifications master degree or equivalent in law or another relevant field minimum years of relevant professional experience legal practice experience in prosecution and with court instances international experience is plus excellent knowledge of armenian legislation norms and regulations armenian and international legal structures analytical skills to develop strategic action plans and estimates decision making skills ability to work independently ability to work under pressure and within strict time frames excellent knowledge of armenian and russian languages knowledge of english and or another language is an asset application procedures please mail your cv to assistant please clearly mention in your application letter that you learned of this job opportunity through career center and mention the url of its website www careercenter am thanks opening date january application deadline february to place free posting for job or other career related opportunities available in your organization just go to the www careercenter am website and follow the post an announcement link»\n",
      "\n",
      "SIMILAR/DISSIMILAR DOCS PER MODEL Doc2Vec(dm/m,d100,n5,w5,mc2,s0.001,t3):\n",
      "\n",
      "MOST (0, 0.7111836671829224): «save the children international armenian representative office title driver logistician term full time start date time march location yerevan armenia job description the driver logistician will be fully responsible for the maintenance and technical oversight of the representative office vehicle fleet transport operations and reporting this includes scheduling of vehicles for servicing management of vehicle fleet and coordination of vehicle assignments for staff transportation and supervision of drivers the incumbent will be ultimately responsible for ensuring that all sci personnel and property are transported in the safest manner possible and in strict accordance with relevant agency and donor policy and procedures and local traffic regulations the driver logistician will also be responsible for outsourcing services for office maintenance and repair transportation services for delivery of materials to the projects sites and logistical support to the sci staff job overseeing technical conditions and coordination of routine care and maintenance of office vehicles ensure that all office vehicles are in good operational order so as to ensure the safety of sci personnel the maximum efficiency of the transport means and the preparedness of the office to respond to its programmatic and administrative needs ensure routine planning and regular rotation of vehicles for inspection maintenance and repair and keep detailed records oversee the scheduling of regular service and repairs of vehicles supervise all mechanical work and maintain detailed service records for all vehicles ensure that good quality services and materials spare parts are procured at reasonable cost where requested coordinate with procurement in the identification and selection of appropriate goods and services necessary for the maintenance and repair of sci vehicles obtain proper documents from service providers and suppliers and ensure the timely payment for services materials procured management of vehicle fleet and coordination of vehicle assignments for staff transportation ensure that all vehicles are properly and securely stored or parked in designated places when not in use ensure that all sci vehicles have full tank of diesel petrol at the end of each working day oversee and coordinate all inter office transport and logistics to ensure efficient and fair usage of office transport resources ensure first and foremost that field office transport resources are used to the maximum advantage of achieving office project and contractual obligations while also ensuring appropriate and adequate support to all other operational and support units assign specific tasks to each driver respond to unplanned vehicle requests each day in an appropriate manner ensure preparedness of vehicle fleet for evacuation in case of emergency training coordination and supervision of office drivers directly supervise the work of drivers ensure that all drivers are fully informed kept up to date and adhere to all relevant co policies and procedures regarding travel and vehicle usage ensure that all drivers are properly trained and possess all proper documents have the necessary skills to ensure safe usage of co vehicles and transportation of office staff ensure that the office personnel is aware of relevant policies and procedures and those are strictly enforced by office drivers and management personnel overseeing the regular monitoring of records and ensuring timely reporting ensure that all vehicles have log books and that the log books are fully maintained and up to date per established policy and procedures and agency and donor regulations monitor and ensure that related office travel and vehicle usage are properly recorded in the vehicle log books reconcile petrol consumption materials and spare parts usage every month prepare monthly reports to reconcile vehicle usage chargeable to sci programs assist in any other appropriate reporting and or monitoring in coordination with senior management to improve the efficiency of transport usage ensure that all vehicles carry any mandated documentation and or equipment as required by agency and donor policies and local regulations logistical support perform collection of vehicle related price quotes for procurement requiring competitive analyses perform custom clearance of pouches and parcels received on the name of sci ensure appropriate and timely registration of sci with custom authorities organize delivery of project materials to the impact area sites ensure selection of reliable transportation companies including collecting quotes as needed and work with them to ensure timely and safe delivery of purchased goods to the project sites assist the operations and security coordinator in vehicle fleet management ensuring that it meets the needs of the co and is maintained in compliance with sci policies and procedures ensure that all vehicles are properly maintained and supplied with necessary equipment first aid kits assist the operations and security coordinator in procurement operations act in accordance with and follow effective procurement policies and procedures ensure that periodic mandatory maintenance check ups of vehicles are carried out in line with the ra legislation ensure that all mandatory insurance related to the vehicle fleet is done and updated in timely manner required qualifications college degree preferably in mechanics or related field and minimum of years of relevant work experience driver license excellent organizational skills critical and creative thinking ability to work on ms words and excel excellent interpersonal skills including patience diplomacy willingness to listen and respect for colleagues ability to work as part of team ability to work effectively in fast paced stressful environment flexibility willingness to perform other duties and work irregular hours fluency in written and spoken armenian language basic knowledge of english language is plus application procedures to apply candidates are asked to email their cvs to anna khachaturyan mentioning driver logistician in the subject line of the message only shortlisted candidates will be invited for an interview save the children international needs to keep children safe so its selection process reflects the organization commitment to the protection of children from abuse please clearly mention in your application letter that you learned of this job opportunity through career center and mention the url of its website www careercenter am thanks opening date february application deadline march about company save the children international established its presence in armenia in with mission to achieve immediate and lasting change in children lives to place free posting for job or other career related opportunities available in your organization just go to the www careercenter am website and follow the post an announcement link»\n",
      "\n",
      "MEDIAN (1, 0.4867331385612488): «world vision armenia title project manager for caring for equality project start date time asap duration years with possible extension location yerevan armenia job description the project manager pm will have overall responsibility for the coordination of all the project activities and staff he she will be responsible for technical leadership and administrative oversight of the caring for equality project and will serve as the principal institutional liaison to the donor partners and local government entities the pm shall have keen understanding of the unique political dynamics related to gender approaches in the country and work carefully and collaboratively to support the various entities in armenia pm will manage team of the project staff and engagement with stakeholders and ensure the quality timeliness and efficiency of all products and activities generated under the project the pm is expected to have strong leadership qualities and the depth and breadth of technical and management expertise he she also provides strategic leadership and supervision of partners consultants service contractors while ensuring the security feasibility and sustainability of the project and contribution to child well being outcomes job direct and oversee project implementation ensuring that all strategic objectives are met through proper design staffing implementation and quality assurance establish and maintain effective project reporting evaluation and communication systems submit timely accurate and professional reports that meet donor requirements manage the project budget within approved spending levels and ensure the submission of accurate and timely financial reports to donors and the so staff ensure the project expenses are reasonable allocated as per assigned budget prudent and spent in accordance with donor rules and regulations to ensure low risk audits liaise with local government officials local communities donor representatives and other stakeholders as appropriate facilitate learning of best practices on the project technical areas and other donor organizations provide spiritual leadership to the project team attend and participate in weekly devotional meetings establish clear and frequent communication regarding the project progress and oversight management with the donor required qualifications the following knowledge skills and abilities may have been acquired through combination of formal schooling self education prior experience or on the job training master degree in related field or equivalent qualifications in grant management and technical field in developing countries at least years of extensive international development experience in managing projects proven ability to manage technical assistance teams knowledge of and familiarity with international assistance program requirements their policies and regulations keen understanding of the unique political dynamics of the country and ability to work carefully and collaboratively to maintain productive relationships with the various government entities in armenia ability to integrate the teams of professionals around common goals demonstrated accomplishment in working with host country professionals ministries and with donor colleagues in the country strong presentation and report writing skills experience in leading diverse teams experience in managing contracts under grants for complex projects fluency in english and armenian languages experience in managing inter agency consortiums is preferred be prepared to travel to implementation sites and regional meetings as required application procedures if you are interested in this position to apply please register at http careers wvi org job opportunities in armenia and send your cv to hr_wvarm no information inquiries will be handled over the phone only short listed candidates will be notified for the interview please mention the position you are applying for in the subject line please clearly mention in your application letter that you learned of this job opportunity through career center and mention the url of its website www careercenter am thanks opening date october application deadline november about company world vision is christian humanitarian and development organization working to create lasting change in the lives established in world vision operates in nearly countries worldwide it is christian relief development and advocacy organization dedicated to working with children families and communities to overcome poverty and injustice world vision pursues life in all its fullness for every child and serves all people regardless of religion race ethnicity or gender world vision armenia works in communities in six marzes of armenia and in yerevan supporting children and their families the organization fulfills advocacy health care education economic development child protection and spiritual growth activities wv armenia operates mainly through its years long term area development programs adp that are predominantly funded through child sponsorship adps are focused on promoting child well being through community participation and ownership to place free posting for job or other career related opportunities available in your organization just go to the www careercenter am website and follow the post an announcement link»\n",
      "\n",
      "LEAST (1, 0.4867331385612488): «world vision armenia title project manager for caring for equality project start date time asap duration years with possible extension location yerevan armenia job description the project manager pm will have overall responsibility for the coordination of all the project activities and staff he she will be responsible for technical leadership and administrative oversight of the caring for equality project and will serve as the principal institutional liaison to the donor partners and local government entities the pm shall have keen understanding of the unique political dynamics related to gender approaches in the country and work carefully and collaboratively to support the various entities in armenia pm will manage team of the project staff and engagement with stakeholders and ensure the quality timeliness and efficiency of all products and activities generated under the project the pm is expected to have strong leadership qualities and the depth and breadth of technical and management expertise he she also provides strategic leadership and supervision of partners consultants service contractors while ensuring the security feasibility and sustainability of the project and contribution to child well being outcomes job direct and oversee project implementation ensuring that all strategic objectives are met through proper design staffing implementation and quality assurance establish and maintain effective project reporting evaluation and communication systems submit timely accurate and professional reports that meet donor requirements manage the project budget within approved spending levels and ensure the submission of accurate and timely financial reports to donors and the so staff ensure the project expenses are reasonable allocated as per assigned budget prudent and spent in accordance with donor rules and regulations to ensure low risk audits liaise with local government officials local communities donor representatives and other stakeholders as appropriate facilitate learning of best practices on the project technical areas and other donor organizations provide spiritual leadership to the project team attend and participate in weekly devotional meetings establish clear and frequent communication regarding the project progress and oversight management with the donor required qualifications the following knowledge skills and abilities may have been acquired through combination of formal schooling self education prior experience or on the job training master degree in related field or equivalent qualifications in grant management and technical field in developing countries at least years of extensive international development experience in managing projects proven ability to manage technical assistance teams knowledge of and familiarity with international assistance program requirements their policies and regulations keen understanding of the unique political dynamics of the country and ability to work carefully and collaboratively to maintain productive relationships with the various government entities in armenia ability to integrate the teams of professionals around common goals demonstrated accomplishment in working with host country professionals ministries and with donor colleagues in the country strong presentation and report writing skills experience in leading diverse teams experience in managing contracts under grants for complex projects fluency in english and armenian languages experience in managing inter agency consortiums is preferred be prepared to travel to implementation sites and regional meetings as required application procedures if you are interested in this position to apply please register at http careers wvi org job opportunities in armenia and send your cv to hr_wvarm no information inquiries will be handled over the phone only short listed candidates will be notified for the interview please mention the position you are applying for in the subject line please clearly mention in your application letter that you learned of this job opportunity through career center and mention the url of its website www careercenter am thanks opening date october application deadline november about company world vision is christian humanitarian and development organization working to create lasting change in the lives established in world vision operates in nearly countries worldwide it is christian relief development and advocacy organization dedicated to working with children families and communities to overcome poverty and injustice world vision pursues life in all its fullness for every child and serves all people regardless of religion race ethnicity or gender world vision armenia works in communities in six marzes of armenia and in yerevan supporting children and their families the organization fulfills advocacy health care education economic development child protection and spiritual growth activities wv armenia operates mainly through its years long term area development programs adp that are predominantly funded through child sponsorship adps are focused on promoting child well being through community participation and ownership to place free posting for job or other career related opportunities available in your organization just go to the www careercenter am website and follow the post an announcement link»\n",
      "\n"
     ]
    }
   ],
   "source": [
    "# Pick a random document from the test corpus and infer a vector from the model\n",
    "doc_id = random.randint(0, len(test_corpus) - 1)\n",
    "inferred_vector = model.infer_vector(test_corpus[doc_id])\n",
    "sims = model.docvecs.most_similar([inferred_vector], topn=len(model.docvecs))\n",
    "\n",
    "# Compare and print the most/median/least similar documents from the train corpus\n",
    "print('Test Document ({}): «{}»\\n'.format(doc_id, ' '.join(test_corpus[doc_id])))\n",
    "print(u'SIMILAR/DISSIMILAR DOCS PER MODEL %s:\\n' % model)\n",
    "for label, index in [('MOST', 0), ('MEDIAN', len(sims)//2), ('LEAST', len(sims) - 1)]:\n",
    "    print(u'%s %s: «%s»\\n' % (label, sims[index], ' '.join(train_corpus[sims[index][0]].words)))"
   ]
  },
  {
   "cell_type": "code",
   "execution_count": 17,
   "metadata": {},
   "outputs": [],
   "source": [
    "filename = \"./models/doc2vec_model\"\n",
    "model.save(\"./models/doc2vec_model\")"
   ]
  },
  {
   "cell_type": "code",
   "execution_count": 18,
   "metadata": {},
   "outputs": [],
   "source": [
    "from gensim.models.doc2vec import Doc2Vec\n",
    "\n",
    "\n",
    "model = Doc2Vec.load(filename)  # you can continue training with the loaded model!\n",
    "model.delete_temporary_training_data(keep_doctags_vectors=True, keep_inference=True)"
   ]
  },
  {
   "cell_type": "markdown",
   "metadata": {},
   "source": [
    "## Use Doc2Vec with SVM"
   ]
  },
  {
   "cell_type": "code",
   "execution_count": 19,
   "metadata": {},
   "outputs": [],
   "source": [
    "train_X, train_y = [], []\n",
    "for corpora in train_corpus:\n",
    "    train_X.append(model.infer_vector(corpora.words))\n",
    "    train_y.append(corpora.tags[0])\n",
    "    \n",
    "train_X = np.array(train_X)\n",
    "train_y = np.array(train_y)"
   ]
  },
  {
   "cell_type": "code",
   "execution_count": 20,
   "metadata": {},
   "outputs": [],
   "source": [
    "test_X = []\n",
    "for corpora in test_corpus:\n",
    "    test_X.append(model.infer_vector(corpora))\n",
    "    \n",
    "test_X = np.array(test_X)"
   ]
  },
  {
   "cell_type": "code",
   "execution_count": 25,
   "metadata": {},
   "outputs": [],
   "source": [
    "test_y = test['label']"
   ]
  },
  {
   "cell_type": "code",
   "execution_count": 21,
   "metadata": {},
   "outputs": [
    {
     "data": {
      "text/plain": [
       "SVC(C=100.0, cache_size=200, class_weight=None, coef0=0.0,\n",
       "  decision_function_shape='ovr', degree=3, gamma=0.001, kernel='rbf',\n",
       "  max_iter=-1, probability=False, random_state=None, shrinking=True,\n",
       "  tol=0.001, verbose=False)"
      ]
     },
     "execution_count": 21,
     "metadata": {},
     "output_type": "execute_result"
    }
   ],
   "source": [
    "from sklearn import svm\n",
    "\n",
    "clf = svm.SVC(gamma=0.001, C=100.)\n",
    "\n",
    "clf.fit(train_X, train_y)  "
   ]
  },
  {
   "cell_type": "code",
   "execution_count": 22,
   "metadata": {},
   "outputs": [],
   "source": [
    "predicted_y = clf.predict(test_X)"
   ]
  },
  {
   "cell_type": "code",
   "execution_count": 67,
   "metadata": {},
   "outputs": [],
   "source": [
    "import matplotlib.pyplot as plt\n",
    "import itertools\n",
    "from sklearn.metrics import confusion_matrix, classification_report\n",
    "\n",
    "def pretty_print_conf_matrix(y_true, y_pred, \n",
    "                             classes,\n",
    "                             normalize=False,\n",
    "                             title='Confusion matrix',\n",
    "                             cmap=plt.cm.Blues):\n",
    "    \"\"\"\n",
    "    Mostly stolen from: http://scikit-learn.org/stable/auto_examples/model_selection/plot_confusion_matrix.html#sphx-glr-auto-examples-model-selection-plot-confusion-matrix-py\n",
    "\n",
    "    Normalization changed, classification_report stats added below plot\n",
    "    \"\"\"\n",
    "\n",
    "    cm = confusion_matrix(y_true, y_pred)\n",
    "\n",
    "    # Configure Confusion Matrix Plot Aesthetics (no text yet) \n",
    "    plt.imshow(cm, interpolation='nearest', cmap=cmap)\n",
    "    plt.title(title, fontsize=14)\n",
    "    tick_marks = np.arange(len(classes))\n",
    "    plt.xticks(tick_marks, classes, rotation=45)\n",
    "    plt.yticks(tick_marks, classes)\n",
    "    plt.ylabel('True label', fontsize=12)\n",
    "    plt.xlabel('Predicted label', fontsize=12)\n",
    "\n",
    "    # Calculate normalized values (so all cells sum to 1) if desired\n",
    "    if normalize:\n",
    "        cm = np.round(cm.astype('float') / cm.sum(),2) #(axis=1)[:, np.newaxis]\n",
    "\n",
    "    # Place Numbers as Text on Confusion Matrix Plot\n",
    "    thresh = cm.max() / 2.\n",
    "    for i, j in itertools.product(range(cm.shape[0]), range(cm.shape[1])):\n",
    "        plt.text(j, i, cm[i, j],\n",
    "                 horizontalalignment=\"center\",\n",
    "                 color=\"white\" if cm[i, j] > thresh else \"black\",\n",
    "                 fontsize=12)"
   ]
  },
  {
   "cell_type": "code",
   "execution_count": 68,
   "metadata": {},
   "outputs": [
    {
     "data": {
      "image/png": "[encoded data removed]",
      "text/plain": [
       "<Figure size 432x288 with 1 Axes>"
      ]
     },
     "metadata": {},
     "output_type": "display_data"
    }
   ],
   "source": [
    "pretty_print_conf_matrix(y_true=test_y, y_pred=predicted_y, classes=[\"False\", \"True\"])"
   ]
  },
  {
   "cell_type": "code",
   "execution_count": 69,
   "metadata": {},
   "outputs": [
    {
     "name": "stdout",
     "output_type": "stream",
     "text": [
      "              precision    recall  f1-score   support\n",
      "\n",
      "       False       0.91      0.95      0.93      4573\n",
      "        True       0.77      0.62      0.68      1128\n",
      "\n",
      "   micro avg       0.89      0.89      0.89      5701\n",
      "   macro avg       0.84      0.79      0.81      5701\n",
      "weighted avg       0.88      0.89      0.88      5701\n",
      "\n"
     ]
    }
   ],
   "source": [
    "rpt = classification_report(test_y, predicted_y)\n",
    "print(rpt)"
   ]
  },
  {
   "cell_type": "code",
   "execution_count": null,
   "metadata": {},
   "outputs": [],
   "source": []
  }
 ],
 "metadata": {
  "kernelspec": {
   "display_name": "Python 3",
   "language": "python",
   "name": "python3"
  },
  "language_info": {
   "codemirror_mode": {
    "name": "ipython",
    "version": 3
   },
   "file_extension": ".py",
   "mimetype": "text/x-python",
   "name": "python",
   "nbconvert_exporter": "python",
   "pygments_lexer": "ipython3",
   "version": "3.6.6"
  }
 },
 "nbformat": 4,
 "nbformat_minor": 2
}
